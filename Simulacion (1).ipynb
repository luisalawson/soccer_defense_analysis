{
 "cells": [
  {
   "cell_type": "markdown",
   "metadata": {},
   "source": [
    "## Simulación"
   ]
  },
  {
   "cell_type": "code",
   "execution_count": 1,
   "metadata": {},
   "outputs": [],
   "source": [
    "import random\n",
    "import numpy as np\n",
    "import os\n",
    "import pandas as pd\n",
    "from tqdm import tqdm \n",
    "import matplotlib.pyplot as plt\n",
    "from collections import defaultdict\n",
    "\n"
   ]
  },
  {
   "cell_type": "code",
   "execution_count": 2,
   "metadata": {},
   "outputs": [],
   "source": [
    "random.seed(42)\n",
    "\n",
    "class MatchSimulation:\n",
    "    def __init__(self, home_players_dict, away_players_dict,home_team = 'Custom Home Team', away_team='Custom Away Team'):\n",
    "        self.home_team = home_team\n",
    "        self.away_team = away_team\n",
    "\n",
    "        self.home_players = home_players_dict\n",
    "        self.away_players = away_players_dict\n",
    "        \n",
    "        self.match_duration = random.randint(100,110)\n",
    "        \n",
    "        self.base_path = '/Users/pgule/Documents/soccer_defense_analysis/src/data'  \n",
    "        self.field = np.zeros((10, 10), dtype=int) \n",
    "        self.ball_position = [5, 5] \n",
    "\n",
    "        self.current_team = random.choice(['home', 'away']) \n",
    "        self.mins_played = 0 \n",
    "        self.score = {'home': 0, 'away': 0}  \n",
    "\n",
    "        self.interceptions = {'home': 0, 'away': 0}\n",
    "        self.passes = {'home': 0, 'away': 0}\n",
    "        self.shots = {'home': 0, 'away': 0}\n",
    "\n",
    "        self.home_team_matrixes = {\n",
    "            'pass_transition_matrix': np.zeros((10, 10, 10, 10)),\n",
    "            'pass_matrix':  np.zeros((10, 10)),\n",
    "            'shot_matrix': np.zeros((10, 10)),\n",
    "            'defense_matrix': np.zeros((10, 10)),\n",
    "            'goal_matrix': np.zeros((10, 10)),\n",
    "            'error_matrix': np.zeros((10, 10)),\n",
    "            'out_matrix': np.zeros((10, 10)),\n",
    "            'goalkeeper_matrix': np.zeros((10,10))\n",
    "            \n",
    "        }\n",
    "        self.away_team_matrixes = {\n",
    "            'pass_transition_matrix': np.zeros((10, 10, 10, 10)),\n",
    "            'pass_matrix':  np.zeros((10, 10)),\n",
    "            'shot_matrix': np.zeros((10, 10)),\n",
    "            'defense_matrix': np.zeros((10, 10)),\n",
    "            'goal_matrix': np.zeros((10, 10)),\n",
    "            'error_matrix': np.zeros((10, 10)),\n",
    "            'out_matrix': np.zeros((10, 10)),\n",
    "            'goalkeeper_matrix': np.zeros((10,10))  \n",
    "        }\n",
    "\n",
    "    def mirror_matrix(self, matrix):\n",
    "        \"\"\"Damos vuelta la matriz para que se enfrenten en el juego\"\"\"\n",
    "        return np.flip(matrix, axis=(0, 1))\n",
    "\n",
    "    def load_player_matrix(self, team_name, player_name, matrix_name):\n",
    "        \"\"\"Buscamos las matrices individuales (para armar al equipo)\"\"\"\n",
    "        if matrix_name != 'pass_transition_matrix':\n",
    "            matrix_path = os.path.join(self.base_path, team_name, player_name, f'{matrix_name}.csv')\n",
    "            matrix = np.loadtxt(matrix_path, delimiter=',')\n",
    "        else:\n",
    "            matrix_path = os.path.join(self.base_path, team_name, player_name, f'{matrix_name}.npy')\n",
    "            matrix = np.load(matrix_path)\n",
    "        return matrix\n",
    "    \n",
    "    def mirror_pass_transition_matrix(self,matrix):\n",
    "        mirrored_matrix = np.flip(matrix, axis=(1, 3))\n",
    "        mirrored_matrix = np.flip(mirrored_matrix, axis=(0, 2))\n",
    "        \n",
    "        return mirrored_matrix\n",
    "    def aggregate_team_matrices(self, team):\n",
    "        \"\"\"Sumamos las matrices para el equipo especificado\"\"\"\n",
    "        if team == 'home':\n",
    "            for team_name, players in self.home_players.items():\n",
    "                for player_name, _ in players:  \n",
    "                    self.home_team_matrixes['pass_transition_matrix'] += self.load_player_matrix(team_name, player_name, 'pass_transition_matrix')\n",
    "                    self.home_team_matrixes['pass_matrix'] += self.load_player_matrix(team_name, player_name, 'pass_matrix')\n",
    "                    self.home_team_matrixes['shot_matrix'] += self.load_player_matrix(team_name, player_name, 'shot_matrix')\n",
    "                    self.home_team_matrixes['defense_matrix'] += self.load_player_matrix(team_name, player_name, 'defense_matrix')\n",
    "                    self.home_team_matrixes['goal_matrix'] += self.load_player_matrix(team_name, player_name, 'goal_matrix')\n",
    "                    self.home_team_matrixes['error_matrix'] += self.load_player_matrix(team_name, player_name, 'errors_matrix')\n",
    "                    self.home_team_matrixes['out_matrix'] += self.load_player_matrix(team_name, player_name, 'out_matrix') \n",
    "                    self.home_team_matrixes['goalkeeper_matrix'] += self.load_player_matrix(team_name, player_name, 'goalkeeper_matrix') \n",
    "            \n",
    "            self.home_team_matrixes['goalkeeper_matrix'] = self.mirror_matrix(self.home_team_matrixes['goalkeeper_matrix'])\n",
    "           \n",
    "        elif team == 'away':\n",
    "            for team_name, players in self.away_players.items():\n",
    "                for player_name, _ in players:  \n",
    "                    self.away_team_matrixes['pass_transition_matrix'] += self.load_player_matrix(team_name, player_name, 'pass_transition_matrix')\n",
    "                    self.away_team_matrixes['pass_matrix'] += self.load_player_matrix(team_name, player_name, 'pass_matrix')\n",
    "                    self.away_team_matrixes['shot_matrix'] += self.load_player_matrix(team_name, player_name, 'shot_matrix')\n",
    "                    self.away_team_matrixes['defense_matrix'] += self.load_player_matrix(team_name, player_name, 'defense_matrix')\n",
    "                    self.away_team_matrixes['goal_matrix'] += self.load_player_matrix(team_name, player_name, 'goal_matrix')\n",
    "                    self.away_team_matrixes['error_matrix'] += self.load_player_matrix(team_name, player_name, 'errors_matrix')\n",
    "                    self.away_team_matrixes['out_matrix'] += self.load_player_matrix(team_name, player_name, 'out_matrix')  \n",
    "                    self.away_team_matrixes['goalkeeper_matrix'] += self.load_player_matrix(team_name, player_name, 'goalkeeper_matrix') \n",
    "            \n",
    "            self.away_team_matrixes['pass_transition_matrix'] = self.mirror_pass_transition_matrix(self.away_team_matrixes['pass_transition_matrix'])\n",
    "            self.away_team_matrixes['pass_matrix'] = self.mirror_matrix(self.away_team_matrixes['pass_matrix'])\n",
    "            self.away_team_matrixes['shot_matrix'] = self.mirror_matrix(self.away_team_matrixes['shot_matrix'])\n",
    "            self.away_team_matrixes['defense_matrix'] = self.mirror_matrix(self.away_team_matrixes['defense_matrix'])\n",
    "            self.away_team_matrixes['goal_matrix'] = self.mirror_matrix(self.away_team_matrixes['goal_matrix'])\n",
    "            self.away_team_matrixes['error_matrix'] = self.mirror_matrix(self.away_team_matrixes['error_matrix'])\n",
    "            self.away_team_matrixes['out_matrix'] = self.mirror_matrix(self.away_team_matrixes['out_matrix'])\n",
    "           \n",
    "        else:\n",
    "            print(f'Error con el equipo: {team}')\n",
    "\n",
    "\n",
    "    def get_team_data(self):\n",
    "        \"\"\"Cargar y preparar las matrices para los equipos\"\"\"\n",
    "        self.aggregate_team_matrices('home')\n",
    "        \n",
    "        self.aggregate_team_matrices('away')\n",
    "        \n",
    "\n",
    "    \n",
    "    def select_event(self, current_x, current_y):\n",
    "        \"\"\"Realizar un pase basado en la matriz de transiciones y seleccionar el evento con probabilidades acumuladas\"\"\"\n",
    "        if self.current_team =='home':\n",
    "            pass_probabilities = self.home_team_matrixes['pass_transition_matrix'][current_x, current_y]\n",
    "            prob_sum = np.sum(pass_probabilities)\n",
    "\n",
    "            if prob_sum > 0:\n",
    "                pass_probabilities = pass_probabilities / prob_sum\n",
    "            else:\n",
    "                pass_probabilities = np.ones_like(pass_probabilities) / pass_probabilities.size\n",
    "            \n",
    "            possible_positions = [(i, j) for i in range(10) for j in range(10)]\n",
    "\n",
    "            next_position_index = np.random.choice(len(possible_positions), p=pass_probabilities.flatten())\n",
    "            next_position = possible_positions[next_position_index]\n",
    "\n",
    "            pass_probability_ = self.home_team_matrixes['pass_matrix'][current_x, current_y] \n",
    "            pass_probability = pass_probability_ if not np.isnan(pass_probability_) else 0\n",
    "            defense_probability_ = self.away_team_matrixes['defense_matrix'][current_x, current_y]\n",
    "            defense_probability = defense_probability_ if not np.isnan(defense_probability_) else 0\n",
    "            error_probability_ = self.home_team_matrixes['error_matrix'][current_x, current_y]\n",
    "            error_probability = error_probability_ if not np.isnan(error_probability_) else 0\n",
    "            shot_probability_ = self.home_team_matrixes['shot_matrix'][current_x, current_y]\n",
    "            shot_probability = shot_probability_ if not np.isnan(shot_probability_)  else 0\n",
    "            out_probability_ = self.home_team_matrixes['out_matrix'][current_x, current_y]\n",
    "            out_probability = out_probability_ if not np.isnan(out_probability_) else 0\n",
    "        \n",
    "            total_prob = pass_probability + defense_probability + error_probability + shot_probability  + out_probability\n",
    "            normalized_probs = [pass_probability / total_prob, \n",
    "                                defense_probability / total_prob, \n",
    "                                error_probability / total_prob, \n",
    "                                shot_probability / total_prob,\n",
    "                                out_probability / total_prob\n",
    "            ]\n",
    "        \n",
    "\n",
    "            events = ['pass', 'interception', 'error', 'shot', 'out']\n",
    "\n",
    "            selected_event = np.random.choice(events, p=normalized_probs)\n",
    "\n",
    "        else:\n",
    "            pass_probabilities = self.away_team_matrixes['pass_transition_matrix'][current_x, current_y]\n",
    "            prob_sum = np.sum(pass_probabilities)\n",
    "            \n",
    "            if prob_sum > 0:\n",
    "                pass_probabilities = pass_probabilities / prob_sum\n",
    "            else:\n",
    "                pass_probabilities = np.ones_like(pass_probabilities) / pass_probabilities.size\n",
    "\n",
    "            possible_positions = [(i, j) for i in range(10) for j in range(10)]\n",
    "\n",
    "            next_position_index = np.random.choice(len(possible_positions), p=pass_probabilities.flatten())\n",
    "            next_position = possible_positions[next_position_index]\n",
    "\n",
    "            pass_probability_ = self.away_team_matrixes['pass_matrix'][current_x, current_y] \n",
    "            pass_probability = pass_probability_ if not np.isnan(pass_probability_) else 0\n",
    "            defense_probability_ = self.home_team_matrixes['defense_matrix'][current_x, current_y]\n",
    "            defense_probability = defense_probability_ if not np.isnan(defense_probability_) else 0\n",
    "            error_probability_ = self.away_team_matrixes['error_matrix'][current_x, current_y]\n",
    "            error_probability = error_probability_ if not np.isnan(error_probability_) else 0\n",
    "            shot_probability_ = self.away_team_matrixes['shot_matrix'][current_x, current_y]\n",
    "            shot_probability = shot_probability_ if not np.isnan(shot_probability_) else 0\n",
    "            out_probability_ = self.away_team_matrixes['out_matrix'][current_x, current_y]\n",
    "            out_probability = out_probability_ if not np.isnan(out_probability_) else 0\n",
    "           \n",
    "            total_prob = pass_probability + defense_probability + error_probability + shot_probability  + out_probability\n",
    "            normalized_probs = [pass_probability / total_prob, \n",
    "                                defense_probability / total_prob, \n",
    "                                error_probability / total_prob, \n",
    "                                shot_probability / total_prob,\n",
    "                                out_probability / total_prob\n",
    "            ]\n",
    "        \n",
    "\n",
    "            events = ['pass', 'interception', 'error', 'shot', 'out']\n",
    "            selected_event = np.random.choice(events, p=normalized_probs)\n",
    "\n",
    "        return selected_event, next_position,self.current_team\n",
    "\n",
    "    def change_possession(self):\n",
    "        self.current_team = 'home' if self.current_team == 'away' else 'away'\n",
    "\n",
    "    def restart_from_middle(self):\n",
    "        self.ball_position =[5,5]\n",
    "\n",
    "    def step(self):\n",
    "        events_per_minute = random.randint(8,12)\n",
    "        for _ in range(events_per_minute):\n",
    "            current_position = tuple(self.ball_position)\n",
    "            current_x, current_y = current_position\n",
    "            current_event, next_position, team = self.select_event(current_x, current_y)\n",
    "\n",
    "            if current_event == 'pass':\n",
    "                self.passes[team] += 1\n",
    "                self.ball_position = next_position\n",
    "\n",
    "            elif current_event == 'error':\n",
    "                self.ball_position = current_position\n",
    "                self.change_possession()\n",
    "\n",
    "            elif current_event == 'interception':\n",
    "                self.ball_position = current_position\n",
    "                if team == 'home':\n",
    "                    self.interceptions['away'] += 1\n",
    "                else:\n",
    "                    self.interceptions['home'] += 1\n",
    "                self.change_possession()\n",
    "\n",
    "            elif current_event == 'shot':\n",
    "                goal_scored = self.shoot_ball(current_x, current_y)\n",
    "                self.shots[team] += 1\n",
    "                if goal_scored:\n",
    "                    self.score[team] += 1\n",
    "                    self.change_possession()\n",
    "                    self.restart_from_middle()\n",
    "                    \n",
    "                else:\n",
    "                    self.change_possession()\n",
    "                    self.restart_from_sideline(current_position)\n",
    "\n",
    "            elif current_event == 'out':\n",
    "                self.change_possession()\n",
    "                self.restart_from_sideline(current_position)\n",
    "\n",
    "        self.mins_played += 1\n",
    "\n",
    "    def restart_from_sideline(self, out_position):\n",
    "        \"\"\"Reinicia el juego desde el lado de la cancha más cercano\"\"\"\n",
    "        x, y = out_position\n",
    "        if x <= 4: \n",
    "            new_x = 0\n",
    "        else:  \n",
    "            new_x = 9\n",
    "        if y <= 4:  \n",
    "            new_y = 0\n",
    "        else:  \n",
    "            new_y = 9\n",
    "        self.ball_position = [new_x, new_y]\n",
    "\n",
    "\n",
    "    # def shoot_ball(self, current_x, current_y):\n",
    "    #         \"\"\"Evaluar el resultado de un tiro considerando gol, defensa y error, con un enfoque más conservador\"\"\"\n",
    "    #         if self.current_team == 'home':\n",
    "    #             goal_probability_home = (self.home_team_matrixes['goal_matrix'][current_x, current_y]) * self.match_duration\n",
    "    #             goal_probability_total_home_ = np.sum(self.home_team_matrixes['goal_matrix'] * self.match_duration)\n",
    "    #             goal_probability_total_home = goal_probability_total_home_ if goal_probability_total_home_>=1 else 1\n",
    "    #             goal_prob_home_ = goal_probability_home\n",
    "    #             goal_prob_home = goal_prob_home_/goal_probability_total_home\n",
    "    #             save_prob_home = (self.away_team_matrixes['goalkeeper_matrix'][current_x,current_y]) \n",
    "    #             # error_probability_ = self.home_team_matrixes['error_matrix'][current_x, current_y] \n",
    "    #             # error_probability = error_probability_ if not np.isnan(error_probability_) else 0\n",
    "    #             defense_probability_ = self.away_team_matrixes['defense_matrix'][current_x, current_y]\n",
    "    #             defense_probability = defense_probability_ if not np.isnan(defense_probability_) else 0\n",
    "\n",
    "    #             total_prob = goal_prob_home*(1-(defense_probability)) + (save_prob_home)\n",
    "    #             if total_prob == 0:\n",
    "    #                 return False\n",
    "    #             normalized_probs = [(goal_prob_home*(1-(defense_probability))) / total_prob, \n",
    "    #                                 (save_prob_home) / total_prob]\n",
    "                \n",
    "    #             events = ['goal', 'save']\n",
    "    #             selected_event = np.random.choice(events, p=normalized_probs)\n",
    "    #             if selected_event == 'goal':\n",
    "    #                 return True\n",
    "    #             else:\n",
    "    #                 return False\n",
    "            \n",
    "    #         if self.current_team == 'away':\n",
    "    #             goal_probability_away = (self.away_team_matrixes['goal_matrix'][current_x, current_y]) * self.match_duration\n",
    "    #             goal_probability_total_away_ = np.sum(self.away_team_matrixes['goal_matrix'] * self.match_duration)\n",
    "    #             goal_probability_total_away = goal_probability_total_away_ if goal_probability_total_away_>=1 else 1\n",
    "    #             goal_prob_away = goal_probability_away/goal_probability_total_away\n",
    "    #             save_prob_away = (self.home_team_matrixes['goalkeeper_matrix'][current_x,current_y]) \n",
    "    #             # error_probability_ = self.away_team_matrixes['error_matrix'][current_x, current_y] \n",
    "    #             # error_probability = error_probability_ if not np.isnan(error_probability_) else 0\n",
    "    #             defense_probability_ = self.home_team_matrixes['defense_matrix'][current_x, current_y]\n",
    "    #             defense_probability = defense_probability_ if not np.isnan(defense_probability_) else 0\n",
    "\n",
    "    #             total_prob = goal_prob_away*(1-(defense_probability)) + (save_prob_away)\n",
    "    #             if total_prob == 0:\n",
    "    #                 return False\n",
    "    #             normalized_probs = [(goal_prob_away*(1-(defense_probability))) / total_prob, \n",
    "    #                                 (save_prob_away) / total_prob]\n",
    "            \n",
    "    #             events = ['goal', 'save']\n",
    "    #             selected_event = np.random.choice(events, p=normalized_probs)\n",
    "\n",
    "    #             if selected_event == 'goal':\n",
    "    #                 return True\n",
    "    #             else:\n",
    "    #                 return False\n",
    "\n",
    "\n",
    "    def shoot_ball(self, current_x, current_y):\n",
    "            \"\"\"Evaluar el resultado de un tiro considerando gol, defensa y error, con un enfoque más conservador\"\"\"\n",
    "            if self.current_team == 'home':\n",
    "                goal_probability_home = (self.home_team_matrixes['goal_matrix'][current_x, current_y]) * self.match_duration\n",
    "                goal_probability_total_home_ = np.sum(self.home_team_matrixes['goal_matrix'] * self.match_duration)\n",
    "                goal_probability_total_home = goal_probability_total_home_ if goal_probability_total_home_>=1 else 1                \n",
    "                goal_prob_home = goal_probability_home /goal_probability_total_home\n",
    "\n",
    "                save_prob_home = (self.away_team_matrixes['goalkeeper_matrix'][current_x,current_y]) \n",
    "                \n",
    "                \n",
    "                defense_probability_ = self.away_team_matrixes['defense_matrix'][current_x, current_y]\n",
    "                defense_probability = defense_probability_ if not np.isnan(defense_probability_) else 0\n",
    "                defense_probability_total_home = np.sum(self.away_team_matrixes['defense_matrix'] * self.match_duration)\n",
    "                defense_probability = defense_probability_/defense_probability_total_home\n",
    "\n",
    "                total_prob = goal_prob_home*(1-(defense_probability)) + (save_prob_home)\n",
    "                \n",
    "                if total_prob == 0 or np.isnan(save_prob_home):\n",
    "                    return False\n",
    "                \n",
    "                normalized_probs = [(goal_prob_home*(1-(defense_probability))) / total_prob, \n",
    "                                    (save_prob_home) / total_prob]\n",
    "                \n",
    "                events = ['goal', 'save']\n",
    "                selected_event = np.random.choice(events, p=normalized_probs)\n",
    "                if selected_event == 'goal':\n",
    "                    return True\n",
    "                else:\n",
    "                    return False\n",
    "            \n",
    "            if self.current_team == 'away':\n",
    "                goal_probability_away = (self.away_team_matrixes['goal_matrix'][current_x, current_y]) * self.match_duration\n",
    "                goal_probability_total_away_ = np.sum(self.away_team_matrixes['goal_matrix'] * self.match_duration)\n",
    "                goal_probability_total_away = goal_probability_total_away_ if goal_probability_total_away_>=1 else 1\n",
    "                goal_prob_away = goal_probability_away/goal_probability_total_away\n",
    "\n",
    "\n",
    "                save_prob_away = (self.home_team_matrixes['goalkeeper_matrix'][current_x,current_y]) \n",
    "                \n",
    "                defense_probability_ = self.home_team_matrixes['defense_matrix'][current_x, current_y]\n",
    "                defense_probability = defense_probability_ if not np.isnan(defense_probability_) else 0\n",
    "                defense_probability_total_home = np.sum(self.home_team_matrixes['defense_matrix'] * self.match_duration)\n",
    "                defense_probability = defense_probability_/defense_probability_total_home\n",
    "\n",
    "                total_prob = goal_prob_away*(1-(defense_probability)) + (save_prob_away)\n",
    "                if total_prob == 0 or np.isnan(save_prob_away):\n",
    "                    return False\n",
    "                normalized_probs = [(goal_prob_away*(1-(defense_probability))) / total_prob, \n",
    "                                    (save_prob_away) / total_prob]\n",
    "            \n",
    "                events = ['goal', 'save']\n",
    "                selected_event = np.random.choice(events, p=normalized_probs)\n",
    "\n",
    "                if selected_event == 'goal':\n",
    "                    return True\n",
    "                else:\n",
    "                    return False\n",
    "                \n",
    "    def play_match(self):\n",
    "        self.get_team_data()\n",
    "        while self.mins_played < self.match_duration:\n",
    "            self.step()\n",
    "        \n",
    "        return {\n",
    "            'home': self.home_team,\n",
    "            'away': self.away_team,\n",
    "            'goles_local': self.score['home'],\n",
    "            'goles_visitante': self.score['away'],\n",
    "            'tiros_local': self.shots['home'],\n",
    "            'tiros_visitante': self.shots['away'],\n",
    "            'pases_local': self.passes['home'],\n",
    "            'pases_visitante': self.passes['away'],\n",
    "            'quites_local': self.interceptions['home'],\n",
    "            'quites_visitante': self.interceptions['away']\n",
    "        }"
   ]
  },
  {
   "cell_type": "markdown",
   "metadata": {},
   "source": [
    "## Manchester United vs Chelsea"
   ]
  },
  {
   "cell_type": "markdown",
   "metadata": {},
   "source": [
    "Seteamos los equipos y sus planteles (los sacamos en base al 11 titular mas elegido en la temporada)"
   ]
  },
  {
   "cell_type": "code",
   "execution_count": 3,
   "metadata": {},
   "outputs": [],
   "source": [
    "def get_initial_11(team):\n",
    "    base_path = '/Users/pgule/Downloads'\n",
    "    team_data_path = os.path.join(base_path, f'{team}_summary.csv')\n",
    "    try:\n",
    "        df = pd.read_csv(team_data_path)\n",
    "        df = df.sort_values(by='Starting_XI', ascending=False)\n",
    "        return df['PlayerName'][:11].tolist()\n",
    "    except FileNotFoundError:\n",
    "        return None\n",
    "    except Exception as e:\n",
    "        return None"
   ]
  },
  {
   "cell_type": "code",
   "execution_count": 4,
   "metadata": {},
   "outputs": [],
   "source": [
    "def get_team_players(team):\n",
    "    base_path = '/Users/pgule/Documents/soccer_defense_analysis/src/data' \n",
    "    team_data_path = os.path.join(base_path, team, f'{team}_summary.csv')\n",
    "    try:\n",
    "        df = pd.read_csv(team_data_path)\n",
    "        df = df.drop_duplicates()\n",
    "        df = df.sort_values(by='MinutesPlayed', ascending=False)\n",
    "        return df['PlayerName'].tolist()\n",
    "    except FileNotFoundError:\n",
    "        print(f'Error: El archivo {team}_summary.csv no se encontró en la carpeta de {team}.')\n",
    "        return None\n",
    "    except Exception as e:\n",
    "        print(f'Error al cargar el archivo para {team}: {str(e)}')\n",
    "        return None"
   ]
  },
  {
   "cell_type": "code",
   "execution_count": 5,
   "metadata": {},
   "outputs": [],
   "source": [
    "def choose_teams(teams_list, players_data):\n",
    "    \"\"\"\n",
    "    Permite al usuario elegir un equipo completo o un equipo personalizado.\n",
    "    Devuelve un diccionario en el formato: {'TeamName': [(player1, periods), (player2, periods), ...]}\n",
    "    \"\"\"\n",
    "    print(\"¿Cómo deseas elegir tu equipo?\")\n",
    "    print(\"1. Elegir un equipo completo\")\n",
    "    print(\"2. Seleccionar jugadores individuales de diferentes equipos\")\n",
    "\n",
    "    choice = input(\"Ingresa el número de tu elección (1 o 2): \")\n",
    "\n",
    "    players_dict = defaultdict(list)  # Creamos el diccionario para almacenar la selección de jugadores\n",
    "\n",
    "    if choice == '1':\n",
    "        # Elegir un equipo completo\n",
    "        print(\"Equipos disponibles:\")\n",
    "        for idx, team in enumerate(teams_list, start=1):\n",
    "            print(f\"{idx}. {team}\")\n",
    "\n",
    "        team_index = int(input(\"Selecciona el número del equipo que deseas elegir: \")) - 1\n",
    "\n",
    "        if 0 <= team_index < len(teams_list):\n",
    "            team_name = teams_list[team_index]\n",
    "            selected_players = get_initial_11(team_name)  # Llama a la función que devuelve el equipo titular\n",
    "            players_dict[team_name] = [(player, 'full_period') for player in selected_players]\n",
    "            print(f\"\\nEquipo titular seleccionado para {team_name}: {selected_players}\")\n",
    "        else:\n",
    "            print(\"Selección de equipo inválida.\")\n",
    "\n",
    "    elif choice == '2':\n",
    "        # Selección de jugadores personalizados de diferentes equipos\n",
    "        while sum(len(players) for players in players_dict.values()) < 11:\n",
    "            print(\"Equipos disponibles:\")\n",
    "            for idx, team in enumerate(teams_list, start=1):\n",
    "                print(f\"{idx}. {team}\")\n",
    "\n",
    "            team_index = int(input(\"Selecciona el número del equipo para elegir jugadores: \")) - 1\n",
    "    \n",
    "\n",
    "            if 0 <= team_index < len(teams_list):\n",
    "                team_name = teams_list[team_index]\n",
    "                available_players = [player for player in players_data[team_name] \n",
    "                                     if player not in [p[0] for players in players_dict.values() for p in players]]\n",
    "\n",
    "                while True:\n",
    "                    print(f\"Jugadores disponibles en {team_name}:\")\n",
    "                    for idx, player in enumerate(available_players, start=1):\n",
    "                        print(f\"{idx}. {player}\")\n",
    "\n",
    "                    player_index = int(input(\"Selecciona el número del jugador que deseas agregar (o 0 para cambiar de equipo): \")) - 1\n",
    "\n",
    "                    if player_index == -1:\n",
    "                        \n",
    "                        break\n",
    "                    elif 0 <= player_index < len(available_players):\n",
    "                        players_dict[team_name].append((available_players[player_index], 'custom_period'))\n",
    "                        print(f\"Jugador {available_players[player_index]} agregado a tu equipo.\")\n",
    "                        print(f\"Jugadores seleccionados: {sum(len(players) for players in players_dict.values())} / 11\\n\")\n",
    "\n",
    "                        # Actualizar la lista de jugadores disponibles\n",
    "                        available_players.pop(player_index)\n",
    "\n",
    "                        # Si se alcanzan los 11 jugadores, salir del bucle\n",
    "                        if sum(len(players) for players in players_dict.values()) == 11:\n",
    "                            break\n",
    "                    else:\n",
    "                        print(\"Selección de jugador no válida.\")\n",
    "            else:\n",
    "                print(\"Selección de equipo no válida.\")\n",
    "\n",
    "        if sum(len(players) for players in players_dict.values()) == 11:\n",
    "            print(\"\\nHas completado tu equipo:\")\n",
    "        else:\n",
    "            print(\"\\nNo has completado los 11 jugadores, pero esta es tu selección final:\")\n",
    "        print(players_dict)\n",
    "\n",
    "    else:\n",
    "        print(\"Opción inválida. Por favor, elige 1 o 2.\")\n",
    "\n",
    "    return players_dict"
   ]
  },
  {
   "cell_type": "code",
   "execution_count": 6,
   "metadata": {},
   "outputs": [],
   "source": [
    "df = pd.read_csv('/Users/pgule/Documents/Sample Data/epl.csv', delimiter = ',')"
   ]
  },
  {
   "cell_type": "code",
   "execution_count": 8,
   "metadata": {},
   "outputs": [],
   "source": [
    "teams_list = ['Manchester United', 'Manchester City', 'Chelsea', 'Arsenal',\n",
    "       'Tottenham Hotspur', 'Everton', 'Liverpool',\n",
    "       'West Bromwich Albion', 'Swansea City', 'West Ham United',\n",
    "       'Norwich City', 'Fulham', 'Stoke City', 'Southampton',\n",
    "       'Aston Villa', 'Newcastle United', 'Sunderland', 'Wigan Athletic',\n",
    "       'Reading', 'Queens Park Rangers']"
   ]
  },
  {
   "cell_type": "code",
   "execution_count": 9,
   "metadata": {},
   "outputs": [],
   "source": [
    "players_dict = defaultdict(list)\n",
    "\n",
    "for team in teams_list:\n",
    "    players = get_team_players(team)\n",
    "    if players:  \n",
    "        players_dict[team] = players"
   ]
  },
  {
   "cell_type": "markdown",
   "metadata": {},
   "source": [
    "## Simulamos el partido"
   ]
  },
  {
   "cell_type": "markdown",
   "metadata": {},
   "source": [
    "Simulamos partidos entre manchester united y chelsea, guardamos resultados y analizamos"
   ]
  },
  {
   "cell_type": "code",
   "execution_count": 10,
   "metadata": {},
   "outputs": [],
   "source": [
    "random.seed(42)\n",
    "def simulate_matches(num_matches, home_players, away_players):\n",
    "    results = []\n",
    "    for _ in tqdm(range(num_matches), desc=\"Simulando partidos\", unit=\"partido\"):\n",
    "        home_team_name = list(home_players.keys())[0] if len(home_players) == 1 else None\n",
    "        away_team_name = list(away_players.keys())[0] if len(away_players) == 1 else None\n",
    "        if home_team_name == None and away_team_name == None:\n",
    "            simulation = MatchSimulation(home_players, away_players)\n",
    "        elif home_team_name != None and away_team_name == None:\n",
    "            simulation = MatchSimulation(home_players, away_players, home_team=home_team_name)\n",
    "        elif home_team_name == None and away_team_name != None:\n",
    "            simulation = MatchSimulation(home_players, away_players, away_team=away_team_name)\n",
    "        else:\n",
    "            simulation = MatchSimulation(home_players, away_players, home_team= home_team_name, away_team= away_team_name)\n",
    "        result = simulation.play_match()\n",
    "        results.append(result)\n",
    "    return pd.DataFrame(results)"
   ]
  },
  {
   "cell_type": "markdown",
   "metadata": {},
   "source": [
    "## Simulacion de todos los partidos para armar el ranking base teniendo en cuenta las probas de win/loss/tie"
   ]
  },
  {
   "cell_type": "code",
   "execution_count": 13,
   "metadata": {},
   "outputs": [],
   "source": [
    "from itertools import combinations\n",
    "import pandas as pd\n",
    "\n",
    "def simulate_all_matches(teams_list, players_data):\n",
    "    \"\"\"\n",
    "    Simula partidos entre todos los equipos de teams_list y guarda los resultados.\n",
    "    \"\"\"\n",
    "    matches = list(combinations(teams_list, 2))  # Genera todas las combinaciones únicas de dos equipos\n",
    "    results = []  # Almacena los DataFrames de resultados de cada partido\n",
    "    all_matches_df = pd.DataFrame()  # Inicializa el DataFrame para almacenar todos los resultados acumulados\n",
    "\n",
    "    # Calcula y almacena el 11 titular de cada equipo una sola vez\n",
    "    initial_11_dict = {team: get_initial_11(team) for team in teams_list}\n",
    "\n",
    "    # Imprime el 11 titular de cada equipo\n",
    "    for team, initial_11 in initial_11_dict.items():\n",
    "        print(f\"Jugadores iniciales de {team}: {initial_11}\")\n",
    "\n",
    "    for team1, team2 in matches:\n",
    "        # Configura los jugadores de ambos equipos utilizando el diccionario precalculado\n",
    "        team1_players = {team1: [(player, 'full_period') for player in initial_11_dict[team1]]}\n",
    "        team2_players = {team2: [(player, 'full_period') for player in initial_11_dict[team2]]}\n",
    "        \n",
    "        print(f\"\\nSimulando partido entre {team1} y {team2}...\")\n",
    "\n",
    "        # Simula múltiples partidos y obtiene el DataFrame de resultados\n",
    "        match_result_df = simulate_matches(1000, team1_players, team2_players)\n",
    "        \n",
    "        # Determina el equipo ganador en cada partido\n",
    "        match_result_df['winner'] = match_result_df.apply(\n",
    "            lambda row: row['home'] if row['goles_local'] > row['goles_visitante'] else\n",
    "                        row['away'] if row['goles_local'] < row['goles_visitante'] else\n",
    "                        'tie', axis=1\n",
    "        )\n",
    "\n",
    "        # Agregar un identificador de partido\n",
    "        match_result_df['match'] = f'{team1} vs {team2}'\n",
    "\n",
    "        # Acumula el resultado del partido actual en el DataFrame principal\n",
    "        all_matches_df = pd.concat([all_matches_df, match_result_df], ignore_index=True)\n",
    "\n",
    "        # Calcula la proporción de victorias, empates y derrotas\n",
    "        total_games = match_result_df.shape[0]\n",
    "        win_counts = match_result_df['winner'].value_counts()\n",
    "        win_pct_team1 = (win_counts.get(team1, 0) / total_games) * 100\n",
    "        win_pct_team2 = (win_counts.get(team2, 0) / total_games) * 100\n",
    "        tie_pct = (win_counts.get('tie', 0) / total_games) * 100\n",
    "        loss_pct_team1 = win_pct_team2  # La pérdida de un equipo es la victoria del otro\n",
    "        loss_pct_team2 = win_pct_team1\n",
    "\n",
    "        # Crear DataFrame con las estadísticas de cada partido\n",
    "        new_index = ['win%', 'loss%', 'tie%', 'avg_goles', 'avg_tiros', 'avg_pases', 'avg_quites'] \n",
    "        teams_current = [team1, team2]\n",
    "        df_transposed = pd.DataFrame(index=new_index, columns=teams_current)\n",
    "        \n",
    "        # Asignar las proporciones calculadas\n",
    "        df_transposed.loc['win%', team1] = win_pct_team1\n",
    "        df_transposed.loc['loss%', team1] = loss_pct_team1\n",
    "        df_transposed.loc['tie%', team1] = tie_pct\n",
    "        df_transposed.loc['win%', team2] = win_pct_team2\n",
    "        df_transposed.loc['loss%', team2] = loss_pct_team2\n",
    "        df_transposed.loc['tie%', team2] = tie_pct\n",
    "\n",
    "        # Calcular promedios de estadísticas\n",
    "        df_transposed.loc['avg_goles', team1] = match_result_df['goles_local'].mean()\n",
    "        df_transposed.loc['avg_goles', team2] = match_result_df['goles_visitante'].mean()\n",
    "        df_transposed.loc['avg_tiros', team1] = match_result_df['tiros_local'].mean()\n",
    "        df_transposed.loc['avg_tiros', team2] = match_result_df['tiros_visitante'].mean()\n",
    "        df_transposed.loc['avg_pases', team1] = match_result_df['pases_local'].mean()\n",
    "        df_transposed.loc['avg_pases', team2] = match_result_df['pases_visitante'].mean()\n",
    "        df_transposed.loc['avg_quites', team1] = match_result_df['quites_local'].mean()\n",
    "        df_transposed.loc['avg_quites', team2] = match_result_df['quites_visitante'].mean()\n",
    "\n",
    "        # Agregar los resultados de este partido a la lista de resultados\n",
    "        results.append(df_transposed)\n",
    "\n",
    "    # Combina todos los resultados de estadísticas en un único DataFrame\n",
    "    all_results = pd.concat(results, keys=[f'{team1} vs {team2}' for team1, team2 in matches])\n",
    "\n",
    "    # Retorna tanto el DataFrame acumulado de todos los partidos como las estadísticas\n",
    "    return all_matches_df, all_results\n"
   ]
  },
  {
   "cell_type": "code",
   "execution_count": 14,
   "metadata": {},
   "outputs": [
    {
     "name": "stdout",
     "output_type": "stream",
     "text": [
      "Jugadores iniciales de Manchester United: ['van Persie, Robin', 'Carrick, Michael', 'Evra, Patrice', 'Welbeck, Danny', 'de Gea, David', 'Rooney, Wayne', 'Valencia, Luis Antonio', 'Evans, Jonny', 'Ferdinand, Rio', 'Cleverley, Tom', 'Giggs, Ryan']\n",
      "Jugadores iniciales de Manchester City: ['Hart, Joe', 'Aguero, Sergio', 'Toure, Gnegneri Yaya', 'Silva, David', 'Dzeko, Edin', 'Lescott, Joleon', 'Barry, Gareth', 'Nasri, Samir', 'Richards, Micah', 'Clichy, Gael', 'Kompany, Vincent']\n",
      "Jugadores iniciales de Chelsea: ['Mata, Juan', 'dos Santos Emboada Junior, Oscar', 'Hazard, Eden', 'Santos do Nascimento, Ramires', 'Cech, Petr', 'Torres, Fernando', 'Ivanovic, Branislav', 'Luiz Moreira Marinho, David', 'Cole, Ashley', 'Lampard, Frank', 'Cahill, Gary']\n",
      "Jugadores iniciales de Arsenal: ['Cazorla, Santiago', 'Podolski, Lukas', 'Walcott, Theo', 'Giroud, Olivier', 'Ramsey, Aaron', 'Mertesacker, Per', 'Arteta, Mikel', 'Vermaelen, Thomas', 'Szczesny, Wojciech', 'Gibbs, Kieran', 'Sagna, Bacary']\n",
      "Jugadores iniciales de Tottenham Hotspur: ['Walker, Kyle', 'Defoe, Jermain', 'Sigurdsson, Gylfi', 'Vertonghen, Jan', 'Dembele, Mousa', 'Lennon, Aaron', 'Adebayor, Emmanuel', 'Bale, Gareth', 'Lloris, Hugo', 'Gallas, William', 'Dawson, Michael']\n",
      "Jugadores iniciales de Everton: ['Baines, Leighton', 'Osman, Leon', 'Jelavic, Nikica', 'Distin, Sylvain', 'Jagielka, Phil', 'Howard, Tim', 'Pienaar, Steven', 'Fellaini, Marouane', 'Naismith, Steven', 'Mirallas, Kevin', 'Heitinga, Johnny']\n",
      "Jugadores iniciales de Liverpool: ['Johnson, Glen', 'Gerrard, Steven', 'Agger, Daniel', 'Suarez, Luis', 'Reina, Jose', 'Enrique Sanchez Diaz, Jose', 'Henderson, Jordan', 'Skrtel, Martin', 'Leiva, Lucas', 'Sturridge, Daniel', 'Downing, Stewart']\n",
      "Jugadores iniciales de West Bromwich Albion: ['McAuley, Gareth', 'Olsson, Jonas', 'Morrison, James', 'Long, Shane', 'Lukaku, Romelu', 'Yacob, Claudio', 'Foster, Ben', 'Brunt, Chris', 'Ridgewell, Liam', 'Mulumbu, Youssuf', 'Jones, Billy']\n",
      "Jugadores iniciales de Swansea City: ['Williams, Ashley', 'Routledge, Wayne', 'Davies, Ben', 'De Guzman, Jonathan', 'Perez Cuesta, Miguel', 'Dyer, Nathan', 'Britton, Leon', 'Rangel, Angel', 'Hernandez, Pablo', 'Vorm, Michel', 'Flores Moreno, Jose Manuel']\n",
      "Jugadores iniciales de West Ham United: ['Reid, Winston', 'Jaaskelainen, Jussi', 'Nolan, Kevin', 'Diame, Mohamed', \"O'Brien, Joey\", 'Noble, Mark', 'Taylor, Matthew', 'Collins, James', 'Demel, Guy', 'Jarvis, Matthew', 'Maiga, Modibo']\n",
      "Jugadores iniciales de Norwich City: ['Johnson, Bradley', 'Garrido, Javier', 'Snodgrass, Robert', 'Bassong, Sebastien', 'Holt, Grant', 'Hoolahan, Wes', 'Pilkington, Anthony', 'Martin, Russell', 'Turner, Michael', 'Bennett, Ryan', 'Bunn, Mark']\n",
      "Jugadores iniciales de Fulham: ['Schwarzer, Mark', 'Riether, Sascha', 'Hangeland, Brede', 'Riise, John Arne', 'Berbatov, Dimitar', 'Ruiz, Bryan', 'Petric, Mladen', 'Sidwell, Steve', 'Duff, Damien', 'Hughes, Aaron', 'Kacaniklic, Alexander']\n",
      "Jugadores iniciales de Stoke City: ['Walters, Jonathan', 'Begovic, Asmir', \"N'Zonzi, Steven\", 'Shawcross, Ryan', 'Cameron, Geoff', 'Crouch, Peter', 'Huth, Robert', 'Whelan, Glenn', 'Wilkinson, Andy', 'Jerome, Cameron', 'Shotton, Ryan']\n",
      "Jugadores iniciales de Southampton: ['Schneiderlin, Morgan', 'Lambert, Rickie', 'Clyne, Nathaniel', 'Yoshida, Maya', 'Rodriguez, Jay', 'Puncheon, Jason', 'Fonte, Jose', 'Lallana, Adam', 'Davis, Steven', 'Hooiveld, Jos', 'Boruc, Artur']\n",
      "Jugadores iniciales de Aston Villa: ['Lowton, Matthew', 'Benteke, Christian', 'Guzan, Brad', 'Weimann, Andreas', 'Clark, Ciaran', 'Vlaar, Ron', 'Agbonlahor, Gabriel', 'Holman, Brett', \"N'Zogbia, Charles\", 'Bennett, Joe', 'Albrighton, Marc']\n",
      "Jugadores iniciales de Newcastle United: ['Cisse, Papiss Demba', 'Gutierrez, Jonas', 'Santon, Davide', 'Cabaye, Yohan', 'Krul, Tim', 'Ba, Demba', 'Taylor, Steven', 'Marveaux, Sylvain', 'Perch, James', 'Bigirimana, Gael', 'Coloccini, Fabricio']\n",
      "Jugadores iniciales de Sunderland: ['Larsson, Sebastian', 'Mignolet, Simon', 'McClean, James', 'Colback, Jack', 'Johnson, Adam', 'Sessegnon, Stephane', \"O'Shea, John\", 'Graham, Danny', 'Fletcher, Steven', 'Rose, Danny', 'Cuellar, Carlos']\n",
      "Jugadores iniciales de Wigan Athletic: ['McCarthy, James', 'Boyce, Emmerson', 'Maloney, Shaun', 'Kone, Arouna', 'McArthur, James', 'Beausejour, Jean', 'Figueroa, Maynor', 'Al-Habsi, Ali', 'Caldwell, Gary', 'Gomez Garcia-Penche, Jordi', 'McManaman, Callum']\n",
      "Jugadores iniciales de Reading: ['McAnuff, Jobi', 'Le Fondre, Adam', 'McCleary, Garath', 'Pogrebnyak, Pavel', 'Mariappa, Adrian', 'Leigertwood, Mikele', 'Federici, Adam', 'Robson-Kanu, Hal', 'Shorey, Nicholas', 'Pearce, Alex', 'Gunter, Chris']\n",
      "Jugadores iniciales de Queens Park Rangers: ['Taarabt, Adel', 'Hill, Clint', 'Mbia, Stephane', 'Mackie, Jamie', 'Traore, Armand', 'Onuoha, Nedum', 'Cesar, Julio', 'Park, Ji-Sung', 'Remy, Loic', 'Diakite, Samba', 'Granero, Esteban']\n",
      "\n",
      "Simulando partido entre Manchester United y Manchester City...\n"
     ]
    },
    {
     "name": "stderr",
     "output_type": "stream",
     "text": [
      "Simulando partidos: 100%|██████████| 1000/1000 [02:42<00:00,  6.17partido/s]\n"
     ]
    },
    {
     "name": "stdout",
     "output_type": "stream",
     "text": [
      "\n",
      "Simulando partido entre Manchester United y Chelsea...\n"
     ]
    },
    {
     "name": "stderr",
     "output_type": "stream",
     "text": [
      "Simulando partidos: 100%|██████████| 1000/1000 [02:28<00:00,  6.72partido/s]\n"
     ]
    },
    {
     "name": "stdout",
     "output_type": "stream",
     "text": [
      "\n",
      "Simulando partido entre Manchester United y Arsenal...\n"
     ]
    },
    {
     "name": "stderr",
     "output_type": "stream",
     "text": [
      "Simulando partidos: 100%|██████████| 1000/1000 [02:28<00:00,  6.72partido/s]\n"
     ]
    },
    {
     "name": "stdout",
     "output_type": "stream",
     "text": [
      "\n",
      "Simulando partido entre Manchester United y Tottenham Hotspur...\n"
     ]
    },
    {
     "name": "stderr",
     "output_type": "stream",
     "text": [
      "Simulando partidos: 100%|██████████| 1000/1000 [02:28<00:00,  6.72partido/s]\n"
     ]
    },
    {
     "name": "stdout",
     "output_type": "stream",
     "text": [
      "\n",
      "Simulando partido entre Manchester United y Everton...\n"
     ]
    },
    {
     "name": "stderr",
     "output_type": "stream",
     "text": [
      "Simulando partidos: 100%|██████████| 1000/1000 [02:28<00:00,  6.76partido/s]\n"
     ]
    },
    {
     "name": "stdout",
     "output_type": "stream",
     "text": [
      "\n",
      "Simulando partido entre Manchester United y Liverpool...\n"
     ]
    },
    {
     "name": "stderr",
     "output_type": "stream",
     "text": [
      "Simulando partidos: 100%|██████████| 1000/1000 [02:27<00:00,  6.78partido/s]\n"
     ]
    },
    {
     "name": "stdout",
     "output_type": "stream",
     "text": [
      "\n",
      "Simulando partido entre Manchester United y West Bromwich Albion...\n"
     ]
    },
    {
     "name": "stderr",
     "output_type": "stream",
     "text": [
      "Simulando partidos: 100%|██████████| 1000/1000 [02:27<00:00,  6.78partido/s]\n"
     ]
    },
    {
     "name": "stdout",
     "output_type": "stream",
     "text": [
      "\n",
      "Simulando partido entre Manchester United y Swansea City...\n"
     ]
    },
    {
     "name": "stderr",
     "output_type": "stream",
     "text": [
      "Simulando partidos: 100%|██████████| 1000/1000 [02:26<00:00,  6.83partido/s]\n"
     ]
    },
    {
     "name": "stdout",
     "output_type": "stream",
     "text": [
      "\n",
      "Simulando partido entre Manchester United y West Ham United...\n"
     ]
    },
    {
     "name": "stderr",
     "output_type": "stream",
     "text": [
      "Simulando partidos: 100%|██████████| 1000/1000 [02:26<00:00,  6.84partido/s]\n"
     ]
    },
    {
     "name": "stdout",
     "output_type": "stream",
     "text": [
      "\n",
      "Simulando partido entre Manchester United y Norwich City...\n"
     ]
    },
    {
     "name": "stderr",
     "output_type": "stream",
     "text": [
      "Simulando partidos: 100%|██████████| 1000/1000 [02:25<00:00,  6.86partido/s]\n"
     ]
    },
    {
     "name": "stdout",
     "output_type": "stream",
     "text": [
      "\n",
      "Simulando partido entre Manchester United y Fulham...\n"
     ]
    },
    {
     "name": "stderr",
     "output_type": "stream",
     "text": [
      "Simulando partidos: 100%|██████████| 1000/1000 [02:28<00:00,  6.75partido/s]\n"
     ]
    },
    {
     "name": "stdout",
     "output_type": "stream",
     "text": [
      "\n",
      "Simulando partido entre Manchester United y Stoke City...\n"
     ]
    },
    {
     "name": "stderr",
     "output_type": "stream",
     "text": [
      "Simulando partidos: 100%|██████████| 1000/1000 [02:25<00:00,  6.86partido/s]\n"
     ]
    },
    {
     "name": "stdout",
     "output_type": "stream",
     "text": [
      "\n",
      "Simulando partido entre Manchester United y Southampton...\n"
     ]
    },
    {
     "name": "stderr",
     "output_type": "stream",
     "text": [
      "Simulando partidos: 100%|██████████| 1000/1000 [02:26<00:00,  6.81partido/s]\n"
     ]
    },
    {
     "name": "stdout",
     "output_type": "stream",
     "text": [
      "\n",
      "Simulando partido entre Manchester United y Aston Villa...\n"
     ]
    },
    {
     "name": "stderr",
     "output_type": "stream",
     "text": [
      "Simulando partidos: 100%|██████████| 1000/1000 [02:26<00:00,  6.83partido/s]\n"
     ]
    },
    {
     "name": "stdout",
     "output_type": "stream",
     "text": [
      "\n",
      "Simulando partido entre Manchester United y Newcastle United...\n"
     ]
    },
    {
     "name": "stderr",
     "output_type": "stream",
     "text": [
      "Simulando partidos: 100%|██████████| 1000/1000 [02:26<00:00,  6.82partido/s]\n"
     ]
    },
    {
     "name": "stdout",
     "output_type": "stream",
     "text": [
      "\n",
      "Simulando partido entre Manchester United y Sunderland...\n"
     ]
    },
    {
     "name": "stderr",
     "output_type": "stream",
     "text": [
      "Simulando partidos: 100%|██████████| 1000/1000 [02:26<00:00,  6.85partido/s]\n"
     ]
    },
    {
     "name": "stdout",
     "output_type": "stream",
     "text": [
      "\n",
      "Simulando partido entre Manchester United y Wigan Athletic...\n"
     ]
    },
    {
     "name": "stderr",
     "output_type": "stream",
     "text": [
      "Simulando partidos: 100%|██████████| 1000/1000 [02:26<00:00,  6.84partido/s]\n"
     ]
    },
    {
     "name": "stdout",
     "output_type": "stream",
     "text": [
      "\n",
      "Simulando partido entre Manchester United y Reading...\n"
     ]
    },
    {
     "name": "stderr",
     "output_type": "stream",
     "text": [
      "Simulando partidos: 100%|██████████| 1000/1000 [02:26<00:00,  6.84partido/s]\n"
     ]
    },
    {
     "name": "stdout",
     "output_type": "stream",
     "text": [
      "\n",
      "Simulando partido entre Manchester United y Queens Park Rangers...\n"
     ]
    },
    {
     "name": "stderr",
     "output_type": "stream",
     "text": [
      "Simulando partidos: 100%|██████████| 1000/1000 [02:26<00:00,  6.82partido/s]\n"
     ]
    },
    {
     "name": "stdout",
     "output_type": "stream",
     "text": [
      "\n",
      "Simulando partido entre Manchester City y Chelsea...\n"
     ]
    },
    {
     "name": "stderr",
     "output_type": "stream",
     "text": [
      "Simulando partidos: 100%|██████████| 1000/1000 [02:26<00:00,  6.82partido/s]\n"
     ]
    },
    {
     "name": "stdout",
     "output_type": "stream",
     "text": [
      "\n",
      "Simulando partido entre Manchester City y Arsenal...\n"
     ]
    },
    {
     "name": "stderr",
     "output_type": "stream",
     "text": [
      "Simulando partidos: 100%|██████████| 1000/1000 [02:26<00:00,  6.83partido/s]\n"
     ]
    },
    {
     "name": "stdout",
     "output_type": "stream",
     "text": [
      "\n",
      "Simulando partido entre Manchester City y Tottenham Hotspur...\n"
     ]
    },
    {
     "name": "stderr",
     "output_type": "stream",
     "text": [
      "Simulando partidos: 100%|██████████| 1000/1000 [02:26<00:00,  6.82partido/s]\n"
     ]
    },
    {
     "name": "stdout",
     "output_type": "stream",
     "text": [
      "\n",
      "Simulando partido entre Manchester City y Everton...\n"
     ]
    },
    {
     "name": "stderr",
     "output_type": "stream",
     "text": [
      "Simulando partidos: 100%|██████████| 1000/1000 [02:26<00:00,  6.83partido/s]\n"
     ]
    },
    {
     "name": "stdout",
     "output_type": "stream",
     "text": [
      "\n",
      "Simulando partido entre Manchester City y Liverpool...\n"
     ]
    },
    {
     "name": "stderr",
     "output_type": "stream",
     "text": [
      "Simulando partidos: 100%|██████████| 1000/1000 [02:26<00:00,  6.85partido/s]\n"
     ]
    },
    {
     "name": "stdout",
     "output_type": "stream",
     "text": [
      "\n",
      "Simulando partido entre Manchester City y West Bromwich Albion...\n"
     ]
    },
    {
     "name": "stderr",
     "output_type": "stream",
     "text": [
      "Simulando partidos: 100%|██████████| 1000/1000 [02:26<00:00,  6.83partido/s]\n"
     ]
    },
    {
     "name": "stdout",
     "output_type": "stream",
     "text": [
      "\n",
      "Simulando partido entre Manchester City y Swansea City...\n"
     ]
    },
    {
     "name": "stderr",
     "output_type": "stream",
     "text": [
      "Simulando partidos: 100%|██████████| 1000/1000 [02:26<00:00,  6.83partido/s]\n"
     ]
    },
    {
     "name": "stdout",
     "output_type": "stream",
     "text": [
      "\n",
      "Simulando partido entre Manchester City y West Ham United...\n"
     ]
    },
    {
     "name": "stderr",
     "output_type": "stream",
     "text": [
      "Simulando partidos: 100%|██████████| 1000/1000 [02:26<00:00,  6.83partido/s]\n"
     ]
    },
    {
     "name": "stdout",
     "output_type": "stream",
     "text": [
      "\n",
      "Simulando partido entre Manchester City y Norwich City...\n"
     ]
    },
    {
     "name": "stderr",
     "output_type": "stream",
     "text": [
      "Simulando partidos: 100%|██████████| 1000/1000 [02:25<00:00,  6.86partido/s]\n"
     ]
    },
    {
     "name": "stdout",
     "output_type": "stream",
     "text": [
      "\n",
      "Simulando partido entre Manchester City y Fulham...\n"
     ]
    },
    {
     "name": "stderr",
     "output_type": "stream",
     "text": [
      "Simulando partidos: 100%|██████████| 1000/1000 [02:26<00:00,  6.85partido/s]\n"
     ]
    },
    {
     "name": "stdout",
     "output_type": "stream",
     "text": [
      "\n",
      "Simulando partido entre Manchester City y Stoke City...\n"
     ]
    },
    {
     "name": "stderr",
     "output_type": "stream",
     "text": [
      "Simulando partidos: 100%|██████████| 1000/1000 [02:25<00:00,  6.86partido/s]\n"
     ]
    },
    {
     "name": "stdout",
     "output_type": "stream",
     "text": [
      "\n",
      "Simulando partido entre Manchester City y Southampton...\n"
     ]
    },
    {
     "name": "stderr",
     "output_type": "stream",
     "text": [
      "Simulando partidos: 100%|██████████| 1000/1000 [02:26<00:00,  6.84partido/s]\n"
     ]
    },
    {
     "name": "stdout",
     "output_type": "stream",
     "text": [
      "\n",
      "Simulando partido entre Manchester City y Aston Villa...\n"
     ]
    },
    {
     "name": "stderr",
     "output_type": "stream",
     "text": [
      "Simulando partidos: 100%|██████████| 1000/1000 [02:26<00:00,  6.85partido/s]\n"
     ]
    },
    {
     "name": "stdout",
     "output_type": "stream",
     "text": [
      "\n",
      "Simulando partido entre Manchester City y Newcastle United...\n"
     ]
    },
    {
     "name": "stderr",
     "output_type": "stream",
     "text": [
      "Simulando partidos: 100%|██████████| 1000/1000 [02:26<00:00,  6.84partido/s]\n"
     ]
    },
    {
     "name": "stdout",
     "output_type": "stream",
     "text": [
      "\n",
      "Simulando partido entre Manchester City y Sunderland...\n"
     ]
    },
    {
     "name": "stderr",
     "output_type": "stream",
     "text": [
      "Simulando partidos: 100%|██████████| 1000/1000 [02:26<00:00,  6.84partido/s]\n"
     ]
    },
    {
     "name": "stdout",
     "output_type": "stream",
     "text": [
      "\n",
      "Simulando partido entre Manchester City y Wigan Athletic...\n"
     ]
    },
    {
     "name": "stderr",
     "output_type": "stream",
     "text": [
      "Simulando partidos: 100%|██████████| 1000/1000 [02:27<00:00,  6.80partido/s]\n"
     ]
    },
    {
     "name": "stdout",
     "output_type": "stream",
     "text": [
      "\n",
      "Simulando partido entre Manchester City y Reading...\n"
     ]
    },
    {
     "name": "stderr",
     "output_type": "stream",
     "text": [
      "Simulando partidos: 100%|██████████| 1000/1000 [02:28<00:00,  6.74partido/s]\n"
     ]
    },
    {
     "name": "stdout",
     "output_type": "stream",
     "text": [
      "\n",
      "Simulando partido entre Manchester City y Queens Park Rangers...\n"
     ]
    },
    {
     "name": "stderr",
     "output_type": "stream",
     "text": [
      "Simulando partidos: 100%|██████████| 1000/1000 [02:28<00:00,  6.75partido/s]\n"
     ]
    },
    {
     "name": "stdout",
     "output_type": "stream",
     "text": [
      "\n",
      "Simulando partido entre Chelsea y Arsenal...\n"
     ]
    },
    {
     "name": "stderr",
     "output_type": "stream",
     "text": [
      "Simulando partidos: 100%|██████████| 1000/1000 [02:26<00:00,  6.82partido/s]\n"
     ]
    },
    {
     "name": "stdout",
     "output_type": "stream",
     "text": [
      "\n",
      "Simulando partido entre Chelsea y Tottenham Hotspur...\n"
     ]
    },
    {
     "name": "stderr",
     "output_type": "stream",
     "text": [
      "Simulando partidos: 100%|██████████| 1000/1000 [02:26<00:00,  6.81partido/s]\n"
     ]
    },
    {
     "name": "stdout",
     "output_type": "stream",
     "text": [
      "\n",
      "Simulando partido entre Chelsea y Everton...\n"
     ]
    },
    {
     "name": "stderr",
     "output_type": "stream",
     "text": [
      "Simulando partidos: 100%|██████████| 1000/1000 [02:26<00:00,  6.82partido/s]\n"
     ]
    },
    {
     "name": "stdout",
     "output_type": "stream",
     "text": [
      "\n",
      "Simulando partido entre Chelsea y Liverpool...\n"
     ]
    },
    {
     "name": "stderr",
     "output_type": "stream",
     "text": [
      "Simulando partidos: 100%|██████████| 1000/1000 [02:26<00:00,  6.82partido/s]\n"
     ]
    },
    {
     "name": "stdout",
     "output_type": "stream",
     "text": [
      "\n",
      "Simulando partido entre Chelsea y West Bromwich Albion...\n"
     ]
    },
    {
     "name": "stderr",
     "output_type": "stream",
     "text": [
      "Simulando partidos: 100%|██████████| 1000/1000 [02:27<00:00,  6.80partido/s]\n"
     ]
    },
    {
     "name": "stdout",
     "output_type": "stream",
     "text": [
      "\n",
      "Simulando partido entre Chelsea y Swansea City...\n"
     ]
    },
    {
     "name": "stderr",
     "output_type": "stream",
     "text": [
      "Simulando partidos: 100%|██████████| 1000/1000 [02:26<00:00,  6.85partido/s]\n"
     ]
    },
    {
     "name": "stdout",
     "output_type": "stream",
     "text": [
      "\n",
      "Simulando partido entre Chelsea y West Ham United...\n"
     ]
    },
    {
     "name": "stderr",
     "output_type": "stream",
     "text": [
      "Simulando partidos: 100%|██████████| 1000/1000 [02:30<00:00,  6.66partido/s]\n"
     ]
    },
    {
     "name": "stdout",
     "output_type": "stream",
     "text": [
      "\n",
      "Simulando partido entre Chelsea y Norwich City...\n"
     ]
    },
    {
     "name": "stderr",
     "output_type": "stream",
     "text": [
      "Simulando partidos: 100%|██████████| 1000/1000 [02:27<00:00,  6.77partido/s]\n"
     ]
    },
    {
     "name": "stdout",
     "output_type": "stream",
     "text": [
      "\n",
      "Simulando partido entre Chelsea y Fulham...\n"
     ]
    },
    {
     "name": "stderr",
     "output_type": "stream",
     "text": [
      "Simulando partidos: 100%|██████████| 1000/1000 [02:26<00:00,  6.83partido/s]\n"
     ]
    },
    {
     "name": "stdout",
     "output_type": "stream",
     "text": [
      "\n",
      "Simulando partido entre Chelsea y Stoke City...\n"
     ]
    },
    {
     "name": "stderr",
     "output_type": "stream",
     "text": [
      "Simulando partidos: 100%|██████████| 1000/1000 [02:26<00:00,  6.84partido/s]\n"
     ]
    },
    {
     "name": "stdout",
     "output_type": "stream",
     "text": [
      "\n",
      "Simulando partido entre Chelsea y Southampton...\n"
     ]
    },
    {
     "name": "stderr",
     "output_type": "stream",
     "text": [
      "Simulando partidos: 100%|██████████| 1000/1000 [02:26<00:00,  6.81partido/s]\n"
     ]
    },
    {
     "name": "stdout",
     "output_type": "stream",
     "text": [
      "\n",
      "Simulando partido entre Chelsea y Aston Villa...\n"
     ]
    },
    {
     "name": "stderr",
     "output_type": "stream",
     "text": [
      "Simulando partidos: 100%|██████████| 1000/1000 [02:26<00:00,  6.84partido/s]\n"
     ]
    },
    {
     "name": "stdout",
     "output_type": "stream",
     "text": [
      "\n",
      "Simulando partido entre Chelsea y Newcastle United...\n"
     ]
    },
    {
     "name": "stderr",
     "output_type": "stream",
     "text": [
      "Simulando partidos: 100%|██████████| 1000/1000 [02:26<00:00,  6.83partido/s]\n"
     ]
    },
    {
     "name": "stdout",
     "output_type": "stream",
     "text": [
      "\n",
      "Simulando partido entre Chelsea y Sunderland...\n"
     ]
    },
    {
     "name": "stderr",
     "output_type": "stream",
     "text": [
      "Simulando partidos: 100%|██████████| 1000/1000 [02:26<00:00,  6.83partido/s]\n"
     ]
    },
    {
     "name": "stdout",
     "output_type": "stream",
     "text": [
      "\n",
      "Simulando partido entre Chelsea y Wigan Athletic...\n"
     ]
    },
    {
     "name": "stderr",
     "output_type": "stream",
     "text": [
      "Simulando partidos: 100%|██████████| 1000/1000 [02:26<00:00,  6.82partido/s]\n"
     ]
    },
    {
     "name": "stdout",
     "output_type": "stream",
     "text": [
      "\n",
      "Simulando partido entre Chelsea y Reading...\n"
     ]
    },
    {
     "name": "stderr",
     "output_type": "stream",
     "text": [
      "Simulando partidos: 100%|██████████| 1000/1000 [02:26<00:00,  6.83partido/s]\n"
     ]
    },
    {
     "name": "stdout",
     "output_type": "stream",
     "text": [
      "\n",
      "Simulando partido entre Chelsea y Queens Park Rangers...\n"
     ]
    },
    {
     "name": "stderr",
     "output_type": "stream",
     "text": [
      "Simulando partidos: 100%|██████████| 1000/1000 [02:27<00:00,  6.80partido/s]\n"
     ]
    },
    {
     "name": "stdout",
     "output_type": "stream",
     "text": [
      "\n",
      "Simulando partido entre Arsenal y Tottenham Hotspur...\n"
     ]
    },
    {
     "name": "stderr",
     "output_type": "stream",
     "text": [
      "Simulando partidos: 100%|██████████| 1000/1000 [02:26<00:00,  6.82partido/s]\n"
     ]
    },
    {
     "name": "stdout",
     "output_type": "stream",
     "text": [
      "\n",
      "Simulando partido entre Arsenal y Everton...\n"
     ]
    },
    {
     "name": "stderr",
     "output_type": "stream",
     "text": [
      "Simulando partidos: 100%|██████████| 1000/1000 [02:26<00:00,  6.82partido/s]\n"
     ]
    },
    {
     "name": "stdout",
     "output_type": "stream",
     "text": [
      "\n",
      "Simulando partido entre Arsenal y Liverpool...\n"
     ]
    },
    {
     "name": "stderr",
     "output_type": "stream",
     "text": [
      "Simulando partidos: 100%|██████████| 1000/1000 [02:26<00:00,  6.85partido/s]\n"
     ]
    },
    {
     "name": "stdout",
     "output_type": "stream",
     "text": [
      "\n",
      "Simulando partido entre Arsenal y West Bromwich Albion...\n"
     ]
    },
    {
     "name": "stderr",
     "output_type": "stream",
     "text": [
      "Simulando partidos: 100%|██████████| 1000/1000 [02:26<00:00,  6.84partido/s]\n"
     ]
    },
    {
     "name": "stdout",
     "output_type": "stream",
     "text": [
      "\n",
      "Simulando partido entre Arsenal y Swansea City...\n"
     ]
    },
    {
     "name": "stderr",
     "output_type": "stream",
     "text": [
      "Simulando partidos: 100%|██████████| 1000/1000 [02:26<00:00,  6.85partido/s]\n"
     ]
    },
    {
     "name": "stdout",
     "output_type": "stream",
     "text": [
      "\n",
      "Simulando partido entre Arsenal y West Ham United...\n"
     ]
    },
    {
     "name": "stderr",
     "output_type": "stream",
     "text": [
      "Simulando partidos: 100%|██████████| 1000/1000 [02:29<00:00,  6.70partido/s]\n"
     ]
    },
    {
     "name": "stdout",
     "output_type": "stream",
     "text": [
      "\n",
      "Simulando partido entre Arsenal y Norwich City...\n"
     ]
    },
    {
     "name": "stderr",
     "output_type": "stream",
     "text": [
      "Simulando partidos: 100%|██████████| 1000/1000 [02:26<00:00,  6.84partido/s]\n"
     ]
    },
    {
     "name": "stdout",
     "output_type": "stream",
     "text": [
      "\n",
      "Simulando partido entre Arsenal y Fulham...\n"
     ]
    },
    {
     "name": "stderr",
     "output_type": "stream",
     "text": [
      "Simulando partidos: 100%|██████████| 1000/1000 [02:26<00:00,  6.82partido/s]\n"
     ]
    },
    {
     "name": "stdout",
     "output_type": "stream",
     "text": [
      "\n",
      "Simulando partido entre Arsenal y Stoke City...\n"
     ]
    },
    {
     "name": "stderr",
     "output_type": "stream",
     "text": [
      "Simulando partidos: 100%|██████████| 1000/1000 [02:26<00:00,  6.85partido/s]\n"
     ]
    },
    {
     "name": "stdout",
     "output_type": "stream",
     "text": [
      "\n",
      "Simulando partido entre Arsenal y Southampton...\n"
     ]
    },
    {
     "name": "stderr",
     "output_type": "stream",
     "text": [
      "Simulando partidos: 100%|██████████| 1000/1000 [02:26<00:00,  6.83partido/s]\n"
     ]
    },
    {
     "name": "stdout",
     "output_type": "stream",
     "text": [
      "\n",
      "Simulando partido entre Arsenal y Aston Villa...\n"
     ]
    },
    {
     "name": "stderr",
     "output_type": "stream",
     "text": [
      "Simulando partidos: 100%|██████████| 1000/1000 [02:26<00:00,  6.83partido/s]\n"
     ]
    },
    {
     "name": "stdout",
     "output_type": "stream",
     "text": [
      "\n",
      "Simulando partido entre Arsenal y Newcastle United...\n"
     ]
    },
    {
     "name": "stderr",
     "output_type": "stream",
     "text": [
      "Simulando partidos: 100%|██████████| 1000/1000 [02:27<00:00,  6.80partido/s]\n"
     ]
    },
    {
     "name": "stdout",
     "output_type": "stream",
     "text": [
      "\n",
      "Simulando partido entre Arsenal y Sunderland...\n"
     ]
    },
    {
     "name": "stderr",
     "output_type": "stream",
     "text": [
      "Simulando partidos: 100%|██████████| 1000/1000 [02:26<00:00,  6.84partido/s]\n"
     ]
    },
    {
     "name": "stdout",
     "output_type": "stream",
     "text": [
      "\n",
      "Simulando partido entre Arsenal y Wigan Athletic...\n"
     ]
    },
    {
     "name": "stderr",
     "output_type": "stream",
     "text": [
      "Simulando partidos: 100%|██████████| 1000/1000 [02:26<00:00,  6.84partido/s]\n"
     ]
    },
    {
     "name": "stdout",
     "output_type": "stream",
     "text": [
      "\n",
      "Simulando partido entre Arsenal y Reading...\n"
     ]
    },
    {
     "name": "stderr",
     "output_type": "stream",
     "text": [
      "Simulando partidos: 100%|██████████| 1000/1000 [02:26<00:00,  6.84partido/s]\n"
     ]
    },
    {
     "name": "stdout",
     "output_type": "stream",
     "text": [
      "\n",
      "Simulando partido entre Arsenal y Queens Park Rangers...\n"
     ]
    },
    {
     "name": "stderr",
     "output_type": "stream",
     "text": [
      "Simulando partidos: 100%|██████████| 1000/1000 [02:27<00:00,  6.79partido/s]\n"
     ]
    },
    {
     "name": "stdout",
     "output_type": "stream",
     "text": [
      "\n",
      "Simulando partido entre Tottenham Hotspur y Everton...\n"
     ]
    },
    {
     "name": "stderr",
     "output_type": "stream",
     "text": [
      "Simulando partidos: 100%|██████████| 1000/1000 [02:26<00:00,  6.82partido/s]\n"
     ]
    },
    {
     "name": "stdout",
     "output_type": "stream",
     "text": [
      "\n",
      "Simulando partido entre Tottenham Hotspur y Liverpool...\n"
     ]
    },
    {
     "name": "stderr",
     "output_type": "stream",
     "text": [
      "Simulando partidos: 100%|██████████| 1000/1000 [02:26<00:00,  6.81partido/s]\n"
     ]
    },
    {
     "name": "stdout",
     "output_type": "stream",
     "text": [
      "\n",
      "Simulando partido entre Tottenham Hotspur y West Bromwich Albion...\n"
     ]
    },
    {
     "name": "stderr",
     "output_type": "stream",
     "text": [
      "Simulando partidos: 100%|██████████| 1000/1000 [02:26<00:00,  6.82partido/s]\n"
     ]
    },
    {
     "name": "stdout",
     "output_type": "stream",
     "text": [
      "\n",
      "Simulando partido entre Tottenham Hotspur y Swansea City...\n"
     ]
    },
    {
     "name": "stderr",
     "output_type": "stream",
     "text": [
      "Simulando partidos: 100%|██████████| 1000/1000 [02:26<00:00,  6.82partido/s]\n"
     ]
    },
    {
     "name": "stdout",
     "output_type": "stream",
     "text": [
      "\n",
      "Simulando partido entre Tottenham Hotspur y West Ham United...\n"
     ]
    },
    {
     "name": "stderr",
     "output_type": "stream",
     "text": [
      "Simulando partidos: 100%|██████████| 1000/1000 [02:26<00:00,  6.82partido/s]\n"
     ]
    },
    {
     "name": "stdout",
     "output_type": "stream",
     "text": [
      "\n",
      "Simulando partido entre Tottenham Hotspur y Norwich City...\n"
     ]
    },
    {
     "name": "stderr",
     "output_type": "stream",
     "text": [
      "Simulando partidos: 100%|██████████| 1000/1000 [02:26<00:00,  6.84partido/s]\n"
     ]
    },
    {
     "name": "stdout",
     "output_type": "stream",
     "text": [
      "\n",
      "Simulando partido entre Tottenham Hotspur y Fulham...\n"
     ]
    },
    {
     "name": "stderr",
     "output_type": "stream",
     "text": [
      "Simulando partidos: 100%|██████████| 1000/1000 [02:26<00:00,  6.84partido/s]\n"
     ]
    },
    {
     "name": "stdout",
     "output_type": "stream",
     "text": [
      "\n",
      "Simulando partido entre Tottenham Hotspur y Stoke City...\n"
     ]
    },
    {
     "name": "stderr",
     "output_type": "stream",
     "text": [
      "Simulando partidos: 100%|██████████| 1000/1000 [02:26<00:00,  6.82partido/s]\n"
     ]
    },
    {
     "name": "stdout",
     "output_type": "stream",
     "text": [
      "\n",
      "Simulando partido entre Tottenham Hotspur y Southampton...\n"
     ]
    },
    {
     "name": "stderr",
     "output_type": "stream",
     "text": [
      "Simulando partidos: 100%|██████████| 1000/1000 [02:26<00:00,  6.81partido/s]\n"
     ]
    },
    {
     "name": "stdout",
     "output_type": "stream",
     "text": [
      "\n",
      "Simulando partido entre Tottenham Hotspur y Aston Villa...\n"
     ]
    },
    {
     "name": "stderr",
     "output_type": "stream",
     "text": [
      "Simulando partidos: 100%|██████████| 1000/1000 [02:26<00:00,  6.83partido/s]\n"
     ]
    },
    {
     "name": "stdout",
     "output_type": "stream",
     "text": [
      "\n",
      "Simulando partido entre Tottenham Hotspur y Newcastle United...\n"
     ]
    },
    {
     "name": "stderr",
     "output_type": "stream",
     "text": [
      "Simulando partidos: 100%|██████████| 1000/1000 [02:26<00:00,  6.81partido/s]\n"
     ]
    },
    {
     "name": "stdout",
     "output_type": "stream",
     "text": [
      "\n",
      "Simulando partido entre Tottenham Hotspur y Sunderland...\n"
     ]
    },
    {
     "name": "stderr",
     "output_type": "stream",
     "text": [
      "Simulando partidos: 100%|██████████| 1000/1000 [02:29<00:00,  6.70partido/s]\n"
     ]
    },
    {
     "name": "stdout",
     "output_type": "stream",
     "text": [
      "\n",
      "Simulando partido entre Tottenham Hotspur y Wigan Athletic...\n"
     ]
    },
    {
     "name": "stderr",
     "output_type": "stream",
     "text": [
      "Simulando partidos: 100%|██████████| 1000/1000 [02:26<00:00,  6.82partido/s]\n"
     ]
    },
    {
     "name": "stdout",
     "output_type": "stream",
     "text": [
      "\n",
      "Simulando partido entre Tottenham Hotspur y Reading...\n"
     ]
    },
    {
     "name": "stderr",
     "output_type": "stream",
     "text": [
      "Simulando partidos: 100%|██████████| 1000/1000 [02:26<00:00,  6.82partido/s]\n"
     ]
    },
    {
     "name": "stdout",
     "output_type": "stream",
     "text": [
      "\n",
      "Simulando partido entre Tottenham Hotspur y Queens Park Rangers...\n"
     ]
    },
    {
     "name": "stderr",
     "output_type": "stream",
     "text": [
      "Simulando partidos: 100%|██████████| 1000/1000 [02:29<00:00,  6.70partido/s]\n"
     ]
    },
    {
     "name": "stdout",
     "output_type": "stream",
     "text": [
      "\n",
      "Simulando partido entre Everton y Liverpool...\n"
     ]
    },
    {
     "name": "stderr",
     "output_type": "stream",
     "text": [
      "Simulando partidos: 100%|██████████| 1000/1000 [02:27<00:00,  6.79partido/s]\n"
     ]
    },
    {
     "name": "stdout",
     "output_type": "stream",
     "text": [
      "\n",
      "Simulando partido entre Everton y West Bromwich Albion...\n"
     ]
    },
    {
     "name": "stderr",
     "output_type": "stream",
     "text": [
      "Simulando partidos: 100%|██████████| 1000/1000 [02:27<00:00,  6.78partido/s]\n"
     ]
    },
    {
     "name": "stdout",
     "output_type": "stream",
     "text": [
      "\n",
      "Simulando partido entre Everton y Swansea City...\n"
     ]
    },
    {
     "name": "stderr",
     "output_type": "stream",
     "text": [
      "Simulando partidos: 100%|██████████| 1000/1000 [02:26<00:00,  6.80partido/s]\n"
     ]
    },
    {
     "name": "stdout",
     "output_type": "stream",
     "text": [
      "\n",
      "Simulando partido entre Everton y West Ham United...\n"
     ]
    },
    {
     "name": "stderr",
     "output_type": "stream",
     "text": [
      "Simulando partidos: 100%|██████████| 1000/1000 [02:26<00:00,  6.80partido/s]\n"
     ]
    },
    {
     "name": "stdout",
     "output_type": "stream",
     "text": [
      "\n",
      "Simulando partido entre Everton y Norwich City...\n"
     ]
    },
    {
     "name": "stderr",
     "output_type": "stream",
     "text": [
      "Simulando partidos: 100%|██████████| 1000/1000 [02:26<00:00,  6.82partido/s]\n"
     ]
    },
    {
     "name": "stdout",
     "output_type": "stream",
     "text": [
      "\n",
      "Simulando partido entre Everton y Fulham...\n"
     ]
    },
    {
     "name": "stderr",
     "output_type": "stream",
     "text": [
      "Simulando partidos: 100%|██████████| 1000/1000 [02:26<00:00,  6.82partido/s]\n"
     ]
    },
    {
     "name": "stdout",
     "output_type": "stream",
     "text": [
      "\n",
      "Simulando partido entre Everton y Stoke City...\n"
     ]
    },
    {
     "name": "stderr",
     "output_type": "stream",
     "text": [
      "Simulando partidos: 100%|██████████| 1000/1000 [02:27<00:00,  6.78partido/s]\n"
     ]
    },
    {
     "name": "stdout",
     "output_type": "stream",
     "text": [
      "\n",
      "Simulando partido entre Everton y Southampton...\n"
     ]
    },
    {
     "name": "stderr",
     "output_type": "stream",
     "text": [
      "Simulando partidos: 100%|██████████| 1000/1000 [02:26<00:00,  6.82partido/s]\n"
     ]
    },
    {
     "name": "stdout",
     "output_type": "stream",
     "text": [
      "\n",
      "Simulando partido entre Everton y Aston Villa...\n"
     ]
    },
    {
     "name": "stderr",
     "output_type": "stream",
     "text": [
      "Simulando partidos: 100%|██████████| 1000/1000 [02:26<00:00,  6.83partido/s]\n"
     ]
    },
    {
     "name": "stdout",
     "output_type": "stream",
     "text": [
      "\n",
      "Simulando partido entre Everton y Newcastle United...\n"
     ]
    },
    {
     "name": "stderr",
     "output_type": "stream",
     "text": [
      "Simulando partidos: 100%|██████████| 1000/1000 [02:26<00:00,  6.83partido/s]\n"
     ]
    },
    {
     "name": "stdout",
     "output_type": "stream",
     "text": [
      "\n",
      "Simulando partido entre Everton y Sunderland...\n"
     ]
    },
    {
     "name": "stderr",
     "output_type": "stream",
     "text": [
      "Simulando partidos: 100%|██████████| 1000/1000 [02:26<00:00,  6.84partido/s]\n"
     ]
    },
    {
     "name": "stdout",
     "output_type": "stream",
     "text": [
      "\n",
      "Simulando partido entre Everton y Wigan Athletic...\n"
     ]
    },
    {
     "name": "stderr",
     "output_type": "stream",
     "text": [
      "Simulando partidos: 100%|██████████| 1000/1000 [02:26<00:00,  6.82partido/s]\n"
     ]
    },
    {
     "name": "stdout",
     "output_type": "stream",
     "text": [
      "\n",
      "Simulando partido entre Everton y Reading...\n"
     ]
    },
    {
     "name": "stderr",
     "output_type": "stream",
     "text": [
      "Simulando partidos: 100%|██████████| 1000/1000 [02:26<00:00,  6.84partido/s]\n"
     ]
    },
    {
     "name": "stdout",
     "output_type": "stream",
     "text": [
      "\n",
      "Simulando partido entre Everton y Queens Park Rangers...\n"
     ]
    },
    {
     "name": "stderr",
     "output_type": "stream",
     "text": [
      "Simulando partidos: 100%|██████████| 1000/1000 [02:26<00:00,  6.83partido/s]\n"
     ]
    },
    {
     "name": "stdout",
     "output_type": "stream",
     "text": [
      "\n",
      "Simulando partido entre Liverpool y West Bromwich Albion...\n"
     ]
    },
    {
     "name": "stderr",
     "output_type": "stream",
     "text": [
      "Simulando partidos: 100%|██████████| 1000/1000 [02:26<00:00,  6.82partido/s]\n"
     ]
    },
    {
     "name": "stdout",
     "output_type": "stream",
     "text": [
      "\n",
      "Simulando partido entre Liverpool y Swansea City...\n"
     ]
    },
    {
     "name": "stderr",
     "output_type": "stream",
     "text": [
      "Simulando partidos: 100%|██████████| 1000/1000 [02:26<00:00,  6.83partido/s]\n"
     ]
    },
    {
     "name": "stdout",
     "output_type": "stream",
     "text": [
      "\n",
      "Simulando partido entre Liverpool y West Ham United...\n"
     ]
    },
    {
     "name": "stderr",
     "output_type": "stream",
     "text": [
      "Simulando partidos: 100%|██████████| 1000/1000 [02:26<00:00,  6.83partido/s]\n"
     ]
    },
    {
     "name": "stdout",
     "output_type": "stream",
     "text": [
      "\n",
      "Simulando partido entre Liverpool y Norwich City...\n"
     ]
    },
    {
     "name": "stderr",
     "output_type": "stream",
     "text": [
      "Simulando partidos: 100%|██████████| 1000/1000 [02:26<00:00,  6.83partido/s]\n"
     ]
    },
    {
     "name": "stdout",
     "output_type": "stream",
     "text": [
      "\n",
      "Simulando partido entre Liverpool y Fulham...\n"
     ]
    },
    {
     "name": "stderr",
     "output_type": "stream",
     "text": [
      "Simulando partidos: 100%|██████████| 1000/1000 [02:26<00:00,  6.84partido/s]\n"
     ]
    },
    {
     "name": "stdout",
     "output_type": "stream",
     "text": [
      "\n",
      "Simulando partido entre Liverpool y Stoke City...\n"
     ]
    },
    {
     "name": "stderr",
     "output_type": "stream",
     "text": [
      "Simulando partidos: 100%|██████████| 1000/1000 [02:25<00:00,  6.85partido/s]\n"
     ]
    },
    {
     "name": "stdout",
     "output_type": "stream",
     "text": [
      "\n",
      "Simulando partido entre Liverpool y Southampton...\n"
     ]
    },
    {
     "name": "stderr",
     "output_type": "stream",
     "text": [
      "Simulando partidos: 100%|██████████| 1000/1000 [02:26<00:00,  6.84partido/s]\n"
     ]
    },
    {
     "name": "stdout",
     "output_type": "stream",
     "text": [
      "\n",
      "Simulando partido entre Liverpool y Aston Villa...\n"
     ]
    },
    {
     "name": "stderr",
     "output_type": "stream",
     "text": [
      "Simulando partidos: 100%|██████████| 1000/1000 [02:26<00:00,  6.83partido/s]\n"
     ]
    },
    {
     "name": "stdout",
     "output_type": "stream",
     "text": [
      "\n",
      "Simulando partido entre Liverpool y Newcastle United...\n"
     ]
    },
    {
     "name": "stderr",
     "output_type": "stream",
     "text": [
      "Simulando partidos: 100%|██████████| 1000/1000 [02:27<00:00,  6.80partido/s]\n"
     ]
    },
    {
     "name": "stdout",
     "output_type": "stream",
     "text": [
      "\n",
      "Simulando partido entre Liverpool y Sunderland...\n"
     ]
    },
    {
     "name": "stderr",
     "output_type": "stream",
     "text": [
      "Simulando partidos: 100%|██████████| 1000/1000 [02:29<00:00,  6.68partido/s]\n"
     ]
    },
    {
     "name": "stdout",
     "output_type": "stream",
     "text": [
      "\n",
      "Simulando partido entre Liverpool y Wigan Athletic...\n"
     ]
    },
    {
     "name": "stderr",
     "output_type": "stream",
     "text": [
      "Simulando partidos: 100%|██████████| 1000/1000 [02:28<00:00,  6.74partido/s]\n"
     ]
    },
    {
     "name": "stdout",
     "output_type": "stream",
     "text": [
      "\n",
      "Simulando partido entre Liverpool y Reading...\n"
     ]
    },
    {
     "name": "stderr",
     "output_type": "stream",
     "text": [
      "Simulando partidos: 100%|██████████| 1000/1000 [02:26<00:00,  6.81partido/s]\n"
     ]
    },
    {
     "name": "stdout",
     "output_type": "stream",
     "text": [
      "\n",
      "Simulando partido entre Liverpool y Queens Park Rangers...\n"
     ]
    },
    {
     "name": "stderr",
     "output_type": "stream",
     "text": [
      "Simulando partidos: 100%|██████████| 1000/1000 [02:26<00:00,  6.83partido/s]\n"
     ]
    },
    {
     "name": "stdout",
     "output_type": "stream",
     "text": [
      "\n",
      "Simulando partido entre West Bromwich Albion y Swansea City...\n"
     ]
    },
    {
     "name": "stderr",
     "output_type": "stream",
     "text": [
      "Simulando partidos: 100%|██████████| 1000/1000 [02:26<00:00,  6.82partido/s]\n"
     ]
    },
    {
     "name": "stdout",
     "output_type": "stream",
     "text": [
      "\n",
      "Simulando partido entre West Bromwich Albion y West Ham United...\n"
     ]
    },
    {
     "name": "stderr",
     "output_type": "stream",
     "text": [
      "Simulando partidos: 100%|██████████| 1000/1000 [02:26<00:00,  6.81partido/s]\n"
     ]
    },
    {
     "name": "stdout",
     "output_type": "stream",
     "text": [
      "\n",
      "Simulando partido entre West Bromwich Albion y Norwich City...\n"
     ]
    },
    {
     "name": "stderr",
     "output_type": "stream",
     "text": [
      "Simulando partidos: 100%|██████████| 1000/1000 [02:26<00:00,  6.81partido/s]\n"
     ]
    },
    {
     "name": "stdout",
     "output_type": "stream",
     "text": [
      "\n",
      "Simulando partido entre West Bromwich Albion y Fulham...\n"
     ]
    },
    {
     "name": "stderr",
     "output_type": "stream",
     "text": [
      "Simulando partidos: 100%|██████████| 1000/1000 [02:26<00:00,  6.83partido/s]\n"
     ]
    },
    {
     "name": "stdout",
     "output_type": "stream",
     "text": [
      "\n",
      "Simulando partido entre West Bromwich Albion y Stoke City...\n"
     ]
    },
    {
     "name": "stderr",
     "output_type": "stream",
     "text": [
      "Simulando partidos: 100%|██████████| 1000/1000 [02:26<00:00,  6.82partido/s]\n"
     ]
    },
    {
     "name": "stdout",
     "output_type": "stream",
     "text": [
      "\n",
      "Simulando partido entre West Bromwich Albion y Southampton...\n"
     ]
    },
    {
     "name": "stderr",
     "output_type": "stream",
     "text": [
      "Simulando partidos: 100%|██████████| 1000/1000 [02:26<00:00,  6.81partido/s]\n"
     ]
    },
    {
     "name": "stdout",
     "output_type": "stream",
     "text": [
      "\n",
      "Simulando partido entre West Bromwich Albion y Aston Villa...\n"
     ]
    },
    {
     "name": "stderr",
     "output_type": "stream",
     "text": [
      "Simulando partidos: 100%|██████████| 1000/1000 [02:27<00:00,  6.79partido/s]\n"
     ]
    },
    {
     "name": "stdout",
     "output_type": "stream",
     "text": [
      "\n",
      "Simulando partido entre West Bromwich Albion y Newcastle United...\n"
     ]
    },
    {
     "name": "stderr",
     "output_type": "stream",
     "text": [
      "Simulando partidos: 100%|██████████| 1000/1000 [02:26<00:00,  6.81partido/s]\n"
     ]
    },
    {
     "name": "stdout",
     "output_type": "stream",
     "text": [
      "\n",
      "Simulando partido entre West Bromwich Albion y Sunderland...\n"
     ]
    },
    {
     "name": "stderr",
     "output_type": "stream",
     "text": [
      "Simulando partidos: 100%|██████████| 1000/1000 [02:26<00:00,  6.81partido/s]\n"
     ]
    },
    {
     "name": "stdout",
     "output_type": "stream",
     "text": [
      "\n",
      "Simulando partido entre West Bromwich Albion y Wigan Athletic...\n"
     ]
    },
    {
     "name": "stderr",
     "output_type": "stream",
     "text": [
      "Simulando partidos: 100%|██████████| 1000/1000 [02:26<00:00,  6.81partido/s]\n"
     ]
    },
    {
     "name": "stdout",
     "output_type": "stream",
     "text": [
      "\n",
      "Simulando partido entre West Bromwich Albion y Reading...\n"
     ]
    },
    {
     "name": "stderr",
     "output_type": "stream",
     "text": [
      "Simulando partidos: 100%|██████████| 1000/1000 [02:26<00:00,  6.84partido/s]\n"
     ]
    },
    {
     "name": "stdout",
     "output_type": "stream",
     "text": [
      "\n",
      "Simulando partido entre West Bromwich Albion y Queens Park Rangers...\n"
     ]
    },
    {
     "name": "stderr",
     "output_type": "stream",
     "text": [
      "Simulando partidos: 100%|██████████| 1000/1000 [02:26<00:00,  6.82partido/s]\n"
     ]
    },
    {
     "name": "stdout",
     "output_type": "stream",
     "text": [
      "\n",
      "Simulando partido entre Swansea City y West Ham United...\n"
     ]
    },
    {
     "name": "stderr",
     "output_type": "stream",
     "text": [
      "Simulando partidos: 100%|██████████| 1000/1000 [02:26<00:00,  6.84partido/s]\n"
     ]
    },
    {
     "name": "stdout",
     "output_type": "stream",
     "text": [
      "\n",
      "Simulando partido entre Swansea City y Norwich City...\n"
     ]
    },
    {
     "name": "stderr",
     "output_type": "stream",
     "text": [
      "Simulando partidos: 100%|██████████| 1000/1000 [02:25<00:00,  6.85partido/s]\n"
     ]
    },
    {
     "name": "stdout",
     "output_type": "stream",
     "text": [
      "\n",
      "Simulando partido entre Swansea City y Fulham...\n"
     ]
    },
    {
     "name": "stderr",
     "output_type": "stream",
     "text": [
      "Simulando partidos: 100%|██████████| 1000/1000 [02:26<00:00,  6.85partido/s]\n"
     ]
    },
    {
     "name": "stdout",
     "output_type": "stream",
     "text": [
      "\n",
      "Simulando partido entre Swansea City y Stoke City...\n"
     ]
    },
    {
     "name": "stderr",
     "output_type": "stream",
     "text": [
      "Simulando partidos: 100%|██████████| 1000/1000 [02:26<00:00,  6.84partido/s]\n"
     ]
    },
    {
     "name": "stdout",
     "output_type": "stream",
     "text": [
      "\n",
      "Simulando partido entre Swansea City y Southampton...\n"
     ]
    },
    {
     "name": "stderr",
     "output_type": "stream",
     "text": [
      "Simulando partidos: 100%|██████████| 1000/1000 [02:26<00:00,  6.83partido/s]\n"
     ]
    },
    {
     "name": "stdout",
     "output_type": "stream",
     "text": [
      "\n",
      "Simulando partido entre Swansea City y Aston Villa...\n"
     ]
    },
    {
     "name": "stderr",
     "output_type": "stream",
     "text": [
      "Simulando partidos: 100%|██████████| 1000/1000 [02:26<00:00,  6.82partido/s]\n"
     ]
    },
    {
     "name": "stdout",
     "output_type": "stream",
     "text": [
      "\n",
      "Simulando partido entre Swansea City y Newcastle United...\n"
     ]
    },
    {
     "name": "stderr",
     "output_type": "stream",
     "text": [
      "Simulando partidos: 100%|██████████| 1000/1000 [02:26<00:00,  6.82partido/s]\n"
     ]
    },
    {
     "name": "stdout",
     "output_type": "stream",
     "text": [
      "\n",
      "Simulando partido entre Swansea City y Sunderland...\n"
     ]
    },
    {
     "name": "stderr",
     "output_type": "stream",
     "text": [
      "Simulando partidos: 100%|██████████| 1000/1000 [02:26<00:00,  6.83partido/s]\n"
     ]
    },
    {
     "name": "stdout",
     "output_type": "stream",
     "text": [
      "\n",
      "Simulando partido entre Swansea City y Wigan Athletic...\n"
     ]
    },
    {
     "name": "stderr",
     "output_type": "stream",
     "text": [
      "Simulando partidos: 100%|██████████| 1000/1000 [02:25<00:00,  6.86partido/s]\n"
     ]
    },
    {
     "name": "stdout",
     "output_type": "stream",
     "text": [
      "\n",
      "Simulando partido entre Swansea City y Reading...\n"
     ]
    },
    {
     "name": "stderr",
     "output_type": "stream",
     "text": [
      "Simulando partidos: 100%|██████████| 1000/1000 [02:27<00:00,  6.76partido/s]\n"
     ]
    },
    {
     "name": "stdout",
     "output_type": "stream",
     "text": [
      "\n",
      "Simulando partido entre Swansea City y Queens Park Rangers...\n"
     ]
    },
    {
     "name": "stderr",
     "output_type": "stream",
     "text": [
      "Simulando partidos: 100%|██████████| 1000/1000 [02:27<00:00,  6.80partido/s]\n"
     ]
    },
    {
     "name": "stdout",
     "output_type": "stream",
     "text": [
      "\n",
      "Simulando partido entre West Ham United y Norwich City...\n"
     ]
    },
    {
     "name": "stderr",
     "output_type": "stream",
     "text": [
      "Simulando partidos: 100%|██████████| 1000/1000 [02:26<00:00,  6.82partido/s]\n"
     ]
    },
    {
     "name": "stdout",
     "output_type": "stream",
     "text": [
      "\n",
      "Simulando partido entre West Ham United y Fulham...\n"
     ]
    },
    {
     "name": "stderr",
     "output_type": "stream",
     "text": [
      "Simulando partidos: 100%|██████████| 1000/1000 [02:26<00:00,  6.83partido/s]\n"
     ]
    },
    {
     "name": "stdout",
     "output_type": "stream",
     "text": [
      "\n",
      "Simulando partido entre West Ham United y Stoke City...\n"
     ]
    },
    {
     "name": "stderr",
     "output_type": "stream",
     "text": [
      "Simulando partidos: 100%|██████████| 1000/1000 [02:26<00:00,  6.83partido/s]\n"
     ]
    },
    {
     "name": "stdout",
     "output_type": "stream",
     "text": [
      "\n",
      "Simulando partido entre West Ham United y Southampton...\n"
     ]
    },
    {
     "name": "stderr",
     "output_type": "stream",
     "text": [
      "Simulando partidos: 100%|██████████| 1000/1000 [02:26<00:00,  6.81partido/s]\n"
     ]
    },
    {
     "name": "stdout",
     "output_type": "stream",
     "text": [
      "\n",
      "Simulando partido entre West Ham United y Aston Villa...\n"
     ]
    },
    {
     "name": "stderr",
     "output_type": "stream",
     "text": [
      "Simulando partidos: 100%|██████████| 1000/1000 [02:27<00:00,  6.80partido/s]\n"
     ]
    },
    {
     "name": "stdout",
     "output_type": "stream",
     "text": [
      "\n",
      "Simulando partido entre West Ham United y Newcastle United...\n"
     ]
    },
    {
     "name": "stderr",
     "output_type": "stream",
     "text": [
      "Simulando partidos: 100%|██████████| 1000/1000 [02:26<00:00,  6.82partido/s]\n"
     ]
    },
    {
     "name": "stdout",
     "output_type": "stream",
     "text": [
      "\n",
      "Simulando partido entre West Ham United y Sunderland...\n"
     ]
    },
    {
     "name": "stderr",
     "output_type": "stream",
     "text": [
      "Simulando partidos: 100%|██████████| 1000/1000 [02:26<00:00,  6.84partido/s]\n"
     ]
    },
    {
     "name": "stdout",
     "output_type": "stream",
     "text": [
      "\n",
      "Simulando partido entre West Ham United y Wigan Athletic...\n"
     ]
    },
    {
     "name": "stderr",
     "output_type": "stream",
     "text": [
      "Simulando partidos: 100%|██████████| 1000/1000 [02:26<00:00,  6.84partido/s]\n"
     ]
    },
    {
     "name": "stdout",
     "output_type": "stream",
     "text": [
      "\n",
      "Simulando partido entre West Ham United y Reading...\n"
     ]
    },
    {
     "name": "stderr",
     "output_type": "stream",
     "text": [
      "Simulando partidos: 100%|██████████| 1000/1000 [02:26<00:00,  6.83partido/s]\n"
     ]
    },
    {
     "name": "stdout",
     "output_type": "stream",
     "text": [
      "\n",
      "Simulando partido entre West Ham United y Queens Park Rangers...\n"
     ]
    },
    {
     "name": "stderr",
     "output_type": "stream",
     "text": [
      "Simulando partidos: 100%|██████████| 1000/1000 [02:26<00:00,  6.81partido/s]\n"
     ]
    },
    {
     "name": "stdout",
     "output_type": "stream",
     "text": [
      "\n",
      "Simulando partido entre Norwich City y Fulham...\n"
     ]
    },
    {
     "name": "stderr",
     "output_type": "stream",
     "text": [
      "Simulando partidos: 100%|██████████| 1000/1000 [02:26<00:00,  6.83partido/s]\n"
     ]
    },
    {
     "name": "stdout",
     "output_type": "stream",
     "text": [
      "\n",
      "Simulando partido entre Norwich City y Stoke City...\n"
     ]
    },
    {
     "name": "stderr",
     "output_type": "stream",
     "text": [
      "Simulando partidos: 100%|██████████| 1000/1000 [02:25<00:00,  6.86partido/s]\n"
     ]
    },
    {
     "name": "stdout",
     "output_type": "stream",
     "text": [
      "\n",
      "Simulando partido entre Norwich City y Southampton...\n"
     ]
    },
    {
     "name": "stderr",
     "output_type": "stream",
     "text": [
      "Simulando partidos: 100%|██████████| 1000/1000 [02:26<00:00,  6.81partido/s]\n"
     ]
    },
    {
     "name": "stdout",
     "output_type": "stream",
     "text": [
      "\n",
      "Simulando partido entre Norwich City y Aston Villa...\n"
     ]
    },
    {
     "name": "stderr",
     "output_type": "stream",
     "text": [
      "Simulando partidos: 100%|██████████| 1000/1000 [02:26<00:00,  6.83partido/s]\n"
     ]
    },
    {
     "name": "stdout",
     "output_type": "stream",
     "text": [
      "\n",
      "Simulando partido entre Norwich City y Newcastle United...\n"
     ]
    },
    {
     "name": "stderr",
     "output_type": "stream",
     "text": [
      "Simulando partidos: 100%|██████████| 1000/1000 [02:26<00:00,  6.82partido/s]\n"
     ]
    },
    {
     "name": "stdout",
     "output_type": "stream",
     "text": [
      "\n",
      "Simulando partido entre Norwich City y Sunderland...\n"
     ]
    },
    {
     "name": "stderr",
     "output_type": "stream",
     "text": [
      "Simulando partidos: 100%|██████████| 1000/1000 [02:26<00:00,  6.80partido/s]\n"
     ]
    },
    {
     "name": "stdout",
     "output_type": "stream",
     "text": [
      "\n",
      "Simulando partido entre Norwich City y Wigan Athletic...\n"
     ]
    },
    {
     "name": "stderr",
     "output_type": "stream",
     "text": [
      "Simulando partidos: 100%|██████████| 1000/1000 [02:32<00:00,  6.57partido/s]\n"
     ]
    },
    {
     "name": "stdout",
     "output_type": "stream",
     "text": [
      "\n",
      "Simulando partido entre Norwich City y Reading...\n"
     ]
    },
    {
     "name": "stderr",
     "output_type": "stream",
     "text": [
      "Simulando partidos: 100%|██████████| 1000/1000 [02:26<00:00,  6.84partido/s]\n"
     ]
    },
    {
     "name": "stdout",
     "output_type": "stream",
     "text": [
      "\n",
      "Simulando partido entre Norwich City y Queens Park Rangers...\n"
     ]
    },
    {
     "name": "stderr",
     "output_type": "stream",
     "text": [
      "Simulando partidos: 100%|██████████| 1000/1000 [02:26<00:00,  6.81partido/s]\n"
     ]
    },
    {
     "name": "stdout",
     "output_type": "stream",
     "text": [
      "\n",
      "Simulando partido entre Fulham y Stoke City...\n"
     ]
    },
    {
     "name": "stderr",
     "output_type": "stream",
     "text": [
      "Simulando partidos: 100%|██████████| 1000/1000 [02:25<00:00,  6.85partido/s]\n"
     ]
    },
    {
     "name": "stdout",
     "output_type": "stream",
     "text": [
      "\n",
      "Simulando partido entre Fulham y Southampton...\n"
     ]
    },
    {
     "name": "stderr",
     "output_type": "stream",
     "text": [
      "Simulando partidos: 100%|██████████| 1000/1000 [02:26<00:00,  6.84partido/s]\n"
     ]
    },
    {
     "name": "stdout",
     "output_type": "stream",
     "text": [
      "\n",
      "Simulando partido entre Fulham y Aston Villa...\n"
     ]
    },
    {
     "name": "stderr",
     "output_type": "stream",
     "text": [
      "Simulando partidos: 100%|██████████| 1000/1000 [02:26<00:00,  6.85partido/s]\n"
     ]
    },
    {
     "name": "stdout",
     "output_type": "stream",
     "text": [
      "\n",
      "Simulando partido entre Fulham y Newcastle United...\n"
     ]
    },
    {
     "name": "stderr",
     "output_type": "stream",
     "text": [
      "Simulando partidos: 100%|██████████| 1000/1000 [02:27<00:00,  6.78partido/s]\n"
     ]
    },
    {
     "name": "stdout",
     "output_type": "stream",
     "text": [
      "\n",
      "Simulando partido entre Fulham y Sunderland...\n"
     ]
    },
    {
     "name": "stderr",
     "output_type": "stream",
     "text": [
      "Simulando partidos: 100%|██████████| 1000/1000 [02:28<00:00,  6.74partido/s]\n"
     ]
    },
    {
     "name": "stdout",
     "output_type": "stream",
     "text": [
      "\n",
      "Simulando partido entre Fulham y Wigan Athletic...\n"
     ]
    },
    {
     "name": "stderr",
     "output_type": "stream",
     "text": [
      "Simulando partidos: 100%|██████████| 1000/1000 [02:26<00:00,  6.81partido/s]\n"
     ]
    },
    {
     "name": "stdout",
     "output_type": "stream",
     "text": [
      "\n",
      "Simulando partido entre Fulham y Reading...\n"
     ]
    },
    {
     "name": "stderr",
     "output_type": "stream",
     "text": [
      "Simulando partidos: 100%|██████████| 1000/1000 [02:26<00:00,  6.83partido/s]\n"
     ]
    },
    {
     "name": "stdout",
     "output_type": "stream",
     "text": [
      "\n",
      "Simulando partido entre Fulham y Queens Park Rangers...\n"
     ]
    },
    {
     "name": "stderr",
     "output_type": "stream",
     "text": [
      "Simulando partidos: 100%|██████████| 1000/1000 [02:26<00:00,  6.81partido/s]\n"
     ]
    },
    {
     "name": "stdout",
     "output_type": "stream",
     "text": [
      "\n",
      "Simulando partido entre Stoke City y Southampton...\n"
     ]
    },
    {
     "name": "stderr",
     "output_type": "stream",
     "text": [
      "Simulando partidos: 100%|██████████| 1000/1000 [02:26<00:00,  6.83partido/s]\n"
     ]
    },
    {
     "name": "stdout",
     "output_type": "stream",
     "text": [
      "\n",
      "Simulando partido entre Stoke City y Aston Villa...\n"
     ]
    },
    {
     "name": "stderr",
     "output_type": "stream",
     "text": [
      "Simulando partidos: 100%|██████████| 1000/1000 [02:26<00:00,  6.82partido/s]\n"
     ]
    },
    {
     "name": "stdout",
     "output_type": "stream",
     "text": [
      "\n",
      "Simulando partido entre Stoke City y Newcastle United...\n"
     ]
    },
    {
     "name": "stderr",
     "output_type": "stream",
     "text": [
      "Simulando partidos: 100%|██████████| 1000/1000 [02:26<00:00,  6.80partido/s]\n"
     ]
    },
    {
     "name": "stdout",
     "output_type": "stream",
     "text": [
      "\n",
      "Simulando partido entre Stoke City y Sunderland...\n"
     ]
    },
    {
     "name": "stderr",
     "output_type": "stream",
     "text": [
      "Simulando partidos: 100%|██████████| 1000/1000 [02:26<00:00,  6.83partido/s]\n"
     ]
    },
    {
     "name": "stdout",
     "output_type": "stream",
     "text": [
      "\n",
      "Simulando partido entre Stoke City y Wigan Athletic...\n"
     ]
    },
    {
     "name": "stderr",
     "output_type": "stream",
     "text": [
      "Simulando partidos: 100%|██████████| 1000/1000 [02:26<00:00,  6.82partido/s]\n"
     ]
    },
    {
     "name": "stdout",
     "output_type": "stream",
     "text": [
      "\n",
      "Simulando partido entre Stoke City y Reading...\n"
     ]
    },
    {
     "name": "stderr",
     "output_type": "stream",
     "text": [
      "Simulando partidos: 100%|██████████| 1000/1000 [02:26<00:00,  6.81partido/s]\n"
     ]
    },
    {
     "name": "stdout",
     "output_type": "stream",
     "text": [
      "\n",
      "Simulando partido entre Stoke City y Queens Park Rangers...\n"
     ]
    },
    {
     "name": "stderr",
     "output_type": "stream",
     "text": [
      "Simulando partidos: 100%|██████████| 1000/1000 [02:26<00:00,  6.81partido/s]\n"
     ]
    },
    {
     "name": "stdout",
     "output_type": "stream",
     "text": [
      "\n",
      "Simulando partido entre Southampton y Aston Villa...\n"
     ]
    },
    {
     "name": "stderr",
     "output_type": "stream",
     "text": [
      "Simulando partidos: 100%|██████████| 1000/1000 [02:26<00:00,  6.81partido/s]\n"
     ]
    },
    {
     "name": "stdout",
     "output_type": "stream",
     "text": [
      "\n",
      "Simulando partido entre Southampton y Newcastle United...\n"
     ]
    },
    {
     "name": "stderr",
     "output_type": "stream",
     "text": [
      "Simulando partidos: 100%|██████████| 1000/1000 [02:27<00:00,  6.79partido/s]\n"
     ]
    },
    {
     "name": "stdout",
     "output_type": "stream",
     "text": [
      "\n",
      "Simulando partido entre Southampton y Sunderland...\n"
     ]
    },
    {
     "name": "stderr",
     "output_type": "stream",
     "text": [
      "Simulando partidos: 100%|██████████| 1000/1000 [02:27<00:00,  6.80partido/s]\n"
     ]
    },
    {
     "name": "stdout",
     "output_type": "stream",
     "text": [
      "\n",
      "Simulando partido entre Southampton y Wigan Athletic...\n"
     ]
    },
    {
     "name": "stderr",
     "output_type": "stream",
     "text": [
      "Simulando partidos: 100%|██████████| 1000/1000 [02:26<00:00,  6.84partido/s]\n"
     ]
    },
    {
     "name": "stdout",
     "output_type": "stream",
     "text": [
      "\n",
      "Simulando partido entre Southampton y Reading...\n"
     ]
    },
    {
     "name": "stderr",
     "output_type": "stream",
     "text": [
      "Simulando partidos: 100%|██████████| 1000/1000 [02:26<00:00,  6.83partido/s]\n"
     ]
    },
    {
     "name": "stdout",
     "output_type": "stream",
     "text": [
      "\n",
      "Simulando partido entre Southampton y Queens Park Rangers...\n"
     ]
    },
    {
     "name": "stderr",
     "output_type": "stream",
     "text": [
      "Simulando partidos: 100%|██████████| 1000/1000 [02:26<00:00,  6.82partido/s]\n"
     ]
    },
    {
     "name": "stdout",
     "output_type": "stream",
     "text": [
      "\n",
      "Simulando partido entre Aston Villa y Newcastle United...\n"
     ]
    },
    {
     "name": "stderr",
     "output_type": "stream",
     "text": [
      "Simulando partidos: 100%|██████████| 1000/1000 [02:26<00:00,  6.81partido/s]\n"
     ]
    },
    {
     "name": "stdout",
     "output_type": "stream",
     "text": [
      "\n",
      "Simulando partido entre Aston Villa y Sunderland...\n"
     ]
    },
    {
     "name": "stderr",
     "output_type": "stream",
     "text": [
      "Simulando partidos: 100%|██████████| 1000/1000 [02:26<00:00,  6.81partido/s]\n"
     ]
    },
    {
     "name": "stdout",
     "output_type": "stream",
     "text": [
      "\n",
      "Simulando partido entre Aston Villa y Wigan Athletic...\n"
     ]
    },
    {
     "name": "stderr",
     "output_type": "stream",
     "text": [
      "Simulando partidos: 100%|██████████| 1000/1000 [02:26<00:00,  6.82partido/s]\n"
     ]
    },
    {
     "name": "stdout",
     "output_type": "stream",
     "text": [
      "\n",
      "Simulando partido entre Aston Villa y Reading...\n"
     ]
    },
    {
     "name": "stderr",
     "output_type": "stream",
     "text": [
      "Simulando partidos: 100%|██████████| 1000/1000 [02:26<00:00,  6.83partido/s]\n"
     ]
    },
    {
     "name": "stdout",
     "output_type": "stream",
     "text": [
      "\n",
      "Simulando partido entre Aston Villa y Queens Park Rangers...\n"
     ]
    },
    {
     "name": "stderr",
     "output_type": "stream",
     "text": [
      "Simulando partidos: 100%|██████████| 1000/1000 [02:26<00:00,  6.81partido/s]\n"
     ]
    },
    {
     "name": "stdout",
     "output_type": "stream",
     "text": [
      "\n",
      "Simulando partido entre Newcastle United y Sunderland...\n"
     ]
    },
    {
     "name": "stderr",
     "output_type": "stream",
     "text": [
      "Simulando partidos: 100%|██████████| 1000/1000 [02:26<00:00,  6.81partido/s]\n"
     ]
    },
    {
     "name": "stdout",
     "output_type": "stream",
     "text": [
      "\n",
      "Simulando partido entre Newcastle United y Wigan Athletic...\n"
     ]
    },
    {
     "name": "stderr",
     "output_type": "stream",
     "text": [
      "Simulando partidos: 100%|██████████| 1000/1000 [02:26<00:00,  6.82partido/s]\n"
     ]
    },
    {
     "name": "stdout",
     "output_type": "stream",
     "text": [
      "\n",
      "Simulando partido entre Newcastle United y Reading...\n"
     ]
    },
    {
     "name": "stderr",
     "output_type": "stream",
     "text": [
      "Simulando partidos: 100%|██████████| 1000/1000 [02:28<00:00,  6.72partido/s]\n"
     ]
    },
    {
     "name": "stdout",
     "output_type": "stream",
     "text": [
      "\n",
      "Simulando partido entre Newcastle United y Queens Park Rangers...\n"
     ]
    },
    {
     "name": "stderr",
     "output_type": "stream",
     "text": [
      "Simulando partidos: 100%|██████████| 1000/1000 [02:27<00:00,  6.80partido/s]\n"
     ]
    },
    {
     "name": "stdout",
     "output_type": "stream",
     "text": [
      "\n",
      "Simulando partido entre Sunderland y Wigan Athletic...\n"
     ]
    },
    {
     "name": "stderr",
     "output_type": "stream",
     "text": [
      "Simulando partidos: 100%|██████████| 1000/1000 [02:26<00:00,  6.81partido/s]\n"
     ]
    },
    {
     "name": "stdout",
     "output_type": "stream",
     "text": [
      "\n",
      "Simulando partido entre Sunderland y Reading...\n"
     ]
    },
    {
     "name": "stderr",
     "output_type": "stream",
     "text": [
      "Simulando partidos: 100%|██████████| 1000/1000 [02:27<00:00,  6.79partido/s]\n"
     ]
    },
    {
     "name": "stdout",
     "output_type": "stream",
     "text": [
      "\n",
      "Simulando partido entre Sunderland y Queens Park Rangers...\n"
     ]
    },
    {
     "name": "stderr",
     "output_type": "stream",
     "text": [
      "Simulando partidos: 100%|██████████| 1000/1000 [02:27<00:00,  6.79partido/s]\n"
     ]
    },
    {
     "name": "stdout",
     "output_type": "stream",
     "text": [
      "\n",
      "Simulando partido entre Wigan Athletic y Reading...\n"
     ]
    },
    {
     "name": "stderr",
     "output_type": "stream",
     "text": [
      "Simulando partidos: 100%|██████████| 1000/1000 [02:26<00:00,  6.82partido/s]\n"
     ]
    },
    {
     "name": "stdout",
     "output_type": "stream",
     "text": [
      "\n",
      "Simulando partido entre Wigan Athletic y Queens Park Rangers...\n"
     ]
    },
    {
     "name": "stderr",
     "output_type": "stream",
     "text": [
      "Simulando partidos: 100%|██████████| 1000/1000 [02:27<00:00,  6.80partido/s]\n"
     ]
    },
    {
     "name": "stdout",
     "output_type": "stream",
     "text": [
      "\n",
      "Simulando partido entre Reading y Queens Park Rangers...\n"
     ]
    },
    {
     "name": "stderr",
     "output_type": "stream",
     "text": [
      "Simulando partidos: 100%|██████████| 1000/1000 [02:26<00:00,  6.83partido/s]\n"
     ]
    },
    {
     "name": "stdout",
     "output_type": "stream",
     "text": [
      "                                                Manchester United  \\\n",
      "Manchester United vs Manchester City win%                    30.3   \n",
      "                                     loss%                   54.6   \n",
      "                                     tie%                    15.1   \n",
      "                                     avg_goles              2.894   \n",
      "                                     avg_tiros             14.827   \n",
      "...                                                           ...   \n",
      "Reading vs Queens Park Rangers       tie%                     NaN   \n",
      "                                     avg_goles                NaN   \n",
      "                                     avg_tiros                NaN   \n",
      "                                     avg_pases                NaN   \n",
      "                                     avg_quites               NaN   \n",
      "\n",
      "                                                Manchester City Chelsea  \\\n",
      "Manchester United vs Manchester City win%                  54.6     NaN   \n",
      "                                     loss%                 30.3     NaN   \n",
      "                                     tie%                  15.1     NaN   \n",
      "                                     avg_goles            3.721     NaN   \n",
      "                                     avg_tiros           14.518     NaN   \n",
      "...                                                         ...     ...   \n",
      "Reading vs Queens Park Rangers       tie%                   NaN     NaN   \n",
      "                                     avg_goles              NaN     NaN   \n",
      "                                     avg_tiros              NaN     NaN   \n",
      "                                     avg_pases              NaN     NaN   \n",
      "                                     avg_quites             NaN     NaN   \n",
      "\n",
      "                                                Arsenal Tottenham Hotspur  \\\n",
      "Manchester United vs Manchester City win%           NaN               NaN   \n",
      "                                     loss%          NaN               NaN   \n",
      "                                     tie%           NaN               NaN   \n",
      "                                     avg_goles      NaN               NaN   \n",
      "                                     avg_tiros      NaN               NaN   \n",
      "...                                                 ...               ...   \n",
      "Reading vs Queens Park Rangers       tie%           NaN               NaN   \n",
      "                                     avg_goles      NaN               NaN   \n",
      "                                     avg_tiros      NaN               NaN   \n",
      "                                     avg_pases      NaN               NaN   \n",
      "                                     avg_quites     NaN               NaN   \n",
      "\n",
      "                                                Everton Liverpool  \\\n",
      "Manchester United vs Manchester City win%           NaN       NaN   \n",
      "                                     loss%          NaN       NaN   \n",
      "                                     tie%           NaN       NaN   \n",
      "                                     avg_goles      NaN       NaN   \n",
      "                                     avg_tiros      NaN       NaN   \n",
      "...                                                 ...       ...   \n",
      "Reading vs Queens Park Rangers       tie%           NaN       NaN   \n",
      "                                     avg_goles      NaN       NaN   \n",
      "                                     avg_tiros      NaN       NaN   \n",
      "                                     avg_pases      NaN       NaN   \n",
      "                                     avg_quites     NaN       NaN   \n",
      "\n",
      "                                                West Bromwich Albion  \\\n",
      "Manchester United vs Manchester City win%                        NaN   \n",
      "                                     loss%                       NaN   \n",
      "                                     tie%                        NaN   \n",
      "                                     avg_goles                   NaN   \n",
      "                                     avg_tiros                   NaN   \n",
      "...                                                              ...   \n",
      "Reading vs Queens Park Rangers       tie%                        NaN   \n",
      "                                     avg_goles                   NaN   \n",
      "                                     avg_tiros                   NaN   \n",
      "                                     avg_pases                   NaN   \n",
      "                                     avg_quites                  NaN   \n",
      "\n",
      "                                                Swansea City West Ham United  \\\n",
      "Manchester United vs Manchester City win%                NaN             NaN   \n",
      "                                     loss%               NaN             NaN   \n",
      "                                     tie%                NaN             NaN   \n",
      "                                     avg_goles           NaN             NaN   \n",
      "                                     avg_tiros           NaN             NaN   \n",
      "...                                                      ...             ...   \n",
      "Reading vs Queens Park Rangers       tie%                NaN             NaN   \n",
      "                                     avg_goles           NaN             NaN   \n",
      "                                     avg_tiros           NaN             NaN   \n",
      "                                     avg_pases           NaN             NaN   \n",
      "                                     avg_quites          NaN             NaN   \n",
      "\n",
      "                                                Norwich City Fulham  \\\n",
      "Manchester United vs Manchester City win%                NaN    NaN   \n",
      "                                     loss%               NaN    NaN   \n",
      "                                     tie%                NaN    NaN   \n",
      "                                     avg_goles           NaN    NaN   \n",
      "                                     avg_tiros           NaN    NaN   \n",
      "...                                                      ...    ...   \n",
      "Reading vs Queens Park Rangers       tie%                NaN    NaN   \n",
      "                                     avg_goles           NaN    NaN   \n",
      "                                     avg_tiros           NaN    NaN   \n",
      "                                     avg_pases           NaN    NaN   \n",
      "                                     avg_quites          NaN    NaN   \n",
      "\n",
      "                                                Stoke City Southampton  \\\n",
      "Manchester United vs Manchester City win%              NaN         NaN   \n",
      "                                     loss%             NaN         NaN   \n",
      "                                     tie%              NaN         NaN   \n",
      "                                     avg_goles         NaN         NaN   \n",
      "                                     avg_tiros         NaN         NaN   \n",
      "...                                                    ...         ...   \n",
      "Reading vs Queens Park Rangers       tie%              NaN         NaN   \n",
      "                                     avg_goles         NaN         NaN   \n",
      "                                     avg_tiros         NaN         NaN   \n",
      "                                     avg_pases         NaN         NaN   \n",
      "                                     avg_quites        NaN         NaN   \n",
      "\n",
      "                                                Aston Villa Newcastle United  \\\n",
      "Manchester United vs Manchester City win%               NaN              NaN   \n",
      "                                     loss%              NaN              NaN   \n",
      "                                     tie%               NaN              NaN   \n",
      "                                     avg_goles          NaN              NaN   \n",
      "                                     avg_tiros          NaN              NaN   \n",
      "...                                                     ...              ...   \n",
      "Reading vs Queens Park Rangers       tie%               NaN              NaN   \n",
      "                                     avg_goles          NaN              NaN   \n",
      "                                     avg_tiros          NaN              NaN   \n",
      "                                     avg_pases          NaN              NaN   \n",
      "                                     avg_quites         NaN              NaN   \n",
      "\n",
      "                                                Sunderland Wigan Athletic  \\\n",
      "Manchester United vs Manchester City win%              NaN            NaN   \n",
      "                                     loss%             NaN            NaN   \n",
      "                                     tie%              NaN            NaN   \n",
      "                                     avg_goles         NaN            NaN   \n",
      "                                     avg_tiros         NaN            NaN   \n",
      "...                                                    ...            ...   \n",
      "Reading vs Queens Park Rangers       tie%              NaN            NaN   \n",
      "                                     avg_goles         NaN            NaN   \n",
      "                                     avg_tiros         NaN            NaN   \n",
      "                                     avg_pases         NaN            NaN   \n",
      "                                     avg_quites        NaN            NaN   \n",
      "\n",
      "                                                 Reading Queens Park Rangers  \n",
      "Manchester United vs Manchester City win%            NaN                 NaN  \n",
      "                                     loss%           NaN                 NaN  \n",
      "                                     tie%            NaN                 NaN  \n",
      "                                     avg_goles       NaN                 NaN  \n",
      "                                     avg_tiros       NaN                 NaN  \n",
      "...                                                  ...                 ...  \n",
      "Reading vs Queens Park Rangers       tie%           20.2                20.2  \n",
      "                                     avg_goles     2.522               1.669  \n",
      "                                     avg_tiros    10.992              14.283  \n",
      "                                     avg_pases   213.708             259.151  \n",
      "                                     avg_quites  116.622             104.306  \n",
      "\n",
      "[1330 rows x 20 columns]\n"
     ]
    }
   ],
   "source": [
    "#quiero llamar a simulate_all_matches\n",
    "all_matches_df, all_results = simulate_all_matches(teams_list, players_dict)\n",
    "print(all_results)"
   ]
  },
  {
   "cell_type": "code",
   "execution_count": 15,
   "metadata": {},
   "outputs": [],
   "source": [
    "#exportar all_resilts a un archivo csv\n",
    "all_results.to_csv('/Users/pgule/Documents/Sample Data/epl_results_FINAL_EQUIPOSNUEVOS.csv')"
   ]
  },
  {
   "cell_type": "code",
   "execution_count": 16,
   "metadata": {},
   "outputs": [],
   "source": [
    "all_matches_df.to_csv('/Users/pgule/Documents/Sample Data/epl_matches_FINAL_EQUIPOSNUEVOS.csv')"
   ]
  },
  {
   "cell_type": "code",
   "execution_count": 18,
   "metadata": {},
   "outputs": [],
   "source": [
    "all_results = pd.read_csv('/Users/pgule/Documents/Sample Data/epl_results_FINAL_EQUIPOSNUEVOS.csv', delimiter=',')"
   ]
  },
  {
   "cell_type": "code",
   "execution_count": 19,
   "metadata": {},
   "outputs": [
    {
     "name": "stdout",
     "output_type": "stream",
     "text": [
      "                                     Unnamed: 1  Manchester United  \\\n",
      "Match                                                                \n",
      "Manchester United vs Manchester City       win%             30.300   \n",
      "Manchester United vs Manchester City      loss%             54.600   \n",
      "Manchester United vs Manchester City       tie%             15.100   \n",
      "Manchester United vs Manchester City  avg_goles              2.894   \n",
      "Manchester United vs Manchester City  avg_tiros             14.827   \n",
      "\n",
      "                                      Manchester City  Chelsea  Arsenal  \\\n",
      "Match                                                                     \n",
      "Manchester United vs Manchester City           54.600      NaN      NaN   \n",
      "Manchester United vs Manchester City           30.300      NaN      NaN   \n",
      "Manchester United vs Manchester City           15.100      NaN      NaN   \n",
      "Manchester United vs Manchester City            3.721      NaN      NaN   \n",
      "Manchester United vs Manchester City           14.518      NaN      NaN   \n",
      "\n",
      "                                      Tottenham Hotspur  Everton  Liverpool  \\\n",
      "Match                                                                         \n",
      "Manchester United vs Manchester City                NaN      NaN        NaN   \n",
      "Manchester United vs Manchester City                NaN      NaN        NaN   \n",
      "Manchester United vs Manchester City                NaN      NaN        NaN   \n",
      "Manchester United vs Manchester City                NaN      NaN        NaN   \n",
      "Manchester United vs Manchester City                NaN      NaN        NaN   \n",
      "\n",
      "                                      West Bromwich Albion  Swansea City  ...  \\\n",
      "Match                                                                     ...   \n",
      "Manchester United vs Manchester City                   NaN           NaN  ...   \n",
      "Manchester United vs Manchester City                   NaN           NaN  ...   \n",
      "Manchester United vs Manchester City                   NaN           NaN  ...   \n",
      "Manchester United vs Manchester City                   NaN           NaN  ...   \n",
      "Manchester United vs Manchester City                   NaN           NaN  ...   \n",
      "\n",
      "                                      Norwich City  Fulham  Stoke City  \\\n",
      "Match                                                                    \n",
      "Manchester United vs Manchester City           NaN     NaN         NaN   \n",
      "Manchester United vs Manchester City           NaN     NaN         NaN   \n",
      "Manchester United vs Manchester City           NaN     NaN         NaN   \n",
      "Manchester United vs Manchester City           NaN     NaN         NaN   \n",
      "Manchester United vs Manchester City           NaN     NaN         NaN   \n",
      "\n",
      "                                      Southampton  Aston Villa  \\\n",
      "Match                                                            \n",
      "Manchester United vs Manchester City          NaN          NaN   \n",
      "Manchester United vs Manchester City          NaN          NaN   \n",
      "Manchester United vs Manchester City          NaN          NaN   \n",
      "Manchester United vs Manchester City          NaN          NaN   \n",
      "Manchester United vs Manchester City          NaN          NaN   \n",
      "\n",
      "                                      Newcastle United  Sunderland  \\\n",
      "Match                                                                \n",
      "Manchester United vs Manchester City               NaN         NaN   \n",
      "Manchester United vs Manchester City               NaN         NaN   \n",
      "Manchester United vs Manchester City               NaN         NaN   \n",
      "Manchester United vs Manchester City               NaN         NaN   \n",
      "Manchester United vs Manchester City               NaN         NaN   \n",
      "\n",
      "                                      Wigan Athletic  Reading  \\\n",
      "Match                                                           \n",
      "Manchester United vs Manchester City             NaN      NaN   \n",
      "Manchester United vs Manchester City             NaN      NaN   \n",
      "Manchester United vs Manchester City             NaN      NaN   \n",
      "Manchester United vs Manchester City             NaN      NaN   \n",
      "Manchester United vs Manchester City             NaN      NaN   \n",
      "\n",
      "                                      Queens Park Rangers  \n",
      "Match                                                      \n",
      "Manchester United vs Manchester City                  NaN  \n",
      "Manchester United vs Manchester City                  NaN  \n",
      "Manchester United vs Manchester City                  NaN  \n",
      "Manchester United vs Manchester City                  NaN  \n",
      "Manchester United vs Manchester City                  NaN  \n",
      "\n",
      "[5 rows x 21 columns]\n"
     ]
    }
   ],
   "source": [
    "# Cargar el DataFrame y establecer la columna 'Unnamed: 0' como índice\n",
    "all_results.rename(columns={'Unnamed: 0': 'Match'}, inplace=True)  # Renombrar la columna para mayor claridad\n",
    "all_results.set_index('Match', inplace=True)  # Usar la columna 'Match' como índice\n",
    "\n",
    "# Verificar que el DataFrame se ha cargado correctamente\n",
    "print(all_results.head())"
   ]
  },
  {
   "cell_type": "code",
   "execution_count": null,
   "metadata": {},
   "outputs": [],
   "source": [
    "# import pandas as pd\n",
    "# import numpy as np\n",
    "\n",
    "# def simulate_season_ranking(all_results):\n",
    "#     \"\"\"\n",
    "#     Simula el ranking de equipos al final de la temporada basado en las probabilidades\n",
    "#     de ganar, perder o empatar que están en el DataFrame `all_results`.\n",
    "    \n",
    "#     Parámetros:\n",
    "#     - all_results: DataFrame que contiene las probabilidades de win%, loss%, tie% \n",
    "#       para cada par de equipos.\n",
    "    \n",
    "#     Retorna:\n",
    "#     - DataFrame con el ranking de equipos basado en los puntos al final de la temporada.\n",
    "#     \"\"\"\n",
    "#     # Inicializar un diccionario para almacenar los puntos de cada equipo\n",
    "#     points_table = defaultdict(int)\n",
    "\n",
    "#     # Recorrer cada enfrentamiento en `all_results`\n",
    "#     for match, probabilities in all_results.groupby(level=0):\n",
    "#         # Obtener los equipos enfrentados\n",
    "#         teams = match.split(\" vs \")\n",
    "#         team1, team2 = teams[0], teams[1]\n",
    "#         print(f\"\\nSimulando partido entre {team1} y {team2}...\")\n",
    "        \n",
    "#         # Extraer las probabilidades de ganar, empatar y perder para cada equipo\n",
    "#         win_prob_team1 = probabilities.loc[(match, 'win%'), team1]\n",
    "#         tie_prob = probabilities.loc[(match, 'tie%'), team1]  # Es la misma para ambos equipos\n",
    "#         win_prob_team2 = probabilities.loc[(match, 'win%'), team2]\n",
    "        \n",
    "\n",
    "#         # Repetir la simulación del partido dos veces (ida y vuelta)\n",
    "#         for _ in range(2):\n",
    "#             # Generar un número aleatorio entre 0 y 100 para decidir el resultado\n",
    "#             outcome = np.random.uniform(0, 100)\n",
    "#             print(f\"Outcome: {outcome:.2f}\")\n",
    "#             print(f\"Probabilidades de ganar: {win_prob_team1:.2f} y {tie_prob:.2f}\")\n",
    "#             if outcome < win_prob_team1:\n",
    "#                 # Team 1 gana\n",
    "#                 print(f\"{team1} gana\")\n",
    "#                 points_table[team1] += 3\n",
    "#             elif outcome < win_prob_team1 + tie_prob:\n",
    "#                 # Empate\n",
    "#                 print(\"Empate\")\n",
    "#                 points_table[team1] += 1\n",
    "#                 points_table[team2] += 1\n",
    "#             else:\n",
    "#                 # Team 2 gana\n",
    "#                 print(f\"{team2} gana\")\n",
    "#                 points_table[team2] += 3\n",
    "\n",
    "#     # Convertir el diccionario de puntos en un DataFrame\n",
    "#     ranking_df = pd.DataFrame(list(points_table.items()), columns=['Team', 'Points'])\n",
    "#     # Ordenar los equipos por puntos en orden descendente\n",
    "#     ranking_df = ranking_df.sort_values(by='Points', ascending=False).reset_index(drop=True)\n",
    "#     ranking_df.index += 1  # Ajustar el índice para que comience desde 1\n",
    "\n",
    "#     return ranking_df"
   ]
  },
  {
   "cell_type": "code",
   "execution_count": 20,
   "metadata": {},
   "outputs": [],
   "source": [
    "import pandas as pd\n",
    "from collections import defaultdict\n",
    "\n",
    "# CUANDO QUEREMOS SIMULAR CON UN ARCHIVO EXCEL YA CREADO\n",
    "def simulate_season_ranking(all_results):\n",
    "    \"\"\"\n",
    "    Calcula el ranking de equipos al final de la temporada basado en las probabilidades\n",
    "    de ganar, perder o empatar que están en el DataFrame `all_results`.\n",
    "    \n",
    "    Parámetros:\n",
    "    - all_results: DataFrame que contiene las probabilidades de win%, loss%, tie% \n",
    "      para cada par de equipos.\n",
    "    \n",
    "    Retorna:\n",
    "    - DataFrame con el ranking de equipos basado en los puntos esperados al final de la temporada.\n",
    "    \"\"\"\n",
    "    # Inicializar un diccionario para almacenar los puntos de cada equipo\n",
    "    points_table = defaultdict(float)\n",
    "\n",
    "    # Recorrer cada enfrentamiento en `all_results` agrupado por 'Match'\n",
    "    for match, probabilities in all_results.groupby('Match'):\n",
    "        # Obtener los equipos enfrentados\n",
    "        teams = match.split(\" vs \")\n",
    "        team1, team2 = teams[0], teams[1]\n",
    "        \n",
    "        # Extraer las probabilidades de ganar, empatar y perder para cada equipo usando 'Unnamed: 1'\n",
    "        win_prob_team1 = probabilities.loc[probabilities['Unnamed: 1'] == 'win%', team1].values[0]\n",
    "        tie_prob = probabilities.loc[probabilities['Unnamed: 1'] == 'tie%', team1].values[0]  # Es la misma para ambos equipos\n",
    "        win_prob_team2 = probabilities.loc[probabilities['Unnamed: 1'] == 'win%', team2].values[0]\n",
    "        \n",
    "        # Calcular la esperanza de puntos para cada equipo\n",
    "        expected_points_team1 = 3 * (win_prob_team1 / 100) + 1 * (tie_prob / 100)\n",
    "        expected_points_team2 = 3 * (win_prob_team2 / 100) + 1 * (tie_prob / 100)\n",
    "\n",
    "        # Sumar los puntos esperados para cada equipo en la tabla de posiciones\n",
    "        points_table[team1] += expected_points_team1\n",
    "        points_table[team2] += expected_points_team2\n",
    "\n",
    "    # Convertir el diccionario de puntos en un DataFrame\n",
    "    ranking_df = pd.DataFrame(list(points_table.items()), columns=['Team', 'Points'])\n",
    "    # Ordenar los equipos por puntos en orden descendente\n",
    "    ranking_df = ranking_df.sort_values(by='Points', ascending=False).reset_index(drop=True)\n",
    "    ranking_df.index += 1  # Ajustar el índice para que comience desde 1\n",
    "\n",
    "    return ranking_df\n"
   ]
  },
  {
   "cell_type": "code",
   "execution_count": 21,
   "metadata": {},
   "outputs": [
    {
     "name": "stdout",
     "output_type": "stream",
     "text": [
      "                    Team  Points\n",
      "1      Tottenham Hotspur  36.137\n",
      "2        Manchester City  35.486\n",
      "3                Arsenal  35.371\n",
      "4                Everton  35.267\n",
      "5                Chelsea  33.730\n",
      "6            Southampton  32.879\n",
      "7      Manchester United  29.416\n",
      "8              Liverpool  28.467\n",
      "9         Wigan Athletic  26.328\n",
      "10          Norwich City  26.097\n",
      "11          Swansea City  26.086\n",
      "12               Reading  26.069\n",
      "13  West Bromwich Albion  25.740\n",
      "14       West Ham United  24.996\n",
      "15            Stoke City  24.276\n",
      "16            Sunderland  21.679\n",
      "17      Newcastle United  19.485\n",
      "18   Queens Park Rangers  18.154\n",
      "19                Fulham  17.223\n",
      "20           Aston Villa  16.479\n"
     ]
    }
   ],
   "source": [
    "# Llamada de ejemplo con `all_results`\n",
    "final_ranking = simulate_season_ranking(all_results)\n",
    "print(final_ranking)"
   ]
  },
  {
   "cell_type": "code",
   "execution_count": 22,
   "metadata": {},
   "outputs": [],
   "source": [
    "final_ranking.to_csv('/Users/pgule/Documents/Sample Data/final_ranking_con_cambio_1000_FINAL_EQUIPOSNUEVOS.csv')"
   ]
  },
  {
   "cell_type": "markdown",
   "metadata": {},
   "source": [
    "## Simulamos con cambio de jugadores"
   ]
  },
  {
   "cell_type": "code",
   "execution_count": 114,
   "metadata": {},
   "outputs": [],
   "source": [
    "def choose_teams(teams_list, players_data):\n",
    "    \"\"\"\n",
    "    Permite al usuario elegir un equipo completo o un equipo personalizado.\n",
    "    Devuelve un diccionario en el formato: {'TeamName': [(player1, periods), (player2, periods), ...]}.\n",
    "    \"\"\"\n",
    "    print(\"¿Cómo deseas elegir tu equipo?\")\n",
    "    print(\"1. Elegir un equipo completo\")\n",
    "    print(\"2. Seleccionar jugadores individuales de diferentes equipos\")\n",
    "\n",
    "    choice = input(\"Ingresa el número de tu elección (1 o 2): \")\n",
    "\n",
    "    players_dict = defaultdict(list)  # Creamos el diccionario para almacenar la selección de jugadores\n",
    "    team_name = \"\"\n",
    "\n",
    "    if choice == '1':\n",
    "        # Elegir un equipo completo\n",
    "        print(\"Equipos disponibles:\")\n",
    "        for idx, team in enumerate(teams_list, start=1):\n",
    "            print(f\"{idx}. {team}\")\n",
    "\n",
    "        team_index = int(input(\"Selecciona el número del equipo que deseas elegir: \")) - 1\n",
    "\n",
    "        if 0 <= team_index < len(teams_list):\n",
    "            team_name = teams_list[team_index]\n",
    "            selected_players = get_initial_11(team_name)  # Llama a la función que devuelve el equipo titular\n",
    "            players_dict[team_name] = [(player, 'full_period') for player in selected_players]\n",
    "            print(f\"\\nEquipo titular seleccionado para {team_name}: {selected_players}\")\n",
    "        else:\n",
    "            print(\"Selección de equipo inválida.\")\n",
    "\n",
    "    elif choice == '2':\n",
    "        # Selección de jugadores personalizados de diferentes equipos\n",
    "        team_name = input(\"Ingresa el nombre del equipo personalizado: \")\n",
    "\n",
    "        while sum(len(players) for players in players_dict.values()) < 11:\n",
    "            print(\"Equipos disponibles:\")\n",
    "            for idx, team in enumerate(teams_list, start=1):\n",
    "                print(f\"{idx}. {team}\")\n",
    "\n",
    "            team_index = int(input(\"Selecciona el número del equipo para elegir jugadores: \")) - 1\n",
    "\n",
    "            if 0 <= team_index < len(teams_list):\n",
    "                team_origin = teams_list[team_index]\n",
    "                available_players = [player for player in players_data[team_origin] \n",
    "                                     if player not in [p[0] for players in players_dict.values() for p in players]]\n",
    "\n",
    "                while True:\n",
    "                    print(f\"Jugadores disponibles en {team_origin}:\")\n",
    "                    for idx, player in enumerate(available_players, start=1):\n",
    "                        print(f\"{idx}. {player}\")\n",
    "\n",
    "                    player_index = int(input(\"Selecciona el número del jugador que deseas agregar (o 0 para cambiar de equipo): \")) - 1\n",
    "\n",
    "                    if player_index == -1:\n",
    "                        break\n",
    "                    elif 0 <= player_index < len(available_players):\n",
    "                        # Agregar el jugador al equipo de origen en `players_dict`\n",
    "                        players_dict[team_origin].append((available_players[player_index], 'custom_period'))\n",
    "                        print(f\"Jugador {available_players[player_index]} agregado a {team_origin}.\")\n",
    "                        print(f\"Jugadores seleccionados: {sum(len(players) for players in players_dict.values())} / 11\\n\")\n",
    "\n",
    "                        # Actualizar la lista de jugadores disponibles\n",
    "                        available_players.pop(player_index)\n",
    "\n",
    "                        # Si se alcanzan los 11 jugadores, salir del bucle\n",
    "                        if sum(len(players) for players in players_dict.values()) == 11:\n",
    "                            break\n",
    "                    else:\n",
    "                        print(\"Selección de jugador no válida.\")\n",
    "            else:\n",
    "                print(\"Selección de equipo no válida.\")\n",
    "\n",
    "        if sum(len(players) for players in players_dict.values()) == 11:\n",
    "            print(\"\\nHas completado tu equipo:\")\n",
    "        else:\n",
    "            print(\"\\nNo has completado los 11 jugadores, pero esta es tu selección final:\")\n",
    "        print(players_dict)\n",
    "\n",
    "    else:\n",
    "        print(\"Opción inválida. Por favor, elige 1 o 2.\")\n",
    "\n",
    "    return team_name, players_dict"
   ]
  },
  {
   "cell_type": "code",
   "execution_count": 115,
   "metadata": {},
   "outputs": [],
   "source": [
    "random.seed(42)\n",
    "def simulate_matches(num_matches, home_players, away_players):\n",
    "    results = []\n",
    "    for _ in tqdm(range(num_matches), desc=\"Simulando partidos\", unit=\"partido\"):\n",
    "        home_team_name = list(home_players.keys())[0] if len(home_players) == 1 else None\n",
    "        away_team_name = list(away_players.keys())[0] if len(away_players) == 1 else None\n",
    "        if home_team_name == None and away_team_name == None:\n",
    "            simulation = MatchSimulation(home_players, away_players)\n",
    "        elif home_team_name != None and away_team_name == None:\n",
    "            simulation = MatchSimulation(home_players, away_players, home_team=home_team_name)\n",
    "        elif home_team_name == None and away_team_name != None:\n",
    "            simulation = MatchSimulation(home_players, away_players, away_team=away_team_name)\n",
    "        else:\n",
    "            simulation = MatchSimulation(home_players, away_players, home_team= home_team_name, away_team= away_team_name)\n",
    "        result = simulation.play_match()\n",
    "        results.append(result)\n",
    "    return pd.DataFrame(results)"
   ]
  },
  {
   "cell_type": "code",
   "execution_count": 116,
   "metadata": {},
   "outputs": [],
   "source": [
    "import pandas as pd\n",
    "from collections import defaultdict\n",
    "\n",
    "#CUANDO QUERES USAR UN EXCEL YA CREADO\n",
    "def simulate_against_all_teams(team_name, selected_team_players, teams_list, all_results):\n",
    "    # Asegurarse de que 'Match' sea una columna y no el índice\n",
    "    if 'Match' not in all_results.columns:\n",
    "        all_results.reset_index(inplace=True)\n",
    "    # Crear una copia de all_results para actualizar solo los partidos relevantes\n",
    "    # Crear una copia de all_results para actualizar solo los partidos relevantes\n",
    "    updated_results = all_results.copy()\n",
    "    results = []\n",
    "\n",
    "    for opponent_team in teams_list:\n",
    "        if opponent_team == team_name:\n",
    "            continue  # No simular contra sí mismo\n",
    "\n",
    "        # Configuración de equipos\n",
    "        team1 = team_name\n",
    "        team2 = opponent_team\n",
    "        team1_players = {team1: selected_team_players[team1]}\n",
    "        team2_players = {team2: [(player, 'full_period') for player in get_initial_11(team2)]}\n",
    "\n",
    "        # Simula múltiples partidos y obtiene el DataFrame de resultados\n",
    "        match_result_df = simulate_matches(1000, team1_players, team2_players)\n",
    "        \n",
    "        # Determina el equipo ganador en cada partido\n",
    "        match_result_df['winner'] = match_result_df.apply(\n",
    "            lambda row: row['home'] if row['goles_local'] > row['goles_visitante'] else\n",
    "                        row['away'] if row['goles_local'] < row['goles_visitante'] else\n",
    "                        'tie', axis=1\n",
    "        )\n",
    "\n",
    "        # Calcula la proporción de victorias, empates y derrotas\n",
    "        total_games = match_result_df.shape[0]\n",
    "        win_counts = match_result_df['winner'].value_counts()\n",
    "        win_pct_team1 = (win_counts.get(team1, 0) / total_games) * 100\n",
    "        win_pct_team2 = (win_counts.get(team2, 0) / total_games) * 100\n",
    "        tie_pct = (win_counts.get('tie', 0) / total_games) * 100\n",
    "        loss_pct_team1 = win_pct_team2  # La pérdida de un equipo es la victoria del otro\n",
    "        loss_pct_team2 = win_pct_team1\n",
    "\n",
    "        # Crear DataFrame con las estadísticas de cada partido\n",
    "        new_index = ['win%', 'loss%', 'tie%', 'avg_goles', 'avg_tiros', 'avg_pases', 'avg_quites'] \n",
    "        teams_current = [team1, team2]\n",
    "        df_transposed = pd.DataFrame(index=new_index, columns=teams_current)\n",
    "        \n",
    "        # Asignar las proporciones calculadas\n",
    "        df_transposed.loc['win%', team1] = win_pct_team1\n",
    "        df_transposed.loc['loss%', team1] = loss_pct_team1\n",
    "        df_transposed.loc['tie%', team1] = tie_pct\n",
    "        df_transposed.loc['win%', team2] = win_pct_team2\n",
    "        df_transposed.loc['loss%', team2] = loss_pct_team2\n",
    "        df_transposed.loc['tie%', team2] = tie_pct\n",
    "\n",
    "        # Calcular promedios de estadísticas\n",
    "        df_transposed.loc['avg_goles', team1] = match_result_df['goles_local'].mean()\n",
    "        df_transposed.loc['avg_goles', team2] = match_result_df['goles_visitante'].mean()\n",
    "        df_transposed.loc['avg_tiros', team1] = match_result_df['tiros_local'].mean()\n",
    "        df_transposed.loc['avg_tiros', team2] = match_result_df['tiros_visitante'].mean()\n",
    "        df_transposed.loc['avg_pases', team1] = match_result_df['pases_local'].mean()\n",
    "        df_transposed.loc['avg_pases', team2] = match_result_df['pases_visitante'].mean()\n",
    "        df_transposed.loc['avg_quites', team1] = match_result_df['quites_local'].mean()\n",
    "        df_transposed.loc['avg_quites', team2] = match_result_df['quites_visitante'].mean()\n",
    "\n",
    "        # Actualizar el partido específico en `updated_results`, verificando ambas combinaciones\n",
    "        match_key1 = f\"{team1} vs {team2}\"\n",
    "        match_key2 = f\"{team2} vs {team1}\"\n",
    "        \n",
    "        # Actualización usando la columna `Match`\n",
    "        if match_key1 in updated_results['Match'].values:\n",
    "            for metric in new_index:\n",
    "                updated_results.loc[(updated_results['Match'] == match_key1) & \n",
    "                                    (updated_results['Unnamed: 1'] == metric), team1] = df_transposed.loc[metric, team1]\n",
    "                updated_results.loc[(updated_results['Match'] == match_key1) & \n",
    "                                    (updated_results['Unnamed: 1'] == metric), team2] = df_transposed.loc[metric, team2]\n",
    "                \n",
    "        elif match_key2 in updated_results['Match'].values:\n",
    "            for metric in new_index:\n",
    "                updated_results.loc[(updated_results['Match'] == match_key2) & \n",
    "                                    (updated_results['Unnamed: 1'] == metric), team1] = df_transposed.loc[metric, team1]\n",
    "                updated_results.loc[(updated_results['Match'] == match_key2) & \n",
    "                                    (updated_results['Unnamed: 1'] == metric), team2] = df_transposed.loc[metric, team2]\n",
    "\n",
    "    return updated_results\n"
   ]
  },
  {
   "cell_type": "code",
   "execution_count": 117,
   "metadata": {},
   "outputs": [
    {
     "name": "stdout",
     "output_type": "stream",
     "text": [
      "¿Cómo deseas elegir tu equipo?\n",
      "1. Elegir un equipo completo\n",
      "2. Seleccionar jugadores individuales de diferentes equipos\n",
      "Equipos disponibles:\n",
      "1. Arsenal\n",
      "2. Everton\n",
      "3. Fulham\n",
      "4. Manchester City\n",
      "5. Newcastle United\n",
      "6. Queens Park Rangers\n",
      "7. Reading\n",
      "8. West Bromwich Albion\n",
      "9. West Ham United\n",
      "10. Wigan Athletic\n",
      "11. Aston Villa\n",
      "12. Chelsea\n",
      "13. Liverpool\n",
      "14. Manchester United\n",
      "15. Norwich City\n",
      "16. Southampton\n",
      "17. Stoke City\n",
      "18. Sunderland\n",
      "19. Swansea City\n",
      "20. Tottenham Hotspur\n",
      "Jugadores disponibles en Manchester City:\n",
      "1. Hart, Joe\n",
      "2. Toure, Gnegneri Yaya\n",
      "3. Zabaleta, Pablo\n",
      "4. Silva, David\n",
      "5. Barry, Gareth\n",
      "6. Tevez, Carlos\n",
      "7. Clichy, Gael\n",
      "8. Kompany, Vincent\n",
      "9. Aguero, Sergio\n",
      "10. Nasri, Samir\n",
      "11. Dzeko, Edin\n",
      "12. Nastasic, Matija\n",
      "13. Milner, James\n",
      "14. Lescott, Joleon\n",
      "15. Garcia Fernandez, Francisco Javier\n",
      "16. Kolarov, Aleksandar\n",
      "17. Toure, Kolo\n",
      "18. Richards, Micah\n",
      "19. Balotelli, Mario\n",
      "20. Maicon, Douglas\n",
      "21. Rodwell, Jack\n",
      "22. Sinclair, Scott\n",
      "23. Rekik, Karim\n",
      "24. Razak, Abdul\n",
      "Jugador Hart, Joe agregado a Manchester City.\n",
      "Jugadores seleccionados: 1 / 11\n",
      "\n",
      "Jugadores disponibles en Manchester City:\n",
      "1. Toure, Gnegneri Yaya\n",
      "2. Zabaleta, Pablo\n",
      "3. Silva, David\n",
      "4. Barry, Gareth\n",
      "5. Tevez, Carlos\n",
      "6. Clichy, Gael\n",
      "7. Kompany, Vincent\n",
      "8. Aguero, Sergio\n",
      "9. Nasri, Samir\n",
      "10. Dzeko, Edin\n",
      "11. Nastasic, Matija\n",
      "12. Milner, James\n",
      "13. Lescott, Joleon\n",
      "14. Garcia Fernandez, Francisco Javier\n",
      "15. Kolarov, Aleksandar\n",
      "16. Toure, Kolo\n",
      "17. Richards, Micah\n",
      "18. Balotelli, Mario\n",
      "19. Maicon, Douglas\n",
      "20. Rodwell, Jack\n",
      "21. Sinclair, Scott\n",
      "22. Rekik, Karim\n",
      "23. Razak, Abdul\n",
      "Jugador Toure, Gnegneri Yaya agregado a Manchester City.\n",
      "Jugadores seleccionados: 2 / 11\n",
      "\n",
      "Jugadores disponibles en Manchester City:\n",
      "1. Zabaleta, Pablo\n",
      "2. Silva, David\n",
      "3. Barry, Gareth\n",
      "4. Tevez, Carlos\n",
      "5. Clichy, Gael\n",
      "6. Kompany, Vincent\n",
      "7. Aguero, Sergio\n",
      "8. Nasri, Samir\n",
      "9. Dzeko, Edin\n",
      "10. Nastasic, Matija\n",
      "11. Milner, James\n",
      "12. Lescott, Joleon\n",
      "13. Garcia Fernandez, Francisco Javier\n",
      "14. Kolarov, Aleksandar\n",
      "15. Toure, Kolo\n",
      "16. Richards, Micah\n",
      "17. Balotelli, Mario\n",
      "18. Maicon, Douglas\n",
      "19. Rodwell, Jack\n",
      "20. Sinclair, Scott\n",
      "21. Rekik, Karim\n",
      "22. Razak, Abdul\n",
      "Jugador Zabaleta, Pablo agregado a Manchester City.\n",
      "Jugadores seleccionados: 3 / 11\n",
      "\n",
      "Jugadores disponibles en Manchester City:\n",
      "1. Silva, David\n",
      "2. Barry, Gareth\n",
      "3. Tevez, Carlos\n",
      "4. Clichy, Gael\n",
      "5. Kompany, Vincent\n",
      "6. Aguero, Sergio\n",
      "7. Nasri, Samir\n",
      "8. Dzeko, Edin\n",
      "9. Nastasic, Matija\n",
      "10. Milner, James\n",
      "11. Lescott, Joleon\n",
      "12. Garcia Fernandez, Francisco Javier\n",
      "13. Kolarov, Aleksandar\n",
      "14. Toure, Kolo\n",
      "15. Richards, Micah\n",
      "16. Balotelli, Mario\n",
      "17. Maicon, Douglas\n",
      "18. Rodwell, Jack\n",
      "19. Sinclair, Scott\n",
      "20. Rekik, Karim\n",
      "21. Razak, Abdul\n",
      "Jugador Silva, David agregado a Manchester City.\n",
      "Jugadores seleccionados: 4 / 11\n",
      "\n",
      "Jugadores disponibles en Manchester City:\n",
      "1. Barry, Gareth\n",
      "2. Tevez, Carlos\n",
      "3. Clichy, Gael\n",
      "4. Kompany, Vincent\n",
      "5. Aguero, Sergio\n",
      "6. Nasri, Samir\n",
      "7. Dzeko, Edin\n",
      "8. Nastasic, Matija\n",
      "9. Milner, James\n",
      "10. Lescott, Joleon\n",
      "11. Garcia Fernandez, Francisco Javier\n",
      "12. Kolarov, Aleksandar\n",
      "13. Toure, Kolo\n",
      "14. Richards, Micah\n",
      "15. Balotelli, Mario\n",
      "16. Maicon, Douglas\n",
      "17. Rodwell, Jack\n",
      "18. Sinclair, Scott\n",
      "19. Rekik, Karim\n",
      "20. Razak, Abdul\n",
      "Jugador Barry, Gareth agregado a Manchester City.\n",
      "Jugadores seleccionados: 5 / 11\n",
      "\n",
      "Jugadores disponibles en Manchester City:\n",
      "1. Tevez, Carlos\n",
      "2. Clichy, Gael\n",
      "3. Kompany, Vincent\n",
      "4. Aguero, Sergio\n",
      "5. Nasri, Samir\n",
      "6. Dzeko, Edin\n",
      "7. Nastasic, Matija\n",
      "8. Milner, James\n",
      "9. Lescott, Joleon\n",
      "10. Garcia Fernandez, Francisco Javier\n",
      "11. Kolarov, Aleksandar\n",
      "12. Toure, Kolo\n",
      "13. Richards, Micah\n",
      "14. Balotelli, Mario\n",
      "15. Maicon, Douglas\n",
      "16. Rodwell, Jack\n",
      "17. Sinclair, Scott\n",
      "18. Rekik, Karim\n",
      "19. Razak, Abdul\n",
      "Jugador Tevez, Carlos agregado a Manchester City.\n",
      "Jugadores seleccionados: 6 / 11\n",
      "\n",
      "Jugadores disponibles en Manchester City:\n",
      "1. Clichy, Gael\n",
      "2. Kompany, Vincent\n",
      "3. Aguero, Sergio\n",
      "4. Nasri, Samir\n",
      "5. Dzeko, Edin\n",
      "6. Nastasic, Matija\n",
      "7. Milner, James\n",
      "8. Lescott, Joleon\n",
      "9. Garcia Fernandez, Francisco Javier\n",
      "10. Kolarov, Aleksandar\n",
      "11. Toure, Kolo\n",
      "12. Richards, Micah\n",
      "13. Balotelli, Mario\n",
      "14. Maicon, Douglas\n",
      "15. Rodwell, Jack\n",
      "16. Sinclair, Scott\n",
      "17. Rekik, Karim\n",
      "18. Razak, Abdul\n",
      "Jugador Clichy, Gael agregado a Manchester City.\n",
      "Jugadores seleccionados: 7 / 11\n",
      "\n",
      "Jugadores disponibles en Manchester City:\n",
      "1. Kompany, Vincent\n",
      "2. Aguero, Sergio\n",
      "3. Nasri, Samir\n",
      "4. Dzeko, Edin\n",
      "5. Nastasic, Matija\n",
      "6. Milner, James\n",
      "7. Lescott, Joleon\n",
      "8. Garcia Fernandez, Francisco Javier\n",
      "9. Kolarov, Aleksandar\n",
      "10. Toure, Kolo\n",
      "11. Richards, Micah\n",
      "12. Balotelli, Mario\n",
      "13. Maicon, Douglas\n",
      "14. Rodwell, Jack\n",
      "15. Sinclair, Scott\n",
      "16. Rekik, Karim\n",
      "17. Razak, Abdul\n",
      "Jugador Aguero, Sergio agregado a Manchester City.\n",
      "Jugadores seleccionados: 8 / 11\n",
      "\n",
      "Jugadores disponibles en Manchester City:\n",
      "1. Kompany, Vincent\n",
      "2. Nasri, Samir\n",
      "3. Dzeko, Edin\n",
      "4. Nastasic, Matija\n",
      "5. Milner, James\n",
      "6. Lescott, Joleon\n",
      "7. Garcia Fernandez, Francisco Javier\n",
      "8. Kolarov, Aleksandar\n",
      "9. Toure, Kolo\n",
      "10. Richards, Micah\n",
      "11. Balotelli, Mario\n",
      "12. Maicon, Douglas\n",
      "13. Rodwell, Jack\n",
      "14. Sinclair, Scott\n",
      "15. Rekik, Karim\n",
      "16. Razak, Abdul\n",
      "Jugador Nasri, Samir agregado a Manchester City.\n",
      "Jugadores seleccionados: 9 / 11\n",
      "\n",
      "Jugadores disponibles en Manchester City:\n",
      "1. Kompany, Vincent\n",
      "2. Dzeko, Edin\n",
      "3. Nastasic, Matija\n",
      "4. Milner, James\n",
      "5. Lescott, Joleon\n",
      "6. Garcia Fernandez, Francisco Javier\n",
      "7. Kolarov, Aleksandar\n",
      "8. Toure, Kolo\n",
      "9. Richards, Micah\n",
      "10. Balotelli, Mario\n",
      "11. Maicon, Douglas\n",
      "12. Rodwell, Jack\n",
      "13. Sinclair, Scott\n",
      "14. Rekik, Karim\n",
      "15. Razak, Abdul\n",
      "Jugador Dzeko, Edin agregado a Manchester City.\n",
      "Jugadores seleccionados: 10 / 11\n",
      "\n",
      "Jugadores disponibles en Manchester City:\n",
      "1. Kompany, Vincent\n",
      "2. Nastasic, Matija\n",
      "3. Milner, James\n",
      "4. Lescott, Joleon\n",
      "5. Garcia Fernandez, Francisco Javier\n",
      "6. Kolarov, Aleksandar\n",
      "7. Toure, Kolo\n",
      "8. Richards, Micah\n",
      "9. Balotelli, Mario\n",
      "10. Maicon, Douglas\n",
      "11. Rodwell, Jack\n",
      "12. Sinclair, Scott\n",
      "13. Rekik, Karim\n",
      "14. Razak, Abdul\n",
      "Jugador Balotelli, Mario agregado a Manchester City.\n",
      "Jugadores seleccionados: 11 / 11\n",
      "\n",
      "\n",
      "Has completado tu equipo:\n",
      "defaultdict(<class 'list'>, {'Manchester City': [('Hart, Joe', 'custom_period'), ('Toure, Gnegneri Yaya', 'custom_period'), ('Zabaleta, Pablo', 'custom_period'), ('Silva, David', 'custom_period'), ('Barry, Gareth', 'custom_period'), ('Tevez, Carlos', 'custom_period'), ('Clichy, Gael', 'custom_period'), ('Aguero, Sergio', 'custom_period'), ('Nasri, Samir', 'custom_period'), ('Dzeko, Edin', 'custom_period'), ('Balotelli, Mario', 'custom_period')]})\n"
     ]
    },
    {
     "name": "stderr",
     "output_type": "stream",
     "text": [
      "Simulando partidos: 100%|██████████| 1000/1000 [03:51<00:00,  4.31partido/s]\n",
      "Simulando partidos: 100%|██████████| 1000/1000 [02:29<00:00,  6.70partido/s]\n",
      "Simulando partidos: 100%|██████████| 1000/1000 [02:28<00:00,  6.75partido/s]\n",
      "Simulando partidos: 100%|██████████| 1000/1000 [02:29<00:00,  6.69partido/s]\n",
      "Simulando partidos: 100%|██████████| 1000/1000 [02:29<00:00,  6.68partido/s]\n",
      "Simulando partidos: 100%|██████████| 1000/1000 [02:28<00:00,  6.72partido/s]\n",
      "Simulando partidos: 100%|██████████| 1000/1000 [02:33<00:00,  6.52partido/s]\n",
      "Simulando partidos: 100%|██████████| 1000/1000 [02:27<00:00,  6.77partido/s]\n",
      "Simulando partidos: 100%|██████████| 1000/1000 [02:26<00:00,  6.83partido/s]\n",
      "Simulando partidos: 100%|██████████| 1000/1000 [02:37<00:00,  6.35partido/s]\n",
      "Simulando partidos: 100%|██████████| 1000/1000 [02:48<00:00,  5.95partido/s]\n",
      "Simulando partidos: 100%|██████████| 1000/1000 [02:41<00:00,  6.18partido/s]\n",
      "Simulando partidos: 100%|██████████| 1000/1000 [02:28<00:00,  6.73partido/s]\n",
      "Simulando partidos: 100%|██████████| 1000/1000 [02:27<00:00,  6.76partido/s]\n",
      "Simulando partidos: 100%|██████████| 1000/1000 [02:28<00:00,  6.72partido/s]\n",
      "Simulando partidos: 100%|██████████| 1000/1000 [02:30<00:00,  6.66partido/s]\n",
      "Simulando partidos: 100%|██████████| 1000/1000 [02:28<00:00,  6.74partido/s]\n",
      "Simulando partidos: 100%|██████████| 1000/1000 [02:27<00:00,  6.79partido/s]\n",
      "Simulando partidos: 100%|██████████| 1000/1000 [02:25<00:00,  6.87partido/s]\n"
     ]
    }
   ],
   "source": [
    "team_name, selected_team_players = choose_teams(teams_list, players_dict)\n",
    "updated_all_results = simulate_against_all_teams(team_name, selected_team_players, teams_list, all_results)"
   ]
  },
  {
   "cell_type": "code",
   "execution_count": 118,
   "metadata": {},
   "outputs": [],
   "source": [
    "#exportar updated_all_results a un archivo csv\n",
    "updated_all_results.to_csv('/Users/pgule/Documents/Sample Data/updated_all_results_con_cambio_1000_FINAL_sinKompany.csv')"
   ]
  },
  {
   "cell_type": "code",
   "execution_count": 119,
   "metadata": {},
   "outputs": [
    {
     "name": "stdout",
     "output_type": "stream",
     "text": [
      "                    Team  Points\n",
      "1        Manchester City  43.841\n",
      "2      Tottenham Hotspur  37.764\n",
      "3                Arsenal  37.439\n",
      "4                Everton  36.548\n",
      "5                Chelsea  34.315\n",
      "6        West Ham United  31.978\n",
      "7         Wigan Athletic  31.365\n",
      "8      Manchester United  29.708\n",
      "9   West Bromwich Albion  28.886\n",
      "10          Swansea City  28.344\n",
      "11            Stoke City  27.539\n",
      "12          Norwich City  26.540\n",
      "13               Reading  24.868\n",
      "14                Fulham  24.754\n",
      "15           Aston Villa  24.412\n",
      "16             Liverpool  23.825\n",
      "17            Sunderland  21.245\n",
      "18   Queens Park Rangers  12.530\n",
      "19      Newcastle United  11.432\n",
      "20           Southampton   4.968\n"
     ]
    }
   ],
   "source": [
    "final_ranking = simulate_season_ranking(updated_all_results)\n",
    "print(final_ranking)"
   ]
  },
  {
   "cell_type": "code",
   "execution_count": 68,
   "metadata": {},
   "outputs": [],
   "source": [
    "final_ranking.to_csv('/Users/pgule/Documents/Sample Data/final_ranking_con_cambio_1000_sin_Zabaleta_con_Nastasic.csv')"
   ]
  },
  {
   "cell_type": "markdown",
   "metadata": {},
   "source": [
    "## De aca para abajo todo sigue igual"
   ]
  },
  {
   "cell_type": "code",
   "execution_count": 76,
   "metadata": {},
   "outputs": [
    {
     "name": "stdout",
     "output_type": "stream",
     "text": [
      "¿Cómo deseas elegir tu equipo?\n",
      "1. Elegir un equipo completo\n",
      "2. Seleccionar jugadores individuales de diferentes equipos\n",
      "Equipos disponibles:\n",
      "1. Arsenal\n",
      "2. Everton\n",
      "3. Fulham\n",
      "4. Manchester City\n",
      "5. Newcastle United\n",
      "6. Queens Park Rangers\n",
      "7. Reading\n",
      "8. West Bromwich Albion\n",
      "9. West Ham United\n",
      "10. Wigan Athletic\n",
      "11. Aston Villa\n",
      "12. Chelsea\n",
      "13. Liverpool\n",
      "14. Manchester United\n",
      "15. Norwich City\n",
      "16. Southampton\n",
      "17. Stoke City\n",
      "18. Sunderland\n",
      "19. Swansea City\n",
      "20. Tottenham Hotspur\n",
      "Jugadores disponibles en Manchester United:\n",
      "1. van Persie, Robin\n",
      "2. Evra, Patrice\n",
      "3. Carrick, Michael\n",
      "4. de Gea, David\n",
      "5. Ferdinand, Rio\n",
      "6. da Silva, Rafael Pereira\n",
      "7. Valencia, Luis Antonio\n",
      "8. Rooney, Wayne\n",
      "9. Evans, Jonny\n",
      "10. Vidic, Nemanja\n",
      "11. Cleverley, Tom\n",
      "12. Young, Ashley\n",
      "13. Welbeck, Danny\n",
      "14. Kagawa, Shinji\n",
      "15. Jones, Phil\n",
      "16. Giggs, Ryan\n",
      "17. Smalling, Chris\n",
      "18. Hernandez, Javier\n",
      "19. Lindegaard, Anders\n",
      "20. Oliveira, Anderson\n",
      "21. Scholes, Paul\n",
      "22. Almeida da Cunha, Luis\n",
      "23. Buttner, Alexander\n",
      "24. Fletcher, Darren\n",
      "25. Powell, Nick\n",
      "Jugador van Persie, Robin agregado a Manchester United.\n",
      "Jugadores seleccionados: 1 / 11\n",
      "\n",
      "Jugadores disponibles en Manchester United:\n",
      "1. Evra, Patrice\n",
      "2. Carrick, Michael\n",
      "3. de Gea, David\n",
      "4. Ferdinand, Rio\n",
      "5. da Silva, Rafael Pereira\n",
      "6. Valencia, Luis Antonio\n",
      "7. Rooney, Wayne\n",
      "8. Evans, Jonny\n",
      "9. Vidic, Nemanja\n",
      "10. Cleverley, Tom\n",
      "11. Young, Ashley\n",
      "12. Welbeck, Danny\n",
      "13. Kagawa, Shinji\n",
      "14. Jones, Phil\n",
      "15. Giggs, Ryan\n",
      "16. Smalling, Chris\n",
      "17. Hernandez, Javier\n",
      "18. Lindegaard, Anders\n",
      "19. Oliveira, Anderson\n",
      "20. Scholes, Paul\n",
      "21. Almeida da Cunha, Luis\n",
      "22. Buttner, Alexander\n",
      "23. Fletcher, Darren\n",
      "24. Powell, Nick\n",
      "Jugador Carrick, Michael agregado a Manchester United.\n",
      "Jugadores seleccionados: 2 / 11\n",
      "\n",
      "Jugadores disponibles en Manchester United:\n",
      "1. Evra, Patrice\n",
      "2. de Gea, David\n",
      "3. Ferdinand, Rio\n",
      "4. da Silva, Rafael Pereira\n",
      "5. Valencia, Luis Antonio\n",
      "6. Rooney, Wayne\n",
      "7. Evans, Jonny\n",
      "8. Vidic, Nemanja\n",
      "9. Cleverley, Tom\n",
      "10. Young, Ashley\n",
      "11. Welbeck, Danny\n",
      "12. Kagawa, Shinji\n",
      "13. Jones, Phil\n",
      "14. Giggs, Ryan\n",
      "15. Smalling, Chris\n",
      "16. Hernandez, Javier\n",
      "17. Lindegaard, Anders\n",
      "18. Oliveira, Anderson\n",
      "19. Scholes, Paul\n",
      "20. Almeida da Cunha, Luis\n",
      "21. Buttner, Alexander\n",
      "22. Fletcher, Darren\n",
      "23. Powell, Nick\n",
      "Jugador Ferdinand, Rio agregado a Manchester United.\n",
      "Jugadores seleccionados: 3 / 11\n",
      "\n",
      "Jugadores disponibles en Manchester United:\n",
      "1. Evra, Patrice\n",
      "2. de Gea, David\n",
      "3. da Silva, Rafael Pereira\n",
      "4. Valencia, Luis Antonio\n",
      "5. Rooney, Wayne\n",
      "6. Evans, Jonny\n",
      "7. Vidic, Nemanja\n",
      "8. Cleverley, Tom\n",
      "9. Young, Ashley\n",
      "10. Welbeck, Danny\n",
      "11. Kagawa, Shinji\n",
      "12. Jones, Phil\n",
      "13. Giggs, Ryan\n",
      "14. Smalling, Chris\n",
      "15. Hernandez, Javier\n",
      "16. Lindegaard, Anders\n",
      "17. Oliveira, Anderson\n",
      "18. Scholes, Paul\n",
      "19. Almeida da Cunha, Luis\n",
      "20. Buttner, Alexander\n",
      "21. Fletcher, Darren\n",
      "22. Powell, Nick\n",
      "Jugador Valencia, Luis Antonio agregado a Manchester United.\n",
      "Jugadores seleccionados: 4 / 11\n",
      "\n",
      "Jugadores disponibles en Manchester United:\n",
      "1. Evra, Patrice\n",
      "2. de Gea, David\n",
      "3. da Silva, Rafael Pereira\n",
      "4. Rooney, Wayne\n",
      "5. Evans, Jonny\n",
      "6. Vidic, Nemanja\n",
      "7. Cleverley, Tom\n",
      "8. Young, Ashley\n",
      "9. Welbeck, Danny\n",
      "10. Kagawa, Shinji\n",
      "11. Jones, Phil\n",
      "12. Giggs, Ryan\n",
      "13. Smalling, Chris\n",
      "14. Hernandez, Javier\n",
      "15. Lindegaard, Anders\n",
      "16. Oliveira, Anderson\n",
      "17. Scholes, Paul\n",
      "18. Almeida da Cunha, Luis\n",
      "19. Buttner, Alexander\n",
      "20. Fletcher, Darren\n",
      "21. Powell, Nick\n",
      "Jugador Evans, Jonny agregado a Manchester United.\n",
      "Jugadores seleccionados: 5 / 11\n",
      "\n",
      "Jugadores disponibles en Manchester United:\n",
      "1. Evra, Patrice\n",
      "2. de Gea, David\n",
      "3. da Silva, Rafael Pereira\n",
      "4. Rooney, Wayne\n",
      "5. Vidic, Nemanja\n",
      "6. Cleverley, Tom\n",
      "7. Young, Ashley\n",
      "8. Welbeck, Danny\n",
      "9. Kagawa, Shinji\n",
      "10. Jones, Phil\n",
      "11. Giggs, Ryan\n",
      "12. Smalling, Chris\n",
      "13. Hernandez, Javier\n",
      "14. Lindegaard, Anders\n",
      "15. Oliveira, Anderson\n",
      "16. Scholes, Paul\n",
      "17. Almeida da Cunha, Luis\n",
      "18. Buttner, Alexander\n",
      "19. Fletcher, Darren\n",
      "20. Powell, Nick\n",
      "Jugador Cleverley, Tom agregado a Manchester United.\n",
      "Jugadores seleccionados: 6 / 11\n",
      "\n",
      "Jugadores disponibles en Manchester United:\n",
      "1. Evra, Patrice\n",
      "2. de Gea, David\n",
      "3. da Silva, Rafael Pereira\n",
      "4. Rooney, Wayne\n",
      "5. Vidic, Nemanja\n",
      "6. Young, Ashley\n",
      "7. Welbeck, Danny\n",
      "8. Kagawa, Shinji\n",
      "9. Jones, Phil\n",
      "10. Giggs, Ryan\n",
      "11. Smalling, Chris\n",
      "12. Hernandez, Javier\n",
      "13. Lindegaard, Anders\n",
      "14. Oliveira, Anderson\n",
      "15. Scholes, Paul\n",
      "16. Almeida da Cunha, Luis\n",
      "17. Buttner, Alexander\n",
      "18. Fletcher, Darren\n",
      "19. Powell, Nick\n",
      "Jugador Welbeck, Danny agregado a Manchester United.\n",
      "Jugadores seleccionados: 7 / 11\n",
      "\n",
      "Jugadores disponibles en Manchester United:\n",
      "1. Evra, Patrice\n",
      "2. de Gea, David\n",
      "3. da Silva, Rafael Pereira\n",
      "4. Rooney, Wayne\n",
      "5. Vidic, Nemanja\n",
      "6. Young, Ashley\n",
      "7. Kagawa, Shinji\n",
      "8. Jones, Phil\n",
      "9. Giggs, Ryan\n",
      "10. Smalling, Chris\n",
      "11. Hernandez, Javier\n",
      "12. Lindegaard, Anders\n",
      "13. Oliveira, Anderson\n",
      "14. Scholes, Paul\n",
      "15. Almeida da Cunha, Luis\n",
      "16. Buttner, Alexander\n",
      "17. Fletcher, Darren\n",
      "18. Powell, Nick\n",
      "Jugador Jones, Phil agregado a Manchester United.\n",
      "Jugadores seleccionados: 8 / 11\n",
      "\n",
      "Jugadores disponibles en Manchester United:\n",
      "1. Evra, Patrice\n",
      "2. de Gea, David\n",
      "3. da Silva, Rafael Pereira\n",
      "4. Rooney, Wayne\n",
      "5. Vidic, Nemanja\n",
      "6. Young, Ashley\n",
      "7. Kagawa, Shinji\n",
      "8. Giggs, Ryan\n",
      "9. Smalling, Chris\n",
      "10. Hernandez, Javier\n",
      "11. Lindegaard, Anders\n",
      "12. Oliveira, Anderson\n",
      "13. Scholes, Paul\n",
      "14. Almeida da Cunha, Luis\n",
      "15. Buttner, Alexander\n",
      "16. Fletcher, Darren\n",
      "17. Powell, Nick\n",
      "Jugador Smalling, Chris agregado a Manchester United.\n",
      "Jugadores seleccionados: 9 / 11\n",
      "\n",
      "Jugadores disponibles en Manchester United:\n",
      "1. Evra, Patrice\n",
      "2. de Gea, David\n",
      "3. da Silva, Rafael Pereira\n",
      "4. Rooney, Wayne\n",
      "5. Vidic, Nemanja\n",
      "6. Young, Ashley\n",
      "7. Kagawa, Shinji\n",
      "8. Giggs, Ryan\n",
      "9. Hernandez, Javier\n",
      "10. Lindegaard, Anders\n",
      "11. Oliveira, Anderson\n",
      "12. Scholes, Paul\n",
      "13. Almeida da Cunha, Luis\n",
      "14. Buttner, Alexander\n",
      "15. Fletcher, Darren\n",
      "16. Powell, Nick\n",
      "Jugador Lindegaard, Anders agregado a Manchester United.\n",
      "Jugadores seleccionados: 10 / 11\n",
      "\n",
      "Jugadores disponibles en Manchester United:\n",
      "1. Evra, Patrice\n",
      "2. de Gea, David\n",
      "3. da Silva, Rafael Pereira\n",
      "4. Rooney, Wayne\n",
      "5. Vidic, Nemanja\n",
      "6. Young, Ashley\n",
      "7. Kagawa, Shinji\n",
      "8. Giggs, Ryan\n",
      "9. Hernandez, Javier\n",
      "10. Oliveira, Anderson\n",
      "11. Scholes, Paul\n",
      "12. Almeida da Cunha, Luis\n",
      "13. Buttner, Alexander\n",
      "14. Fletcher, Darren\n",
      "15. Powell, Nick\n",
      "Equipos disponibles:\n",
      "1. Arsenal\n",
      "2. Everton\n",
      "3. Fulham\n",
      "4. Manchester City\n",
      "5. Newcastle United\n",
      "6. Queens Park Rangers\n",
      "7. Reading\n",
      "8. West Bromwich Albion\n",
      "9. West Ham United\n",
      "10. Wigan Athletic\n",
      "11. Aston Villa\n",
      "12. Chelsea\n",
      "13. Liverpool\n",
      "14. Manchester United\n",
      "15. Norwich City\n",
      "16. Southampton\n",
      "17. Stoke City\n",
      "18. Sunderland\n",
      "19. Swansea City\n",
      "20. Tottenham Hotspur\n",
      "Jugadores disponibles en Newcastle United:\n",
      "1. Cisse, Papiss Demba\n",
      "2. Gutierrez, Jonas\n",
      "3. Santon, Davide\n",
      "4. Taylor, Steven\n",
      "5. Krul, Tim\n",
      "6. Cabaye, Yohan\n",
      "7. Coloccini, Fabricio\n",
      "8. Perch, James\n",
      "9. Tiote, Cheick Ismael\n",
      "10. Anita, Vurnon\n",
      "11. Williamson, Michael\n",
      "12. Ba, Demba\n",
      "13. Simpson, Danny\n",
      "14. Ben Arfa, Hatem\n",
      "15. Debuchy, Mathieu\n",
      "16. Sissoko, Moussa\n",
      "17. Marveaux, Sylvain\n",
      "18. Yanga-Mbiwa, Mapou\n",
      "19. Gouffran, Yoan\n",
      "20. Elliot, Robert\n",
      "21. Ameobi, Shola\n",
      "22. Harper, Steve\n",
      "23. Obertan, Gabriel\n",
      "24. Bigirimana, Gael\n",
      "25. Ferguson, Shane\n",
      "26. Ameobi, Sammy\n",
      "27. Haidara, Massadio\n",
      "28. Campbell, Adam\n",
      "29. Ranger, Nile\n",
      "Jugador Cisse, Papiss Demba agregado a Newcastle United.\n",
      "Jugadores seleccionados: 11 / 11\n",
      "\n",
      "\n",
      "Has completado tu equipo:\n",
      "defaultdict(<class 'list'>, {'Manchester United': [('van Persie, Robin', 'custom_period'), ('Carrick, Michael', 'custom_period'), ('Ferdinand, Rio', 'custom_period'), ('Valencia, Luis Antonio', 'custom_period'), ('Evans, Jonny', 'custom_period'), ('Cleverley, Tom', 'custom_period'), ('Welbeck, Danny', 'custom_period'), ('Jones, Phil', 'custom_period'), ('Smalling, Chris', 'custom_period'), ('Lindegaard, Anders', 'custom_period')], 'Newcastle United': [('Cisse, Papiss Demba', 'custom_period')]})\n",
      "¿Cómo deseas elegir tu equipo?\n",
      "1. Elegir un equipo completo\n",
      "2. Seleccionar jugadores individuales de diferentes equipos\n",
      "Equipos disponibles:\n",
      "1. Arsenal\n",
      "2. Everton\n",
      "3. Fulham\n",
      "4. Manchester City\n",
      "5. Newcastle United\n",
      "6. Queens Park Rangers\n",
      "7. Reading\n",
      "8. West Bromwich Albion\n",
      "9. West Ham United\n",
      "10. Wigan Athletic\n",
      "11. Aston Villa\n",
      "12. Chelsea\n",
      "13. Liverpool\n",
      "14. Manchester United\n",
      "15. Norwich City\n",
      "16. Southampton\n",
      "17. Stoke City\n",
      "18. Sunderland\n",
      "19. Swansea City\n",
      "20. Tottenham Hotspur\n",
      "\n",
      "Equipo titular seleccionado para Wigan Athletic: ['McCarthy, James', 'Boyce, Emmerson', 'Kone, Arouna', 'Maloney, Shaun', 'Figueroa, Maynor', 'Beausejour, Jean', 'Al-Habsi, Ali', 'McArthur, James', 'Di Santo, Franco', 'Caldwell, Gary', 'Gomez Garcia-Penche, Jordi']\n"
     ]
    },
    {
     "name": "stderr",
     "output_type": "stream",
     "text": [
      "Simulando partidos: 100%|██████████| 500/500 [01:26<00:00,  5.77partido/s]\n"
     ]
    }
   ],
   "source": [
    "home_players = choose_teams(teams_list, players_dict)\n",
    "away_players = choose_teams(teams_list, players_dict)\n",
    "\n",
    "df_results = simulate_matches(500, home_players, away_players)"
   ]
  },
  {
   "cell_type": "code",
   "execution_count": 53,
   "metadata": {},
   "outputs": [
    {
     "data": {
      "text/html": [
       "<div>\n",
       "<style scoped>\n",
       "    .dataframe tbody tr th:only-of-type {\n",
       "        vertical-align: middle;\n",
       "    }\n",
       "\n",
       "    .dataframe tbody tr th {\n",
       "        vertical-align: top;\n",
       "    }\n",
       "\n",
       "    .dataframe thead th {\n",
       "        text-align: right;\n",
       "    }\n",
       "</style>\n",
       "<table border=\"1\" class=\"dataframe\">\n",
       "  <thead>\n",
       "    <tr style=\"text-align: right;\">\n",
       "      <th></th>\n",
       "      <th>home</th>\n",
       "      <th>away</th>\n",
       "      <th>goles_local</th>\n",
       "      <th>goles_visitante</th>\n",
       "      <th>tiros_local</th>\n",
       "      <th>tiros_visitante</th>\n",
       "      <th>pases_local</th>\n",
       "      <th>pases_visitante</th>\n",
       "      <th>quites_local</th>\n",
       "      <th>quites_visitante</th>\n",
       "    </tr>\n",
       "  </thead>\n",
       "  <tbody>\n",
       "    <tr>\n",
       "      <th>0</th>\n",
       "      <td>Queens Park Rangers</td>\n",
       "      <td>Manchester United</td>\n",
       "      <td>0</td>\n",
       "      <td>0</td>\n",
       "      <td>12</td>\n",
       "      <td>16</td>\n",
       "      <td>224</td>\n",
       "      <td>355</td>\n",
       "      <td>109</td>\n",
       "      <td>128</td>\n",
       "    </tr>\n",
       "    <tr>\n",
       "      <th>1</th>\n",
       "      <td>Queens Park Rangers</td>\n",
       "      <td>Manchester United</td>\n",
       "      <td>1</td>\n",
       "      <td>2</td>\n",
       "      <td>8</td>\n",
       "      <td>15</td>\n",
       "      <td>245</td>\n",
       "      <td>269</td>\n",
       "      <td>134</td>\n",
       "      <td>100</td>\n",
       "    </tr>\n",
       "    <tr>\n",
       "      <th>2</th>\n",
       "      <td>Queens Park Rangers</td>\n",
       "      <td>Manchester United</td>\n",
       "      <td>0</td>\n",
       "      <td>0</td>\n",
       "      <td>17</td>\n",
       "      <td>9</td>\n",
       "      <td>208</td>\n",
       "      <td>302</td>\n",
       "      <td>110</td>\n",
       "      <td>121</td>\n",
       "    </tr>\n",
       "    <tr>\n",
       "      <th>3</th>\n",
       "      <td>Queens Park Rangers</td>\n",
       "      <td>Manchester United</td>\n",
       "      <td>0</td>\n",
       "      <td>1</td>\n",
       "      <td>8</td>\n",
       "      <td>9</td>\n",
       "      <td>237</td>\n",
       "      <td>334</td>\n",
       "      <td>136</td>\n",
       "      <td>93</td>\n",
       "    </tr>\n",
       "    <tr>\n",
       "      <th>4</th>\n",
       "      <td>Queens Park Rangers</td>\n",
       "      <td>Manchester United</td>\n",
       "      <td>0</td>\n",
       "      <td>1</td>\n",
       "      <td>14</td>\n",
       "      <td>18</td>\n",
       "      <td>215</td>\n",
       "      <td>350</td>\n",
       "      <td>128</td>\n",
       "      <td>78</td>\n",
       "    </tr>\n",
       "    <tr>\n",
       "      <th>...</th>\n",
       "      <td>...</td>\n",
       "      <td>...</td>\n",
       "      <td>...</td>\n",
       "      <td>...</td>\n",
       "      <td>...</td>\n",
       "      <td>...</td>\n",
       "      <td>...</td>\n",
       "      <td>...</td>\n",
       "      <td>...</td>\n",
       "      <td>...</td>\n",
       "    </tr>\n",
       "    <tr>\n",
       "      <th>495</th>\n",
       "      <td>Queens Park Rangers</td>\n",
       "      <td>Manchester United</td>\n",
       "      <td>0</td>\n",
       "      <td>1</td>\n",
       "      <td>11</td>\n",
       "      <td>13</td>\n",
       "      <td>251</td>\n",
       "      <td>364</td>\n",
       "      <td>129</td>\n",
       "      <td>77</td>\n",
       "    </tr>\n",
       "    <tr>\n",
       "      <th>496</th>\n",
       "      <td>Queens Park Rangers</td>\n",
       "      <td>Manchester United</td>\n",
       "      <td>0</td>\n",
       "      <td>0</td>\n",
       "      <td>10</td>\n",
       "      <td>11</td>\n",
       "      <td>222</td>\n",
       "      <td>316</td>\n",
       "      <td>107</td>\n",
       "      <td>109</td>\n",
       "    </tr>\n",
       "    <tr>\n",
       "      <th>497</th>\n",
       "      <td>Queens Park Rangers</td>\n",
       "      <td>Manchester United</td>\n",
       "      <td>1</td>\n",
       "      <td>1</td>\n",
       "      <td>6</td>\n",
       "      <td>11</td>\n",
       "      <td>240</td>\n",
       "      <td>308</td>\n",
       "      <td>122</td>\n",
       "      <td>84</td>\n",
       "    </tr>\n",
       "    <tr>\n",
       "      <th>498</th>\n",
       "      <td>Queens Park Rangers</td>\n",
       "      <td>Manchester United</td>\n",
       "      <td>0</td>\n",
       "      <td>1</td>\n",
       "      <td>8</td>\n",
       "      <td>9</td>\n",
       "      <td>242</td>\n",
       "      <td>328</td>\n",
       "      <td>102</td>\n",
       "      <td>90</td>\n",
       "    </tr>\n",
       "    <tr>\n",
       "      <th>499</th>\n",
       "      <td>Queens Park Rangers</td>\n",
       "      <td>Manchester United</td>\n",
       "      <td>2</td>\n",
       "      <td>0</td>\n",
       "      <td>4</td>\n",
       "      <td>9</td>\n",
       "      <td>232</td>\n",
       "      <td>277</td>\n",
       "      <td>129</td>\n",
       "      <td>90</td>\n",
       "    </tr>\n",
       "  </tbody>\n",
       "</table>\n",
       "<p>500 rows × 10 columns</p>\n",
       "</div>"
      ],
      "text/plain": [
       "                    home               away  goles_local  goles_visitante  \\\n",
       "0    Queens Park Rangers  Manchester United            0                0   \n",
       "1    Queens Park Rangers  Manchester United            1                2   \n",
       "2    Queens Park Rangers  Manchester United            0                0   \n",
       "3    Queens Park Rangers  Manchester United            0                1   \n",
       "4    Queens Park Rangers  Manchester United            0                1   \n",
       "..                   ...                ...          ...              ...   \n",
       "495  Queens Park Rangers  Manchester United            0                1   \n",
       "496  Queens Park Rangers  Manchester United            0                0   \n",
       "497  Queens Park Rangers  Manchester United            1                1   \n",
       "498  Queens Park Rangers  Manchester United            0                1   \n",
       "499  Queens Park Rangers  Manchester United            2                0   \n",
       "\n",
       "     tiros_local  tiros_visitante  pases_local  pases_visitante  quites_local  \\\n",
       "0             12               16          224              355           109   \n",
       "1              8               15          245              269           134   \n",
       "2             17                9          208              302           110   \n",
       "3              8                9          237              334           136   \n",
       "4             14               18          215              350           128   \n",
       "..           ...              ...          ...              ...           ...   \n",
       "495           11               13          251              364           129   \n",
       "496           10               11          222              316           107   \n",
       "497            6               11          240              308           122   \n",
       "498            8                9          242              328           102   \n",
       "499            4                9          232              277           129   \n",
       "\n",
       "     quites_visitante  \n",
       "0                 128  \n",
       "1                 100  \n",
       "2                 121  \n",
       "3                  93  \n",
       "4                  78  \n",
       "..                ...  \n",
       "495                77  \n",
       "496               109  \n",
       "497                84  \n",
       "498                90  \n",
       "499                90  \n",
       "\n",
       "[500 rows x 10 columns]"
      ]
     },
     "execution_count": 53,
     "metadata": {},
     "output_type": "execute_result"
    }
   ],
   "source": [
    "df_results"
   ]
  },
  {
   "cell_type": "code",
   "execution_count": 54,
   "metadata": {},
   "outputs": [],
   "source": [
    "df_results['winner'] = df_results.apply(\n",
    "    lambda row: row['home'] if row['goles_local'] > row['goles_visitante'] else\n",
    "                 row['away'] if row['goles_local'] < row['goles_visitante'] else\n",
    "                 'tie', axis=1\n",
    ")"
   ]
  },
  {
   "cell_type": "code",
   "execution_count": 55,
   "metadata": {},
   "outputs": [
    {
     "data": {
      "text/plain": [
       "Index(['home', 'away', 'goles_local', 'goles_visitante', 'tiros_local',\n",
       "       'tiros_visitante', 'pases_local', 'pases_visitante', 'quites_local',\n",
       "       'quites_visitante', 'winner'],\n",
       "      dtype='object')"
      ]
     },
     "execution_count": 55,
     "metadata": {},
     "output_type": "execute_result"
    }
   ],
   "source": [
    "df_results.columns"
   ]
  },
  {
   "cell_type": "code",
   "execution_count": 56,
   "metadata": {},
   "outputs": [
    {
     "data": {
      "text/plain": [
       "winner\n",
       "tie                    361\n",
       "Manchester United      102\n",
       "Queens Park Rangers     37\n",
       "Name: count, dtype: int64"
      ]
     },
     "execution_count": 56,
     "metadata": {},
     "output_type": "execute_result"
    }
   ],
   "source": [
    "df_results['winner'].value_counts()"
   ]
  },
  {
   "cell_type": "code",
   "execution_count": 30,
   "metadata": {},
   "outputs": [
    {
     "name": "stdout",
     "output_type": "stream",
     "text": [
      "¿Cómo deseas elegir tu equipo?\n",
      "1. Elegir un equipo completo\n",
      "2. Seleccionar jugadores individuales de diferentes equipos\n",
      "Equipos disponibles:\n",
      "1. Arsenal\n",
      "2. Everton\n",
      "3. Fulham\n",
      "4. Manchester City\n",
      "5. Newcastle United\n",
      "6. Queens Park Rangers\n",
      "7. Reading\n",
      "8. West Bromwich Albion\n",
      "9. West Ham United\n",
      "10. Wigan Athletic\n",
      "11. Aston Villa\n",
      "12. Chelsea\n",
      "13. Liverpool\n",
      "14. Manchester United\n",
      "15. Norwich City\n",
      "16. Southampton\n",
      "17. Stoke City\n",
      "18. Sunderland\n",
      "19. Swansea City\n",
      "20. Tottenham Hotspur\n"
     ]
    },
    {
     "ename": "ValueError",
     "evalue": "invalid literal for int() with base 10: ''",
     "output_type": "error",
     "traceback": [
      "\u001b[1;31m---------------------------------------------------------------------------\u001b[0m",
      "\u001b[1;31mValueError\u001b[0m                                Traceback (most recent call last)",
      "Cell \u001b[1;32mIn[30], line 1\u001b[0m\n\u001b[1;32m----> 1\u001b[0m home_players \u001b[38;5;241m=\u001b[39m \u001b[43mchoose_teams\u001b[49m\u001b[43m(\u001b[49m\u001b[43mteams_list\u001b[49m\u001b[43m,\u001b[49m\u001b[43m \u001b[49m\u001b[43mplayers_dict\u001b[49m\u001b[43m)\u001b[49m\n\u001b[0;32m      2\u001b[0m away_players \u001b[38;5;241m=\u001b[39m choose_teams(teams_list, players_dict)\n\u001b[0;32m      4\u001b[0m df_results_change \u001b[38;5;241m=\u001b[39m simulate_matches(\u001b[38;5;241m500\u001b[39m, home_players, away_players)\n",
      "Cell \u001b[1;32mIn[5], line 37\u001b[0m, in \u001b[0;36mchoose_teams\u001b[1;34m(teams_list, players_data)\u001b[0m\n\u001b[0;32m     34\u001b[0m \u001b[38;5;28;01mfor\u001b[39;00m idx, team \u001b[38;5;129;01min\u001b[39;00m \u001b[38;5;28menumerate\u001b[39m(teams_list, start\u001b[38;5;241m=\u001b[39m\u001b[38;5;241m1\u001b[39m):\n\u001b[0;32m     35\u001b[0m     \u001b[38;5;28mprint\u001b[39m(\u001b[38;5;124mf\u001b[39m\u001b[38;5;124m\"\u001b[39m\u001b[38;5;132;01m{\u001b[39;00midx\u001b[38;5;132;01m}\u001b[39;00m\u001b[38;5;124m. \u001b[39m\u001b[38;5;132;01m{\u001b[39;00mteam\u001b[38;5;132;01m}\u001b[39;00m\u001b[38;5;124m\"\u001b[39m)\n\u001b[1;32m---> 37\u001b[0m team_index \u001b[38;5;241m=\u001b[39m \u001b[38;5;28;43mint\u001b[39;49m\u001b[43m(\u001b[49m\u001b[38;5;28;43minput\u001b[39;49m\u001b[43m(\u001b[49m\u001b[38;5;124;43m\"\u001b[39;49m\u001b[38;5;124;43mSelecciona el número del equipo para elegir jugadores: \u001b[39;49m\u001b[38;5;124;43m\"\u001b[39;49m\u001b[43m)\u001b[49m\u001b[43m)\u001b[49m \u001b[38;5;241m-\u001b[39m \u001b[38;5;241m1\u001b[39m\n\u001b[0;32m     40\u001b[0m \u001b[38;5;28;01mif\u001b[39;00m \u001b[38;5;241m0\u001b[39m \u001b[38;5;241m<\u001b[39m\u001b[38;5;241m=\u001b[39m team_index \u001b[38;5;241m<\u001b[39m \u001b[38;5;28mlen\u001b[39m(teams_list):\n\u001b[0;32m     41\u001b[0m     team_name \u001b[38;5;241m=\u001b[39m teams_list[team_index]\n",
      "\u001b[1;31mValueError\u001b[0m: invalid literal for int() with base 10: ''"
     ]
    }
   ],
   "source": [
    "home_players = choose_teams(teams_list, players_dict)\n",
    "away_players = choose_teams(teams_list, players_dict)\n",
    "\n",
    "df_results_change = simulate_matches(500, home_players, away_players)"
   ]
  },
  {
   "cell_type": "code",
   "execution_count": 25,
   "metadata": {},
   "outputs": [],
   "source": [
    "df_results_change['winner'] = df_results_change.apply(\n",
    "    lambda row: row['home'] if row['goles_local'] > row['goles_visitante'] else\n",
    "                 row['away'] if row['goles_local'] < row['goles_visitante'] else\n",
    "                 'tie', axis=1\n",
    ")"
   ]
  },
  {
   "cell_type": "code",
   "execution_count": 26,
   "metadata": {},
   "outputs": [
    {
     "data": {
      "text/plain": [
       "winner\n",
       "tie                    662\n",
       "Manchester United      238\n",
       "Queens Park Rangers    100\n",
       "Name: count, dtype: int64"
      ]
     },
     "execution_count": 26,
     "metadata": {},
     "output_type": "execute_result"
    }
   ],
   "source": [
    "df_results_change['winner'].value_counts()"
   ]
  },
  {
   "cell_type": "code",
   "execution_count": 27,
   "metadata": {},
   "outputs": [],
   "source": [
    "counts_results = df_results['winner'].value_counts()\n",
    "counts_change = df_results_change['winner'].value_counts()"
   ]
  },
  {
   "cell_type": "code",
   "execution_count": 28,
   "metadata": {},
   "outputs": [
    {
     "data": {
      "text/plain": [
       "winner\n",
       "tie                    344\n",
       "Manchester United      119\n",
       "Queens Park Rangers     37\n",
       "Name: count, dtype: int64"
      ]
     },
     "execution_count": 28,
     "metadata": {},
     "output_type": "execute_result"
    }
   ],
   "source": [
    "counts_results"
   ]
  },
  {
   "cell_type": "code",
   "execution_count": 29,
   "metadata": {},
   "outputs": [
    {
     "data": {
      "text/plain": [
       "winner\n",
       "tie                    662\n",
       "Manchester United      238\n",
       "Queens Park Rangers    100\n",
       "Name: count, dtype: int64"
      ]
     },
     "execution_count": 29,
     "metadata": {},
     "output_type": "execute_result"
    }
   ],
   "source": [
    "counts_change"
   ]
  },
  {
   "cell_type": "code",
   "execution_count": 31,
   "metadata": {},
   "outputs": [],
   "source": [
    "df_counts_results = counts_results.reset_index()\n",
    "df_counts_results.columns = ['Result', 'Count']  "
   ]
  },
  {
   "cell_type": "code",
   "execution_count": 32,
   "metadata": {},
   "outputs": [],
   "source": [
    "df_counts_results_change = counts_change.reset_index()\n",
    "df_counts_results_change.columns = ['Result', 'Count']  "
   ]
  },
  {
   "cell_type": "code",
   "execution_count": 33,
   "metadata": {},
   "outputs": [],
   "source": [
    "df_combined = pd.merge(df_counts_results, df_counts_results_change, on='Result', how='outer')"
   ]
  },
  {
   "cell_type": "code",
   "execution_count": 34,
   "metadata": {},
   "outputs": [],
   "source": [
    "player = 'Van Persie'"
   ]
  },
  {
   "cell_type": "code",
   "execution_count": 35,
   "metadata": {},
   "outputs": [],
   "source": [
    "df_combined.columns = ['Winner','Amount' ,f'Amount w/o {player}']  "
   ]
  },
  {
   "cell_type": "code",
   "execution_count": 36,
   "metadata": {},
   "outputs": [
    {
     "data": {
      "text/html": [
       "<div>\n",
       "<style scoped>\n",
       "    .dataframe tbody tr th:only-of-type {\n",
       "        vertical-align: middle;\n",
       "    }\n",
       "\n",
       "    .dataframe tbody tr th {\n",
       "        vertical-align: top;\n",
       "    }\n",
       "\n",
       "    .dataframe thead th {\n",
       "        text-align: right;\n",
       "    }\n",
       "</style>\n",
       "<table border=\"1\" class=\"dataframe\">\n",
       "  <thead>\n",
       "    <tr style=\"text-align: right;\">\n",
       "      <th></th>\n",
       "      <th>Winner</th>\n",
       "      <th>Amount</th>\n",
       "      <th>Amount w/o Van Persie</th>\n",
       "    </tr>\n",
       "  </thead>\n",
       "  <tbody>\n",
       "    <tr>\n",
       "      <th>0</th>\n",
       "      <td>Manchester United</td>\n",
       "      <td>119</td>\n",
       "      <td>238</td>\n",
       "    </tr>\n",
       "    <tr>\n",
       "      <th>1</th>\n",
       "      <td>Queens Park Rangers</td>\n",
       "      <td>37</td>\n",
       "      <td>100</td>\n",
       "    </tr>\n",
       "    <tr>\n",
       "      <th>2</th>\n",
       "      <td>tie</td>\n",
       "      <td>344</td>\n",
       "      <td>662</td>\n",
       "    </tr>\n",
       "  </tbody>\n",
       "</table>\n",
       "</div>"
      ],
      "text/plain": [
       "                Winner  Amount  Amount w/o Van Persie\n",
       "0    Manchester United     119                    238\n",
       "1  Queens Park Rangers      37                    100\n",
       "2                  tie     344                    662"
      ]
     },
     "execution_count": 36,
     "metadata": {},
     "output_type": "execute_result"
    }
   ],
   "source": [
    "df_combined"
   ]
  },
  {
   "cell_type": "code",
   "execution_count": 37,
   "metadata": {},
   "outputs": [],
   "source": [
    "teams = df_combined['Winner'].unique()\n",
    "teams = teams.tolist()\n",
    "teams.remove('tie')"
   ]
  },
  {
   "cell_type": "code",
   "execution_count": 38,
   "metadata": {},
   "outputs": [],
   "source": [
    "new_index = ['win%', 'loss%', 'tie%', 'new win%', 'new loss%', 'new tie%']\n",
    "teams_current = [f'{teams[0]}', f'{teams[1]}']\n",
    "df_transposed = pd.DataFrame(index=new_index, columns=teams)\n",
    "\n",
    "total_games = df_combined['Amount'].sum()\n",
    "\n",
    "df_transposed.loc['win%', f'{teams[0]}'] = (df_combined.loc[0, 'Amount'] / total_games) * 100\n",
    "df_transposed.loc['win%', f'{teams[1]}'] = (df_combined.loc[1, 'Amount'] / total_games) * 100\n",
    "\n",
    "df_transposed.loc['tie%', f'{teams[0]}'] = (df_combined.loc[2, 'Amount'] / total_games) * 100\n",
    "df_transposed.loc['tie%', f'{teams[1]}'] = (df_combined.loc[2, 'Amount'] / total_games) * 100\n",
    "\n",
    "df_transposed.loc['loss%', f'{teams[0]}'] = df_transposed.loc['win%', f'{teams[1]}']\n",
    "df_transposed.loc['loss%', f'{teams[1]}'] = df_transposed.loc['win%', f'{teams[0]}']\n",
    "\n",
    "df_transposed.loc['new win%', f'{teams[0]}'] = (df_combined.loc[0, f'Amount w/o {player}'] / total_games) * 100\n",
    "df_transposed.loc['new win%', f'{teams[1]}'] = (df_combined.loc[1, f'Amount w/o {player}'] / total_games) * 100\n",
    "\n",
    "df_transposed.loc['new tie%', f'{teams[0]}'] = (df_combined.loc[2, f'Amount w/o {player}'] / total_games) * 100\n",
    "df_transposed.loc['new tie%', f'{teams[1]}'] = (df_combined.loc[2, f'Amount w/o {player}'] / total_games) * 100\n",
    "\n",
    "df_transposed.loc['new loss%', f'{teams[0]}'] = df_transposed.loc['new win%', f'{teams[1]}']\n",
    "df_transposed.loc['new loss%', f'{teams[1]}'] = df_transposed.loc['new win%', f'{teams[0]}']\n"
   ]
  },
  {
   "cell_type": "code",
   "execution_count": 39,
   "metadata": {},
   "outputs": [
    {
     "data": {
      "text/html": [
       "<div>\n",
       "<style scoped>\n",
       "    .dataframe tbody tr th:only-of-type {\n",
       "        vertical-align: middle;\n",
       "    }\n",
       "\n",
       "    .dataframe tbody tr th {\n",
       "        vertical-align: top;\n",
       "    }\n",
       "\n",
       "    .dataframe thead th {\n",
       "        text-align: right;\n",
       "    }\n",
       "</style>\n",
       "<table border=\"1\" class=\"dataframe\">\n",
       "  <thead>\n",
       "    <tr style=\"text-align: right;\">\n",
       "      <th></th>\n",
       "      <th>Manchester United</th>\n",
       "      <th>Queens Park Rangers</th>\n",
       "    </tr>\n",
       "  </thead>\n",
       "  <tbody>\n",
       "    <tr>\n",
       "      <th>win%</th>\n",
       "      <td>23.8</td>\n",
       "      <td>7.4</td>\n",
       "    </tr>\n",
       "    <tr>\n",
       "      <th>loss%</th>\n",
       "      <td>7.4</td>\n",
       "      <td>23.8</td>\n",
       "    </tr>\n",
       "    <tr>\n",
       "      <th>tie%</th>\n",
       "      <td>68.8</td>\n",
       "      <td>68.8</td>\n",
       "    </tr>\n",
       "    <tr>\n",
       "      <th>new win%</th>\n",
       "      <td>47.6</td>\n",
       "      <td>20.0</td>\n",
       "    </tr>\n",
       "    <tr>\n",
       "      <th>new loss%</th>\n",
       "      <td>20.0</td>\n",
       "      <td>47.6</td>\n",
       "    </tr>\n",
       "    <tr>\n",
       "      <th>new tie%</th>\n",
       "      <td>132.4</td>\n",
       "      <td>132.4</td>\n",
       "    </tr>\n",
       "  </tbody>\n",
       "</table>\n",
       "</div>"
      ],
      "text/plain": [
       "          Manchester United Queens Park Rangers\n",
       "win%                   23.8                 7.4\n",
       "loss%                   7.4                23.8\n",
       "tie%                   68.8                68.8\n",
       "new win%               47.6                20.0\n",
       "new loss%              20.0                47.6\n",
       "new tie%              132.4               132.4"
      ]
     },
     "execution_count": 39,
     "metadata": {},
     "output_type": "execute_result"
    }
   ],
   "source": [
    "df_transposed"
   ]
  },
  {
   "cell_type": "code",
   "execution_count": 40,
   "metadata": {},
   "outputs": [
    {
     "data": {
      "image/png": "[encoded data removed]",
      "text/plain": [
       "<Figure size 1200x600 with 1 Axes>"
      ]
     },
     "metadata": {},
     "output_type": "display_data"
    }
   ],
   "source": [
    "df_plot = df_transposed.transpose()\n",
    "df_plot.columns = ['Wins', 'Losses', 'Ties', 'New Wins', 'New Losses', 'New Ties']\n",
    "\n",
    "bar_width = 0.35  # Ancho de las barras\n",
    "x = np.arange(len(df_plot))  # Posiciones en el eje x\n",
    "\n",
    "fig, ax = plt.subplots(figsize=(12, 6))\n",
    "\n",
    "ax.bar(x - bar_width / 2, df_plot['Wins'], width=bar_width, label='Wins', color='green')\n",
    "ax.bar(x - bar_width / 2, df_plot['Ties'], width=bar_width, label='Ties', color='yellow', bottom=df_plot['Wins'])\n",
    "ax.bar(x - bar_width / 2, df_plot['Losses'], width=bar_width, label='Losses', color='red', bottom=df_plot['Wins'] + df_plot['Ties'])\n",
    "\n",
    "ax.bar(x + bar_width / 2, df_plot['New Wins'], width=bar_width, label='New Wins', color='green')\n",
    "ax.bar(x + bar_width / 2, df_plot['New Ties'], width=bar_width, label='New Ties', color='yellow', bottom=df_plot['New Wins'])\n",
    "ax.bar(x + bar_width / 2, df_plot['New Losses'], width=bar_width, label='New Losses', color='red', bottom=df_plot['New Wins'] + df_plot['New Ties'])\n",
    "\n",
    "ax.set_title('Comparación de Resultados: Antes y Después del Cambio')\n",
    "ax.set_ylabel('Porcentaje (%)')\n",
    "ax.set_xlabel('Equipos')\n",
    "ax.set_xticks(x)\n",
    "ax.set_xticklabels([f'{teams[0]}', f'{teams[1]}'])\n",
    "ax.legend(title='Resultados')\n",
    "\n",
    "plt.tight_layout()\n",
    "plt.show()"
   ]
  },
  {
   "cell_type": "code",
   "execution_count": 41,
   "metadata": {},
   "outputs": [
    {
     "data": {
      "image/png": "[encoded data removed]",
      "text/plain": [
       "<Figure size 1000x4000 with 11 Axes>"
      ]
     },
     "metadata": {},
     "output_type": "display_data"
    }
   ],
   "source": [
    "import matplotlib.pyplot as plt\n",
    "import seaborn as sns\n",
    "\n",
    "columns = df_results.columns\n",
    "plt.figure(figsize=(10,40))\n",
    "for i, column in enumerate(columns):\n",
    "    plt.subplot(len(columns), 1, i + 1)  \n",
    "    sns.histplot(df_results[column], kde=True, color='blue', label=f'{column} (Original)', stat='density')\n",
    "    sns.histplot(df_results_change[column], kde=True, color='red', label=f'{column} (Change)', stat='density')\n",
    "    plt.legend()\n",
    "    plt.title(f'Distribution of {column}')\n",
    "    \n",
    "plt.tight_layout()  \n",
    "plt.show()\n"
   ]
  },
  {
   "cell_type": "markdown",
   "metadata": {},
   "source": [
    "## Graficos"
   ]
  },
  {
   "cell_type": "code",
   "execution_count": null,
   "metadata": {},
   "outputs": [],
   "source": [
    "# def simulate_and_compare(teams_list, players_dict, num_matches=100):\n",
    "#     home_players = choose_teams(teams_list, players_dict)\n",
    "#     away_players = choose_teams(teams_list, players_dict)\n",
    "    \n",
    "#     df_results = simulate_matches(num_matches, home_players, away_players)\n",
    "\n",
    "#     home_players_change = choose_teams(teams_list, players_dict)\n",
    "#     away_players_change = choose_teams(teams_list, players_dict)\n",
    "    \n",
    "#     df_results_change = simulate_matches(num_matches, home_players_change, away_players_change)\n",
    "\n",
    "#     home_players_names = [player[0] for team, players in home_players.items() for player in players]\n",
    "#     away_players_names = [player[0] for team, players in away_players.items() for player in players]\n",
    "#     home_players_change_names = [player[0] for team, players in home_players_change.items() for player in players]\n",
    "#     away_players_change_names = [player[0] for team, players in away_players_change.items() for player in players]\n",
    "\n",
    "#     summary_data = {\n",
    "#         'home_players': home_players_names,\n",
    "#         'away_players': away_players_names,\n",
    "#         'home_players_change': home_players_change_names,\n",
    "#         'away_players_change': away_players_change_names,\n",
    "#     }\n",
    "    \n",
    "#     summary_data['home_player_diff'] = list(set(home_players_names) - set(home_players_change_names))\n",
    "#     summary_data['away_player_diff'] = list(set(away_players_names) - set(away_players_change_names))\n",
    "\n",
    "#     home_goals = df_results['goles_local'].mean()\n",
    "#     away_goals = df_results['goles_visitante'].mean()\n",
    "    \n",
    "#     home_goals_change = df_results_change['goles_local'].mean()\n",
    "#     away_goals_change = df_results_change['goles_visitante'].mean()\n",
    "\n",
    "#     summary_data.update({\n",
    "#         'home_goals': home_goals,\n",
    "#         'away_goals': away_goals,\n",
    "#         'home_goals_change': home_goals_change,\n",
    "#         'away_goals_change': away_goals_change,\n",
    "#         'home_goals_%_change': ((home_goals_change - home_goals) / home_goals) * 100 if home_goals != 0 else None,\n",
    "#         'away_goals_%_change': ((away_goals_change - away_goals) / away_goals) * 100 if away_goals != 0 else None,\n",
    "#     })\n",
    "\n",
    "#     home_shots = df_results['tiros_local'].mean()\n",
    "#     away_shots = df_results['tiros_visitante'].mean()\n",
    "    \n",
    "#     home_shots_change = df_results_change['tiros_local'].mean()\n",
    "#     away_shots_change = df_results_change['tiros_visitante'].mean()\n",
    "\n",
    "#     summary_data.update({\n",
    "#         'home_shots': home_shots,\n",
    "#         'away_shots': away_shots,\n",
    "#         'home_shots_change': home_shots_change,\n",
    "#         'away_shots_change': away_shots_change,\n",
    "#         'home_shots_%_change': ((home_shots_change - home_shots) / home_shots) * 100 if home_shots != 0 else None,\n",
    "#         'away_shots_%_change': ((away_shots_change - away_shots) / away_shots) * 100 if away_shots != 0 else None,\n",
    "#     })\n",
    "\n",
    "#     home_interceptions = df_results['quites_local'].mean()\n",
    "#     away_interceptions = df_results['quites_visitante'].mean()\n",
    "    \n",
    "#     home_interceptions_change = df_results_change['quites_local'].mean()\n",
    "#     away_interceptions_change = df_results_change['quites_visitante'].mean()\n",
    "\n",
    "#     summary_data.update({\n",
    "#         'home_interceptions': home_interceptions,\n",
    "#         'away_interceptions': away_interceptions,\n",
    "#         'home_interceptions_change': home_interceptions_change,\n",
    "#         'away_interceptions_change': away_interceptions_change,\n",
    "#         'home_interceptions_%_change': ((home_interceptions_change - home_interceptions) / home_interceptions) * 100 if home_interceptions != 0 else None,\n",
    "#         'away_interceptions_%_change': ((away_interceptions_change - away_interceptions) / away_interceptions) * 100 if away_interceptions != 0 else None,\n",
    "#     })\n",
    "\n",
    "#     # Calculate rival passes\n",
    "#     home_passes = df_results['pases_visitante'].mean()\n",
    "#     away_passes = df_results['pases_local'].mean()\n",
    "    \n",
    "#     home_passes_change = df_results_change['pases_visitante'].mean()\n",
    "#     away_passes_change = df_results_change['pases_local'].mean()\n",
    "\n",
    "#     summary_data.update({\n",
    "#         'home_passes': home_passes,\n",
    "#         'away_passes': away_passes,\n",
    "#         'home_passes_%_change': ((home_passes_change - home_passes) / home_passes) * 100 if home_passes != 0 else None,\n",
    "#         'away_passes_%_change': ((away_passes_change - away_passes) / away_passes) * 100 if away_passes != 0 else None,\n",
    "#     })\n",
    "\n",
    "#     home_goals_per_shot = df_results['goles_local'].sum() / df_results['tiros_local'].sum() if home_shots > 0 else None\n",
    "#     away_goals_per_shot = df_results['goles_visitante'].sum() / df_results['tiros_visitante'].sum() if home_shots > 0 else None\n",
    "    \n",
    "#     home_goals_per_shot_change = home_goals_change / home_shots_change if home_shots_change > 0 else None\n",
    "#     away_goals_per_shot_change = away_goals_change / away_shots_change if away_shots_change > 0 else None\n",
    "\n",
    "#     summary_data.update({\n",
    "#         'home_goals_per_shot': home_goals_per_shot,\n",
    "#         'away_goals_per_shot': away_goals_per_shot,\n",
    "#         'home_goals_per_shot_change': home_goals_per_shot_change,\n",
    "#         'away_goals_per_shot_change': away_goals_per_shot_change,\n",
    "#     })\n",
    "\n",
    "#     summary_df = pd.DataFrame([summary_data])\n",
    "#     return summary_df, df_results, df_results_change\n",
    "\n",
    "\n",
    "# summary_results_df = simulate_and_compare(teams_list, players_dict)\n"
   ]
  },
  {
   "cell_type": "code",
   "execution_count": null,
   "metadata": {},
   "outputs": [],
   "source": [
    "# summary_results_df[0].columns"
   ]
  },
  {
   "cell_type": "code",
   "execution_count": null,
   "metadata": {},
   "outputs": [],
   "source": [
    "# path = '/Users/luisalawson/Downloads/summary_results_df.xlsx'"
   ]
  },
  {
   "cell_type": "code",
   "execution_count": null,
   "metadata": {},
   "outputs": [],
   "source": [
    "# summary_results_df[0].to_excel(path, index = False)"
   ]
  },
  {
   "cell_type": "code",
   "execution_count": null,
   "metadata": {},
   "outputs": [],
   "source": [
    "# player_change = (summary_results_df[0]['away_player_diff'])[0]"
   ]
  },
  {
   "cell_type": "code",
   "execution_count": null,
   "metadata": {},
   "outputs": [],
   "source": [
    "# columnas = ['away_goals', 'away_goals_change']\n",
    "# porcentaje_cambio = 'away_goals_%_change'\n",
    "\n",
    "# fig, ax = plt.subplots(figsize=(10, 6))\n",
    "\n",
    "# bars = ax.bar(columnas, summary_results_df[columnas].iloc[0], color=['cornflowerblue', 'palevioletred'])\n",
    "\n",
    "# center_position = (bars[0].get_x() + bars[1].get_x() + bars[1].get_width()) / 2\n",
    "\n",
    "# ax.annotate(f'{summary_results_df[porcentaje_cambio].iloc[0]:.2f}%',\n",
    "#             xy=(center_position, max([bar.get_height() for bar in bars])),\n",
    "#             xytext=(0, 5),  \n",
    "#             textcoords='offset points',\n",
    "#             ha='center', va='bottom', color='red')\n",
    "\n",
    "# ax.set_ylabel('Goles Promedio', fontsize=12)\n",
    "# ax.set_ylim(0.0,2.5) #esto it cambiandolo para que se lea bien el numero con los limites del grafico\n",
    "\n",
    "# nuevas_etiquetas = [f'Con {player_change}', f'Sin {player_change} (reemplazo: ..)']\n",
    "# ax.set_xticklabels(nuevas_etiquetas, rotation=0, fontsize=11)\n",
    "\n",
    "# ax.set_title(f'Modificación de Goles MC - {player_change}', fontsize=14)\n",
    "# plt.show()"
   ]
  },
  {
   "cell_type": "code",
   "execution_count": null,
   "metadata": {},
   "outputs": [],
   "source": [
    "# columnas = ['away_shots', 'away_shots_change'] #cambiar segun analisis\n",
    "# porcentaje_cambio = 'away_shots_%_change' #cambiar segun analisis\n",
    "\n",
    "# fig, ax = plt.subplots(figsize=(10, 6))\n",
    "\n",
    "# bars = ax.bar(columnas, summary_results_df[columnas].iloc[0], color=['cornflowerblue', 'palevioletred'])\n",
    "\n",
    "# center_position = (bars[0].get_x() + bars[1].get_x() + bars[1].get_width()) / 2\n",
    "\n",
    "# ax.annotate(f'{summary_results_df[porcentaje_cambio].iloc[0]:.2f}%',\n",
    "#             xy=(center_position, max([bar.get_height() for bar in bars])),\n",
    "#             xytext=(0, 5),  \n",
    "#             textcoords='offset points',\n",
    "#             ha='center', va='bottom', color='red')\n",
    "\n",
    "# ax.set_ylabel('Tiros Promedio', fontsize=12) #cambiar segun analisis\n",
    "# ax.set_ylim(0,10.2) #esto it cambiandolo para que se lea bien el numero con los limites del grafico\n",
    "\n",
    "# nuevas_etiquetas = [f'Con {player_change}', f'Sin {player_change} (reemplazo: ..)']\n",
    "# ax.set_xticklabels(nuevas_etiquetas, rotation=0, fontsize=11)\n",
    "\n",
    "# ax.set_title(f'Modificación de Tiros LIV - {player_change}', fontsize=14)  #cambiar segun analisis\n",
    "# plt.show()"
   ]
  }
 ],
 "metadata": {
  "kernelspec": {
   "display_name": "Python 3",
   "language": "python",
   "name": "python3"
  },
  "language_info": {
   "codemirror_mode": {
    "name": "ipython",
    "version": 3
   },
   "file_extension": ".py",
   "mimetype": "text/x-python",
   "name": "python",
   "nbconvert_exporter": "python",
   "pygments_lexer": "ipython3",
   "version": "3.12.6"
  }
 },
 "nbformat": 4,
 "nbformat_minor": 2
}
