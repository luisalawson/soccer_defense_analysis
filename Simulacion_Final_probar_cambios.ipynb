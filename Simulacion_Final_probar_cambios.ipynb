{
 "cells": [
  {
   "cell_type": "markdown",
   "metadata": {},
   "source": [
    "## Simulación"
   ]
  },
  {
   "cell_type": "code",
   "execution_count": 762,
   "metadata": {},
   "outputs": [],
   "source": [
    "import random\n",
    "import numpy as np\n",
    "import os\n",
    "import pandas as pd\n",
    "from tqdm import tqdm \n",
    "import matplotlib.pyplot as plt\n",
    "from collections import defaultdict"
   ]
  },
  {
   "cell_type": "code",
   "execution_count": 763,
   "metadata": {},
   "outputs": [],
   "source": [
    "random.seed(42)\n",
    "\n",
    "class MatchSimulation:\n",
    "    def __init__(self, home_players_dict, away_players_dict,home_team = 'Custom Home Team', away_team='Custom Away Team'):\n",
    "        self.home_team = home_team\n",
    "        self.away_team = away_team\n",
    "\n",
    "        self.home_players = home_players_dict\n",
    "        self.away_players = away_players_dict\n",
    "        \n",
    "        self.match_duration = random.randint(100,110)\n",
    "        \n",
    "        self.base_path = '/Users/luisalawson/Downloads/data 2'\n",
    "        self.field = np.zeros((10, 10), dtype=int) \n",
    "        self.ball_position = [5, 5] \n",
    "\n",
    "        self.current_team = random.choice(['home', 'away']) \n",
    "        self.mins_played = 0 \n",
    "        self.score = {'home': 0, 'away': 0}  \n",
    "\n",
    "        self.interceptions = {'home': 0, 'away': 0}\n",
    "        self.passes = {'home': 0, 'away': 0}\n",
    "        self.shots = {'home': 0, 'away': 0}\n",
    "\n",
    "        self.home_team_matrixes = {\n",
    "            'pass_transition_matrix': np.zeros((10, 10, 10, 10)),\n",
    "            'pass_matrix':  np.zeros((10, 10)),\n",
    "            'shot_matrix': np.zeros((10, 10)),\n",
    "            'defense_matrix': np.zeros((10, 10)),\n",
    "            'goal_matrix': np.zeros((10, 10)),\n",
    "            'error_matrix': np.zeros((10, 10)),\n",
    "            'out_matrix': np.zeros((10, 10)),\n",
    "            'goalkeeper_matrix': np.zeros((10,10))\n",
    "            \n",
    "        }\n",
    "        self.away_team_matrixes = {\n",
    "            'pass_transition_matrix': np.zeros((10, 10, 10, 10)),\n",
    "            'pass_matrix':  np.zeros((10, 10)),\n",
    "            'shot_matrix': np.zeros((10, 10)),\n",
    "            'defense_matrix': np.zeros((10, 10)),\n",
    "            'goal_matrix': np.zeros((10, 10)),\n",
    "            'error_matrix': np.zeros((10, 10)),\n",
    "            'out_matrix': np.zeros((10, 10)),\n",
    "            'goalkeeper_matrix': np.zeros((10,10))  \n",
    "        }\n",
    "\n",
    "    def mirror_matrix(self, matrix):\n",
    "        \"\"\"Damos vuelta la matriz para que se enfrenten en el juego\"\"\"\n",
    "        return np.flip(matrix, axis=(0, 1))\n",
    "\n",
    "    def load_player_matrix(self, team_name, player_name, matrix_name):\n",
    "        \"\"\"Buscamos las matrices individuales (para armar al equipo)\"\"\"\n",
    "        if matrix_name != 'pass_transition_matrix':\n",
    "            matrix_path = os.path.join(self.base_path, team_name, player_name, f'{matrix_name}.csv')\n",
    "            matrix = np.loadtxt(matrix_path, delimiter=',')\n",
    "        else:\n",
    "            matrix_path = os.path.join(self.base_path, team_name, player_name, f'{matrix_name}.npy')\n",
    "            matrix = np.load(matrix_path)\n",
    "        return matrix\n",
    "    \n",
    "    def mirror_pass_transition_matrix(self,matrix):\n",
    "        mirrored_matrix = np.flip(matrix, axis=(1, 3))\n",
    "        mirrored_matrix = np.flip(mirrored_matrix, axis=(0, 2))\n",
    "        \n",
    "        return mirrored_matrix\n",
    "    def aggregate_team_matrices(self, team):\n",
    "        \"\"\"Sumamos las matrices para el equipo especificado\"\"\"\n",
    "        if team == 'home':\n",
    "            for team_name, players in self.home_players.items():\n",
    "                for player_name, _ in players:  \n",
    "                    self.home_team_matrixes['pass_transition_matrix'] += self.load_player_matrix(team_name, player_name, 'pass_transition_matrix')\n",
    "                    self.home_team_matrixes['pass_matrix'] += self.load_player_matrix(team_name, player_name, 'pass_matrix')\n",
    "                    self.home_team_matrixes['shot_matrix'] += self.load_player_matrix(team_name, player_name, 'shot_matrix')\n",
    "                    self.home_team_matrixes['defense_matrix'] += self.load_player_matrix(team_name, player_name, 'defense_matrix')\n",
    "                    self.home_team_matrixes['goal_matrix'] += self.load_player_matrix(team_name, player_name, 'goal_matrix')\n",
    "                    self.home_team_matrixes['error_matrix'] += self.load_player_matrix(team_name, player_name, 'errors_matrix')\n",
    "                    self.home_team_matrixes['out_matrix'] += self.load_player_matrix(team_name, player_name, 'out_matrix') \n",
    "                    self.home_team_matrixes['goalkeeper_matrix'] += self.load_player_matrix(team_name, player_name, 'goalkeeper_matrix') \n",
    "            \n",
    "            self.home_team_matrixes['goalkeeper_matrix'] = self.mirror_matrix(self.home_team_matrixes['goalkeeper_matrix'])\n",
    "           \n",
    "        elif team == 'away':\n",
    "            for team_name, players in self.away_players.items():\n",
    "                for player_name, _ in players:  \n",
    "                    self.away_team_matrixes['pass_transition_matrix'] += self.load_player_matrix(team_name, player_name, 'pass_transition_matrix')\n",
    "                    self.away_team_matrixes['pass_matrix'] += self.load_player_matrix(team_name, player_name, 'pass_matrix')\n",
    "                    self.away_team_matrixes['shot_matrix'] += self.load_player_matrix(team_name, player_name, 'shot_matrix')\n",
    "                    self.away_team_matrixes['defense_matrix'] += self.load_player_matrix(team_name, player_name, 'defense_matrix')\n",
    "                    self.away_team_matrixes['goal_matrix'] += self.load_player_matrix(team_name, player_name, 'goal_matrix')\n",
    "                    self.away_team_matrixes['error_matrix'] += self.load_player_matrix(team_name, player_name, 'errors_matrix')\n",
    "                    self.away_team_matrixes['out_matrix'] += self.load_player_matrix(team_name, player_name, 'out_matrix')  \n",
    "                    self.away_team_matrixes['goalkeeper_matrix'] += self.load_player_matrix(team_name, player_name, 'goalkeeper_matrix') \n",
    "            \n",
    "            self.away_team_matrixes['pass_transition_matrix'] = self.mirror_pass_transition_matrix(self.away_team_matrixes['pass_transition_matrix'])\n",
    "            self.away_team_matrixes['pass_matrix'] = self.mirror_matrix(self.away_team_matrixes['pass_matrix'])\n",
    "            self.away_team_matrixes['shot_matrix'] = self.mirror_matrix(self.away_team_matrixes['shot_matrix'])\n",
    "            self.away_team_matrixes['defense_matrix'] = self.mirror_matrix(self.away_team_matrixes['defense_matrix'])\n",
    "            self.away_team_matrixes['goal_matrix'] = self.mirror_matrix(self.away_team_matrixes['goal_matrix'])\n",
    "            self.away_team_matrixes['error_matrix'] = self.mirror_matrix(self.away_team_matrixes['error_matrix'])\n",
    "            self.away_team_matrixes['out_matrix'] = self.mirror_matrix(self.away_team_matrixes['out_matrix'])\n",
    "           \n",
    "        else:\n",
    "            print(f'Error con el equipo: {team}')\n",
    "\n",
    "\n",
    "    def get_team_data(self):\n",
    "        \"\"\"Cargar y preparar las matrices para los equipos\"\"\"\n",
    "        self.aggregate_team_matrices('home')\n",
    "        \n",
    "        self.aggregate_team_matrices('away')\n",
    "        \n",
    "\n",
    "    \n",
    "    def select_event(self, current_x, current_y):\n",
    "        \"\"\"Realizar un pase basado en la matriz de transiciones y seleccionar el evento con probabilidades acumuladas\"\"\"\n",
    "        if self.current_team =='home':\n",
    "            pass_probabilities = self.home_team_matrixes['pass_transition_matrix'][current_x, current_y]\n",
    "            prob_sum = np.sum(pass_probabilities)\n",
    "\n",
    "            if prob_sum > 0:\n",
    "                pass_probabilities = pass_probabilities / prob_sum\n",
    "            else:\n",
    "                pass_probabilities = np.ones_like(pass_probabilities) / pass_probabilities.size\n",
    "            possible_positions = [(i, j) for i in range(10) for j in range(10)]\n",
    "\n",
    "            next_position_index = np.random.choice(len(possible_positions), p=pass_probabilities.flatten())\n",
    "            next_position = possible_positions[next_position_index]\n",
    "\n",
    "            pass_probability_ = self.home_team_matrixes['pass_matrix'][current_x, current_y] \n",
    "            pass_probability = pass_probability_ if not np.isnan(pass_probability_) else 0\n",
    "            defense_probability_ = self.away_team_matrixes['defense_matrix'][current_x, current_y]\n",
    "            defense_probability = defense_probability_ if not np.isnan(defense_probability_) else 0\n",
    "            error_probability_ = self.home_team_matrixes['error_matrix'][current_x, current_y] \n",
    "            error_probability = error_probability_ if not np.isnan(error_probability_) else 0\n",
    "            goal_probability_ = self.home_team_matrixes['goal_matrix'][current_x, current_y]\n",
    "            goal_probability = goal_probability_ if not np.isnan(goal_probability_) else 0\n",
    "            shot_probability_ = (self.home_team_matrixes['shot_matrix'][current_x, current_y]) \n",
    "            shot_probability = shot_probability_ if not np.isnan(shot_probability_)  else 0\n",
    "            out_probability_ = self.home_team_matrixes['out_matrix'][current_x, current_y]\n",
    "            out_probability = out_probability_ if not np.isnan(out_probability_) else 0\n",
    "        \n",
    "            total_prob = pass_probability + defense_probability + error_probability + shot_probability  + out_probability + goal_probability\n",
    "            normalized_probs = [pass_probability / total_prob, \n",
    "                                defense_probability / total_prob, \n",
    "                                error_probability / total_prob, \n",
    "                                shot_probability / total_prob,\n",
    "                                out_probability / total_prob,\n",
    "                                goal_probability/total_prob\n",
    "            ]\n",
    "        \n",
    "\n",
    "            events = ['pass', 'interception', 'error', 'shot', 'out', 'goal']\n",
    "\n",
    "            selected_event = np.random.choice(events, p=normalized_probs)\n",
    "\n",
    "        else:\n",
    "            pass_probabilities = self.away_team_matrixes['pass_transition_matrix'][current_x, current_y]\n",
    "            prob_sum = np.sum(pass_probabilities)\n",
    "            \n",
    "            if prob_sum > 0:\n",
    "                pass_probabilities = pass_probabilities / prob_sum\n",
    "            else:\n",
    "                pass_probabilities = np.ones_like(pass_probabilities) / pass_probabilities.size\n",
    "            possible_positions = [(i, j) for i in range(10) for j in range(10)]\n",
    "\n",
    "            next_position_index = np.random.choice(len(possible_positions), p=pass_probabilities.flatten())\n",
    "            next_position = possible_positions[next_position_index]\n",
    "\n",
    "            pass_probability_ = self.away_team_matrixes['pass_matrix'][current_x, current_y] \n",
    "            pass_probability = pass_probability_ if not np.isnan(pass_probability_) else 0\n",
    "            defense_probability_ = self.home_team_matrixes['defense_matrix'][current_x, current_y]\n",
    "            defense_probability = defense_probability_ if not np.isnan(defense_probability_) else 0\n",
    "            error_probability_ = self.away_team_matrixes['error_matrix'][current_x, current_y] \n",
    "            error_probability = error_probability_ if not np.isnan(error_probability_) else 0\n",
    "            goal_probability_ = self.away_team_matrixes['goal_matrix'][current_x, current_y]\n",
    "            goal_probability = goal_probability_ if not np.isnan(goal_probability_) else 0\n",
    "            shot_probability_ = (self.away_team_matrixes['shot_matrix'][current_x, current_y]) \n",
    "            shot_probability = shot_probability_ if not np.isnan(shot_probability_) else 0\n",
    "            out_probability_ = self.away_team_matrixes['out_matrix'][current_x, current_y] \n",
    "            out_probability = out_probability_ if not np.isnan(out_probability_) else 0\n",
    "            \n",
    "           \n",
    "            total_prob = pass_probability + defense_probability + error_probability + shot_probability  + out_probability + goal_probability\n",
    "            normalized_probs = [pass_probability / total_prob, \n",
    "                                defense_probability / total_prob, \n",
    "                                error_probability / total_prob, \n",
    "                                shot_probability / total_prob,\n",
    "                                out_probability / total_prob,\n",
    "                                goal_probability/total_prob\n",
    "            ]\n",
    "        \n",
    "\n",
    "            events = ['pass', 'interception', 'error', 'shot', 'out', 'goal']\n",
    "            selected_event = np.random.choice(events, p=normalized_probs)\n",
    "\n",
    "        return selected_event, next_position,self.current_team\n",
    "\n",
    "    def change_possession(self):\n",
    "        self.current_team = 'home' if self.current_team == 'away' else 'away'\n",
    "\n",
    "    def restart_from_middle(self):\n",
    "        self.ball_position =[5,5]\n",
    "\n",
    "    def step(self):\n",
    "        events_per_minute = random.randint(8,12)\n",
    "        for _ in range(events_per_minute):\n",
    "            # print(f'Equipo posesion: {self.current_team}')\n",
    "            current_position = tuple(self.ball_position)\n",
    "            current_x, current_y = current_position\n",
    "            current_event, next_position, team = self.select_event(current_x, current_y)\n",
    "\n",
    "            if current_event == 'pass':\n",
    "                # print(f'Pase desde {current_position}')\n",
    "                self.passes[team] += 1\n",
    "                self.ball_position = next_position\n",
    "\n",
    "            elif current_event == 'error':\n",
    "                # print(f'Error en {current_position}')\n",
    "                self.ball_position = current_position\n",
    "                self.change_possession()\n",
    "\n",
    "            elif current_event == 'interception':\n",
    "                # print(f'Intercepcion en {current_position}')\n",
    "                self.ball_position = current_position\n",
    "                if team == 'home':\n",
    "                    self.interceptions['away'] += 1\n",
    "                else:\n",
    "                    self.interceptions['home'] += 1\n",
    "                self.change_possession()\n",
    "\n",
    "            elif current_event == 'shot':\n",
    "                # print(f'Tiro mal desde {current_position}')\n",
    "                self.shots[team] += 1\n",
    "                self.change_possession()\n",
    "                self.restart_from_sideline(current_position)\n",
    "            \n",
    "            elif current_event=='goal':\n",
    "                # print(f'Tiro al arco desde {current_position}')\n",
    "                goal_scored = self.shoot_ball_new(current_x, current_y)\n",
    "                self.shots[team] += 1\n",
    "                if goal_scored:\n",
    "                    # print('Gol')\n",
    "                    self.score[team] += 1\n",
    "                    self.change_possession()\n",
    "                    self.restart_from_middle()\n",
    "                else:\n",
    "                    self.change_possession()\n",
    "\n",
    "            elif current_event == 'out':\n",
    "                # print(f'Fuera desde {current_position}')\n",
    "                self.change_possession()\n",
    "                self.restart_from_sideline(current_position)\n",
    "\n",
    "        self.mins_played += 1\n",
    "\n",
    "    def restart_from_sideline(self, out_position):\n",
    "        \"\"\"Reinicia el juego desde el lado de la cancha más cercano\"\"\"\n",
    "        x, y = out_position\n",
    "        if x <= 4: \n",
    "            new_x = 0\n",
    "        else:  \n",
    "            new_x = 9\n",
    "        if y <= 4:  \n",
    "            new_y = 0\n",
    "        else:  \n",
    "            new_y = 9\n",
    "        self.ball_position = [new_x, new_y]\n",
    "\n",
    "    def shoot_ball_new(self, current_x, current_y):\n",
    "        if self.current_team == 'home':\n",
    "            if self.ball_position[0] < 5:\n",
    "                return False\n",
    "            save_prob_home_ = (self.away_team_matrixes['goalkeeper_matrix'][current_x,current_y]) \n",
    "            save_prob_home = save_prob_home_ if not np.isnan(save_prob_home_) else 0\n",
    "            normalized_probs = [ 1-save_prob_home, save_prob_home] \n",
    "            events = ['goal', 'save']\n",
    "            selected_event = np.random.choice(events, p=normalized_probs)\n",
    "            if selected_event == 'goal':\n",
    "                return True\n",
    "            else:\n",
    "                return False\n",
    "        else:\n",
    "            if self.ball_position[0] > 5:\n",
    "                return False\n",
    "            save_prob_away_ = (self.home_team_matrixes['goalkeeper_matrix'][current_x,current_y]) \n",
    "            save_prob_away = save_prob_away_ if not np.isnan(save_prob_away_) else 0\n",
    "            normalized_probs = [ 1-save_prob_away, save_prob_away] \n",
    "            events = ['goal', 'save']\n",
    "            selected_event = np.random.choice(events, p=normalized_probs)\n",
    "            if selected_event == 'goal':\n",
    "                return True\n",
    "            else:\n",
    "                return False\n",
    "            \n",
    "    # def shoot_ball(self, current_x, current_y):\n",
    "    #         \"\"\"Evaluar el resultado de un tiro considerando gol, defensa y error, con un enfoque más conservador\"\"\"\n",
    "    #         if self.current_team == 'home':\n",
    "    #             goal_probability_home = (self.home_team_matrixes['goal_matrix'][current_x, current_y]) * self.match_duration\n",
    "    #             goal_probability_total_home_ = np.sum(self.home_team_matrixes['goal_matrix'] * self.match_duration)\n",
    "    #             goal_probability_total_home = goal_probability_total_home_ if goal_probability_total_home_>=1 else 1                \n",
    "    #             goal_prob_home = goal_probability_home /goal_probability_total_home\n",
    "\n",
    "    #             save_prob_home = (self.away_team_matrixes['goalkeeper_matrix'][current_x,current_y]) \n",
    "                \n",
    "    \n",
    "    #             defense_probability_ = self.away_team_matrixes['defense_matrix'][current_x, current_y]\n",
    "    #             defense_probability = defense_probability_ if not np.isnan(defense_probability_) else 0\n",
    "    #             defense_probability_total_home = np.sum(self.away_team_matrixes['defense_matrix'] * self.match_duration)\n",
    "    #             defense_probability = defense_probability_/defense_probability_total_home\n",
    "\n",
    "    #             total_prob = goal_prob_home*(1-(defense_probability)) + (save_prob_home)\n",
    "                \n",
    "    #             if total_prob == 0:\n",
    "    #                 return False\n",
    "                \n",
    "    #             normalized_probs = [(goal_prob_home*(1-(defense_probability))) / total_prob, \n",
    "    #                                 (save_prob_home) / total_prob]\n",
    "                \n",
    "    #             events = ['goal', 'save']\n",
    "    #             selected_event = np.random.choice(events, p=normalized_probs)\n",
    "    #             if selected_event == 'goal':\n",
    "    #                 return True\n",
    "    #             else:\n",
    "    #                 return False\n",
    "            \n",
    "    #         if self.current_team == 'away':\n",
    "    #             goal_probability_away = (self.away_team_matrixes['goal_matrix'][current_x, current_y]) * self.match_duration\n",
    "    #             goal_probability_total_away_ = np.sum(self.away_team_matrixes['goal_matrix'] * self.match_duration)\n",
    "    #             goal_probability_total_away = goal_probability_total_away_ if goal_probability_total_away_>=1 else 1\n",
    "    #             goal_prob_away = goal_probability_away/goal_probability_total_away\n",
    "\n",
    "\n",
    "    #             save_prob_away = (self.home_team_matrixes['goalkeeper_matrix'][current_x,current_y]) \n",
    "                \n",
    "    #             defense_probability_ = self.home_team_matrixes['defense_matrix'][current_x, current_y]\n",
    "    #             defense_probability = defense_probability_ if not np.isnan(defense_probability_) else 0\n",
    "    #             defense_probability_total_home = np.sum(self.home_team_matrixes['defense_matrix'] * self.match_duration)\n",
    "    #             defense_probability = defense_probability_/defense_probability_total_home\n",
    "\n",
    "    #             total_prob = goal_prob_away*(1-(defense_probability)) + (save_prob_away)\n",
    "    #             if total_prob == 0:\n",
    "    #                 return False\n",
    "    #             normalized_probs = [(goal_prob_away*(1-(defense_probability))) / total_prob, \n",
    "    #                                 (save_prob_away) / total_prob]\n",
    "            \n",
    "    #             events = ['goal', 'save']\n",
    "    #             selected_event = np.random.choice(events, p=normalized_probs)\n",
    "\n",
    "    #             if selected_event == 'goal':\n",
    "    #                 return True\n",
    "    #             else:\n",
    "    #                 return False\n",
    "                \n",
    "    def play_match(self):\n",
    "        self.get_team_data()\n",
    "        while self.mins_played < self.match_duration:\n",
    "            # print(f'Minuto: {self.mins_played} ------- ')\n",
    "            self.step()\n",
    "        \n",
    "        return {\n",
    "            'home': self.home_team,\n",
    "            'away': self.away_team,\n",
    "            'goles_local': self.score['home'],\n",
    "            'goles_visitante': self.score['away'],\n",
    "            'tiros_local': self.shots['home'],\n",
    "            'tiros_visitante': self.shots['away'],\n",
    "            'pases_local': self.passes['home'],\n",
    "            'pases_visitante': self.passes['away'],\n",
    "            'quites_local': self.interceptions['home'],\n",
    "            'quites_visitante': self.interceptions['away']\n",
    "        }"
   ]
  },
  {
   "cell_type": "markdown",
   "metadata": {},
   "source": [
    "## Manchester United vs Chelsea"
   ]
  },
  {
   "cell_type": "markdown",
   "metadata": {},
   "source": [
    "Seteamos los equipos y sus planteles (los sacamos en base al 11 titular mas elegido en la temporada)"
   ]
  },
  {
   "cell_type": "code",
   "execution_count": 764,
   "metadata": {},
   "outputs": [],
   "source": [
    "def get_initial_11(team):\n",
    "    base_path = '/Users/luisalawson/Downloads/'\n",
    "    team_data_path = os.path.join(base_path, f'{team}_summary.csv')\n",
    "    try:\n",
    "        df = pd.read_csv(team_data_path)\n",
    "        df = df.sort_values(by='Starting_XI', ascending=False)\n",
    "        return df['PlayerName'][:11].tolist()\n",
    "    except FileNotFoundError:\n",
    "        return None\n",
    "    except Exception as e:\n",
    "        return None"
   ]
  },
  {
   "cell_type": "code",
   "execution_count": 765,
   "metadata": {},
   "outputs": [],
   "source": [
    "def get_team_players(team):\n",
    "    base_path = '/Users/luisalawson/Downloads/'\n",
    "    team_data_path = os.path.join(base_path, f'{team}_summary.csv')\n",
    "    try:\n",
    "        df = pd.read_csv(team_data_path)\n",
    "        df = df.sort_values(by='Starting_XI', ascending=False)\n",
    "        return df['PlayerName'].tolist()\n",
    "    except FileNotFoundError:\n",
    "        print(f'Error: El archivo {team}_summary.csv no se encontró en la carpeta de {team}.')\n",
    "        return None\n",
    "    except Exception as e:\n",
    "        print(f'Error al cargar el archivo para {team}: {str(e)}')\n",
    "        return None"
   ]
  },
  {
   "cell_type": "code",
   "execution_count": null,
   "metadata": {},
   "outputs": [],
   "source": [
    "def choose_teams(teams_list, players_data):\n",
    "    print(\"¿Cómo deseas elegir tu equipo?\")\n",
    "    print(\"1. Elegir un equipo completo\")\n",
    "    print(\"2. Seleccionar jugadores individuales de diferentes equipos\")\n",
    "\n",
    "    choice = input(\"Ingresa el número de tu elección (1 o 2): \")\n",
    "\n",
    "    players_dict = defaultdict(list)  # Creamos el diccionario para almacenar la selección de jugadores\n",
    "\n",
    "    if choice == '1':\n",
    "        # Elegir un equipo completo\n",
    "        print(\"Equipos disponibles:\")\n",
    "        for idx, team in enumerate(teams_list, start=1):\n",
    "            print(f\"{idx}. {team}\")\n",
    "\n",
    "        team_index = int(input(\"Selecciona el número del equipo que deseas elegir: \")) - 1\n",
    "\n",
    "        if 0 <= team_index < len(teams_list):\n",
    "            team_name = teams_list[team_index]\n",
    "            selected_players = get_initial_11(team_name)  # Llama a la función que devuelve el equipo titular\n",
    "            players_dict[team_name] = [(player, 'full_period') for player in selected_players]\n",
    "            print(f\"\\nEquipo titular seleccionado para {team_name}: {selected_players}\")\n",
    "        else:\n",
    "            print(\"Selección de equipo inválida.\")\n",
    "\n",
    "    elif choice == '2':\n",
    "        while sum(len(players) for players in players_dict.values()) < 11:\n",
    "            print(\"Equipos disponibles:\")\n",
    "            for idx, team in enumerate(teams_list, start=1):\n",
    "                print(f\"{idx}. {team}\")\n",
    "\n",
    "            team_index = int(input(\"Selecciona el número del equipo para elegir jugadores: \")) - 1\n",
    "    \n",
    "\n",
    "            if 0 <= team_index < len(teams_list):\n",
    "                team_name = teams_list[team_index]\n",
    "                available_players = [player for player in players_data[team_name] \n",
    "                                     if player not in [p[0] for players in players_dict.values() for p in players]]\n",
    "\n",
    "                while True:\n",
    "                    print(f\"Jugadores disponibles en {team_name}:\")\n",
    "                    for idx, player in enumerate(available_players, start=1):\n",
    "                        print(f\"{idx}. {player}\")\n",
    "\n",
    "                    player_index = int(input(\"Selecciona el número del jugador que deseas agregar (o 0 para cambiar de equipo): \")) - 1\n",
    "\n",
    "                    if player_index == -1:\n",
    "                        \n",
    "                        break\n",
    "                    elif 0 <= player_index < len(available_players):\n",
    "                        players_dict[team_name].append((available_players[player_index], 'custom_period'))\n",
    "                        print(f\"Jugador {available_players[player_index]} agregado a tu equipo.\")\n",
    "                        print(f\"Jugadores seleccionados: {sum(len(players) for players in players_dict.values())} / 11\\n\")\n",
    "\n",
    "                        # Actualizar la lista de jugadores disponibles\n",
    "                        available_players.pop(player_index)\n",
    "\n",
    "                        # Si se alcanzan los 11 jugadores, salir del bucle\n",
    "                        if sum(len(players) for players in players_dict.values()) == 11:\n",
    "                            break\n",
    "                    else:\n",
    "                        print(\"Selección de jugador no válida.\")\n",
    "            else:\n",
    "                print(\"Selección de equipo no válida.\")\n",
    "\n",
    "        if sum(len(players) for players in players_dict.values()) == 11:\n",
    "            print(\"\\nHas completado tu equipo:\")\n",
    "        else:\n",
    "            print(\"\\nNo has completado los 11 jugadores, pero esta es tu selección final:\")\n",
    "        print(players_dict)\n",
    "\n",
    "    else:\n",
    "        print(\"Opción inválida. Por favor, elige 1 o 2.\")\n",
    "\n",
    "    return players_dict"
   ]
  },
  {
   "cell_type": "code",
   "execution_count": 767,
   "metadata": {},
   "outputs": [],
   "source": [
    "teams_list = ['Manchester United', 'Manchester City', 'Chelsea', 'Arsenal',\n",
    "       'Tottenham Hotspur', 'Everton', 'Liverpool',\n",
    "       'West Bromwich Albion', 'Swansea City', 'West Ham United',\n",
    "       'Norwich City', 'Fulham', 'Stoke City', 'Southampton',\n",
    "       'Aston Villa', 'Newcastle United', 'Sunderland', 'Wigan Athletic',\n",
    "       'Reading', 'Queens Park Rangers']"
   ]
  },
  {
   "cell_type": "code",
   "execution_count": 768,
   "metadata": {},
   "outputs": [],
   "source": [
    "players_dict = defaultdict(list)\n",
    "\n",
    "for team in teams_list:\n",
    "    players = get_team_players(team)\n",
    "    if players:  \n",
    "        players_dict[team] = players"
   ]
  },
  {
   "cell_type": "markdown",
   "metadata": {},
   "source": [
    "## Completo"
   ]
  },
  {
   "cell_type": "code",
   "execution_count": 769,
   "metadata": {},
   "outputs": [],
   "source": [
    "random.seed(42)\n",
    "def simulate_matches(num_matches, home_players, away_players):\n",
    "    results = []\n",
    "    for _ in tqdm(range(num_matches), desc=\"Simulando partidos\", unit=\"partido\"):\n",
    "        home_team_name = list(home_players.keys())[0] if len(home_players) == 1 else None\n",
    "        away_team_name = list(away_players.keys())[0] if len(away_players) == 1 else None\n",
    "        if home_team_name == None and away_team_name == None:\n",
    "            simulation = MatchSimulation(home_players, away_players)\n",
    "        elif home_team_name != None and away_team_name == None:\n",
    "            simulation = MatchSimulation(home_players, away_players, home_team=home_team_name)\n",
    "        elif home_team_name == None and away_team_name != None:\n",
    "            simulation = MatchSimulation(home_players, away_players, away_team=away_team_name)\n",
    "        else:\n",
    "            simulation = MatchSimulation(home_players, away_players, home_team= home_team_name, away_team= away_team_name)\n",
    "        result = simulation.play_match()\n",
    "        results.append(result)\n",
    "    return pd.DataFrame(results)"
   ]
  },
  {
   "cell_type": "code",
   "execution_count": null,
   "metadata": {},
   "outputs": [],
   "source": [
    "from itertools import combinations\n",
    "import pandas as pd\n",
    "\n",
    "def simulate_all_matches(teams_list, players_data):\n",
    "\n",
    "    matches = list(combinations(teams_list, 2))  \n",
    "    results = []  \n",
    "    all_matches_df = pd.DataFrame()  \n",
    "\n",
    "    initial_11_dict = {team: get_initial_11(team) for team in teams_list}\n",
    "\n",
    "    for team, initial_11 in initial_11_dict.items():\n",
    "        print(f\"Jugadores iniciales de {team}: {initial_11}\")\n",
    "\n",
    "    for team1, team2 in matches:\n",
    "        team1_players = {team1: [(player, 'full_period') for player in initial_11_dict[team1]]}\n",
    "        team2_players = {team2: [(player, 'full_period') for player in initial_11_dict[team2]]}\n",
    "        \n",
    "        print(f\"\\nSimulando partido entre {team1} y {team2}...\")\n",
    "\n",
    "        match_result_df = simulate_matches(10, team1_players, team2_players)\n",
    "        \n",
    "        match_result_df['winner'] = match_result_df.apply(\n",
    "            lambda row: row['home'] if row['goles_local'] > row['goles_visitante'] else\n",
    "                        row['away'] if row['goles_local'] < row['goles_visitante'] else\n",
    "                        'tie', axis=1\n",
    "        )\n",
    "\n",
    "        match_result_df['match'] = f'{team1} vs {team2}'\n",
    "\n",
    "        all_matches_df = pd.concat([all_matches_df, match_result_df], ignore_index=True)\n",
    "\n",
    "        total_games = match_result_df.shape[0]\n",
    "        win_counts = match_result_df['winner'].value_counts()\n",
    "        win_pct_team1 = (win_counts.get(team1, 0) / total_games) * 100\n",
    "        win_pct_team2 = (win_counts.get(team2, 0) / total_games) * 100\n",
    "        tie_pct = (win_counts.get('tie', 0) / total_games) * 100\n",
    "        loss_pct_team1 = win_pct_team2  \n",
    "        loss_pct_team2 = win_pct_team1\n",
    "\n",
    "        new_index = ['win%', 'loss%', 'tie%', 'avg_goles', 'avg_tiros', 'avg_pases', 'avg_quites'] \n",
    "        teams_current = [team1, team2]\n",
    "        df_transposed = pd.DataFrame(index=new_index, columns=teams_current)\n",
    "        \n",
    "        df_transposed.loc['win%', team1] = win_pct_team1\n",
    "        df_transposed.loc['loss%', team1] = loss_pct_team1\n",
    "        df_transposed.loc['tie%', team1] = tie_pct\n",
    "        df_transposed.loc['win%', team2] = win_pct_team2\n",
    "        df_transposed.loc['loss%', team2] = loss_pct_team2\n",
    "        df_transposed.loc['tie%', team2] = tie_pct\n",
    "\n",
    "        df_transposed.loc['avg_goles', team1] = match_result_df['goles_local'].mean()\n",
    "        df_transposed.loc['avg_goles', team2] = match_result_df['goles_visitante'].mean()\n",
    "        df_transposed.loc['avg_tiros', team1] = match_result_df['tiros_local'].mean()\n",
    "        df_transposed.loc['avg_tiros', team2] = match_result_df['tiros_visitante'].mean()\n",
    "        df_transposed.loc['avg_pases', team1] = match_result_df['pases_local'].mean()\n",
    "        df_transposed.loc['avg_pases', team2] = match_result_df['pases_visitante'].mean()\n",
    "        df_transposed.loc['avg_quites', team1] = match_result_df['quites_local'].mean()\n",
    "        df_transposed.loc['avg_quites', team2] = match_result_df['quites_visitante'].mean()\n",
    "\n",
    "        results.append(df_transposed)\n",
    "\n",
    "    all_results = pd.concat(results, keys=[f'{team1} vs {team2}' for team1, team2 in matches])\n",
    "\n",
    "    return all_matches_df, all_results"
   ]
  },
  {
   "cell_type": "code",
   "execution_count": 771,
   "metadata": {},
   "outputs": [
    {
     "name": "stdout",
     "output_type": "stream",
     "text": [
      "Jugadores iniciales de Manchester United: ['van Persie, Robin', 'Carrick, Michael', 'Evra, Patrice', 'Welbeck, Danny', 'de Gea, David', 'Rooney, Wayne', 'Valencia, Luis Antonio', 'Evans, Jonny', 'Ferdinand, Rio', 'Cleverley, Tom', 'Giggs, Ryan']\n",
      "Jugadores iniciales de Manchester City: ['Hart, Joe', 'Aguero, Sergio', 'Toure, Gnegneri Yaya', 'Silva, David', 'Dzeko, Edin', 'Lescott, Joleon', 'Barry, Gareth', 'Nasri, Samir', 'Richards, Micah', 'Clichy, Gael', 'Kompany, Vincent']\n",
      "Jugadores iniciales de Chelsea: ['Mata, Juan', 'dos Santos Emboada Junior, Oscar', 'Hazard, Eden', 'Santos do Nascimento, Ramires', 'Cech, Petr', 'Torres, Fernando', 'Ivanovic, Branislav', 'Luiz Moreira Marinho, David', 'Cole, Ashley', 'Lampard, Frank', 'Cahill, Gary']\n",
      "Jugadores iniciales de Arsenal: ['Cazorla, Santiago', 'Podolski, Lukas', 'Walcott, Theo', 'Giroud, Olivier', 'Ramsey, Aaron', 'Mertesacker, Per', 'Arteta, Mikel', 'Vermaelen, Thomas', 'Szczesny, Wojciech', 'Gibbs, Kieran', 'Sagna, Bacary']\n",
      "Jugadores iniciales de Tottenham Hotspur: ['Walker, Kyle', 'Defoe, Jermain', 'Sigurdsson, Gylfi', 'Vertonghen, Jan', 'Dembele, Mousa', 'Lennon, Aaron', 'Adebayor, Emmanuel', 'Bale, Gareth', 'Lloris, Hugo', 'Gallas, William', 'Dawson, Michael']\n",
      "Jugadores iniciales de Everton: ['Baines, Leighton', 'Osman, Leon', 'Jelavic, Nikica', 'Distin, Sylvain', 'Jagielka, Phil', 'Howard, Tim', 'Pienaar, Steven', 'Fellaini, Marouane', 'Naismith, Steven', 'Mirallas, Kevin', 'Heitinga, Johnny']\n",
      "Jugadores iniciales de Liverpool: ['Johnson, Glen', 'Gerrard, Steven', 'Agger, Daniel', 'Suarez, Luis', 'Reina, Jose', 'Enrique Sanchez Diaz, Jose', 'Henderson, Jordan', 'Skrtel, Martin', 'Leiva, Lucas', 'Sturridge, Daniel', 'Downing, Stewart']\n",
      "Jugadores iniciales de West Bromwich Albion: ['McAuley, Gareth', 'Olsson, Jonas', 'Morrison, James', 'Long, Shane', 'Lukaku, Romelu', 'Yacob, Claudio', 'Foster, Ben', 'Brunt, Chris', 'Ridgewell, Liam', 'Mulumbu, Youssuf', 'Jones, Billy']\n",
      "Jugadores iniciales de Swansea City: ['Williams, Ashley', 'Routledge, Wayne', 'Davies, Ben', 'De Guzman, Jonathan', 'Perez Cuesta, Miguel', 'Dyer, Nathan', 'Britton, Leon', 'Rangel, Angel', 'Hernandez, Pablo', 'Vorm, Michel', 'Flores Moreno, Jose Manuel']\n",
      "Jugadores iniciales de West Ham United: ['Reid, Winston', 'Jaaskelainen, Jussi', 'Nolan, Kevin', 'Diame, Mohamed', \"O'Brien, Joey\", 'Noble, Mark', 'Taylor, Matthew', 'Collins, James', 'Demel, Guy', 'Jarvis, Matthew', 'Maiga, Modibo']\n",
      "Jugadores iniciales de Norwich City: ['Johnson, Bradley', 'Garrido, Javier', 'Snodgrass, Robert', 'Bassong, Sebastien', 'Holt, Grant', 'Hoolahan, Wes', 'Pilkington, Anthony', 'Martin, Russell', 'Turner, Michael', 'Bennett, Ryan', 'Bunn, Mark']\n",
      "Jugadores iniciales de Fulham: ['Schwarzer, Mark', 'Riether, Sascha', 'Hangeland, Brede', 'Riise, John Arne', 'Ruiz, Bryan', 'Karagounis, Giorgos', 'Petric, Mladen', 'Sidwell, Steve', 'Duff, Damien', 'Hughes, Aaron', 'Berbatov, Dimitar']\n",
      "Jugadores iniciales de Stoke City: ['Walters, Jonathan', 'Begovic, Asmir', \"N'Zonzi, Steven\", 'Shawcross, Ryan', 'Cameron, Geoff', 'Crouch, Peter', 'Huth, Robert', 'Whelan, Glenn', 'Wilkinson, Andy', 'Jerome, Cameron', 'Shotton, Ryan']\n",
      "Jugadores iniciales de Southampton: ['Schneiderlin, Morgan', 'Lambert, Rickie', 'Clyne, Nathaniel', 'Yoshida, Maya', 'Rodriguez, Jay', 'Puncheon, Jason', 'Fonte, Jose', 'Lallana, Adam', 'Davis, Steven', 'Hooiveld, Jos', 'Boruc, Artur']\n",
      "Jugadores iniciales de Aston Villa: ['Lowton, Matthew', 'Benteke, Christian', 'Guzan, Brad', 'Weimann, Andreas', 'Clark, Ciaran', 'Vlaar, Ron', 'Agbonlahor, Gabriel', 'Holman, Brett', \"N'Zogbia, Charles\", 'Bennett, Joe', 'Albrighton, Marc']\n",
      "Jugadores iniciales de Newcastle United: ['Cisse, Papiss Demba', 'Gutierrez, Jonas', 'Santon, Davide', 'Cabaye, Yohan', 'Krul, Tim', 'Ba, Demba', 'Taylor, Steven', 'Marveaux, Sylvain', 'Perch, James', 'Bigirimana, Gael', 'Coloccini, Fabricio']\n",
      "Jugadores iniciales de Sunderland: ['Larsson, Sebastian', 'Mignolet, Simon', 'McClean, James', 'Colback, Jack', 'Johnson, Adam', 'Sessegnon, Stephane', \"O'Shea, John\", 'Graham, Danny', 'Fletcher, Steven', 'Rose, Danny', 'Cuellar, Carlos']\n",
      "Jugadores iniciales de Wigan Athletic: ['McCarthy, James', 'Boyce, Emmerson', 'Maloney, Shaun', 'Kone, Arouna', 'McArthur, James', 'Beausejour, Jean', 'Figueroa, Maynor', 'Al-Habsi, Ali', 'Caldwell, Gary', 'Gomez Garcia-Penche, Jordi', 'McManaman, Callum']\n",
      "Jugadores iniciales de Reading: ['McAnuff, Jobi', 'Le Fondre, Adam', 'McCleary, Garath', 'Pogrebnyak, Pavel', 'Mariappa, Adrian', 'Leigertwood, Mikele', 'Federici, Adam', 'Robson-Kanu, Hal', 'Shorey, Nicholas', 'Pearce, Alex', 'Gunter, Chris']\n",
      "Jugadores iniciales de Queens Park Rangers: ['Taarabt, Adel', 'Hill, Clint', 'Mbia, Stephane', 'Mackie, Jamie', 'Traore, Armand', 'Onuoha, Nedum', 'Cesar, Julio', 'Park, Ji-Sung', 'Remy, Loic', 'Diakite, Samba', 'Granero, Esteban']\n",
      "\n",
      "Simulando partido entre Manchester United y Manchester City...\n"
     ]
    },
    {
     "name": "stderr",
     "output_type": "stream",
     "text": [
      "Simulando partidos: 100%|██████████| 10/10 [00:01<00:00,  8.20partido/s]\n"
     ]
    },
    {
     "name": "stdout",
     "output_type": "stream",
     "text": [
      "\n",
      "Simulando partido entre Manchester United y Chelsea...\n"
     ]
    },
    {
     "name": "stderr",
     "output_type": "stream",
     "text": [
      "Simulando partidos: 100%|██████████| 10/10 [00:01<00:00,  8.79partido/s]\n"
     ]
    },
    {
     "name": "stdout",
     "output_type": "stream",
     "text": [
      "\n",
      "Simulando partido entre Manchester United y Arsenal...\n"
     ]
    },
    {
     "name": "stderr",
     "output_type": "stream",
     "text": [
      "Simulando partidos: 100%|██████████| 10/10 [00:01<00:00,  8.28partido/s]\n"
     ]
    },
    {
     "name": "stdout",
     "output_type": "stream",
     "text": [
      "\n",
      "Simulando partido entre Manchester United y Tottenham Hotspur...\n"
     ]
    },
    {
     "name": "stderr",
     "output_type": "stream",
     "text": [
      "Simulando partidos: 100%|██████████| 10/10 [00:01<00:00,  8.81partido/s]\n"
     ]
    },
    {
     "name": "stdout",
     "output_type": "stream",
     "text": [
      "\n",
      "Simulando partido entre Manchester United y Everton...\n"
     ]
    },
    {
     "name": "stderr",
     "output_type": "stream",
     "text": [
      "Simulando partidos: 100%|██████████| 10/10 [00:01<00:00,  7.07partido/s]\n"
     ]
    },
    {
     "name": "stdout",
     "output_type": "stream",
     "text": [
      "\n",
      "Simulando partido entre Manchester United y Liverpool...\n"
     ]
    },
    {
     "name": "stderr",
     "output_type": "stream",
     "text": [
      "Simulando partidos: 100%|██████████| 10/10 [00:01<00:00,  7.04partido/s]\n"
     ]
    },
    {
     "name": "stdout",
     "output_type": "stream",
     "text": [
      "\n",
      "Simulando partido entre Manchester United y West Bromwich Albion...\n"
     ]
    },
    {
     "name": "stderr",
     "output_type": "stream",
     "text": [
      "Simulando partidos: 100%|██████████| 10/10 [00:01<00:00,  7.94partido/s]\n"
     ]
    },
    {
     "name": "stdout",
     "output_type": "stream",
     "text": [
      "\n",
      "Simulando partido entre Manchester United y Swansea City...\n"
     ]
    },
    {
     "name": "stderr",
     "output_type": "stream",
     "text": [
      "Simulando partidos: 100%|██████████| 10/10 [00:01<00:00,  8.10partido/s]\n"
     ]
    },
    {
     "name": "stdout",
     "output_type": "stream",
     "text": [
      "\n",
      "Simulando partido entre Manchester United y West Ham United...\n"
     ]
    },
    {
     "name": "stderr",
     "output_type": "stream",
     "text": [
      "Simulando partidos: 100%|██████████| 10/10 [00:01<00:00,  7.18partido/s]\n"
     ]
    },
    {
     "name": "stdout",
     "output_type": "stream",
     "text": [
      "\n",
      "Simulando partido entre Manchester United y Norwich City...\n"
     ]
    },
    {
     "name": "stderr",
     "output_type": "stream",
     "text": [
      "Simulando partidos: 100%|██████████| 10/10 [00:01<00:00,  8.75partido/s]\n"
     ]
    },
    {
     "name": "stdout",
     "output_type": "stream",
     "text": [
      "\n",
      "Simulando partido entre Manchester United y Fulham...\n"
     ]
    },
    {
     "name": "stderr",
     "output_type": "stream",
     "text": [
      "Simulando partidos: 100%|██████████| 10/10 [00:01<00:00,  7.56partido/s]\n"
     ]
    },
    {
     "name": "stdout",
     "output_type": "stream",
     "text": [
      "\n",
      "Simulando partido entre Manchester United y Stoke City...\n"
     ]
    },
    {
     "name": "stderr",
     "output_type": "stream",
     "text": [
      "Simulando partidos: 100%|██████████| 10/10 [00:01<00:00,  7.59partido/s]\n"
     ]
    },
    {
     "name": "stdout",
     "output_type": "stream",
     "text": [
      "\n",
      "Simulando partido entre Manchester United y Southampton...\n"
     ]
    },
    {
     "name": "stderr",
     "output_type": "stream",
     "text": [
      "Simulando partidos: 100%|██████████| 10/10 [00:01<00:00,  7.86partido/s]\n"
     ]
    },
    {
     "name": "stdout",
     "output_type": "stream",
     "text": [
      "\n",
      "Simulando partido entre Manchester United y Aston Villa...\n"
     ]
    },
    {
     "name": "stderr",
     "output_type": "stream",
     "text": [
      "Simulando partidos: 100%|██████████| 10/10 [00:01<00:00,  7.21partido/s]\n"
     ]
    },
    {
     "name": "stdout",
     "output_type": "stream",
     "text": [
      "\n",
      "Simulando partido entre Manchester United y Newcastle United...\n"
     ]
    },
    {
     "name": "stderr",
     "output_type": "stream",
     "text": [
      "Simulando partidos: 100%|██████████| 10/10 [00:01<00:00,  7.90partido/s]\n"
     ]
    },
    {
     "name": "stdout",
     "output_type": "stream",
     "text": [
      "\n",
      "Simulando partido entre Manchester United y Sunderland...\n"
     ]
    },
    {
     "name": "stderr",
     "output_type": "stream",
     "text": [
      "Simulando partidos: 100%|██████████| 10/10 [00:01<00:00,  7.87partido/s]\n"
     ]
    },
    {
     "name": "stdout",
     "output_type": "stream",
     "text": [
      "\n",
      "Simulando partido entre Manchester United y Wigan Athletic...\n"
     ]
    },
    {
     "name": "stderr",
     "output_type": "stream",
     "text": [
      "Simulando partidos: 100%|██████████| 10/10 [00:01<00:00,  7.49partido/s]\n"
     ]
    },
    {
     "name": "stdout",
     "output_type": "stream",
     "text": [
      "\n",
      "Simulando partido entre Manchester United y Reading...\n"
     ]
    },
    {
     "name": "stderr",
     "output_type": "stream",
     "text": [
      "Simulando partidos: 100%|██████████| 10/10 [00:01<00:00,  7.96partido/s]\n"
     ]
    },
    {
     "name": "stdout",
     "output_type": "stream",
     "text": [
      "\n",
      "Simulando partido entre Manchester United y Queens Park Rangers...\n"
     ]
    },
    {
     "name": "stderr",
     "output_type": "stream",
     "text": [
      "Simulando partidos: 100%|██████████| 10/10 [00:01<00:00,  7.81partido/s]\n"
     ]
    },
    {
     "name": "stdout",
     "output_type": "stream",
     "text": [
      "\n",
      "Simulando partido entre Manchester City y Chelsea...\n"
     ]
    },
    {
     "name": "stderr",
     "output_type": "stream",
     "text": [
      "Simulando partidos: 100%|██████████| 10/10 [00:01<00:00,  8.57partido/s]\n"
     ]
    },
    {
     "name": "stdout",
     "output_type": "stream",
     "text": [
      "\n",
      "Simulando partido entre Manchester City y Arsenal...\n"
     ]
    },
    {
     "name": "stderr",
     "output_type": "stream",
     "text": [
      "Simulando partidos: 100%|██████████| 10/10 [00:01<00:00,  8.54partido/s]\n"
     ]
    },
    {
     "name": "stdout",
     "output_type": "stream",
     "text": [
      "\n",
      "Simulando partido entre Manchester City y Tottenham Hotspur...\n"
     ]
    },
    {
     "name": "stderr",
     "output_type": "stream",
     "text": [
      "Simulando partidos: 100%|██████████| 10/10 [00:01<00:00,  8.11partido/s]\n"
     ]
    },
    {
     "name": "stdout",
     "output_type": "stream",
     "text": [
      "\n",
      "Simulando partido entre Manchester City y Everton...\n"
     ]
    },
    {
     "name": "stderr",
     "output_type": "stream",
     "text": [
      "Simulando partidos: 100%|██████████| 10/10 [00:01<00:00,  7.66partido/s]\n"
     ]
    },
    {
     "name": "stdout",
     "output_type": "stream",
     "text": [
      "\n",
      "Simulando partido entre Manchester City y Liverpool...\n"
     ]
    },
    {
     "name": "stderr",
     "output_type": "stream",
     "text": [
      "Simulando partidos: 100%|██████████| 10/10 [00:01<00:00,  7.48partido/s]\n"
     ]
    },
    {
     "name": "stdout",
     "output_type": "stream",
     "text": [
      "\n",
      "Simulando partido entre Manchester City y West Bromwich Albion...\n"
     ]
    },
    {
     "name": "stderr",
     "output_type": "stream",
     "text": [
      "Simulando partidos: 100%|██████████| 10/10 [00:01<00:00,  9.02partido/s]\n"
     ]
    },
    {
     "name": "stdout",
     "output_type": "stream",
     "text": [
      "\n",
      "Simulando partido entre Manchester City y Swansea City...\n"
     ]
    },
    {
     "name": "stderr",
     "output_type": "stream",
     "text": [
      "Simulando partidos: 100%|██████████| 10/10 [00:00<00:00, 10.02partido/s]\n"
     ]
    },
    {
     "name": "stdout",
     "output_type": "stream",
     "text": [
      "\n",
      "Simulando partido entre Manchester City y West Ham United...\n"
     ]
    },
    {
     "name": "stderr",
     "output_type": "stream",
     "text": [
      "Simulando partidos: 100%|██████████| 10/10 [00:00<00:00, 10.24partido/s]\n"
     ]
    },
    {
     "name": "stdout",
     "output_type": "stream",
     "text": [
      "\n",
      "Simulando partido entre Manchester City y Norwich City...\n"
     ]
    },
    {
     "name": "stderr",
     "output_type": "stream",
     "text": [
      "Simulando partidos: 100%|██████████| 10/10 [00:01<00:00,  9.29partido/s]\n"
     ]
    },
    {
     "name": "stdout",
     "output_type": "stream",
     "text": [
      "\n",
      "Simulando partido entre Manchester City y Fulham...\n"
     ]
    },
    {
     "name": "stderr",
     "output_type": "stream",
     "text": [
      "Simulando partidos: 100%|██████████| 10/10 [00:01<00:00,  8.43partido/s]\n"
     ]
    },
    {
     "name": "stdout",
     "output_type": "stream",
     "text": [
      "\n",
      "Simulando partido entre Manchester City y Stoke City...\n"
     ]
    },
    {
     "name": "stderr",
     "output_type": "stream",
     "text": [
      "Simulando partidos: 100%|██████████| 10/10 [00:01<00:00,  7.83partido/s]\n"
     ]
    },
    {
     "name": "stdout",
     "output_type": "stream",
     "text": [
      "\n",
      "Simulando partido entre Manchester City y Southampton...\n"
     ]
    },
    {
     "name": "stderr",
     "output_type": "stream",
     "text": [
      "Simulando partidos: 100%|██████████| 10/10 [00:01<00:00,  8.33partido/s]\n"
     ]
    },
    {
     "name": "stdout",
     "output_type": "stream",
     "text": [
      "\n",
      "Simulando partido entre Manchester City y Aston Villa...\n"
     ]
    },
    {
     "name": "stderr",
     "output_type": "stream",
     "text": [
      "Simulando partidos: 100%|██████████| 10/10 [00:01<00:00,  7.26partido/s]\n"
     ]
    },
    {
     "name": "stdout",
     "output_type": "stream",
     "text": [
      "\n",
      "Simulando partido entre Manchester City y Newcastle United...\n"
     ]
    },
    {
     "name": "stderr",
     "output_type": "stream",
     "text": [
      "Simulando partidos: 100%|██████████| 10/10 [00:01<00:00,  8.91partido/s]\n"
     ]
    },
    {
     "name": "stdout",
     "output_type": "stream",
     "text": [
      "\n",
      "Simulando partido entre Manchester City y Sunderland...\n"
     ]
    },
    {
     "name": "stderr",
     "output_type": "stream",
     "text": [
      "Simulando partidos: 100%|██████████| 10/10 [00:01<00:00,  7.99partido/s]\n"
     ]
    },
    {
     "name": "stdout",
     "output_type": "stream",
     "text": [
      "\n",
      "Simulando partido entre Manchester City y Wigan Athletic...\n"
     ]
    },
    {
     "name": "stderr",
     "output_type": "stream",
     "text": [
      "Simulando partidos: 100%|██████████| 10/10 [00:01<00:00,  8.85partido/s]\n"
     ]
    },
    {
     "name": "stdout",
     "output_type": "stream",
     "text": [
      "\n",
      "Simulando partido entre Manchester City y Reading...\n"
     ]
    },
    {
     "name": "stderr",
     "output_type": "stream",
     "text": [
      "Simulando partidos: 100%|██████████| 10/10 [00:01<00:00,  7.69partido/s]\n"
     ]
    },
    {
     "name": "stdout",
     "output_type": "stream",
     "text": [
      "\n",
      "Simulando partido entre Manchester City y Queens Park Rangers...\n"
     ]
    },
    {
     "name": "stderr",
     "output_type": "stream",
     "text": [
      "Simulando partidos: 100%|██████████| 10/10 [00:01<00:00,  7.76partido/s]\n"
     ]
    },
    {
     "name": "stdout",
     "output_type": "stream",
     "text": [
      "\n",
      "Simulando partido entre Chelsea y Arsenal...\n"
     ]
    },
    {
     "name": "stderr",
     "output_type": "stream",
     "text": [
      "Simulando partidos: 100%|██████████| 10/10 [00:01<00:00,  8.30partido/s]\n"
     ]
    },
    {
     "name": "stdout",
     "output_type": "stream",
     "text": [
      "\n",
      "Simulando partido entre Chelsea y Tottenham Hotspur...\n"
     ]
    },
    {
     "name": "stderr",
     "output_type": "stream",
     "text": [
      "Simulando partidos: 100%|██████████| 10/10 [00:01<00:00,  8.00partido/s]\n"
     ]
    },
    {
     "name": "stdout",
     "output_type": "stream",
     "text": [
      "\n",
      "Simulando partido entre Chelsea y Everton...\n"
     ]
    },
    {
     "name": "stderr",
     "output_type": "stream",
     "text": [
      "Simulando partidos: 100%|██████████| 10/10 [00:01<00:00,  8.65partido/s]\n"
     ]
    },
    {
     "name": "stdout",
     "output_type": "stream",
     "text": [
      "\n",
      "Simulando partido entre Chelsea y Liverpool...\n"
     ]
    },
    {
     "name": "stderr",
     "output_type": "stream",
     "text": [
      "Simulando partidos: 100%|██████████| 10/10 [00:01<00:00,  8.38partido/s]\n"
     ]
    },
    {
     "name": "stdout",
     "output_type": "stream",
     "text": [
      "\n",
      "Simulando partido entre Chelsea y West Bromwich Albion...\n"
     ]
    },
    {
     "name": "stderr",
     "output_type": "stream",
     "text": [
      "Simulando partidos: 100%|██████████| 10/10 [00:01<00:00,  7.56partido/s]\n"
     ]
    },
    {
     "name": "stdout",
     "output_type": "stream",
     "text": [
      "\n",
      "Simulando partido entre Chelsea y Swansea City...\n"
     ]
    },
    {
     "name": "stderr",
     "output_type": "stream",
     "text": [
      "Simulando partidos: 100%|██████████| 10/10 [00:01<00:00,  8.12partido/s]\n"
     ]
    },
    {
     "name": "stdout",
     "output_type": "stream",
     "text": [
      "\n",
      "Simulando partido entre Chelsea y West Ham United...\n"
     ]
    },
    {
     "name": "stderr",
     "output_type": "stream",
     "text": [
      "Simulando partidos: 100%|██████████| 10/10 [00:01<00:00,  8.04partido/s]\n"
     ]
    },
    {
     "name": "stdout",
     "output_type": "stream",
     "text": [
      "\n",
      "Simulando partido entre Chelsea y Norwich City...\n"
     ]
    },
    {
     "name": "stderr",
     "output_type": "stream",
     "text": [
      "Simulando partidos: 100%|██████████| 10/10 [00:01<00:00,  8.23partido/s]\n"
     ]
    },
    {
     "name": "stdout",
     "output_type": "stream",
     "text": [
      "\n",
      "Simulando partido entre Chelsea y Fulham...\n"
     ]
    },
    {
     "name": "stderr",
     "output_type": "stream",
     "text": [
      "Simulando partidos: 100%|██████████| 10/10 [00:01<00:00,  8.99partido/s]\n"
     ]
    },
    {
     "name": "stdout",
     "output_type": "stream",
     "text": [
      "\n",
      "Simulando partido entre Chelsea y Stoke City...\n"
     ]
    },
    {
     "name": "stderr",
     "output_type": "stream",
     "text": [
      "Simulando partidos: 100%|██████████| 10/10 [00:01<00:00,  8.86partido/s]\n"
     ]
    },
    {
     "name": "stdout",
     "output_type": "stream",
     "text": [
      "\n",
      "Simulando partido entre Chelsea y Southampton...\n"
     ]
    },
    {
     "name": "stderr",
     "output_type": "stream",
     "text": [
      "Simulando partidos: 100%|██████████| 10/10 [00:01<00:00,  7.94partido/s]\n"
     ]
    },
    {
     "name": "stdout",
     "output_type": "stream",
     "text": [
      "\n",
      "Simulando partido entre Chelsea y Aston Villa...\n"
     ]
    },
    {
     "name": "stderr",
     "output_type": "stream",
     "text": [
      "Simulando partidos: 100%|██████████| 10/10 [00:01<00:00,  8.14partido/s]\n"
     ]
    },
    {
     "name": "stdout",
     "output_type": "stream",
     "text": [
      "\n",
      "Simulando partido entre Chelsea y Newcastle United...\n"
     ]
    },
    {
     "name": "stderr",
     "output_type": "stream",
     "text": [
      "Simulando partidos: 100%|██████████| 10/10 [00:01<00:00,  8.37partido/s]\n"
     ]
    },
    {
     "name": "stdout",
     "output_type": "stream",
     "text": [
      "\n",
      "Simulando partido entre Chelsea y Sunderland...\n"
     ]
    },
    {
     "name": "stderr",
     "output_type": "stream",
     "text": [
      "Simulando partidos: 100%|██████████| 10/10 [00:01<00:00,  6.97partido/s]\n"
     ]
    },
    {
     "name": "stdout",
     "output_type": "stream",
     "text": [
      "\n",
      "Simulando partido entre Chelsea y Wigan Athletic...\n"
     ]
    },
    {
     "name": "stderr",
     "output_type": "stream",
     "text": [
      "Simulando partidos: 100%|██████████| 10/10 [00:01<00:00,  9.13partido/s]\n"
     ]
    },
    {
     "name": "stdout",
     "output_type": "stream",
     "text": [
      "\n",
      "Simulando partido entre Chelsea y Reading...\n"
     ]
    },
    {
     "name": "stderr",
     "output_type": "stream",
     "text": [
      "Simulando partidos: 100%|██████████| 10/10 [00:01<00:00,  8.85partido/s]\n"
     ]
    },
    {
     "name": "stdout",
     "output_type": "stream",
     "text": [
      "\n",
      "Simulando partido entre Chelsea y Queens Park Rangers...\n"
     ]
    },
    {
     "name": "stderr",
     "output_type": "stream",
     "text": [
      "Simulando partidos: 100%|██████████| 10/10 [00:01<00:00,  6.09partido/s]\n"
     ]
    },
    {
     "name": "stdout",
     "output_type": "stream",
     "text": [
      "\n",
      "Simulando partido entre Arsenal y Tottenham Hotspur...\n"
     ]
    },
    {
     "name": "stderr",
     "output_type": "stream",
     "text": [
      "Simulando partidos: 100%|██████████| 10/10 [00:01<00:00,  6.44partido/s]\n"
     ]
    },
    {
     "name": "stdout",
     "output_type": "stream",
     "text": [
      "\n",
      "Simulando partido entre Arsenal y Everton...\n"
     ]
    },
    {
     "name": "stderr",
     "output_type": "stream",
     "text": [
      "Simulando partidos: 100%|██████████| 10/10 [00:01<00:00,  6.51partido/s]\n"
     ]
    },
    {
     "name": "stdout",
     "output_type": "stream",
     "text": [
      "\n",
      "Simulando partido entre Arsenal y Liverpool...\n"
     ]
    },
    {
     "name": "stderr",
     "output_type": "stream",
     "text": [
      "Simulando partidos: 100%|██████████| 10/10 [00:01<00:00,  7.38partido/s]\n"
     ]
    },
    {
     "name": "stdout",
     "output_type": "stream",
     "text": [
      "\n",
      "Simulando partido entre Arsenal y West Bromwich Albion...\n"
     ]
    },
    {
     "name": "stderr",
     "output_type": "stream",
     "text": [
      "Simulando partidos: 100%|██████████| 10/10 [00:01<00:00,  7.01partido/s]\n"
     ]
    },
    {
     "name": "stdout",
     "output_type": "stream",
     "text": [
      "\n",
      "Simulando partido entre Arsenal y Swansea City...\n"
     ]
    },
    {
     "name": "stderr",
     "output_type": "stream",
     "text": [
      "Simulando partidos: 100%|██████████| 10/10 [00:01<00:00,  6.67partido/s]\n"
     ]
    },
    {
     "name": "stdout",
     "output_type": "stream",
     "text": [
      "\n",
      "Simulando partido entre Arsenal y West Ham United...\n"
     ]
    },
    {
     "name": "stderr",
     "output_type": "stream",
     "text": [
      "Simulando partidos: 100%|██████████| 10/10 [00:01<00:00,  6.69partido/s]\n"
     ]
    },
    {
     "name": "stdout",
     "output_type": "stream",
     "text": [
      "\n",
      "Simulando partido entre Arsenal y Norwich City...\n"
     ]
    },
    {
     "name": "stderr",
     "output_type": "stream",
     "text": [
      "Simulando partidos: 100%|██████████| 10/10 [00:01<00:00,  7.76partido/s]\n"
     ]
    },
    {
     "name": "stdout",
     "output_type": "stream",
     "text": [
      "\n",
      "Simulando partido entre Arsenal y Fulham...\n"
     ]
    },
    {
     "name": "stderr",
     "output_type": "stream",
     "text": [
      "Simulando partidos: 100%|██████████| 10/10 [00:01<00:00,  6.70partido/s]\n"
     ]
    },
    {
     "name": "stdout",
     "output_type": "stream",
     "text": [
      "\n",
      "Simulando partido entre Arsenal y Stoke City...\n"
     ]
    },
    {
     "name": "stderr",
     "output_type": "stream",
     "text": [
      "Simulando partidos: 100%|██████████| 10/10 [00:01<00:00,  8.31partido/s]\n"
     ]
    },
    {
     "name": "stdout",
     "output_type": "stream",
     "text": [
      "\n",
      "Simulando partido entre Arsenal y Southampton...\n"
     ]
    },
    {
     "name": "stderr",
     "output_type": "stream",
     "text": [
      "Simulando partidos: 100%|██████████| 10/10 [00:01<00:00,  8.78partido/s]\n"
     ]
    },
    {
     "name": "stdout",
     "output_type": "stream",
     "text": [
      "\n",
      "Simulando partido entre Arsenal y Aston Villa...\n"
     ]
    },
    {
     "name": "stderr",
     "output_type": "stream",
     "text": [
      "Simulando partidos: 100%|██████████| 10/10 [00:01<00:00,  8.42partido/s]\n"
     ]
    },
    {
     "name": "stdout",
     "output_type": "stream",
     "text": [
      "\n",
      "Simulando partido entre Arsenal y Newcastle United...\n"
     ]
    },
    {
     "name": "stderr",
     "output_type": "stream",
     "text": [
      "Simulando partidos: 100%|██████████| 10/10 [00:01<00:00,  9.29partido/s]\n"
     ]
    },
    {
     "name": "stdout",
     "output_type": "stream",
     "text": [
      "\n",
      "Simulando partido entre Arsenal y Sunderland...\n"
     ]
    },
    {
     "name": "stderr",
     "output_type": "stream",
     "text": [
      "Simulando partidos: 100%|██████████| 10/10 [00:01<00:00,  7.41partido/s]\n"
     ]
    },
    {
     "name": "stdout",
     "output_type": "stream",
     "text": [
      "\n",
      "Simulando partido entre Arsenal y Wigan Athletic...\n"
     ]
    },
    {
     "name": "stderr",
     "output_type": "stream",
     "text": [
      "Simulando partidos: 100%|██████████| 10/10 [00:01<00:00,  8.44partido/s]\n"
     ]
    },
    {
     "name": "stdout",
     "output_type": "stream",
     "text": [
      "\n",
      "Simulando partido entre Arsenal y Reading...\n"
     ]
    },
    {
     "name": "stderr",
     "output_type": "stream",
     "text": [
      "Simulando partidos: 100%|██████████| 10/10 [00:01<00:00,  7.36partido/s]\n"
     ]
    },
    {
     "name": "stdout",
     "output_type": "stream",
     "text": [
      "\n",
      "Simulando partido entre Arsenal y Queens Park Rangers...\n"
     ]
    },
    {
     "name": "stderr",
     "output_type": "stream",
     "text": [
      "Simulando partidos: 100%|██████████| 10/10 [00:01<00:00,  5.35partido/s]\n"
     ]
    },
    {
     "name": "stdout",
     "output_type": "stream",
     "text": [
      "\n",
      "Simulando partido entre Tottenham Hotspur y Everton...\n"
     ]
    },
    {
     "name": "stderr",
     "output_type": "stream",
     "text": [
      "Simulando partidos: 100%|██████████| 10/10 [00:01<00:00,  6.46partido/s]\n"
     ]
    },
    {
     "name": "stdout",
     "output_type": "stream",
     "text": [
      "\n",
      "Simulando partido entre Tottenham Hotspur y Liverpool...\n"
     ]
    },
    {
     "name": "stderr",
     "output_type": "stream",
     "text": [
      "Simulando partidos: 100%|██████████| 10/10 [00:01<00:00,  7.39partido/s]\n"
     ]
    },
    {
     "name": "stdout",
     "output_type": "stream",
     "text": [
      "\n",
      "Simulando partido entre Tottenham Hotspur y West Bromwich Albion...\n"
     ]
    },
    {
     "name": "stderr",
     "output_type": "stream",
     "text": [
      "Simulando partidos: 100%|██████████| 10/10 [00:01<00:00,  6.17partido/s]\n"
     ]
    },
    {
     "name": "stdout",
     "output_type": "stream",
     "text": [
      "\n",
      "Simulando partido entre Tottenham Hotspur y Swansea City...\n"
     ]
    },
    {
     "name": "stderr",
     "output_type": "stream",
     "text": [
      "Simulando partidos: 100%|██████████| 10/10 [00:01<00:00,  7.80partido/s]\n"
     ]
    },
    {
     "name": "stdout",
     "output_type": "stream",
     "text": [
      "\n",
      "Simulando partido entre Tottenham Hotspur y West Ham United...\n"
     ]
    },
    {
     "name": "stderr",
     "output_type": "stream",
     "text": [
      "Simulando partidos: 100%|██████████| 10/10 [00:01<00:00,  6.77partido/s]\n"
     ]
    },
    {
     "name": "stdout",
     "output_type": "stream",
     "text": [
      "\n",
      "Simulando partido entre Tottenham Hotspur y Norwich City...\n"
     ]
    },
    {
     "name": "stderr",
     "output_type": "stream",
     "text": [
      "Simulando partidos: 100%|██████████| 10/10 [00:01<00:00,  7.77partido/s]\n"
     ]
    },
    {
     "name": "stdout",
     "output_type": "stream",
     "text": [
      "\n",
      "Simulando partido entre Tottenham Hotspur y Fulham...\n"
     ]
    },
    {
     "name": "stderr",
     "output_type": "stream",
     "text": [
      "Simulando partidos: 100%|██████████| 10/10 [00:01<00:00,  7.63partido/s]\n"
     ]
    },
    {
     "name": "stdout",
     "output_type": "stream",
     "text": [
      "\n",
      "Simulando partido entre Tottenham Hotspur y Stoke City...\n"
     ]
    },
    {
     "name": "stderr",
     "output_type": "stream",
     "text": [
      "Simulando partidos: 100%|██████████| 10/10 [00:01<00:00,  7.76partido/s]\n"
     ]
    },
    {
     "name": "stdout",
     "output_type": "stream",
     "text": [
      "\n",
      "Simulando partido entre Tottenham Hotspur y Southampton...\n"
     ]
    },
    {
     "name": "stderr",
     "output_type": "stream",
     "text": [
      "Simulando partidos: 100%|██████████| 10/10 [00:01<00:00,  8.00partido/s]\n"
     ]
    },
    {
     "name": "stdout",
     "output_type": "stream",
     "text": [
      "\n",
      "Simulando partido entre Tottenham Hotspur y Aston Villa...\n"
     ]
    },
    {
     "name": "stderr",
     "output_type": "stream",
     "text": [
      "Simulando partidos: 100%|██████████| 10/10 [00:01<00:00,  9.23partido/s]\n"
     ]
    },
    {
     "name": "stdout",
     "output_type": "stream",
     "text": [
      "\n",
      "Simulando partido entre Tottenham Hotspur y Newcastle United...\n"
     ]
    },
    {
     "name": "stderr",
     "output_type": "stream",
     "text": [
      "Simulando partidos: 100%|██████████| 10/10 [00:01<00:00,  7.94partido/s]\n"
     ]
    },
    {
     "name": "stdout",
     "output_type": "stream",
     "text": [
      "\n",
      "Simulando partido entre Tottenham Hotspur y Sunderland...\n"
     ]
    },
    {
     "name": "stderr",
     "output_type": "stream",
     "text": [
      "Simulando partidos: 100%|██████████| 10/10 [00:01<00:00,  7.53partido/s]\n"
     ]
    },
    {
     "name": "stdout",
     "output_type": "stream",
     "text": [
      "\n",
      "Simulando partido entre Tottenham Hotspur y Wigan Athletic...\n"
     ]
    },
    {
     "name": "stderr",
     "output_type": "stream",
     "text": [
      "Simulando partidos: 100%|██████████| 10/10 [00:01<00:00,  8.38partido/s]\n"
     ]
    },
    {
     "name": "stdout",
     "output_type": "stream",
     "text": [
      "\n",
      "Simulando partido entre Tottenham Hotspur y Reading...\n"
     ]
    },
    {
     "name": "stderr",
     "output_type": "stream",
     "text": [
      "Simulando partidos: 100%|██████████| 10/10 [00:01<00:00,  7.28partido/s]\n"
     ]
    },
    {
     "name": "stdout",
     "output_type": "stream",
     "text": [
      "\n",
      "Simulando partido entre Tottenham Hotspur y Queens Park Rangers...\n"
     ]
    },
    {
     "name": "stderr",
     "output_type": "stream",
     "text": [
      "Simulando partidos: 100%|██████████| 10/10 [00:01<00:00,  7.84partido/s]\n"
     ]
    },
    {
     "name": "stdout",
     "output_type": "stream",
     "text": [
      "\n",
      "Simulando partido entre Everton y Liverpool...\n"
     ]
    },
    {
     "name": "stderr",
     "output_type": "stream",
     "text": [
      "Simulando partidos: 100%|██████████| 10/10 [00:01<00:00,  7.01partido/s]\n"
     ]
    },
    {
     "name": "stdout",
     "output_type": "stream",
     "text": [
      "\n",
      "Simulando partido entre Everton y West Bromwich Albion...\n"
     ]
    },
    {
     "name": "stderr",
     "output_type": "stream",
     "text": [
      "Simulando partidos: 100%|██████████| 10/10 [00:01<00:00,  7.52partido/s]\n"
     ]
    },
    {
     "name": "stdout",
     "output_type": "stream",
     "text": [
      "\n",
      "Simulando partido entre Everton y Swansea City...\n"
     ]
    },
    {
     "name": "stderr",
     "output_type": "stream",
     "text": [
      "Simulando partidos: 100%|██████████| 10/10 [00:01<00:00,  8.42partido/s]\n"
     ]
    },
    {
     "name": "stdout",
     "output_type": "stream",
     "text": [
      "\n",
      "Simulando partido entre Everton y West Ham United...\n"
     ]
    },
    {
     "name": "stderr",
     "output_type": "stream",
     "text": [
      "Simulando partidos: 100%|██████████| 10/10 [00:01<00:00,  7.71partido/s]\n"
     ]
    },
    {
     "name": "stdout",
     "output_type": "stream",
     "text": [
      "\n",
      "Simulando partido entre Everton y Norwich City...\n"
     ]
    },
    {
     "name": "stderr",
     "output_type": "stream",
     "text": [
      "Simulando partidos: 100%|██████████| 10/10 [00:01<00:00,  8.18partido/s]\n"
     ]
    },
    {
     "name": "stdout",
     "output_type": "stream",
     "text": [
      "\n",
      "Simulando partido entre Everton y Fulham...\n"
     ]
    },
    {
     "name": "stderr",
     "output_type": "stream",
     "text": [
      "Simulando partidos: 100%|██████████| 10/10 [00:01<00:00,  8.16partido/s]\n"
     ]
    },
    {
     "name": "stdout",
     "output_type": "stream",
     "text": [
      "\n",
      "Simulando partido entre Everton y Stoke City...\n"
     ]
    },
    {
     "name": "stderr",
     "output_type": "stream",
     "text": [
      "Simulando partidos: 100%|██████████| 10/10 [00:01<00:00,  7.36partido/s]\n"
     ]
    },
    {
     "name": "stdout",
     "output_type": "stream",
     "text": [
      "\n",
      "Simulando partido entre Everton y Southampton...\n"
     ]
    },
    {
     "name": "stderr",
     "output_type": "stream",
     "text": [
      "Simulando partidos: 100%|██████████| 10/10 [00:01<00:00,  8.03partido/s]\n"
     ]
    },
    {
     "name": "stdout",
     "output_type": "stream",
     "text": [
      "\n",
      "Simulando partido entre Everton y Aston Villa...\n"
     ]
    },
    {
     "name": "stderr",
     "output_type": "stream",
     "text": [
      "Simulando partidos: 100%|██████████| 10/10 [00:01<00:00,  7.61partido/s]\n"
     ]
    },
    {
     "name": "stdout",
     "output_type": "stream",
     "text": [
      "\n",
      "Simulando partido entre Everton y Newcastle United...\n"
     ]
    },
    {
     "name": "stderr",
     "output_type": "stream",
     "text": [
      "Simulando partidos: 100%|██████████| 10/10 [00:01<00:00,  8.00partido/s]\n"
     ]
    },
    {
     "name": "stdout",
     "output_type": "stream",
     "text": [
      "\n",
      "Simulando partido entre Everton y Sunderland...\n"
     ]
    },
    {
     "name": "stderr",
     "output_type": "stream",
     "text": [
      "Simulando partidos: 100%|██████████| 10/10 [00:01<00:00,  7.72partido/s]\n"
     ]
    },
    {
     "name": "stdout",
     "output_type": "stream",
     "text": [
      "\n",
      "Simulando partido entre Everton y Wigan Athletic...\n"
     ]
    },
    {
     "name": "stderr",
     "output_type": "stream",
     "text": [
      "Simulando partidos: 100%|██████████| 10/10 [00:01<00:00,  7.33partido/s]\n"
     ]
    },
    {
     "name": "stdout",
     "output_type": "stream",
     "text": [
      "\n",
      "Simulando partido entre Everton y Reading...\n"
     ]
    },
    {
     "name": "stderr",
     "output_type": "stream",
     "text": [
      "Simulando partidos: 100%|██████████| 10/10 [00:01<00:00,  7.23partido/s]\n"
     ]
    },
    {
     "name": "stdout",
     "output_type": "stream",
     "text": [
      "\n",
      "Simulando partido entre Everton y Queens Park Rangers...\n"
     ]
    },
    {
     "name": "stderr",
     "output_type": "stream",
     "text": [
      "Simulando partidos: 100%|██████████| 10/10 [00:01<00:00,  8.04partido/s]\n"
     ]
    },
    {
     "name": "stdout",
     "output_type": "stream",
     "text": [
      "\n",
      "Simulando partido entre Liverpool y West Bromwich Albion...\n"
     ]
    },
    {
     "name": "stderr",
     "output_type": "stream",
     "text": [
      "Simulando partidos: 100%|██████████| 10/10 [00:01<00:00,  7.79partido/s]\n"
     ]
    },
    {
     "name": "stdout",
     "output_type": "stream",
     "text": [
      "\n",
      "Simulando partido entre Liverpool y Swansea City...\n"
     ]
    },
    {
     "name": "stderr",
     "output_type": "stream",
     "text": [
      "Simulando partidos: 100%|██████████| 10/10 [00:01<00:00,  8.08partido/s]\n"
     ]
    },
    {
     "name": "stdout",
     "output_type": "stream",
     "text": [
      "\n",
      "Simulando partido entre Liverpool y West Ham United...\n"
     ]
    },
    {
     "name": "stderr",
     "output_type": "stream",
     "text": [
      "Simulando partidos: 100%|██████████| 10/10 [00:01<00:00,  8.20partido/s]\n"
     ]
    },
    {
     "name": "stdout",
     "output_type": "stream",
     "text": [
      "\n",
      "Simulando partido entre Liverpool y Norwich City...\n"
     ]
    },
    {
     "name": "stderr",
     "output_type": "stream",
     "text": [
      "Simulando partidos: 100%|██████████| 10/10 [00:01<00:00,  8.41partido/s]\n"
     ]
    },
    {
     "name": "stdout",
     "output_type": "stream",
     "text": [
      "\n",
      "Simulando partido entre Liverpool y Fulham...\n"
     ]
    },
    {
     "name": "stderr",
     "output_type": "stream",
     "text": [
      "Simulando partidos: 100%|██████████| 10/10 [00:01<00:00,  7.76partido/s]\n"
     ]
    },
    {
     "name": "stdout",
     "output_type": "stream",
     "text": [
      "\n",
      "Simulando partido entre Liverpool y Stoke City...\n"
     ]
    },
    {
     "name": "stderr",
     "output_type": "stream",
     "text": [
      "Simulando partidos: 100%|██████████| 10/10 [00:01<00:00,  8.19partido/s]\n"
     ]
    },
    {
     "name": "stdout",
     "output_type": "stream",
     "text": [
      "\n",
      "Simulando partido entre Liverpool y Southampton...\n"
     ]
    },
    {
     "name": "stderr",
     "output_type": "stream",
     "text": [
      "Simulando partidos: 100%|██████████| 10/10 [00:01<00:00,  7.59partido/s]\n"
     ]
    },
    {
     "name": "stdout",
     "output_type": "stream",
     "text": [
      "\n",
      "Simulando partido entre Liverpool y Aston Villa...\n"
     ]
    },
    {
     "name": "stderr",
     "output_type": "stream",
     "text": [
      "Simulando partidos: 100%|██████████| 10/10 [00:01<00:00,  8.83partido/s]\n"
     ]
    },
    {
     "name": "stdout",
     "output_type": "stream",
     "text": [
      "\n",
      "Simulando partido entre Liverpool y Newcastle United...\n"
     ]
    },
    {
     "name": "stderr",
     "output_type": "stream",
     "text": [
      "Simulando partidos: 100%|██████████| 10/10 [00:01<00:00,  8.22partido/s]\n"
     ]
    },
    {
     "name": "stdout",
     "output_type": "stream",
     "text": [
      "\n",
      "Simulando partido entre Liverpool y Sunderland...\n"
     ]
    },
    {
     "name": "stderr",
     "output_type": "stream",
     "text": [
      "Simulando partidos: 100%|██████████| 10/10 [00:01<00:00,  9.41partido/s]\n"
     ]
    },
    {
     "name": "stdout",
     "output_type": "stream",
     "text": [
      "\n",
      "Simulando partido entre Liverpool y Wigan Athletic...\n"
     ]
    },
    {
     "name": "stderr",
     "output_type": "stream",
     "text": [
      "Simulando partidos: 100%|██████████| 10/10 [00:01<00:00,  9.82partido/s]\n"
     ]
    },
    {
     "name": "stdout",
     "output_type": "stream",
     "text": [
      "\n",
      "Simulando partido entre Liverpool y Reading...\n"
     ]
    },
    {
     "name": "stderr",
     "output_type": "stream",
     "text": [
      "Simulando partidos: 100%|██████████| 10/10 [00:01<00:00,  9.47partido/s]\n"
     ]
    },
    {
     "name": "stdout",
     "output_type": "stream",
     "text": [
      "\n",
      "Simulando partido entre Liverpool y Queens Park Rangers...\n"
     ]
    },
    {
     "name": "stderr",
     "output_type": "stream",
     "text": [
      "Simulando partidos: 100%|██████████| 10/10 [00:01<00:00,  9.99partido/s]\n"
     ]
    },
    {
     "name": "stdout",
     "output_type": "stream",
     "text": [
      "\n",
      "Simulando partido entre West Bromwich Albion y Swansea City...\n"
     ]
    },
    {
     "name": "stderr",
     "output_type": "stream",
     "text": [
      "Simulando partidos: 100%|██████████| 10/10 [00:01<00:00,  9.95partido/s]\n"
     ]
    },
    {
     "name": "stdout",
     "output_type": "stream",
     "text": [
      "\n",
      "Simulando partido entre West Bromwich Albion y West Ham United...\n"
     ]
    },
    {
     "name": "stderr",
     "output_type": "stream",
     "text": [
      "Simulando partidos: 100%|██████████| 10/10 [00:01<00:00,  9.25partido/s]\n"
     ]
    },
    {
     "name": "stdout",
     "output_type": "stream",
     "text": [
      "\n",
      "Simulando partido entre West Bromwich Albion y Norwich City...\n"
     ]
    },
    {
     "name": "stderr",
     "output_type": "stream",
     "text": [
      "Simulando partidos: 100%|██████████| 10/10 [00:01<00:00,  9.87partido/s]\n"
     ]
    },
    {
     "name": "stdout",
     "output_type": "stream",
     "text": [
      "\n",
      "Simulando partido entre West Bromwich Albion y Fulham...\n"
     ]
    },
    {
     "name": "stderr",
     "output_type": "stream",
     "text": [
      "Simulando partidos: 100%|██████████| 10/10 [00:00<00:00, 10.23partido/s]\n"
     ]
    },
    {
     "name": "stdout",
     "output_type": "stream",
     "text": [
      "\n",
      "Simulando partido entre West Bromwich Albion y Stoke City...\n"
     ]
    },
    {
     "name": "stderr",
     "output_type": "stream",
     "text": [
      "Simulando partidos: 100%|██████████| 10/10 [00:01<00:00,  9.64partido/s]\n"
     ]
    },
    {
     "name": "stdout",
     "output_type": "stream",
     "text": [
      "\n",
      "Simulando partido entre West Bromwich Albion y Southampton...\n"
     ]
    },
    {
     "name": "stderr",
     "output_type": "stream",
     "text": [
      "Simulando partidos: 100%|██████████| 10/10 [00:01<00:00,  9.49partido/s]\n"
     ]
    },
    {
     "name": "stdout",
     "output_type": "stream",
     "text": [
      "\n",
      "Simulando partido entre West Bromwich Albion y Aston Villa...\n"
     ]
    },
    {
     "name": "stderr",
     "output_type": "stream",
     "text": [
      "Simulando partidos: 100%|██████████| 10/10 [00:00<00:00, 10.06partido/s]\n"
     ]
    },
    {
     "name": "stdout",
     "output_type": "stream",
     "text": [
      "\n",
      "Simulando partido entre West Bromwich Albion y Newcastle United...\n"
     ]
    },
    {
     "name": "stderr",
     "output_type": "stream",
     "text": [
      "Simulando partidos: 100%|██████████| 10/10 [00:01<00:00,  6.99partido/s]\n"
     ]
    },
    {
     "name": "stdout",
     "output_type": "stream",
     "text": [
      "\n",
      "Simulando partido entre West Bromwich Albion y Sunderland...\n"
     ]
    },
    {
     "name": "stderr",
     "output_type": "stream",
     "text": [
      "Simulando partidos: 100%|██████████| 10/10 [00:01<00:00,  7.34partido/s]\n"
     ]
    },
    {
     "name": "stdout",
     "output_type": "stream",
     "text": [
      "\n",
      "Simulando partido entre West Bromwich Albion y Wigan Athletic...\n"
     ]
    },
    {
     "name": "stderr",
     "output_type": "stream",
     "text": [
      "Simulando partidos: 100%|██████████| 10/10 [00:01<00:00,  7.21partido/s]\n"
     ]
    },
    {
     "name": "stdout",
     "output_type": "stream",
     "text": [
      "\n",
      "Simulando partido entre West Bromwich Albion y Reading...\n"
     ]
    },
    {
     "name": "stderr",
     "output_type": "stream",
     "text": [
      "Simulando partidos: 100%|██████████| 10/10 [00:01<00:00,  6.45partido/s]\n"
     ]
    },
    {
     "name": "stdout",
     "output_type": "stream",
     "text": [
      "\n",
      "Simulando partido entre West Bromwich Albion y Queens Park Rangers...\n"
     ]
    },
    {
     "name": "stderr",
     "output_type": "stream",
     "text": [
      "Simulando partidos: 100%|██████████| 10/10 [00:01<00:00,  7.79partido/s]\n"
     ]
    },
    {
     "name": "stdout",
     "output_type": "stream",
     "text": [
      "\n",
      "Simulando partido entre Swansea City y West Ham United...\n"
     ]
    },
    {
     "name": "stderr",
     "output_type": "stream",
     "text": [
      "Simulando partidos: 100%|██████████| 10/10 [00:01<00:00,  7.41partido/s]\n"
     ]
    },
    {
     "name": "stdout",
     "output_type": "stream",
     "text": [
      "\n",
      "Simulando partido entre Swansea City y Norwich City...\n"
     ]
    },
    {
     "name": "stderr",
     "output_type": "stream",
     "text": [
      "Simulando partidos: 100%|██████████| 10/10 [00:01<00:00,  8.24partido/s]\n"
     ]
    },
    {
     "name": "stdout",
     "output_type": "stream",
     "text": [
      "\n",
      "Simulando partido entre Swansea City y Fulham...\n"
     ]
    },
    {
     "name": "stderr",
     "output_type": "stream",
     "text": [
      "Simulando partidos: 100%|██████████| 10/10 [00:01<00:00,  8.21partido/s]\n"
     ]
    },
    {
     "name": "stdout",
     "output_type": "stream",
     "text": [
      "\n",
      "Simulando partido entre Swansea City y Stoke City...\n"
     ]
    },
    {
     "name": "stderr",
     "output_type": "stream",
     "text": [
      "Simulando partidos: 100%|██████████| 10/10 [00:01<00:00,  5.69partido/s]\n"
     ]
    },
    {
     "name": "stdout",
     "output_type": "stream",
     "text": [
      "\n",
      "Simulando partido entre Swansea City y Southampton...\n"
     ]
    },
    {
     "name": "stderr",
     "output_type": "stream",
     "text": [
      "Simulando partidos: 100%|██████████| 10/10 [00:01<00:00,  8.30partido/s]\n"
     ]
    },
    {
     "name": "stdout",
     "output_type": "stream",
     "text": [
      "\n",
      "Simulando partido entre Swansea City y Aston Villa...\n"
     ]
    },
    {
     "name": "stderr",
     "output_type": "stream",
     "text": [
      "Simulando partidos: 100%|██████████| 10/10 [00:01<00:00,  8.97partido/s]\n"
     ]
    },
    {
     "name": "stdout",
     "output_type": "stream",
     "text": [
      "\n",
      "Simulando partido entre Swansea City y Newcastle United...\n"
     ]
    },
    {
     "name": "stderr",
     "output_type": "stream",
     "text": [
      "Simulando partidos: 100%|██████████| 10/10 [00:01<00:00,  8.95partido/s]\n"
     ]
    },
    {
     "name": "stdout",
     "output_type": "stream",
     "text": [
      "\n",
      "Simulando partido entre Swansea City y Sunderland...\n"
     ]
    },
    {
     "name": "stderr",
     "output_type": "stream",
     "text": [
      "Simulando partidos: 100%|██████████| 10/10 [00:01<00:00,  9.04partido/s]\n"
     ]
    },
    {
     "name": "stdout",
     "output_type": "stream",
     "text": [
      "\n",
      "Simulando partido entre Swansea City y Wigan Athletic...\n"
     ]
    },
    {
     "name": "stderr",
     "output_type": "stream",
     "text": [
      "Simulando partidos: 100%|██████████| 10/10 [00:01<00:00,  9.32partido/s]\n"
     ]
    },
    {
     "name": "stdout",
     "output_type": "stream",
     "text": [
      "\n",
      "Simulando partido entre Swansea City y Reading...\n"
     ]
    },
    {
     "name": "stderr",
     "output_type": "stream",
     "text": [
      "Simulando partidos: 100%|██████████| 10/10 [00:01<00:00,  8.85partido/s]\n"
     ]
    },
    {
     "name": "stdout",
     "output_type": "stream",
     "text": [
      "\n",
      "Simulando partido entre Swansea City y Queens Park Rangers...\n"
     ]
    },
    {
     "name": "stderr",
     "output_type": "stream",
     "text": [
      "Simulando partidos: 100%|██████████| 10/10 [00:01<00:00,  9.39partido/s]\n"
     ]
    },
    {
     "name": "stdout",
     "output_type": "stream",
     "text": [
      "\n",
      "Simulando partido entre West Ham United y Norwich City...\n"
     ]
    },
    {
     "name": "stderr",
     "output_type": "stream",
     "text": [
      "Simulando partidos: 100%|██████████| 10/10 [00:01<00:00,  8.70partido/s]\n"
     ]
    },
    {
     "name": "stdout",
     "output_type": "stream",
     "text": [
      "\n",
      "Simulando partido entre West Ham United y Fulham...\n"
     ]
    },
    {
     "name": "stderr",
     "output_type": "stream",
     "text": [
      "Simulando partidos: 100%|██████████| 10/10 [00:01<00:00,  9.44partido/s]\n"
     ]
    },
    {
     "name": "stdout",
     "output_type": "stream",
     "text": [
      "\n",
      "Simulando partido entre West Ham United y Stoke City...\n"
     ]
    },
    {
     "name": "stderr",
     "output_type": "stream",
     "text": [
      "Simulando partidos: 100%|██████████| 10/10 [00:01<00:00,  9.45partido/s]\n"
     ]
    },
    {
     "name": "stdout",
     "output_type": "stream",
     "text": [
      "\n",
      "Simulando partido entre West Ham United y Southampton...\n"
     ]
    },
    {
     "name": "stderr",
     "output_type": "stream",
     "text": [
      "Simulando partidos: 100%|██████████| 10/10 [00:01<00:00,  8.69partido/s]\n"
     ]
    },
    {
     "name": "stdout",
     "output_type": "stream",
     "text": [
      "\n",
      "Simulando partido entre West Ham United y Aston Villa...\n"
     ]
    },
    {
     "name": "stderr",
     "output_type": "stream",
     "text": [
      "Simulando partidos: 100%|██████████| 10/10 [00:01<00:00,  9.17partido/s]\n"
     ]
    },
    {
     "name": "stdout",
     "output_type": "stream",
     "text": [
      "\n",
      "Simulando partido entre West Ham United y Newcastle United...\n"
     ]
    },
    {
     "name": "stderr",
     "output_type": "stream",
     "text": [
      "Simulando partidos: 100%|██████████| 10/10 [00:01<00:00,  9.14partido/s]\n"
     ]
    },
    {
     "name": "stdout",
     "output_type": "stream",
     "text": [
      "\n",
      "Simulando partido entre West Ham United y Sunderland...\n"
     ]
    },
    {
     "name": "stderr",
     "output_type": "stream",
     "text": [
      "Simulando partidos: 100%|██████████| 10/10 [00:01<00:00,  8.82partido/s]\n"
     ]
    },
    {
     "name": "stdout",
     "output_type": "stream",
     "text": [
      "\n",
      "Simulando partido entre West Ham United y Wigan Athletic...\n"
     ]
    },
    {
     "name": "stderr",
     "output_type": "stream",
     "text": [
      "Simulando partidos: 100%|██████████| 10/10 [00:01<00:00,  8.67partido/s]\n"
     ]
    },
    {
     "name": "stdout",
     "output_type": "stream",
     "text": [
      "\n",
      "Simulando partido entre West Ham United y Reading...\n"
     ]
    },
    {
     "name": "stderr",
     "output_type": "stream",
     "text": [
      "Simulando partidos: 100%|██████████| 10/10 [00:01<00:00,  9.52partido/s]\n"
     ]
    },
    {
     "name": "stdout",
     "output_type": "stream",
     "text": [
      "\n",
      "Simulando partido entre West Ham United y Queens Park Rangers...\n"
     ]
    },
    {
     "name": "stderr",
     "output_type": "stream",
     "text": [
      "Simulando partidos: 100%|██████████| 10/10 [00:01<00:00,  9.37partido/s]\n"
     ]
    },
    {
     "name": "stdout",
     "output_type": "stream",
     "text": [
      "\n",
      "Simulando partido entre Norwich City y Fulham...\n"
     ]
    },
    {
     "name": "stderr",
     "output_type": "stream",
     "text": [
      "Simulando partidos: 100%|██████████| 10/10 [00:01<00:00,  8.66partido/s]\n"
     ]
    },
    {
     "name": "stdout",
     "output_type": "stream",
     "text": [
      "\n",
      "Simulando partido entre Norwich City y Stoke City...\n"
     ]
    },
    {
     "name": "stderr",
     "output_type": "stream",
     "text": [
      "Simulando partidos: 100%|██████████| 10/10 [00:01<00:00,  8.92partido/s]\n"
     ]
    },
    {
     "name": "stdout",
     "output_type": "stream",
     "text": [
      "\n",
      "Simulando partido entre Norwich City y Southampton...\n"
     ]
    },
    {
     "name": "stderr",
     "output_type": "stream",
     "text": [
      "Simulando partidos: 100%|██████████| 10/10 [00:01<00:00,  8.96partido/s]\n"
     ]
    },
    {
     "name": "stdout",
     "output_type": "stream",
     "text": [
      "\n",
      "Simulando partido entre Norwich City y Aston Villa...\n"
     ]
    },
    {
     "name": "stderr",
     "output_type": "stream",
     "text": [
      "Simulando partidos: 100%|██████████| 10/10 [00:01<00:00,  8.59partido/s]\n"
     ]
    },
    {
     "name": "stdout",
     "output_type": "stream",
     "text": [
      "\n",
      "Simulando partido entre Norwich City y Newcastle United...\n"
     ]
    },
    {
     "name": "stderr",
     "output_type": "stream",
     "text": [
      "Simulando partidos: 100%|██████████| 10/10 [00:01<00:00,  9.16partido/s]\n"
     ]
    },
    {
     "name": "stdout",
     "output_type": "stream",
     "text": [
      "\n",
      "Simulando partido entre Norwich City y Sunderland...\n"
     ]
    },
    {
     "name": "stderr",
     "output_type": "stream",
     "text": [
      "Simulando partidos: 100%|██████████| 10/10 [00:01<00:00,  9.33partido/s]\n"
     ]
    },
    {
     "name": "stdout",
     "output_type": "stream",
     "text": [
      "\n",
      "Simulando partido entre Norwich City y Wigan Athletic...\n"
     ]
    },
    {
     "name": "stderr",
     "output_type": "stream",
     "text": [
      "Simulando partidos: 100%|██████████| 10/10 [00:01<00:00,  8.65partido/s]\n"
     ]
    },
    {
     "name": "stdout",
     "output_type": "stream",
     "text": [
      "\n",
      "Simulando partido entre Norwich City y Reading...\n"
     ]
    },
    {
     "name": "stderr",
     "output_type": "stream",
     "text": [
      "Simulando partidos: 100%|██████████| 10/10 [00:01<00:00,  9.39partido/s]\n"
     ]
    },
    {
     "name": "stdout",
     "output_type": "stream",
     "text": [
      "\n",
      "Simulando partido entre Norwich City y Queens Park Rangers...\n"
     ]
    },
    {
     "name": "stderr",
     "output_type": "stream",
     "text": [
      "Simulando partidos: 100%|██████████| 10/10 [00:01<00:00,  8.23partido/s]\n"
     ]
    },
    {
     "name": "stdout",
     "output_type": "stream",
     "text": [
      "\n",
      "Simulando partido entre Fulham y Stoke City...\n"
     ]
    },
    {
     "name": "stderr",
     "output_type": "stream",
     "text": [
      "Simulando partidos: 100%|██████████| 10/10 [00:01<00:00,  7.59partido/s]\n"
     ]
    },
    {
     "name": "stdout",
     "output_type": "stream",
     "text": [
      "\n",
      "Simulando partido entre Fulham y Southampton...\n"
     ]
    },
    {
     "name": "stderr",
     "output_type": "stream",
     "text": [
      "Simulando partidos: 100%|██████████| 10/10 [00:01<00:00,  8.55partido/s]\n"
     ]
    },
    {
     "name": "stdout",
     "output_type": "stream",
     "text": [
      "\n",
      "Simulando partido entre Fulham y Aston Villa...\n"
     ]
    },
    {
     "name": "stderr",
     "output_type": "stream",
     "text": [
      "Simulando partidos: 100%|██████████| 10/10 [00:01<00:00,  8.11partido/s]\n"
     ]
    },
    {
     "name": "stdout",
     "output_type": "stream",
     "text": [
      "\n",
      "Simulando partido entre Fulham y Newcastle United...\n"
     ]
    },
    {
     "name": "stderr",
     "output_type": "stream",
     "text": [
      "Simulando partidos: 100%|██████████| 10/10 [00:01<00:00,  8.35partido/s]\n"
     ]
    },
    {
     "name": "stdout",
     "output_type": "stream",
     "text": [
      "\n",
      "Simulando partido entre Fulham y Sunderland...\n"
     ]
    },
    {
     "name": "stderr",
     "output_type": "stream",
     "text": [
      "Simulando partidos: 100%|██████████| 10/10 [00:01<00:00,  9.27partido/s]\n"
     ]
    },
    {
     "name": "stdout",
     "output_type": "stream",
     "text": [
      "\n",
      "Simulando partido entre Fulham y Wigan Athletic...\n"
     ]
    },
    {
     "name": "stderr",
     "output_type": "stream",
     "text": [
      "Simulando partidos: 100%|██████████| 10/10 [00:01<00:00,  8.93partido/s]\n"
     ]
    },
    {
     "name": "stdout",
     "output_type": "stream",
     "text": [
      "\n",
      "Simulando partido entre Fulham y Reading...\n"
     ]
    },
    {
     "name": "stderr",
     "output_type": "stream",
     "text": [
      "Simulando partidos: 100%|██████████| 10/10 [00:01<00:00,  9.26partido/s]\n"
     ]
    },
    {
     "name": "stdout",
     "output_type": "stream",
     "text": [
      "\n",
      "Simulando partido entre Fulham y Queens Park Rangers...\n"
     ]
    },
    {
     "name": "stderr",
     "output_type": "stream",
     "text": [
      "Simulando partidos: 100%|██████████| 10/10 [00:01<00:00,  8.40partido/s]\n"
     ]
    },
    {
     "name": "stdout",
     "output_type": "stream",
     "text": [
      "\n",
      "Simulando partido entre Stoke City y Southampton...\n"
     ]
    },
    {
     "name": "stderr",
     "output_type": "stream",
     "text": [
      "Simulando partidos: 100%|██████████| 10/10 [00:01<00:00,  7.88partido/s]\n"
     ]
    },
    {
     "name": "stdout",
     "output_type": "stream",
     "text": [
      "\n",
      "Simulando partido entre Stoke City y Aston Villa...\n"
     ]
    },
    {
     "name": "stderr",
     "output_type": "stream",
     "text": [
      "Simulando partidos: 100%|██████████| 10/10 [00:01<00:00,  8.95partido/s]\n"
     ]
    },
    {
     "name": "stdout",
     "output_type": "stream",
     "text": [
      "\n",
      "Simulando partido entre Stoke City y Newcastle United...\n"
     ]
    },
    {
     "name": "stderr",
     "output_type": "stream",
     "text": [
      "Simulando partidos: 100%|██████████| 10/10 [00:01<00:00,  8.99partido/s]\n"
     ]
    },
    {
     "name": "stdout",
     "output_type": "stream",
     "text": [
      "\n",
      "Simulando partido entre Stoke City y Sunderland...\n"
     ]
    },
    {
     "name": "stderr",
     "output_type": "stream",
     "text": [
      "Simulando partidos: 100%|██████████| 10/10 [00:01<00:00,  8.08partido/s]\n"
     ]
    },
    {
     "name": "stdout",
     "output_type": "stream",
     "text": [
      "\n",
      "Simulando partido entre Stoke City y Wigan Athletic...\n"
     ]
    },
    {
     "name": "stderr",
     "output_type": "stream",
     "text": [
      "Simulando partidos: 100%|██████████| 10/10 [00:01<00:00,  8.91partido/s]\n"
     ]
    },
    {
     "name": "stdout",
     "output_type": "stream",
     "text": [
      "\n",
      "Simulando partido entre Stoke City y Reading...\n"
     ]
    },
    {
     "name": "stderr",
     "output_type": "stream",
     "text": [
      "Simulando partidos: 100%|██████████| 10/10 [00:01<00:00,  8.94partido/s]\n"
     ]
    },
    {
     "name": "stdout",
     "output_type": "stream",
     "text": [
      "\n",
      "Simulando partido entre Stoke City y Queens Park Rangers...\n"
     ]
    },
    {
     "name": "stderr",
     "output_type": "stream",
     "text": [
      "Simulando partidos: 100%|██████████| 10/10 [00:01<00:00,  6.81partido/s]\n"
     ]
    },
    {
     "name": "stdout",
     "output_type": "stream",
     "text": [
      "\n",
      "Simulando partido entre Southampton y Aston Villa...\n"
     ]
    },
    {
     "name": "stderr",
     "output_type": "stream",
     "text": [
      "Simulando partidos: 100%|██████████| 10/10 [00:01<00:00,  7.52partido/s]\n"
     ]
    },
    {
     "name": "stdout",
     "output_type": "stream",
     "text": [
      "\n",
      "Simulando partido entre Southampton y Newcastle United...\n"
     ]
    },
    {
     "name": "stderr",
     "output_type": "stream",
     "text": [
      "Simulando partidos: 100%|██████████| 10/10 [00:01<00:00,  7.62partido/s]\n"
     ]
    },
    {
     "name": "stdout",
     "output_type": "stream",
     "text": [
      "\n",
      "Simulando partido entre Southampton y Sunderland...\n"
     ]
    },
    {
     "name": "stderr",
     "output_type": "stream",
     "text": [
      "Simulando partidos: 100%|██████████| 10/10 [00:02<00:00,  4.72partido/s]\n"
     ]
    },
    {
     "name": "stdout",
     "output_type": "stream",
     "text": [
      "\n",
      "Simulando partido entre Southampton y Wigan Athletic...\n"
     ]
    },
    {
     "name": "stderr",
     "output_type": "stream",
     "text": [
      "Simulando partidos: 100%|██████████| 10/10 [00:01<00:00,  7.15partido/s]\n"
     ]
    },
    {
     "name": "stdout",
     "output_type": "stream",
     "text": [
      "\n",
      "Simulando partido entre Southampton y Reading...\n"
     ]
    },
    {
     "name": "stderr",
     "output_type": "stream",
     "text": [
      "Simulando partidos: 100%|██████████| 10/10 [00:01<00:00,  8.01partido/s]\n"
     ]
    },
    {
     "name": "stdout",
     "output_type": "stream",
     "text": [
      "\n",
      "Simulando partido entre Southampton y Queens Park Rangers...\n"
     ]
    },
    {
     "name": "stderr",
     "output_type": "stream",
     "text": [
      "Simulando partidos: 100%|██████████| 10/10 [00:01<00:00,  7.52partido/s]\n"
     ]
    },
    {
     "name": "stdout",
     "output_type": "stream",
     "text": [
      "\n",
      "Simulando partido entre Aston Villa y Newcastle United...\n"
     ]
    },
    {
     "name": "stderr",
     "output_type": "stream",
     "text": [
      "Simulando partidos: 100%|██████████| 10/10 [00:01<00:00,  7.67partido/s]\n"
     ]
    },
    {
     "name": "stdout",
     "output_type": "stream",
     "text": [
      "\n",
      "Simulando partido entre Aston Villa y Sunderland...\n"
     ]
    },
    {
     "name": "stderr",
     "output_type": "stream",
     "text": [
      "Simulando partidos: 100%|██████████| 10/10 [00:01<00:00,  9.19partido/s]\n"
     ]
    },
    {
     "name": "stdout",
     "output_type": "stream",
     "text": [
      "\n",
      "Simulando partido entre Aston Villa y Wigan Athletic...\n"
     ]
    },
    {
     "name": "stderr",
     "output_type": "stream",
     "text": [
      "Simulando partidos: 100%|██████████| 10/10 [00:01<00:00,  9.56partido/s]\n"
     ]
    },
    {
     "name": "stdout",
     "output_type": "stream",
     "text": [
      "\n",
      "Simulando partido entre Aston Villa y Reading...\n"
     ]
    },
    {
     "name": "stderr",
     "output_type": "stream",
     "text": [
      "Simulando partidos: 100%|██████████| 10/10 [00:01<00:00,  9.98partido/s]\n"
     ]
    },
    {
     "name": "stdout",
     "output_type": "stream",
     "text": [
      "\n",
      "Simulando partido entre Aston Villa y Queens Park Rangers...\n"
     ]
    },
    {
     "name": "stderr",
     "output_type": "stream",
     "text": [
      "Simulando partidos: 100%|██████████| 10/10 [00:01<00:00,  9.23partido/s]\n"
     ]
    },
    {
     "name": "stdout",
     "output_type": "stream",
     "text": [
      "\n",
      "Simulando partido entre Newcastle United y Sunderland...\n"
     ]
    },
    {
     "name": "stderr",
     "output_type": "stream",
     "text": [
      "Simulando partidos: 100%|██████████| 10/10 [00:01<00:00,  9.90partido/s]\n"
     ]
    },
    {
     "name": "stdout",
     "output_type": "stream",
     "text": [
      "\n",
      "Simulando partido entre Newcastle United y Wigan Athletic...\n"
     ]
    },
    {
     "name": "stderr",
     "output_type": "stream",
     "text": [
      "Simulando partidos: 100%|██████████| 10/10 [00:01<00:00,  9.80partido/s]\n"
     ]
    },
    {
     "name": "stdout",
     "output_type": "stream",
     "text": [
      "\n",
      "Simulando partido entre Newcastle United y Reading...\n"
     ]
    },
    {
     "name": "stderr",
     "output_type": "stream",
     "text": [
      "Simulando partidos: 100%|██████████| 10/10 [00:01<00:00,  8.74partido/s]\n"
     ]
    },
    {
     "name": "stdout",
     "output_type": "stream",
     "text": [
      "\n",
      "Simulando partido entre Newcastle United y Queens Park Rangers...\n"
     ]
    },
    {
     "name": "stderr",
     "output_type": "stream",
     "text": [
      "Simulando partidos: 100%|██████████| 10/10 [00:01<00:00,  9.99partido/s]\n"
     ]
    },
    {
     "name": "stdout",
     "output_type": "stream",
     "text": [
      "\n",
      "Simulando partido entre Sunderland y Wigan Athletic...\n"
     ]
    },
    {
     "name": "stderr",
     "output_type": "stream",
     "text": [
      "Simulando partidos: 100%|██████████| 10/10 [00:01<00:00,  9.87partido/s]\n"
     ]
    },
    {
     "name": "stdout",
     "output_type": "stream",
     "text": [
      "\n",
      "Simulando partido entre Sunderland y Reading...\n"
     ]
    },
    {
     "name": "stderr",
     "output_type": "stream",
     "text": [
      "Simulando partidos: 100%|██████████| 10/10 [00:01<00:00,  9.13partido/s]\n"
     ]
    },
    {
     "name": "stdout",
     "output_type": "stream",
     "text": [
      "\n",
      "Simulando partido entre Sunderland y Queens Park Rangers...\n"
     ]
    },
    {
     "name": "stderr",
     "output_type": "stream",
     "text": [
      "Simulando partidos: 100%|██████████| 10/10 [00:01<00:00,  9.78partido/s]\n"
     ]
    },
    {
     "name": "stdout",
     "output_type": "stream",
     "text": [
      "\n",
      "Simulando partido entre Wigan Athletic y Reading...\n"
     ]
    },
    {
     "name": "stderr",
     "output_type": "stream",
     "text": [
      "Simulando partidos: 100%|██████████| 10/10 [00:01<00:00,  9.79partido/s]\n"
     ]
    },
    {
     "name": "stdout",
     "output_type": "stream",
     "text": [
      "\n",
      "Simulando partido entre Wigan Athletic y Queens Park Rangers...\n"
     ]
    },
    {
     "name": "stderr",
     "output_type": "stream",
     "text": [
      "Simulando partidos: 100%|██████████| 10/10 [00:01<00:00,  9.62partido/s]\n"
     ]
    },
    {
     "name": "stdout",
     "output_type": "stream",
     "text": [
      "\n",
      "Simulando partido entre Reading y Queens Park Rangers...\n"
     ]
    },
    {
     "name": "stderr",
     "output_type": "stream",
     "text": [
      "Simulando partidos: 100%|██████████| 10/10 [00:01<00:00,  9.79partido/s]\n"
     ]
    }
   ],
   "source": [
    "all_matches_df, all_results = simulate_all_matches(teams_list, players_dict)"
   ]
  },
  {
   "cell_type": "code",
   "execution_count": 772,
   "metadata": {},
   "outputs": [],
   "source": [
    "all_results.to_csv('/Users/luisalawson/Desktop/PRUEBA_20_NOV.csv')"
   ]
  },
  {
   "cell_type": "code",
   "execution_count": 773,
   "metadata": {},
   "outputs": [],
   "source": [
    "all_matches_df.to_csv('/Users/luisalawson/Desktop/PRUEBA_20_NOV_DISTRIBUCIONES.csv')"
   ]
  },
  {
   "cell_type": "code",
   "execution_count": 774,
   "metadata": {},
   "outputs": [],
   "source": [
    "all_results = pd.read_csv('/Users/luisalawson/Desktop/PRUEBA_20_NOV.csv')"
   ]
  },
  {
   "cell_type": "code",
   "execution_count": 775,
   "metadata": {},
   "outputs": [],
   "source": [
    "all_results.rename(columns={'Unnamed: 0': 'Match'}, inplace=True)  \n",
    "all_results.set_index('Match', inplace=True)  "
   ]
  },
  {
   "cell_type": "markdown",
   "metadata": {},
   "source": [
    "## Simulacion de todos los partidos para armar el ranking base teniendo en cuenta las probas de win/loss/tie"
   ]
  },
  {
   "cell_type": "code",
   "execution_count": 776,
   "metadata": {},
   "outputs": [],
   "source": [
    "import pandas as pd\n",
    "from collections import defaultdict\n",
    "\n",
    "def simulate_season_ranking(all_results):\n",
    "    points_table = defaultdict(float)\n",
    "    for match, probabilities in all_results.groupby('Match'):\n",
    "        teams = match.split(\" vs \")\n",
    "        team1, team2 = teams[0], teams[1]\n",
    "        \n",
    "        win_prob_team1 = probabilities.loc[probabilities['Unnamed: 1'] == 'win%', team1].values[0]\n",
    "        tie_prob = probabilities.loc[probabilities['Unnamed: 1'] == 'tie%', team1].values[0]  \n",
    "        win_prob_team2 = probabilities.loc[probabilities['Unnamed: 1'] == 'win%', team2].values[0]\n",
    "        \n",
    "        expected_points_team1 = 3 * (win_prob_team1 / 100) + 1 * (tie_prob / 100)\n",
    "        expected_points_team2 = 3 * (win_prob_team2 / 100) + 1 * (tie_prob / 100)\n",
    "\n",
    "        points_table[team1] += expected_points_team1\n",
    "        points_table[team2] += expected_points_team2\n",
    "\n",
    "    ranking_df = pd.DataFrame(list(points_table.items()), columns=['Team', 'Points'])\n",
    "    ranking_df = ranking_df.sort_values(by='Points', ascending=False).reset_index(drop=True)\n",
    "    ranking_df.index += 1  \n",
    "    return ranking_df"
   ]
  },
  {
   "cell_type": "code",
   "execution_count": 777,
   "metadata": {},
   "outputs": [],
   "source": [
    "final_ranking = simulate_season_ranking(all_results)"
   ]
  },
  {
   "cell_type": "code",
   "execution_count": 778,
   "metadata": {},
   "outputs": [
    {
     "data": {
      "text/html": [
       "<div>\n",
       "<style scoped>\n",
       "    .dataframe tbody tr th:only-of-type {\n",
       "        vertical-align: middle;\n",
       "    }\n",
       "\n",
       "    .dataframe tbody tr th {\n",
       "        vertical-align: top;\n",
       "    }\n",
       "\n",
       "    .dataframe thead th {\n",
       "        text-align: right;\n",
       "    }\n",
       "</style>\n",
       "<table border=\"1\" class=\"dataframe\">\n",
       "  <thead>\n",
       "    <tr style=\"text-align: right;\">\n",
       "      <th></th>\n",
       "      <th>Team</th>\n",
       "      <th>Points</th>\n",
       "    </tr>\n",
       "  </thead>\n",
       "  <tbody>\n",
       "    <tr>\n",
       "      <th>1</th>\n",
       "      <td>Arsenal</td>\n",
       "      <td>43.4</td>\n",
       "    </tr>\n",
       "    <tr>\n",
       "      <th>2</th>\n",
       "      <td>Everton</td>\n",
       "      <td>43.1</td>\n",
       "    </tr>\n",
       "    <tr>\n",
       "      <th>3</th>\n",
       "      <td>Chelsea</td>\n",
       "      <td>37.6</td>\n",
       "    </tr>\n",
       "    <tr>\n",
       "      <th>4</th>\n",
       "      <td>Liverpool</td>\n",
       "      <td>34.7</td>\n",
       "    </tr>\n",
       "    <tr>\n",
       "      <th>5</th>\n",
       "      <td>Tottenham Hotspur</td>\n",
       "      <td>33.8</td>\n",
       "    </tr>\n",
       "    <tr>\n",
       "      <th>6</th>\n",
       "      <td>Southampton</td>\n",
       "      <td>32.7</td>\n",
       "    </tr>\n",
       "    <tr>\n",
       "      <th>7</th>\n",
       "      <td>West Bromwich Albion</td>\n",
       "      <td>31.5</td>\n",
       "    </tr>\n",
       "    <tr>\n",
       "      <th>8</th>\n",
       "      <td>Manchester City</td>\n",
       "      <td>31.3</td>\n",
       "    </tr>\n",
       "    <tr>\n",
       "      <th>9</th>\n",
       "      <td>West Ham United</td>\n",
       "      <td>27.9</td>\n",
       "    </tr>\n",
       "    <tr>\n",
       "      <th>10</th>\n",
       "      <td>Stoke City</td>\n",
       "      <td>26.6</td>\n",
       "    </tr>\n",
       "    <tr>\n",
       "      <th>11</th>\n",
       "      <td>Manchester United</td>\n",
       "      <td>24.7</td>\n",
       "    </tr>\n",
       "    <tr>\n",
       "      <th>12</th>\n",
       "      <td>Swansea City</td>\n",
       "      <td>22.9</td>\n",
       "    </tr>\n",
       "    <tr>\n",
       "      <th>13</th>\n",
       "      <td>Reading</td>\n",
       "      <td>22.0</td>\n",
       "    </tr>\n",
       "    <tr>\n",
       "      <th>14</th>\n",
       "      <td>Norwich City</td>\n",
       "      <td>21.2</td>\n",
       "    </tr>\n",
       "    <tr>\n",
       "      <th>15</th>\n",
       "      <td>Fulham</td>\n",
       "      <td>20.2</td>\n",
       "    </tr>\n",
       "    <tr>\n",
       "      <th>16</th>\n",
       "      <td>Wigan Athletic</td>\n",
       "      <td>20.1</td>\n",
       "    </tr>\n",
       "    <tr>\n",
       "      <th>17</th>\n",
       "      <td>Newcastle United</td>\n",
       "      <td>18.9</td>\n",
       "    </tr>\n",
       "    <tr>\n",
       "      <th>18</th>\n",
       "      <td>Aston Villa</td>\n",
       "      <td>16.4</td>\n",
       "    </tr>\n",
       "    <tr>\n",
       "      <th>19</th>\n",
       "      <td>Sunderland</td>\n",
       "      <td>15.7</td>\n",
       "    </tr>\n",
       "    <tr>\n",
       "      <th>20</th>\n",
       "      <td>Queens Park Rangers</td>\n",
       "      <td>14.5</td>\n",
       "    </tr>\n",
       "  </tbody>\n",
       "</table>\n",
       "</div>"
      ],
      "text/plain": [
       "                    Team  Points\n",
       "1                Arsenal    43.4\n",
       "2                Everton    43.1\n",
       "3                Chelsea    37.6\n",
       "4              Liverpool    34.7\n",
       "5      Tottenham Hotspur    33.8\n",
       "6            Southampton    32.7\n",
       "7   West Bromwich Albion    31.5\n",
       "8        Manchester City    31.3\n",
       "9        West Ham United    27.9\n",
       "10            Stoke City    26.6\n",
       "11     Manchester United    24.7\n",
       "12          Swansea City    22.9\n",
       "13               Reading    22.0\n",
       "14          Norwich City    21.2\n",
       "15                Fulham    20.2\n",
       "16        Wigan Athletic    20.1\n",
       "17      Newcastle United    18.9\n",
       "18           Aston Villa    16.4\n",
       "19            Sunderland    15.7\n",
       "20   Queens Park Rangers    14.5"
      ]
     },
     "execution_count": 778,
     "metadata": {},
     "output_type": "execute_result"
    }
   ],
   "source": [
    "final_ranking"
   ]
  },
  {
   "cell_type": "markdown",
   "metadata": {},
   "source": [
    "## Validamos"
   ]
  },
  {
   "cell_type": "code",
   "execution_count": 779,
   "metadata": {},
   "outputs": [],
   "source": [
    "ranking = pd.read_excel('/Users/luisalawson/Desktop/Ranking.xlsx')\n",
    "\n",
    "final_ranking = final_ranking.merge(\n",
    "    ranking[['Equipo', 'Posicion', 'Puntos', 'PG', 'PE', 'PP']],  \n",
    "    left_on='Team',                   \n",
    "    right_on='Equipo',                \n",
    "    how='left'                        \n",
    ")\n",
    "\n",
    "final_ranking = final_ranking.rename(columns={'Posicion': 'real_position'})\n",
    "final_ranking = final_ranking.drop(columns=['Equipo'])\n",
    "final_ranking['Points_Quintile'] = pd.qcut(final_ranking['Points'], 4, labels=False)\n",
    "grouped = final_ranking.groupby('Points_Quintile')[['PG', 'PE', 'PP']].sum()\n",
    "grouped_percentage = grouped.div(grouped.sum(axis=1), axis=0) * 100\n"
   ]
  },
  {
   "cell_type": "code",
   "execution_count": 780,
   "metadata": {},
   "outputs": [
    {
     "data": {
      "image/png": "[encoded data removed]",
      "text/plain": [
       "<Figure size 720x432 with 1 Axes>"
      ]
     },
     "metadata": {
      "needs_background": "light"
     },
     "output_type": "display_data"
    }
   ],
   "source": [
    "import matplotlib.pyplot as plt\n",
    "\n",
    "custom_colors = [ '#32CD32','#FFD700', '#FF6347']  \n",
    "\n",
    "ax = grouped_percentage.plot(\n",
    "    kind='bar',\n",
    "    stacked=True,\n",
    "    figsize=(10, 6),\n",
    "    color=custom_colors,  \n",
    "    width=1,  \n",
    "    edgecolor='black' \n",
    ")\n",
    "\n",
    "plt.title('Relacion entre resultados reales - xP')\n",
    "plt.xlabel('Rango de puntos')\n",
    "plt.ylabel('Porcentaje de resultados')\n",
    "plt.legend(title='Resultado')\n",
    "plt.xticks(rotation=45)\n",
    "plt.tight_layout()\n",
    "plt.show()"
   ]
  },
  {
   "cell_type": "code",
   "execution_count": 781,
   "metadata": {},
   "outputs": [
    {
     "data": {
      "image/png": "[encoded data removed]",
      "text/plain": [
       "<Figure size 720x432 with 2 Axes>"
      ]
     },
     "metadata": {
      "needs_background": "light"
     },
     "output_type": "display_data"
    }
   ],
   "source": [
    "import seaborn as sns\n",
    "correlation_matrix = final_ranking[['Points', 'PG', 'PE', 'PP']].corr()\n",
    "\n",
    "plt.figure(figsize=(10, 6))\n",
    "sns.heatmap(correlation_matrix, annot=True, cmap='coolwarm', fmt=\".1f\")\n",
    "plt.title('Correlation Matrix')\n",
    "plt.show()"
   ]
  },
  {
   "cell_type": "code",
   "execution_count": null,
   "metadata": {},
   "outputs": [],
   "source": [
    "resultados_detallados = pd.read_csv('/Users/luisalawson/Desktop/PRUEBA_20_NOV_DISTRIBUCIONES.csv')"
   ]
  },
  {
   "cell_type": "code",
   "execution_count": 782,
   "metadata": {},
   "outputs": [
    {
     "name": "stderr",
     "output_type": "stream",
     "text": [
      "/var/folders/3t/sdkd8jss1x3b8wld4zwvm2kh0000gn/T/ipykernel_817/490934485.py:11: SettingWithCopyWarning: \n",
      "A value is trying to be set on a copy of a slice from a DataFrame.\n",
      "Try using .loc[row_indexer,col_indexer] = value instead\n",
      "\n",
      "See the caveats in the documentation: https://pandas.pydata.org/pandas-docs/stable/user_guide/indexing.html#returning-a-view-versus-a-copy\n",
      "  df_eventos.loc[:, 'goles'] = df_eventos.apply(lambda row: row['goles_local'] if row['home'] == 'Manchester City' else row['goles_visitante'], axis=1)\n",
      "/var/folders/3t/sdkd8jss1x3b8wld4zwvm2kh0000gn/T/ipykernel_817/490934485.py:12: SettingWithCopyWarning: \n",
      "A value is trying to be set on a copy of a slice from a DataFrame.\n",
      "Try using .loc[row_indexer,col_indexer] = value instead\n",
      "\n",
      "See the caveats in the documentation: https://pandas.pydata.org/pandas-docs/stable/user_guide/indexing.html#returning-a-view-versus-a-copy\n",
      "  df_eventos.loc[:, 'tiros'] = df_eventos.apply(lambda row: row['tiros_local'] if row['home'] == 'Manchester City' else row['tiros_visitante'], axis=1)\n"
     ]
    }
   ],
   "source": [
    "import pandas as pd\n",
    "import seaborn as sns\n",
    "import matplotlib.pyplot as plt\n",
    "import numpy as np\n",
    "\n",
    "df_mc = resultados_detallados[(resultados_detallados['home'] == 'Manchester City') | \n",
    "                               (resultados_detallados['away'] == 'Manchester City')]\n",
    "eventos = ['goles_local', 'goles_visitante', 'tiros_local', 'tiros_visitante', \n",
    "           'pases_local', 'pases_visitante', 'quites_local', 'quites_visitante']\n",
    "df_eventos = df_mc[['home', 'away'] + eventos]\n",
    "df_eventos.loc[:, 'goles'] = df_eventos.apply(lambda row: row['goles_local'] if row['home'] == 'Manchester City' else row['goles_visitante'], axis=1)\n",
    "df_eventos.loc[:, 'tiros'] = df_eventos.apply(lambda row: row['tiros_local'] if row['home'] == 'Manchester City' else row['tiros_visitante'], axis=1)\n",
    "df_eventos.loc[:, 'pases'] = df_eventos.apply(lambda row: row['pases_local'] if row['home'] == 'Manchester City' else row['pases_visitante'], axis=1)\n",
    "df_eventos.loc[:, 'quites'] = df_eventos.apply(lambda row: row['quites_local'] if row['home'] == 'Manchester City' else row['quites_visitante'], axis=1)\n",
    "eventos_dict = {'Goles': df_eventos['goles'], 'Tiros': df_eventos['tiros'], \n",
    "                'Pases': df_eventos['pases'], 'Quites': df_eventos['quites']}"
   ]
  },
  {
   "cell_type": "code",
   "execution_count": null,
   "metadata": {},
   "outputs": [
    {
     "data": {
      "image/png": "[encoded data removed]",
      "text/plain": [
       "<Figure size 720x432 with 1 Axes>"
      ]
     },
     "metadata": {
      "needs_background": "light"
     },
     "output_type": "display_data"
    },
    {
     "data": {
      "image/png": "[encoded data removed]",
      "text/plain": [
       "<Figure size 720x432 with 1 Axes>"
      ]
     },
     "metadata": {
      "needs_background": "light"
     },
     "output_type": "display_data"
    },
    {
     "data": {
      "image/png": "[encoded data removed]",
      "text/plain": [
       "<Figure size 720x432 with 1 Axes>"
      ]
     },
     "metadata": {
      "needs_background": "light"
     },
     "output_type": "display_data"
    },
    {
     "data": {
      "image/png": "[encoded data removed]",
      "text/plain": [
       "<Figure size 720x432 with 1 Axes>"
      ]
     },
     "metadata": {
      "needs_background": "light"
     },
     "output_type": "display_data"
    }
   ],
   "source": [
    "import numpy as np\n",
    "import seaborn as sns\n",
    "import matplotlib.pyplot as plt\n",
    "\n",
    "for evento, data in eventos_dict.items():\n",
    "    media = np.mean(data)\n",
    "    error_estandar = np.std(data)\n",
    "    \n",
    "    plt.figure(figsize=(10, 6))\n",
    "    \n",
    "    sns.kdeplot(data, fill=True, bw_adjust=0.5, color=\"blue\", label=\"KDE\")\n",
    "    \n",
    "    plt.axvline(media, color='red', linestyle='--', label=f'Media = {media:.2f}')\n",
    "    plt.axvline(media - error_estandar, color='green', linestyle=':', label=f'Error Estándar = {error_estandar:.2f}')\n",
    "    plt.axvline(media + error_estandar, color='green', linestyle=':', label='_nolegend_')\n",
    "    \n",
    "    plt.title(f'Distribución de {evento} del Manchester City', fontsize=14)\n",
    "    plt.xlabel('Cantidad', fontsize=12)\n",
    "    plt.ylabel('Densidad', fontsize=12)\n",
    "    plt.legend(loc='upper right')\n",
    "    \n",
    "    plt.show()\n"
   ]
  },
  {
   "cell_type": "code",
   "execution_count": 783,
   "metadata": {},
   "outputs": [
    {
     "data": {
      "image/png": "[encoded data removed]",
      "text/plain": [
       "<Figure size 720x432 with 2 Axes>"
      ]
     },
     "metadata": {
      "needs_background": "light"
     },
     "output_type": "display_data"
    }
   ],
   "source": [
    "import matplotlib.pyplot as plt\n",
    "import pandas as pd\n",
    "\n",
    "mean_PG = final_ranking['PG'].mean()\n",
    "mean_Points = final_ranking['Points'].mean()\n",
    "\n",
    "\n",
    "plt.figure(figsize=(10, 6))\n",
    "scatter = plt.scatter(\n",
    "    final_ranking['PG'], \n",
    "    final_ranking['Points'], \n",
    "    c=final_ranking['Points_Quintile'], \n",
    "    cmap='viridis', \n",
    "    s=100, \n",
    "    alpha=0.8\n",
    ")\n",
    "\n",
    "for i, row in final_ranking.iterrows():\n",
    "    plt.annotate(row['Team'], (row['PG'], row['Points']), fontsize=8, ha='right', va='bottom')\n",
    "\n",
    "plt.axvline(mean_PG, color='red', linestyle='--', linewidth=1, label=f'Mean PG: {mean_PG:.2f}')\n",
    "plt.axhline(mean_Points, color='green', linestyle='--', linewidth=1, label=f'Mean xP: {mean_Points:.2f}')\n",
    "\n",
    "plt.xlabel('PG')\n",
    "plt.ylabel('xP')\n",
    "plt.title('PG vs xPoints')\n",
    "plt.colorbar(scatter, label='xP Cuartile') \n",
    "plt.legend()\n",
    "plt.grid(visible=True, linestyle='--', alpha=0.5)\n",
    "\n",
    "plt.tight_layout()\n",
    "plt.show()"
   ]
  },
  {
   "cell_type": "code",
   "execution_count": 784,
   "metadata": {},
   "outputs": [
    {
     "data": {
      "image/png": "[encoded data removed]",
      "text/plain": [
       "<Figure size 720x432 with 2 Axes>"
      ]
     },
     "metadata": {
      "needs_background": "light"
     },
     "output_type": "display_data"
    }
   ],
   "source": [
    "import matplotlib.pyplot as plt\n",
    "import pandas as pd\n",
    "\n",
    "mean_PP = final_ranking['PP'].mean()\n",
    "mean_Points = final_ranking['Points'].mean()\n",
    "\n",
    "plt.figure(figsize=(10, 6))\n",
    "scatter = plt.scatter(\n",
    "    final_ranking['PP'], \n",
    "    final_ranking['Points'], \n",
    "    c=final_ranking['Points_Quintile'], \n",
    "    cmap='viridis', \n",
    "    s=100, \n",
    "    alpha=0.8\n",
    ")\n",
    "\n",
    "\n",
    "for i, row in final_ranking.iterrows():\n",
    "    plt.annotate(row['Team'], (row['PP'], row['Points']), fontsize=8, ha='right', va='bottom')\n",
    "\n",
    "plt.axvline(mean_PP, color='red', linestyle='--', linewidth=1, label=f'Mean PG: {mean_PP:.2f}')\n",
    "plt.axhline(mean_Points, color='green', linestyle='--', linewidth=1, label=f'Mean xP: {mean_Points:.2f}')\n",
    "\n",
    "plt.xlabel('PP')\n",
    "plt.ylabel('xP')\n",
    "plt.title('PP vs xPoints')\n",
    "plt.colorbar(scatter, label='xP Cuartile') \n",
    "plt.legend()\n",
    "plt.grid(visible=True, linestyle='--', alpha=0.5)\n",
    "\n",
    "plt.tight_layout()\n",
    "plt.show()"
   ]
  },
  {
   "cell_type": "code",
   "execution_count": 785,
   "metadata": {},
   "outputs": [],
   "source": [
    "final_ranking['real_position'] = final_ranking['real_position'].apply(lambda x: x - 1)"
   ]
  },
  {
   "cell_type": "code",
   "execution_count": 786,
   "metadata": {},
   "outputs": [
    {
     "data": {
      "text/html": [
       "<div>\n",
       "<style scoped>\n",
       "    .dataframe tbody tr th:only-of-type {\n",
       "        vertical-align: middle;\n",
       "    }\n",
       "\n",
       "    .dataframe tbody tr th {\n",
       "        vertical-align: top;\n",
       "    }\n",
       "\n",
       "    .dataframe thead th {\n",
       "        text-align: right;\n",
       "    }\n",
       "</style>\n",
       "<table border=\"1\" class=\"dataframe\">\n",
       "  <thead>\n",
       "    <tr style=\"text-align: right;\">\n",
       "      <th></th>\n",
       "      <th>Team</th>\n",
       "      <th>Points</th>\n",
       "      <th>real_position</th>\n",
       "      <th>Puntos</th>\n",
       "      <th>PG</th>\n",
       "      <th>PE</th>\n",
       "      <th>PP</th>\n",
       "      <th>Points_Quintile</th>\n",
       "    </tr>\n",
       "  </thead>\n",
       "  <tbody>\n",
       "    <tr>\n",
       "      <th>0</th>\n",
       "      <td>Arsenal</td>\n",
       "      <td>43.4</td>\n",
       "      <td>3</td>\n",
       "      <td>73</td>\n",
       "      <td>21</td>\n",
       "      <td>10</td>\n",
       "      <td>7</td>\n",
       "      <td>3</td>\n",
       "    </tr>\n",
       "    <tr>\n",
       "      <th>1</th>\n",
       "      <td>Everton</td>\n",
       "      <td>43.1</td>\n",
       "      <td>5</td>\n",
       "      <td>63</td>\n",
       "      <td>16</td>\n",
       "      <td>15</td>\n",
       "      <td>7</td>\n",
       "      <td>3</td>\n",
       "    </tr>\n",
       "    <tr>\n",
       "      <th>2</th>\n",
       "      <td>Chelsea</td>\n",
       "      <td>37.6</td>\n",
       "      <td>2</td>\n",
       "      <td>75</td>\n",
       "      <td>22</td>\n",
       "      <td>9</td>\n",
       "      <td>7</td>\n",
       "      <td>3</td>\n",
       "    </tr>\n",
       "    <tr>\n",
       "      <th>3</th>\n",
       "      <td>Liverpool</td>\n",
       "      <td>34.7</td>\n",
       "      <td>6</td>\n",
       "      <td>61</td>\n",
       "      <td>16</td>\n",
       "      <td>13</td>\n",
       "      <td>9</td>\n",
       "      <td>3</td>\n",
       "    </tr>\n",
       "    <tr>\n",
       "      <th>4</th>\n",
       "      <td>Tottenham Hotspur</td>\n",
       "      <td>33.8</td>\n",
       "      <td>4</td>\n",
       "      <td>72</td>\n",
       "      <td>21</td>\n",
       "      <td>9</td>\n",
       "      <td>8</td>\n",
       "      <td>3</td>\n",
       "    </tr>\n",
       "    <tr>\n",
       "      <th>5</th>\n",
       "      <td>Southampton</td>\n",
       "      <td>32.7</td>\n",
       "      <td>13</td>\n",
       "      <td>41</td>\n",
       "      <td>9</td>\n",
       "      <td>14</td>\n",
       "      <td>15</td>\n",
       "      <td>2</td>\n",
       "    </tr>\n",
       "    <tr>\n",
       "      <th>6</th>\n",
       "      <td>West Bromwich Albion</td>\n",
       "      <td>31.5</td>\n",
       "      <td>7</td>\n",
       "      <td>49</td>\n",
       "      <td>14</td>\n",
       "      <td>7</td>\n",
       "      <td>17</td>\n",
       "      <td>2</td>\n",
       "    </tr>\n",
       "    <tr>\n",
       "      <th>7</th>\n",
       "      <td>Manchester City</td>\n",
       "      <td>31.3</td>\n",
       "      <td>1</td>\n",
       "      <td>78</td>\n",
       "      <td>23</td>\n",
       "      <td>9</td>\n",
       "      <td>6</td>\n",
       "      <td>2</td>\n",
       "    </tr>\n",
       "    <tr>\n",
       "      <th>8</th>\n",
       "      <td>West Ham United</td>\n",
       "      <td>27.9</td>\n",
       "      <td>9</td>\n",
       "      <td>46</td>\n",
       "      <td>12</td>\n",
       "      <td>10</td>\n",
       "      <td>16</td>\n",
       "      <td>2</td>\n",
       "    </tr>\n",
       "    <tr>\n",
       "      <th>9</th>\n",
       "      <td>Stoke City</td>\n",
       "      <td>26.6</td>\n",
       "      <td>12</td>\n",
       "      <td>42</td>\n",
       "      <td>9</td>\n",
       "      <td>15</td>\n",
       "      <td>14</td>\n",
       "      <td>2</td>\n",
       "    </tr>\n",
       "    <tr>\n",
       "      <th>10</th>\n",
       "      <td>Manchester United</td>\n",
       "      <td>24.7</td>\n",
       "      <td>0</td>\n",
       "      <td>89</td>\n",
       "      <td>28</td>\n",
       "      <td>5</td>\n",
       "      <td>5</td>\n",
       "      <td>1</td>\n",
       "    </tr>\n",
       "    <tr>\n",
       "      <th>11</th>\n",
       "      <td>Swansea City</td>\n",
       "      <td>22.9</td>\n",
       "      <td>8</td>\n",
       "      <td>46</td>\n",
       "      <td>11</td>\n",
       "      <td>13</td>\n",
       "      <td>14</td>\n",
       "      <td>1</td>\n",
       "    </tr>\n",
       "    <tr>\n",
       "      <th>12</th>\n",
       "      <td>Reading</td>\n",
       "      <td>22.0</td>\n",
       "      <td>18</td>\n",
       "      <td>28</td>\n",
       "      <td>6</td>\n",
       "      <td>10</td>\n",
       "      <td>22</td>\n",
       "      <td>1</td>\n",
       "    </tr>\n",
       "    <tr>\n",
       "      <th>13</th>\n",
       "      <td>Norwich City</td>\n",
       "      <td>21.2</td>\n",
       "      <td>10</td>\n",
       "      <td>44</td>\n",
       "      <td>10</td>\n",
       "      <td>14</td>\n",
       "      <td>14</td>\n",
       "      <td>1</td>\n",
       "    </tr>\n",
       "    <tr>\n",
       "      <th>14</th>\n",
       "      <td>Fulham</td>\n",
       "      <td>20.2</td>\n",
       "      <td>11</td>\n",
       "      <td>43</td>\n",
       "      <td>11</td>\n",
       "      <td>10</td>\n",
       "      <td>17</td>\n",
       "      <td>1</td>\n",
       "    </tr>\n",
       "    <tr>\n",
       "      <th>15</th>\n",
       "      <td>Wigan Athletic</td>\n",
       "      <td>20.1</td>\n",
       "      <td>17</td>\n",
       "      <td>36</td>\n",
       "      <td>9</td>\n",
       "      <td>9</td>\n",
       "      <td>20</td>\n",
       "      <td>0</td>\n",
       "    </tr>\n",
       "    <tr>\n",
       "      <th>16</th>\n",
       "      <td>Newcastle United</td>\n",
       "      <td>18.9</td>\n",
       "      <td>15</td>\n",
       "      <td>41</td>\n",
       "      <td>11</td>\n",
       "      <td>8</td>\n",
       "      <td>19</td>\n",
       "      <td>0</td>\n",
       "    </tr>\n",
       "    <tr>\n",
       "      <th>17</th>\n",
       "      <td>Aston Villa</td>\n",
       "      <td>16.4</td>\n",
       "      <td>14</td>\n",
       "      <td>41</td>\n",
       "      <td>10</td>\n",
       "      <td>11</td>\n",
       "      <td>17</td>\n",
       "      <td>0</td>\n",
       "    </tr>\n",
       "    <tr>\n",
       "      <th>18</th>\n",
       "      <td>Sunderland</td>\n",
       "      <td>15.7</td>\n",
       "      <td>16</td>\n",
       "      <td>39</td>\n",
       "      <td>9</td>\n",
       "      <td>12</td>\n",
       "      <td>17</td>\n",
       "      <td>0</td>\n",
       "    </tr>\n",
       "    <tr>\n",
       "      <th>19</th>\n",
       "      <td>Queens Park Rangers</td>\n",
       "      <td>14.5</td>\n",
       "      <td>19</td>\n",
       "      <td>25</td>\n",
       "      <td>4</td>\n",
       "      <td>13</td>\n",
       "      <td>21</td>\n",
       "      <td>0</td>\n",
       "    </tr>\n",
       "  </tbody>\n",
       "</table>\n",
       "</div>"
      ],
      "text/plain": [
       "                    Team  Points  real_position  Puntos  PG  PE  PP  \\\n",
       "0                Arsenal    43.4              3      73  21  10   7   \n",
       "1                Everton    43.1              5      63  16  15   7   \n",
       "2                Chelsea    37.6              2      75  22   9   7   \n",
       "3              Liverpool    34.7              6      61  16  13   9   \n",
       "4      Tottenham Hotspur    33.8              4      72  21   9   8   \n",
       "5            Southampton    32.7             13      41   9  14  15   \n",
       "6   West Bromwich Albion    31.5              7      49  14   7  17   \n",
       "7        Manchester City    31.3              1      78  23   9   6   \n",
       "8        West Ham United    27.9              9      46  12  10  16   \n",
       "9             Stoke City    26.6             12      42   9  15  14   \n",
       "10     Manchester United    24.7              0      89  28   5   5   \n",
       "11          Swansea City    22.9              8      46  11  13  14   \n",
       "12               Reading    22.0             18      28   6  10  22   \n",
       "13          Norwich City    21.2             10      44  10  14  14   \n",
       "14                Fulham    20.2             11      43  11  10  17   \n",
       "15        Wigan Athletic    20.1             17      36   9   9  20   \n",
       "16      Newcastle United    18.9             15      41  11   8  19   \n",
       "17           Aston Villa    16.4             14      41  10  11  17   \n",
       "18            Sunderland    15.7             16      39   9  12  17   \n",
       "19   Queens Park Rangers    14.5             19      25   4  13  21   \n",
       "\n",
       "    Points_Quintile  \n",
       "0                 3  \n",
       "1                 3  \n",
       "2                 3  \n",
       "3                 3  \n",
       "4                 3  \n",
       "5                 2  \n",
       "6                 2  \n",
       "7                 2  \n",
       "8                 2  \n",
       "9                 2  \n",
       "10                1  \n",
       "11                1  \n",
       "12                1  \n",
       "13                1  \n",
       "14                1  \n",
       "15                0  \n",
       "16                0  \n",
       "17                0  \n",
       "18                0  \n",
       "19                0  "
      ]
     },
     "execution_count": 786,
     "metadata": {},
     "output_type": "execute_result"
    }
   ],
   "source": [
    "final_ranking"
   ]
  },
  {
   "cell_type": "markdown",
   "metadata": {},
   "source": [
    "## Simulamos con cambio de jugadores"
   ]
  },
  {
   "cell_type": "code",
   "execution_count": 787,
   "metadata": {},
   "outputs": [],
   "source": [
    "def choose_teams(teams_list, players_data):\n",
    "    \"\"\"\n",
    "    Permite al usuario elegir un equipo completo o un equipo personalizado.\n",
    "    Devuelve un diccionario en el formato: {'TeamName': [(player1, periods), (player2, periods), ...]}.\n",
    "    \"\"\"\n",
    "    print(\"¿Cómo deseas elegir tu equipo?\")\n",
    "    print(\"1. Elegir un equipo completo\")\n",
    "    print(\"2. Seleccionar jugadores individuales de diferentes equipos\")\n",
    "\n",
    "    choice = input(\"Ingresa el número de tu elección (1 o 2): \")\n",
    "\n",
    "    players_dict = defaultdict(list)  # Creamos el diccionario para almacenar la selección de jugadores\n",
    "    team_name = \"\"\n",
    "\n",
    "    if choice == '1':\n",
    "        # Elegir un equipo completo\n",
    "        print(\"Equipos disponibles:\")\n",
    "        for idx, team in enumerate(teams_list, start=1):\n",
    "            print(f\"{idx}. {team}\")\n",
    "\n",
    "        team_index = int(input(\"Selecciona el número del equipo que deseas elegir: \")) - 1\n",
    "\n",
    "        if 0 <= team_index < len(teams_list):\n",
    "            team_name = teams_list[team_index]\n",
    "            selected_players = get_initial_11(team_name)  # Llama a la función que devuelve el equipo titular\n",
    "            players_dict[team_name] = [(player, 'full_period') for player in selected_players]\n",
    "            print(f\"\\nEquipo titular seleccionado para {team_name}: {selected_players}\")\n",
    "        else:\n",
    "            print(\"Selección de equipo inválida.\")\n",
    "\n",
    "    elif choice == '2':\n",
    "        # Selección de jugadores personalizados de diferentes equipos\n",
    "        team_name = input(\"Ingresa el nombre del equipo personalizado: \")\n",
    "\n",
    "        while sum(len(players) for players in players_dict.values()) < 11:\n",
    "            print(\"Equipos disponibles:\")\n",
    "            for idx, team in enumerate(teams_list, start=1):\n",
    "                print(f\"{idx}. {team}\")\n",
    "\n",
    "            team_index = int(input(\"Selecciona el número del equipo para elegir jugadores: \")) - 1\n",
    "\n",
    "            if 0 <= team_index < len(teams_list):\n",
    "                team_origin = teams_list[team_index]\n",
    "                available_players = [player for player in players_data[team_origin] \n",
    "                                     if player not in [p[0] for players in players_dict.values() for p in players]]\n",
    "\n",
    "                while True:\n",
    "                    print(f\"Jugadores disponibles en {team_origin}:\")\n",
    "                    for idx, player in enumerate(available_players, start=1):\n",
    "                        print(f\"{idx}. {player}\")\n",
    "\n",
    "                    player_index = int(input(\"Selecciona el número del jugador que deseas agregar (o 0 para cambiar de equipo): \")) - 1\n",
    "\n",
    "                    if player_index == -1:\n",
    "                        break\n",
    "                    elif 0 <= player_index < len(available_players):\n",
    "                        # Agregar el jugador al equipo de origen en `players_dict`\n",
    "                        players_dict[team_origin].append((available_players[player_index], 'custom_period'))\n",
    "                        print(f\"Jugador {available_players[player_index]} agregado a {team_origin}.\")\n",
    "                        print(f\"Jugadores seleccionados: {sum(len(players) for players in players_dict.values())} / 11\\n\")\n",
    "\n",
    "                        # Actualizar la lista de jugadores disponibles\n",
    "                        available_players.pop(player_index)\n",
    "\n",
    "                        # Si se alcanzan los 11 jugadores, salir del bucle\n",
    "                        if sum(len(players) for players in players_dict.values()) == 11:\n",
    "                            break\n",
    "                    else:\n",
    "                        print(\"Selección de jugador no válida.\")\n",
    "            else:\n",
    "                print(\"Selección de equipo no válida.\")\n",
    "\n",
    "        if sum(len(players) for players in players_dict.values()) == 11:\n",
    "            print(\"\\nHas completado tu equipo:\")\n",
    "        else:\n",
    "            print(\"\\nNo has completado los 11 jugadores, pero esta es tu selección final:\")\n",
    "        print(players_dict)\n",
    "\n",
    "    else:\n",
    "        print(\"Opción inválida. Por favor, elige 1 o 2.\")\n",
    "\n",
    "    return team_name, players_dict"
   ]
  },
  {
   "cell_type": "code",
   "execution_count": 788,
   "metadata": {},
   "outputs": [],
   "source": [
    "random.seed(42)\n",
    "def simulate_matches(num_matches, home_players, away_players):\n",
    "    results = []\n",
    "    for _ in tqdm(range(num_matches), desc=\"Simulando partidos\", unit=\"partido\"):\n",
    "        home_team_name = list(home_players.keys())[0] if len(home_players) == 1 else None\n",
    "        away_team_name = list(away_players.keys())[0] if len(away_players) == 1 else None\n",
    "        if home_team_name == None and away_team_name == None:\n",
    "            simulation = MatchSimulation(home_players, away_players)\n",
    "        elif home_team_name != None and away_team_name == None:\n",
    "            simulation = MatchSimulation(home_players, away_players, home_team=home_team_name)\n",
    "        elif home_team_name == None and away_team_name != None:\n",
    "            simulation = MatchSimulation(home_players, away_players, away_team=away_team_name)\n",
    "        else:\n",
    "            simulation = MatchSimulation(home_players, away_players, home_team= home_team_name, away_team= away_team_name)\n",
    "        result = simulation.play_match()\n",
    "        results.append(result)\n",
    "    return pd.DataFrame(results)"
   ]
  },
  {
   "cell_type": "code",
   "execution_count": 789,
   "metadata": {},
   "outputs": [],
   "source": [
    "import pandas as pd\n",
    "from collections import defaultdict\n",
    "\n",
    "def simulate_against_all_teams(team_name, selected_team_players, teams_list, all_results):\n",
    "    if 'Match' not in all_results.columns:\n",
    "        all_results.reset_index(inplace=True)\n",
    "\n",
    "    updated_results = all_results.copy()\n",
    "    results = []\n",
    "\n",
    "    for opponent_team in teams_list:\n",
    "        if opponent_team == team_name:\n",
    "            continue  \n",
    "\n",
    "        team1 = team_name\n",
    "        team2 = opponent_team\n",
    "        team1_players = {team1: selected_team_players[team1]}\n",
    "        team2_players = {team2: [(player, 'full_period') for player in get_initial_11(team2)]}\n",
    "\n",
    "        match_result_df = simulate_matches(10, team1_players, team2_players)\n",
    "        \n",
    "        match_result_df['winner'] = match_result_df.apply(\n",
    "            lambda row: row['home'] if row['goles_local'] > row['goles_visitante'] else\n",
    "                        row['away'] if row['goles_local'] < row['goles_visitante'] else\n",
    "                        'tie', axis=1\n",
    "        )\n",
    "\n",
    "        total_games = match_result_df.shape[0]\n",
    "        win_counts = match_result_df['winner'].value_counts()\n",
    "        win_pct_team1 = (win_counts.get(team1, 0) / total_games) * 100\n",
    "        win_pct_team2 = (win_counts.get(team2, 0) / total_games) * 100\n",
    "        tie_pct = (win_counts.get('tie', 0) / total_games) * 100\n",
    "        loss_pct_team1 = win_pct_team2  # La pérdida de un equipo es la victoria del otro\n",
    "        loss_pct_team2 = win_pct_team1\n",
    "\n",
    "        new_index = ['win%', 'loss%', 'tie%', 'avg_goles', 'avg_tiros', 'avg_pases', 'avg_quites'] \n",
    "        teams_current = [team1, team2]\n",
    "        df_transposed = pd.DataFrame(index=new_index, columns=teams_current)\n",
    "        \n",
    "        df_transposed.loc['win%', team1] = win_pct_team1\n",
    "        df_transposed.loc['loss%', team1] = loss_pct_team1\n",
    "        df_transposed.loc['tie%', team1] = tie_pct\n",
    "        df_transposed.loc['win%', team2] = win_pct_team2\n",
    "        df_transposed.loc['loss%', team2] = loss_pct_team2\n",
    "        df_transposed.loc['tie%', team2] = tie_pct\n",
    "\n",
    "        df_transposed.loc['avg_goles', team1] = match_result_df['goles_local'].mean()\n",
    "        df_transposed.loc['avg_goles', team2] = match_result_df['goles_visitante'].mean()\n",
    "        df_transposed.loc['avg_tiros', team1] = match_result_df['tiros_local'].mean()\n",
    "        df_transposed.loc['avg_tiros', team2] = match_result_df['tiros_visitante'].mean()\n",
    "        df_transposed.loc['avg_pases', team1] = match_result_df['pases_local'].mean()\n",
    "        df_transposed.loc['avg_pases', team2] = match_result_df['pases_visitante'].mean()\n",
    "        df_transposed.loc['avg_quites', team1] = match_result_df['quites_local'].mean()\n",
    "        df_transposed.loc['avg_quites', team2] = match_result_df['quites_visitante'].mean()\n",
    "\n",
    "        match_key1 = f\"{team1} vs {team2}\"\n",
    "        match_key2 = f\"{team2} vs {team1}\"\n",
    "        \n",
    "        if match_key1 in updated_results['Match'].values:\n",
    "            for metric in new_index:\n",
    "                updated_results.loc[(updated_results['Match'] == match_key1) & \n",
    "                                    (updated_results['Unnamed: 1'] == metric), team1] = df_transposed.loc[metric, team1]\n",
    "                updated_results.loc[(updated_results['Match'] == match_key1) & \n",
    "                                    (updated_results['Unnamed: 1'] == metric), team2] = df_transposed.loc[metric, team2]\n",
    "                \n",
    "        elif match_key2 in updated_results['Match'].values:\n",
    "            for metric in new_index:\n",
    "                updated_results.loc[(updated_results['Match'] == match_key2) & \n",
    "                                    (updated_results['Unnamed: 1'] == metric), team1] = df_transposed.loc[metric, team1]\n",
    "                updated_results.loc[(updated_results['Match'] == match_key2) & \n",
    "                                    (updated_results['Unnamed: 1'] == metric), team2] = df_transposed.loc[metric, team2]\n",
    "    return updated_results"
   ]
  },
  {
   "cell_type": "code",
   "execution_count": 790,
   "metadata": {},
   "outputs": [
    {
     "name": "stdout",
     "output_type": "stream",
     "text": [
      "¿Cómo deseas elegir tu equipo?\n",
      "1. Elegir un equipo completo\n",
      "2. Seleccionar jugadores individuales de diferentes equipos\n",
      "Equipos disponibles:\n",
      "1. Manchester United\n",
      "2. Manchester City\n",
      "3. Chelsea\n",
      "4. Arsenal\n",
      "5. Tottenham Hotspur\n",
      "6. Everton\n",
      "7. Liverpool\n",
      "8. West Bromwich Albion\n",
      "9. Swansea City\n",
      "10. West Ham United\n",
      "11. Norwich City\n",
      "12. Fulham\n",
      "13. Stoke City\n",
      "14. Southampton\n",
      "15. Aston Villa\n",
      "16. Newcastle United\n",
      "17. Sunderland\n",
      "18. Wigan Athletic\n",
      "19. Reading\n",
      "20. Queens Park Rangers\n",
      "Jugadores disponibles en Manchester City:\n",
      "1. Hart, Joe\n",
      "2. Aguero, Sergio\n",
      "3. Toure, Gnegneri Yaya\n",
      "4. Silva, David\n",
      "5. Dzeko, Edin\n",
      "6. Lescott, Joleon\n",
      "7. Barry, Gareth\n",
      "8. Nasri, Samir\n",
      "9. Richards, Micah\n",
      "10. Clichy, Gael\n",
      "11. Kompany, Vincent\n",
      "12. Tevez, Carlos\n",
      "13. Zabaleta, Pablo\n",
      "14. Kolarov, Aleksandar\n",
      "15. Garcia Fernandez, Francisco Javier\n",
      "16. Milner, James\n",
      "17. Nastasic, Matija\n",
      "18. Rodwell, Jack\n",
      "19. Balotelli, Mario\n",
      "20. Toure, Kolo\n",
      "21. Sinclair, Scott\n",
      "22. Maicon, Douglas\n",
      "23. Razak, Abdul\n",
      "24. Rekik, Karim\n",
      "Jugador Hart, Joe agregado a Manchester City.\n",
      "Jugadores seleccionados: 1 / 11\n",
      "\n",
      "Jugadores disponibles en Manchester City:\n",
      "1. Aguero, Sergio\n",
      "2. Toure, Gnegneri Yaya\n",
      "3. Silva, David\n",
      "4. Dzeko, Edin\n",
      "5. Lescott, Joleon\n",
      "6. Barry, Gareth\n",
      "7. Nasri, Samir\n",
      "8. Richards, Micah\n",
      "9. Clichy, Gael\n",
      "10. Kompany, Vincent\n",
      "11. Tevez, Carlos\n",
      "12. Zabaleta, Pablo\n",
      "13. Kolarov, Aleksandar\n",
      "14. Garcia Fernandez, Francisco Javier\n",
      "15. Milner, James\n",
      "16. Nastasic, Matija\n",
      "17. Rodwell, Jack\n",
      "18. Balotelli, Mario\n",
      "19. Toure, Kolo\n",
      "20. Sinclair, Scott\n",
      "21. Maicon, Douglas\n",
      "22. Razak, Abdul\n",
      "23. Rekik, Karim\n",
      "Jugador Aguero, Sergio agregado a Manchester City.\n",
      "Jugadores seleccionados: 2 / 11\n",
      "\n",
      "Jugadores disponibles en Manchester City:\n",
      "1. Toure, Gnegneri Yaya\n",
      "2. Silva, David\n",
      "3. Dzeko, Edin\n",
      "4. Lescott, Joleon\n",
      "5. Barry, Gareth\n",
      "6. Nasri, Samir\n",
      "7. Richards, Micah\n",
      "8. Clichy, Gael\n",
      "9. Kompany, Vincent\n",
      "10. Tevez, Carlos\n",
      "11. Zabaleta, Pablo\n",
      "12. Kolarov, Aleksandar\n",
      "13. Garcia Fernandez, Francisco Javier\n",
      "14. Milner, James\n",
      "15. Nastasic, Matija\n",
      "16. Rodwell, Jack\n",
      "17. Balotelli, Mario\n",
      "18. Toure, Kolo\n",
      "19. Sinclair, Scott\n",
      "20. Maicon, Douglas\n",
      "21. Razak, Abdul\n",
      "22. Rekik, Karim\n",
      "Jugador Toure, Gnegneri Yaya agregado a Manchester City.\n",
      "Jugadores seleccionados: 3 / 11\n",
      "\n",
      "Jugadores disponibles en Manchester City:\n",
      "1. Silva, David\n",
      "2. Dzeko, Edin\n",
      "3. Lescott, Joleon\n",
      "4. Barry, Gareth\n",
      "5. Nasri, Samir\n",
      "6. Richards, Micah\n",
      "7. Clichy, Gael\n",
      "8. Kompany, Vincent\n",
      "9. Tevez, Carlos\n",
      "10. Zabaleta, Pablo\n",
      "11. Kolarov, Aleksandar\n",
      "12. Garcia Fernandez, Francisco Javier\n",
      "13. Milner, James\n",
      "14. Nastasic, Matija\n",
      "15. Rodwell, Jack\n",
      "16. Balotelli, Mario\n",
      "17. Toure, Kolo\n",
      "18. Sinclair, Scott\n",
      "19. Maicon, Douglas\n",
      "20. Razak, Abdul\n",
      "21. Rekik, Karim\n",
      "Jugador Silva, David agregado a Manchester City.\n",
      "Jugadores seleccionados: 4 / 11\n",
      "\n",
      "Jugadores disponibles en Manchester City:\n",
      "1. Dzeko, Edin\n",
      "2. Lescott, Joleon\n",
      "3. Barry, Gareth\n",
      "4. Nasri, Samir\n",
      "5. Richards, Micah\n",
      "6. Clichy, Gael\n",
      "7. Kompany, Vincent\n",
      "8. Tevez, Carlos\n",
      "9. Zabaleta, Pablo\n",
      "10. Kolarov, Aleksandar\n",
      "11. Garcia Fernandez, Francisco Javier\n",
      "12. Milner, James\n",
      "13. Nastasic, Matija\n",
      "14. Rodwell, Jack\n",
      "15. Balotelli, Mario\n",
      "16. Toure, Kolo\n",
      "17. Sinclair, Scott\n",
      "18. Maicon, Douglas\n",
      "19. Razak, Abdul\n",
      "20. Rekik, Karim\n",
      "Jugador Dzeko, Edin agregado a Manchester City.\n",
      "Jugadores seleccionados: 5 / 11\n",
      "\n",
      "Jugadores disponibles en Manchester City:\n",
      "1. Lescott, Joleon\n",
      "2. Barry, Gareth\n",
      "3. Nasri, Samir\n",
      "4. Richards, Micah\n",
      "5. Clichy, Gael\n",
      "6. Kompany, Vincent\n",
      "7. Tevez, Carlos\n",
      "8. Zabaleta, Pablo\n",
      "9. Kolarov, Aleksandar\n",
      "10. Garcia Fernandez, Francisco Javier\n",
      "11. Milner, James\n",
      "12. Nastasic, Matija\n",
      "13. Rodwell, Jack\n",
      "14. Balotelli, Mario\n",
      "15. Toure, Kolo\n",
      "16. Sinclair, Scott\n",
      "17. Maicon, Douglas\n",
      "18. Razak, Abdul\n",
      "19. Rekik, Karim\n",
      "Jugador Lescott, Joleon agregado a Manchester City.\n",
      "Jugadores seleccionados: 6 / 11\n",
      "\n",
      "Jugadores disponibles en Manchester City:\n",
      "1. Barry, Gareth\n",
      "2. Nasri, Samir\n",
      "3. Richards, Micah\n",
      "4. Clichy, Gael\n",
      "5. Kompany, Vincent\n",
      "6. Tevez, Carlos\n",
      "7. Zabaleta, Pablo\n",
      "8. Kolarov, Aleksandar\n",
      "9. Garcia Fernandez, Francisco Javier\n",
      "10. Milner, James\n",
      "11. Nastasic, Matija\n",
      "12. Rodwell, Jack\n",
      "13. Balotelli, Mario\n",
      "14. Toure, Kolo\n",
      "15. Sinclair, Scott\n",
      "16. Maicon, Douglas\n",
      "17. Razak, Abdul\n",
      "18. Rekik, Karim\n",
      "Jugador Barry, Gareth agregado a Manchester City.\n",
      "Jugadores seleccionados: 7 / 11\n",
      "\n",
      "Jugadores disponibles en Manchester City:\n",
      "1. Nasri, Samir\n",
      "2. Richards, Micah\n",
      "3. Clichy, Gael\n",
      "4. Kompany, Vincent\n",
      "5. Tevez, Carlos\n",
      "6. Zabaleta, Pablo\n",
      "7. Kolarov, Aleksandar\n",
      "8. Garcia Fernandez, Francisco Javier\n",
      "9. Milner, James\n",
      "10. Nastasic, Matija\n",
      "11. Rodwell, Jack\n",
      "12. Balotelli, Mario\n",
      "13. Toure, Kolo\n",
      "14. Sinclair, Scott\n",
      "15. Maicon, Douglas\n",
      "16. Razak, Abdul\n",
      "17. Rekik, Karim\n",
      "Jugador Nasri, Samir agregado a Manchester City.\n",
      "Jugadores seleccionados: 8 / 11\n",
      "\n",
      "Jugadores disponibles en Manchester City:\n",
      "1. Richards, Micah\n",
      "2. Clichy, Gael\n",
      "3. Kompany, Vincent\n",
      "4. Tevez, Carlos\n",
      "5. Zabaleta, Pablo\n",
      "6. Kolarov, Aleksandar\n",
      "7. Garcia Fernandez, Francisco Javier\n",
      "8. Milner, James\n",
      "9. Nastasic, Matija\n",
      "10. Rodwell, Jack\n",
      "11. Balotelli, Mario\n",
      "12. Toure, Kolo\n",
      "13. Sinclair, Scott\n",
      "14. Maicon, Douglas\n",
      "15. Razak, Abdul\n",
      "16. Rekik, Karim\n",
      "Jugador Richards, Micah agregado a Manchester City.\n",
      "Jugadores seleccionados: 9 / 11\n",
      "\n",
      "Jugadores disponibles en Manchester City:\n",
      "1. Clichy, Gael\n",
      "2. Kompany, Vincent\n",
      "3. Tevez, Carlos\n",
      "4. Zabaleta, Pablo\n",
      "5. Kolarov, Aleksandar\n",
      "6. Garcia Fernandez, Francisco Javier\n",
      "7. Milner, James\n",
      "8. Nastasic, Matija\n",
      "9. Rodwell, Jack\n",
      "10. Balotelli, Mario\n",
      "11. Toure, Kolo\n",
      "12. Sinclair, Scott\n",
      "13. Maicon, Douglas\n",
      "14. Razak, Abdul\n",
      "15. Rekik, Karim\n",
      "Jugador Clichy, Gael agregado a Manchester City.\n",
      "Jugadores seleccionados: 10 / 11\n",
      "\n",
      "Jugadores disponibles en Manchester City:\n",
      "1. Kompany, Vincent\n",
      "2. Tevez, Carlos\n",
      "3. Zabaleta, Pablo\n",
      "4. Kolarov, Aleksandar\n",
      "5. Garcia Fernandez, Francisco Javier\n",
      "6. Milner, James\n",
      "7. Nastasic, Matija\n",
      "8. Rodwell, Jack\n",
      "9. Balotelli, Mario\n",
      "10. Toure, Kolo\n",
      "11. Sinclair, Scott\n",
      "12. Maicon, Douglas\n",
      "13. Razak, Abdul\n",
      "14. Rekik, Karim\n",
      "Jugador Toure, Kolo agregado a Manchester City.\n",
      "Jugadores seleccionados: 11 / 11\n",
      "\n",
      "\n",
      "Has completado tu equipo:\n",
      "defaultdict(<class 'list'>, {'Manchester City': [('Hart, Joe', 'custom_period'), ('Aguero, Sergio', 'custom_period'), ('Toure, Gnegneri Yaya', 'custom_period'), ('Silva, David', 'custom_period'), ('Dzeko, Edin', 'custom_period'), ('Lescott, Joleon', 'custom_period'), ('Barry, Gareth', 'custom_period'), ('Nasri, Samir', 'custom_period'), ('Richards, Micah', 'custom_period'), ('Clichy, Gael', 'custom_period'), ('Toure, Kolo', 'custom_period')]})\n"
     ]
    },
    {
     "name": "stderr",
     "output_type": "stream",
     "text": [
      "Simulando partidos: 100%|██████████| 10/10 [00:01<00:00,  6.91partido/s]\n",
      "Simulando partidos: 100%|██████████| 10/10 [00:01<00:00,  8.16partido/s]\n",
      "Simulando partidos: 100%|██████████| 10/10 [00:01<00:00,  6.87partido/s]\n",
      "Simulando partidos: 100%|██████████| 10/10 [00:01<00:00,  8.66partido/s]\n",
      "Simulando partidos: 100%|██████████| 10/10 [00:01<00:00,  7.52partido/s]\n",
      "Simulando partidos: 100%|██████████| 10/10 [00:01<00:00,  7.45partido/s]\n",
      "Simulando partidos: 100%|██████████| 10/10 [00:01<00:00,  7.86partido/s]\n",
      "Simulando partidos: 100%|██████████| 10/10 [00:01<00:00,  7.77partido/s]\n",
      "Simulando partidos: 100%|██████████| 10/10 [00:01<00:00,  7.32partido/s]\n",
      "Simulando partidos: 100%|██████████| 10/10 [00:01<00:00,  7.84partido/s]\n",
      "Simulando partidos: 100%|██████████| 10/10 [00:01<00:00,  7.83partido/s]\n",
      "Simulando partidos: 100%|██████████| 10/10 [00:01<00:00,  7.70partido/s]\n",
      "Simulando partidos: 100%|██████████| 10/10 [00:01<00:00,  7.35partido/s]\n",
      "Simulando partidos: 100%|██████████| 10/10 [00:01<00:00,  7.44partido/s]\n",
      "Simulando partidos: 100%|██████████| 10/10 [00:01<00:00,  8.25partido/s]\n",
      "Simulando partidos: 100%|██████████| 10/10 [00:01<00:00,  8.14partido/s]\n",
      "Simulando partidos: 100%|██████████| 10/10 [00:01<00:00,  8.74partido/s]\n",
      "Simulando partidos: 100%|██████████| 10/10 [00:01<00:00,  7.41partido/s]\n",
      "Simulando partidos: 100%|██████████| 10/10 [00:01<00:00,  7.50partido/s]\n"
     ]
    }
   ],
   "source": [
    "team_name, selected_team_players = choose_teams(teams_list, players_dict)\n",
    "updated_all_results = simulate_against_all_teams(team_name, selected_team_players, teams_list, all_results)"
   ]
  },
  {
   "cell_type": "code",
   "execution_count": 791,
   "metadata": {},
   "outputs": [],
   "source": [
    "updated_all_results.to_csv('/Users/luisalawson/Downloads/PRUEBA_20_NOV_SIN_KOMPANY.csv')"
   ]
  },
  {
   "cell_type": "code",
   "execution_count": 792,
   "metadata": {},
   "outputs": [],
   "source": [
    "final_ranking_Kompany = simulate_season_ranking(updated_all_results)"
   ]
  },
  {
   "cell_type": "code",
   "execution_count": 793,
   "metadata": {},
   "outputs": [
    {
     "data": {
      "text/html": [
       "<div>\n",
       "<style scoped>\n",
       "    .dataframe tbody tr th:only-of-type {\n",
       "        vertical-align: middle;\n",
       "    }\n",
       "\n",
       "    .dataframe tbody tr th {\n",
       "        vertical-align: top;\n",
       "    }\n",
       "\n",
       "    .dataframe thead th {\n",
       "        text-align: right;\n",
       "    }\n",
       "</style>\n",
       "<table border=\"1\" class=\"dataframe\">\n",
       "  <thead>\n",
       "    <tr style=\"text-align: right;\">\n",
       "      <th></th>\n",
       "      <th>Team</th>\n",
       "      <th>Points</th>\n",
       "    </tr>\n",
       "  </thead>\n",
       "  <tbody>\n",
       "    <tr>\n",
       "      <th>1</th>\n",
       "      <td>Everton</td>\n",
       "      <td>43.1</td>\n",
       "    </tr>\n",
       "    <tr>\n",
       "      <th>2</th>\n",
       "      <td>Arsenal</td>\n",
       "      <td>41.9</td>\n",
       "    </tr>\n",
       "    <tr>\n",
       "      <th>3</th>\n",
       "      <td>Chelsea</td>\n",
       "      <td>38.4</td>\n",
       "    </tr>\n",
       "    <tr>\n",
       "      <th>4</th>\n",
       "      <td>Liverpool</td>\n",
       "      <td>34.7</td>\n",
       "    </tr>\n",
       "    <tr>\n",
       "      <th>5</th>\n",
       "      <td>Tottenham Hotspur</td>\n",
       "      <td>33.7</td>\n",
       "    </tr>\n",
       "    <tr>\n",
       "      <th>6</th>\n",
       "      <td>Southampton</td>\n",
       "      <td>33.2</td>\n",
       "    </tr>\n",
       "    <tr>\n",
       "      <th>7</th>\n",
       "      <td>West Bromwich Albion</td>\n",
       "      <td>32.4</td>\n",
       "    </tr>\n",
       "    <tr>\n",
       "      <th>8</th>\n",
       "      <td>Manchester City</td>\n",
       "      <td>32.2</td>\n",
       "    </tr>\n",
       "    <tr>\n",
       "      <th>9</th>\n",
       "      <td>West Ham United</td>\n",
       "      <td>27.5</td>\n",
       "    </tr>\n",
       "    <tr>\n",
       "      <th>10</th>\n",
       "      <td>Stoke City</td>\n",
       "      <td>27.0</td>\n",
       "    </tr>\n",
       "    <tr>\n",
       "      <th>11</th>\n",
       "      <td>Manchester United</td>\n",
       "      <td>24.4</td>\n",
       "    </tr>\n",
       "    <tr>\n",
       "      <th>12</th>\n",
       "      <td>Swansea City</td>\n",
       "      <td>23.5</td>\n",
       "    </tr>\n",
       "    <tr>\n",
       "      <th>13</th>\n",
       "      <td>Reading</td>\n",
       "      <td>21.6</td>\n",
       "    </tr>\n",
       "    <tr>\n",
       "      <th>14</th>\n",
       "      <td>Norwich City</td>\n",
       "      <td>20.8</td>\n",
       "    </tr>\n",
       "    <tr>\n",
       "      <th>15</th>\n",
       "      <td>Fulham</td>\n",
       "      <td>20.2</td>\n",
       "    </tr>\n",
       "    <tr>\n",
       "      <th>16</th>\n",
       "      <td>Wigan Athletic</td>\n",
       "      <td>19.6</td>\n",
       "    </tr>\n",
       "    <tr>\n",
       "      <th>17</th>\n",
       "      <td>Newcastle United</td>\n",
       "      <td>19.1</td>\n",
       "    </tr>\n",
       "    <tr>\n",
       "      <th>18</th>\n",
       "      <td>Aston Villa</td>\n",
       "      <td>15.9</td>\n",
       "    </tr>\n",
       "    <tr>\n",
       "      <th>19</th>\n",
       "      <td>Sunderland</td>\n",
       "      <td>15.8</td>\n",
       "    </tr>\n",
       "    <tr>\n",
       "      <th>20</th>\n",
       "      <td>Queens Park Rangers</td>\n",
       "      <td>14.2</td>\n",
       "    </tr>\n",
       "  </tbody>\n",
       "</table>\n",
       "</div>"
      ],
      "text/plain": [
       "                    Team  Points\n",
       "1                Everton    43.1\n",
       "2                Arsenal    41.9\n",
       "3                Chelsea    38.4\n",
       "4              Liverpool    34.7\n",
       "5      Tottenham Hotspur    33.7\n",
       "6            Southampton    33.2\n",
       "7   West Bromwich Albion    32.4\n",
       "8        Manchester City    32.2\n",
       "9        West Ham United    27.5\n",
       "10            Stoke City    27.0\n",
       "11     Manchester United    24.4\n",
       "12          Swansea City    23.5\n",
       "13               Reading    21.6\n",
       "14          Norwich City    20.8\n",
       "15                Fulham    20.2\n",
       "16        Wigan Athletic    19.6\n",
       "17      Newcastle United    19.1\n",
       "18           Aston Villa    15.9\n",
       "19            Sunderland    15.8\n",
       "20   Queens Park Rangers    14.2"
      ]
     },
     "execution_count": 793,
     "metadata": {},
     "output_type": "execute_result"
    }
   ],
   "source": [
    "final_ranking_Kompany"
   ]
  },
  {
   "cell_type": "markdown",
   "metadata": {},
   "source": [
    "## Validando el modelo"
   ]
  },
  {
   "cell_type": "code",
   "execution_count": 794,
   "metadata": {},
   "outputs": [],
   "source": [
    "df_complete = pd.read_csv('/Users/luisalawson/Downloads/Sample Data/epl.csv', delimiter =';')"
   ]
  },
  {
   "cell_type": "code",
   "execution_count": 795,
   "metadata": {},
   "outputs": [],
   "source": [
    "df_ManCity = df_complete[(df_complete['home_team_name'] == 'Manchester City') | \n",
    "                         (df_complete['away_team_name'] == 'Manchester City')]"
   ]
  },
  {
   "cell_type": "code",
   "execution_count": 796,
   "metadata": {},
   "outputs": [],
   "source": [
    "df_ManCity_final = df_ManCity[df_ManCity['team_id']==43]"
   ]
  },
  {
   "cell_type": "code",
   "execution_count": 797,
   "metadata": {},
   "outputs": [],
   "source": [
    "successful_passes = df_ManCity_final[(df_ManCity_final['description'] == 'Pass') & (df_ManCity_final['outcome'] == 1)]\n",
    "failed_passes = df_ManCity_final[(df_ManCity_final['description'] == 'Pass') & (df_ManCity_final['outcome'] == 0)]\n",
    "successful_interceptions = df_ManCity_final[\n",
    "    (df_ManCity_final['description'].isin(['Interception', 'Tackle', 'Clearance', 'Aerial', 'Ball recovery'])) & \n",
    "    (df_ManCity_final['outcome'] == 1)\n",
    "]\n",
    "errors = df_ManCity_final[ ((df_ManCity_final['description'] == 'Error') & (df_ManCity_final['outcome'] == 1))\n",
    "]\n",
    "\n",
    "passes_count = successful_passes.groupby('match_id').size().rename('Successful passes')\n",
    "passes_failed_count = failed_passes.groupby('match_id').size().rename('Unsuccessful passes')\n",
    "interceptions_count = successful_interceptions.groupby('match_id').size().rename('Successful interceptions')\n",
    "errors_count = errors.groupby('match_id').size().rename('Erors')\n",
    "\n",
    "shots_conditions = df_ManCity_final['description'].isin(['Attempt saved', 'Goal', 'Miss', 'Post'])\n",
    "shots = df_ManCity_final[shots_conditions]\n",
    "\n",
    "shots_count = shots.groupby('match_id').size().rename('Shots')\n",
    "goals = df_ManCity_final[(df_ManCity_final['description'] == 'Goal') & (df_ManCity_final['outcome'] == 1)]\n",
    "goals_count = goals.groupby('match_id').size().rename('Goals')\n",
    "\n",
    "outs = df_ManCity_final[(df_ManCity_final['description'] == 'Out') & (df_ManCity_final['outcome'] == 0)]\n",
    "out_count = outs.groupby('match_id').size().rename('Goals')\n",
    "\n",
    "\n",
    "df_ManCity_info = pd.DataFrame({\n",
    "    'Successful passes': passes_count,\n",
    "    'Unsuccessful passes': passes_failed_count,\n",
    "    'Successful interceptions': interceptions_count,\n",
    "    'Errors': errors_count,\n",
    "    'Shots': shots_count,\n",
    "    'Goals': goals_count,\n",
    "    'Out': out_count\n",
    "}).fillna(0).astype(int)  \n"
   ]
  },
  {
   "cell_type": "code",
   "execution_count": 799,
   "metadata": {},
   "outputs": [
    {
     "name": "stderr",
     "output_type": "stream",
     "text": [
      "/var/folders/3t/sdkd8jss1x3b8wld4zwvm2kh0000gn/T/ipykernel_817/834963726.py:11: FutureWarning: \n",
      "\n",
      "`shade` is now deprecated in favor of `fill`; setting `fill=True`.\n",
      "This will become an error in seaborn v0.14.0; please update your code.\n",
      "\n",
      "  sns.kdeplot(df_ManCity_info[col], shade=True, color='blue')\n"
     ]
    },
    {
     "data": {
      "image/png": "[encoded data removed]",
      "text/plain": [
       "<Figure size 576x360 with 1 Axes>"
      ]
     },
     "metadata": {
      "needs_background": "light"
     },
     "output_type": "display_data"
    },
    {
     "name": "stderr",
     "output_type": "stream",
     "text": [
      "/var/folders/3t/sdkd8jss1x3b8wld4zwvm2kh0000gn/T/ipykernel_817/834963726.py:11: FutureWarning: \n",
      "\n",
      "`shade` is now deprecated in favor of `fill`; setting `fill=True`.\n",
      "This will become an error in seaborn v0.14.0; please update your code.\n",
      "\n",
      "  sns.kdeplot(df_ManCity_info[col], shade=True, color='blue')\n"
     ]
    },
    {
     "data": {
      "image/png": "[encoded data removed]",
      "text/plain": [
       "<Figure size 576x360 with 1 Axes>"
      ]
     },
     "metadata": {
      "needs_background": "light"
     },
     "output_type": "display_data"
    },
    {
     "name": "stderr",
     "output_type": "stream",
     "text": [
      "/var/folders/3t/sdkd8jss1x3b8wld4zwvm2kh0000gn/T/ipykernel_817/834963726.py:11: FutureWarning: \n",
      "\n",
      "`shade` is now deprecated in favor of `fill`; setting `fill=True`.\n",
      "This will become an error in seaborn v0.14.0; please update your code.\n",
      "\n",
      "  sns.kdeplot(df_ManCity_info[col], shade=True, color='blue')\n"
     ]
    },
    {
     "data": {
      "image/png": "[encoded data removed]",
      "text/plain": [
       "<Figure size 576x360 with 1 Axes>"
      ]
     },
     "metadata": {
      "needs_background": "light"
     },
     "output_type": "display_data"
    },
    {
     "name": "stderr",
     "output_type": "stream",
     "text": [
      "/var/folders/3t/sdkd8jss1x3b8wld4zwvm2kh0000gn/T/ipykernel_817/834963726.py:11: FutureWarning: \n",
      "\n",
      "`shade` is now deprecated in favor of `fill`; setting `fill=True`.\n",
      "This will become an error in seaborn v0.14.0; please update your code.\n",
      "\n",
      "  sns.kdeplot(df_ManCity_info[col], shade=True, color='blue')\n"
     ]
    },
    {
     "data": {
      "image/png": "[encoded data removed]",
      "text/plain": [
       "<Figure size 576x360 with 1 Axes>"
      ]
     },
     "metadata": {
      "needs_background": "light"
     },
     "output_type": "display_data"
    },
    {
     "name": "stderr",
     "output_type": "stream",
     "text": [
      "/var/folders/3t/sdkd8jss1x3b8wld4zwvm2kh0000gn/T/ipykernel_817/834963726.py:11: FutureWarning: \n",
      "\n",
      "`shade` is now deprecated in favor of `fill`; setting `fill=True`.\n",
      "This will become an error in seaborn v0.14.0; please update your code.\n",
      "\n",
      "  sns.kdeplot(df_ManCity_info[col], shade=True, color='blue')\n"
     ]
    },
    {
     "data": {
      "image/png": "[encoded data removed]",
      "text/plain": [
       "<Figure size 576x360 with 1 Axes>"
      ]
     },
     "metadata": {
      "needs_background": "light"
     },
     "output_type": "display_data"
    },
    {
     "name": "stderr",
     "output_type": "stream",
     "text": [
      "/var/folders/3t/sdkd8jss1x3b8wld4zwvm2kh0000gn/T/ipykernel_817/834963726.py:11: FutureWarning: \n",
      "\n",
      "`shade` is now deprecated in favor of `fill`; setting `fill=True`.\n",
      "This will become an error in seaborn v0.14.0; please update your code.\n",
      "\n",
      "  sns.kdeplot(df_ManCity_info[col], shade=True, color='blue')\n"
     ]
    },
    {
     "data": {
      "image/png": "[encoded data removed]",
      "text/plain": [
       "<Figure size 576x360 with 1 Axes>"
      ]
     },
     "metadata": {
      "needs_background": "light"
     },
     "output_type": "display_data"
    },
    {
     "name": "stderr",
     "output_type": "stream",
     "text": [
      "/var/folders/3t/sdkd8jss1x3b8wld4zwvm2kh0000gn/T/ipykernel_817/834963726.py:11: FutureWarning: \n",
      "\n",
      "`shade` is now deprecated in favor of `fill`; setting `fill=True`.\n",
      "This will become an error in seaborn v0.14.0; please update your code.\n",
      "\n",
      "  sns.kdeplot(df_ManCity_info[col], shade=True, color='blue')\n"
     ]
    },
    {
     "data": {
      "image/png": "[encoded data removed]",
      "text/plain": [
       "<Figure size 576x360 with 1 Axes>"
      ]
     },
     "metadata": {
      "needs_background": "light"
     },
     "output_type": "display_data"
    }
   ],
   "source": [
    "import matplotlib.pyplot as plt\n",
    "import seaborn as sns\n",
    "\n",
    "# List of columns to plot\n",
    "columns = ['Successful passes', 'Unsuccessful passes', 'Successful interceptions',\n",
    "           'Errors', 'Shots', 'Goals', 'Out']\n",
    "\n",
    "# Create separate density plots for each column\n",
    "for col in columns:\n",
    "    plt.figure(figsize=(8, 5))\n",
    "    sns.kdeplot(df_ManCity_info[col], shade=True, color='blue')\n",
    "    \n",
    "    # Calculate mean and standard deviation\n",
    "    mean = df_ManCity_info[col].mean()\n",
    "    std = df_ManCity_info[col].std()\n",
    "    \n",
    "    # Add lines for mean and standard deviation\n",
    "    plt.axvline(mean, color='red', linestyle='--', label=f'Mean: {mean:.2f}')\n",
    "    plt.axvline(mean + std, color='green', linestyle='--', label=f'+1 SD: {mean + std:.2f}')\n",
    "    plt.axvline(mean - std, color='green', linestyle='--', label=f'-1 SD: {mean - std:.2f}')\n",
    "    \n",
    "    # Add labels and title\n",
    "    plt.title(f'Density Distribution of {col}')\n",
    "    plt.xlabel(col)\n",
    "    plt.ylabel('Density')\n",
    "    plt.legend()\n",
    "    plt.show()\n",
    "\n"
   ]
  },
  {
   "cell_type": "code",
   "execution_count": 800,
   "metadata": {},
   "outputs": [
    {
     "name": "stderr",
     "output_type": "stream",
     "text": [
      "/var/folders/3t/sdkd8jss1x3b8wld4zwvm2kh0000gn/T/ipykernel_817/1114077017.py:18: FutureWarning: \n",
      "\n",
      "`shade` is now deprecated in favor of `fill`; setting `fill=True`.\n",
      "This will become an error in seaborn v0.14.0; please update your code.\n",
      "\n",
      "  sns.kdeplot(eventos_dict[real_event], shade=True, color='blue', label=f'Simulado: {real_event.capitalize()}')\n",
      "/var/folders/3t/sdkd8jss1x3b8wld4zwvm2kh0000gn/T/ipykernel_817/1114077017.py:21: FutureWarning: \n",
      "\n",
      "`shade` is now deprecated in favor of `fill`; setting `fill=True`.\n",
      "This will become an error in seaborn v0.14.0; please update your code.\n",
      "\n",
      "  sns.kdeplot(df_ManCity_info[simulated_event], shade=True, color='orange', label=f'Real: {simulated_event}')\n"
     ]
    },
    {
     "data": {
      "image/png": "[encoded data removed]",
      "text/plain": [
       "<Figure size 576x360 with 1 Axes>"
      ]
     },
     "metadata": {
      "needs_background": "light"
     },
     "output_type": "display_data"
    },
    {
     "name": "stderr",
     "output_type": "stream",
     "text": [
      "/var/folders/3t/sdkd8jss1x3b8wld4zwvm2kh0000gn/T/ipykernel_817/1114077017.py:18: FutureWarning: \n",
      "\n",
      "`shade` is now deprecated in favor of `fill`; setting `fill=True`.\n",
      "This will become an error in seaborn v0.14.0; please update your code.\n",
      "\n",
      "  sns.kdeplot(eventos_dict[real_event], shade=True, color='blue', label=f'Simulado: {real_event.capitalize()}')\n",
      "/var/folders/3t/sdkd8jss1x3b8wld4zwvm2kh0000gn/T/ipykernel_817/1114077017.py:21: FutureWarning: \n",
      "\n",
      "`shade` is now deprecated in favor of `fill`; setting `fill=True`.\n",
      "This will become an error in seaborn v0.14.0; please update your code.\n",
      "\n",
      "  sns.kdeplot(df_ManCity_info[simulated_event], shade=True, color='orange', label=f'Real: {simulated_event}')\n"
     ]
    },
    {
     "data": {
      "image/png": "[encoded data removed]",
      "text/plain": [
       "<Figure size 576x360 with 1 Axes>"
      ]
     },
     "metadata": {
      "needs_background": "light"
     },
     "output_type": "display_data"
    },
    {
     "name": "stderr",
     "output_type": "stream",
     "text": [
      "/var/folders/3t/sdkd8jss1x3b8wld4zwvm2kh0000gn/T/ipykernel_817/1114077017.py:18: FutureWarning: \n",
      "\n",
      "`shade` is now deprecated in favor of `fill`; setting `fill=True`.\n",
      "This will become an error in seaborn v0.14.0; please update your code.\n",
      "\n",
      "  sns.kdeplot(eventos_dict[real_event], shade=True, color='blue', label=f'Simulado: {real_event.capitalize()}')\n",
      "/var/folders/3t/sdkd8jss1x3b8wld4zwvm2kh0000gn/T/ipykernel_817/1114077017.py:21: FutureWarning: \n",
      "\n",
      "`shade` is now deprecated in favor of `fill`; setting `fill=True`.\n",
      "This will become an error in seaborn v0.14.0; please update your code.\n",
      "\n",
      "  sns.kdeplot(df_ManCity_info[simulated_event], shade=True, color='orange', label=f'Real: {simulated_event}')\n"
     ]
    },
    {
     "data": {
      "image/png": "[encoded data removed]",
      "text/plain": [
       "<Figure size 576x360 with 1 Axes>"
      ]
     },
     "metadata": {
      "needs_background": "light"
     },
     "output_type": "display_data"
    },
    {
     "name": "stderr",
     "output_type": "stream",
     "text": [
      "/var/folders/3t/sdkd8jss1x3b8wld4zwvm2kh0000gn/T/ipykernel_817/1114077017.py:18: FutureWarning: \n",
      "\n",
      "`shade` is now deprecated in favor of `fill`; setting `fill=True`.\n",
      "This will become an error in seaborn v0.14.0; please update your code.\n",
      "\n",
      "  sns.kdeplot(eventos_dict[real_event], shade=True, color='blue', label=f'Simulado: {real_event.capitalize()}')\n",
      "/var/folders/3t/sdkd8jss1x3b8wld4zwvm2kh0000gn/T/ipykernel_817/1114077017.py:21: FutureWarning: \n",
      "\n",
      "`shade` is now deprecated in favor of `fill`; setting `fill=True`.\n",
      "This will become an error in seaborn v0.14.0; please update your code.\n",
      "\n",
      "  sns.kdeplot(df_ManCity_info[simulated_event], shade=True, color='orange', label=f'Real: {simulated_event}')\n"
     ]
    },
    {
     "data": {
      "image/png": "[encoded data removed]",
      "text/plain": [
       "<Figure size 576x360 with 1 Axes>"
      ]
     },
     "metadata": {
      "needs_background": "light"
     },
     "output_type": "display_data"
    }
   ],
   "source": [
    "import pandas as pd\n",
    "import seaborn as sns\n",
    "import matplotlib.pyplot as plt\n",
    "\n",
    "# Define the pairs of related events to be overlapped\n",
    "event_pairs = [\n",
    "    ('Goles', 'Goals'),\n",
    "    ('Tiros', 'Shots'),\n",
    "    ('Pases', 'Successful passes'),\n",
    "    ('Quites', 'Successful interceptions')\n",
    "]\n",
    "\n",
    "# Loop through each pair and create overlapping density plots\n",
    "for real_event, simulated_event in event_pairs:\n",
    "    plt.figure(figsize=(8, 5))\n",
    "    \n",
    "    # Plot density for the real event from eventos_dict\n",
    "    sns.kdeplot(eventos_dict[real_event], shade=True, color='blue', label=f'Simulado: {real_event.capitalize()}')\n",
    "    \n",
    "    # Plot density for the simulated event from df_ManCity_info\n",
    "    sns.kdeplot(df_ManCity_info[simulated_event], shade=True, color='orange', label=f'Real: {simulated_event}')\n",
    "    \n",
    "    # Calculate means and standard deviations\n",
    "    real_mean = eventos_dict[real_event].mean()\n",
    "    real_std = eventos_dict[real_event].std()\n",
    "    simulated_mean = df_ManCity_info[simulated_event].mean()\n",
    "    simulated_std = df_ManCity_info[simulated_event].std()\n",
    "    \n",
    "    # Add vertical lines for the real event\n",
    "    plt.axvline(real_mean, color='blue', linestyle='--', label=f'Simulado Mean: {real_mean:.2f}')\n",
    "    plt.axvline(real_mean + real_std, color='green', linestyle='--', label=f'simulado +1 SD: {real_mean + real_std:.2f}')\n",
    "    plt.axvline(real_mean - real_std, color='green', linestyle='--', label=f'simulado -1 SD: {real_mean - real_std:.2f}')\n",
    "    \n",
    "    # Add vertical lines for the simulated event\n",
    "    plt.axvline(simulated_mean, color='orange', linestyle='--', label=f'real Mean: {simulated_mean:.2f}')\n",
    "    plt.axvline(simulated_mean + simulated_std, color='red', linestyle='--', label=f'real +1 SD: {simulated_mean + simulated_std:.2f}')\n",
    "    plt.axvline(simulated_mean - simulated_std, color='red', linestyle='--', label=f'real -1 SD: {simulated_mean - simulated_std:.2f}')\n",
    "    \n",
    "    # Add labels and title\n",
    "    plt.title(f'Density Distribution Comparison: {real_event.capitalize()} vs {simulated_event}')\n",
    "    plt.xlabel('Value')\n",
    "    plt.ylabel('Density')\n",
    "    plt.legend()\n",
    "    plt.show()\n"
   ]
  }
 ],
 "metadata": {
  "kernelspec": {
   "display_name": "Python 3",
   "language": "python",
   "name": "python3"
  },
  "language_info": {
   "codemirror_mode": {
    "name": "ipython",
    "version": 3
   },
   "file_extension": ".py",
   "mimetype": "text/x-python",
   "name": "python",
   "nbconvert_exporter": "python",
   "pygments_lexer": "ipython3",
   "version": "3.10.8"
  }
 },
 "nbformat": 4,
 "nbformat_minor": 2
}
